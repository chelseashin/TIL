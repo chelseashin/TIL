{
 "cells": [
  {
   "cell_type": "markdown",
   "metadata": {},
   "source": [
    "## Problem\n",
    "Palindrome은 앞에서부터 읽었을 때와 뒤에서부터 읽었을 때 같은 단어를 뜻한다.\n",
    "따라서, ‘a’ ‘nan’ ’토마토’ 모두 palindrome에 해당합니다.\n",
    "v 따라서, 단어를 입력받아 Palindrome을 검증하고 True나 False를 리턴하는\n",
    "함수 palindrome(word)를 만들어보세요."
   ]
  },
  {
   "cell_type": "code",
   "execution_count": 14,
   "metadata": {},
   "outputs": [
    {
     "name": "stdout",
     "output_type": "stream",
     "text": [
      "['t', 'e', 's', 't']\n",
      "None\n"
     ]
    }
   ],
   "source": [
    "# 나의 풀이 - 다시 생각해보기\n",
    "# word = 'saippuakivikauppias'\n",
    "word = 'test'\n",
    "word = list(word)\n",
    "print(word)\n",
    "print(word.reverse())\n",
    "def palindrome(word):\n",
    "    word = list(word)\n",
    "    if word == word.reverse():\n",
    "        return True\n",
    "    else:\n",
    "        return False\n",
    "\n",
    "# print(palindrome('tomato'))\n",
    "# print(palindrome('nan'))"
   ]
  },
  {
   "cell_type": "code",
   "execution_count": 27,
   "metadata": {},
   "outputs": [
    {
     "data": {
      "text/plain": [
       "['s',\n",
       " 'a',\n",
       " 'i',\n",
       " 'p',\n",
       " 'p',\n",
       " 'u',\n",
       " 'a',\n",
       " 'k',\n",
       " 'i',\n",
       " 'v',\n",
       " 'i',\n",
       " 'k',\n",
       " 'a',\n",
       " 'u',\n",
       " 'p',\n",
       " 'p',\n",
       " 'i',\n",
       " 'a',\n",
       " 's']"
      ]
     },
     "execution_count": 27,
     "metadata": {},
     "output_type": "execute_result"
    }
   ],
   "source": [
    "tom = list('saippuakivikauppias')\n",
    "tom"
   ]
  },
  {
   "cell_type": "code",
   "execution_count": 30,
   "metadata": {},
   "outputs": [
    {
     "data": {
      "text/plain": [
       "'saippuakivikauppias'"
      ]
     },
     "execution_count": 30,
     "metadata": {},
     "output_type": "execute_result"
    }
   ],
   "source": [
    "word = 'saippuakivikauppias'\n",
    "list(word).reverse()\n",
    "word"
   ]
  },
  {
   "cell_type": "code",
   "execution_count": 22,
   "metadata": {},
   "outputs": [
    {
     "name": "stdout",
     "output_type": "stream",
     "text": [
      "None\n"
     ]
    }
   ],
   "source": [
    "tom = 'saippuakivikauppias'\n",
    "word = list(tom)\n",
    "word2 = word.reverse()\n",
    "print(word2)"
   ]
  },
  {
   "cell_type": "code",
   "execution_count": 20,
   "metadata": {},
   "outputs": [
    {
     "data": {
      "text/plain": [
       "True"
      ]
     },
     "execution_count": 20,
     "metadata": {},
     "output_type": "execute_result"
    }
   ],
   "source": [
    "tom == word"
   ]
  },
  {
   "cell_type": "code",
   "execution_count": 37,
   "metadata": {},
   "outputs": [
    {
     "name": "stdout",
     "output_type": "stream",
     "text": [
      "True\n",
      "False\n"
     ]
    }
   ],
   "source": [
    "# 좋은 풀이 1\n",
    "# word = 'saippuakivikauppias'\n",
    "def palindrome(word):\n",
    "    left_word = 0\n",
    "    right_word = len(word) - 1\n",
    "    \n",
    "    while right_word >= left_word:\n",
    "        if word[left_word] == word[right_word]:\n",
    "            return False\n",
    "        left_word += 1\n",
    "        right_word -= 1\n",
    "    return True\n",
    "    \n",
    "print(palindrome('tomato'))\n",
    "print(palindrome('nan'))"
   ]
  },
  {
   "cell_type": "code",
   "execution_count": 30,
   "metadata": {},
   "outputs": [
    {
     "name": "stdout",
     "output_type": "stream",
     "text": [
      "False\n",
      "True\n"
     ]
    }
   ],
   "source": [
    "# 좋은 풀이 2\n",
    "def palindrome(word):\n",
    "    list_word = list(word)\n",
    "    for i in range(len(list_word) // 2):\n",
    "        if list_word[i] != list_word[-i-1]:\n",
    "            return False\n",
    "    return True\n",
    "\n",
    "print(palindrome('tomato'))\n",
    "print(palindrome('nan'))"
   ]
  },
  {
   "cell_type": "code",
   "execution_count": 31,
   "metadata": {},
   "outputs": [
    {
     "name": "stdout",
     "output_type": "stream",
     "text": [
      "False\n",
      "True\n"
     ]
    }
   ],
   "source": [
    "# 파이썬의 미친 풀이\n",
    "def palindrome(word):\n",
    "    return list(word) == list(reversed(word))\n",
    "\n",
    "print(palindrome('tomato'))\n",
    "print(palindrome('nan'))"
   ]
  },
  {
   "cell_type": "code",
   "execution_count": 33,
   "metadata": {},
   "outputs": [
    {
     "name": "stdout",
     "output_type": "stream",
     "text": [
      "False\n",
      "True\n"
     ]
    }
   ],
   "source": [
    "# 파이썬의 미친 풀이2\n",
    "# 리스트 슬라이싱 : [시작, 끝, 간격]\n",
    "\n",
    "def palindrome(word):\n",
    "    return list(word) == list(word[::-1])\n",
    "\n",
    "print(palindrome('tomato'))\n",
    "print(palindrome('nan'))"
   ]
  },
  {
   "cell_type": "code",
   "execution_count": 35,
   "metadata": {},
   "outputs": [
    {
     "data": {
      "text/plain": [
       "['o', 't', 'a', 'm', 'o', 't']"
      ]
     },
     "execution_count": 35,
     "metadata": {},
     "output_type": "execute_result"
    }
   ],
   "source": [
    "word = 'tomato'\n",
    "list(word[::-1])"
   ]
  },
  {
   "cell_type": "code",
   "execution_count": 34,
   "metadata": {},
   "outputs": [
    {
     "data": {
      "text/plain": [
       "[0, 1, 2, 3, 4, 5, 6, 7, 8, 9]"
      ]
     },
     "execution_count": 34,
     "metadata": {},
     "output_type": "execute_result"
    }
   ],
   "source": [
    "test_slice = list(range(10))\n",
    "test_slice"
   ]
  },
  {
   "cell_type": "code",
   "execution_count": 35,
   "metadata": {},
   "outputs": [
    {
     "data": {
      "text/plain": [
       "[0, 2, 4, 6, 8]"
      ]
     },
     "execution_count": 35,
     "metadata": {},
     "output_type": "execute_result"
    }
   ],
   "source": [
    "test_slice[::2]"
   ]
  },
  {
   "cell_type": "code",
   "execution_count": 36,
   "metadata": {},
   "outputs": [
    {
     "data": {
      "text/plain": [
       "[1, 3, 5, 7, 9]"
      ]
     },
     "execution_count": 36,
     "metadata": {},
     "output_type": "execute_result"
    }
   ],
   "source": [
    "test_slice[1::2]"
   ]
  },
  {
   "cell_type": "code",
   "execution_count": 28,
   "metadata": {},
   "outputs": [
    {
     "data": {
      "text/plain": [
       "['l', 'e', 'v', 'e', 'l']"
      ]
     },
     "execution_count": 28,
     "metadata": {},
     "output_type": "execute_result"
    }
   ],
   "source": [
    "list('level')"
   ]
  },
  {
   "cell_type": "code",
   "execution_count": null,
   "metadata": {},
   "outputs": [],
   "source": [
    "< Homework >"
   ]
  },
  {
   "cell_type": "code",
   "execution_count": 43,
   "metadata": {},
   "outputs": [
    {
     "name": "stdout",
     "output_type": "stream",
     "text": [
      "1\n",
      "2\n",
      "3\n",
      "4\n",
      "5\n",
      "6\n",
      "7\n",
      "8\n",
      "9\n",
      "10\n"
     ]
    }
   ],
   "source": [
    "my_list = list(range(1, 11))\n",
    "for i in my_list:\n",
    "    print(i)"
   ]
  },
  {
   "cell_type": "code",
   "execution_count": 39,
   "metadata": {},
   "outputs": [
    {
     "name": "stdout",
     "output_type": "stream",
     "text": [
      "1 1\n",
      "2 2\n",
      "3 3\n",
      "4 4\n",
      "5 5\n",
      "6 6\n",
      "7 7\n",
      "8 8\n",
      "9 9\n",
      "10 10\n"
     ]
    }
   ],
   "source": [
    "# 인덱스값과 함께 출력\n",
    "for idx, y in enumerate(my_list):\n",
    "    print(idx+1, y)"
   ]
  },
  {
   "cell_type": "code",
   "execution_count": 40,
   "metadata": {},
   "outputs": [
    {
     "name": "stdout",
     "output_type": "stream",
     "text": [
      "apple\n",
      "banana\n"
     ]
    }
   ],
   "source": [
    "# 좋은 풀이\n",
    "my_dict = {'apple' : 3, 'banana' : 5}\n",
    "for key in my_dict:\n",
    "    print(key)"
   ]
  },
  {
   "cell_type": "code",
   "execution_count": 42,
   "metadata": {},
   "outputs": [
    {
     "name": "stdout",
     "output_type": "stream",
     "text": [
      "apple\n",
      "banana\n"
     ]
    }
   ],
   "source": [
    "my_dict = {'apple' : 3, 'banana' : 5}\n",
    "for value in my_dict:\n",
    "    print(value)"
   ]
  },
  {
   "cell_type": "code",
   "execution_count": 41,
   "metadata": {},
   "outputs": [
    {
     "name": "stdout",
     "output_type": "stream",
     "text": [
      "6\n",
      "None\n"
     ]
    }
   ],
   "source": [
    "# 함수에 리턴 값이 없음! => None\n",
    "def my_func(a, b):\n",
    "    c = a + b\n",
    "    print(c)\n",
    "    \n",
    "result = my_func(1, 5)\n",
    "print(result)"
   ]
  }
 ],
 "metadata": {
  "kernelspec": {
   "display_name": "Python 3",
   "language": "python",
   "name": "python3"
  },
  "language_info": {
   "codemirror_mode": {
    "name": "ipython",
    "version": 3
   },
   "file_extension": ".py",
   "mimetype": "text/x-python",
   "name": "python",
   "nbconvert_exporter": "python",
   "pygments_lexer": "ipython3",
   "version": "3.6.7"
  }
 },
 "nbformat": 4,
 "nbformat_minor": 2
}

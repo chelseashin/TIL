{
 "cells": [
  {
   "cell_type": "markdown",
   "metadata": {},
   "source": [
    "## workshop\n",
    "< 문제>\n",
    "양의 정수 x를 입력 받아 제곱근의 근사값의 결과를 반환하는 함수를 작성하세요.\n",
    "sqrt() 사용 금지"
   ]
  },
  {
   "cell_type": "code",
   "execution_count": 7,
   "metadata": {},
   "outputs": [
    {
     "name": "stdout",
     "output_type": "stream",
     "text": [
      "1.414213562373094\n"
     ]
    }
   ],
   "source": [
    "# < 좋은 정답 >\n",
    "def my_sqrt(num):\n",
    "    a = 0\n",
    "    b = 2*num\n",
    "    \n",
    "    for i in range(50):\n",
    "        c = ((a+b)/2)\n",
    "        if c ** 2 > num:\n",
    "            b = c\n",
    "        else:\n",
    "            a = c\n",
    "    return (a+b)/2\n",
    "\n",
    "print(my_sqrt(2))"
   ]
  },
  {
   "cell_type": "code",
   "execution_count": 8,
   "metadata": {},
   "outputs": [
    {
     "data": {
      "text/plain": [
       "1.4142135623730951"
      ]
     },
     "execution_count": 8,
     "metadata": {},
     "output_type": "execute_result"
    }
   ],
   "source": [
    "2 ** 0.5"
   ]
  }
 ],
 "metadata": {
  "kernelspec": {
   "display_name": "Python 3",
   "language": "python",
   "name": "python3"
  },
  "language_info": {
   "codemirror_mode": {
    "name": "ipython",
    "version": 3
   },
   "file_extension": ".py",
   "mimetype": "text/x-python",
   "name": "python",
   "nbconvert_exporter": "python",
   "pygments_lexer": "ipython3",
   "version": "3.6.7"
  }
 },
 "nbformat": 4,
 "nbformat_minor": 2
}

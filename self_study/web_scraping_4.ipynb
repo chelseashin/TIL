{
 "cells": [
  {
   "cell_type": "code",
   "execution_count": 32,
   "metadata": {},
   "outputs": [
    {
     "data": {
      "text/plain": [
       "'검색결과 약 8,910개'"
      ]
     },
     "execution_count": 32,
     "metadata": {},
     "output_type": "execute_result"
    }
   ],
   "source": [
    "# google에 'ssafy' 검색 결과\n",
    "from bs4 import BeautifulSoup\n",
    "import requests\n",
    "\n",
    "url = \"https://www.google.co.kr/search?source=&q=ssafy\"\n",
    "req = requests.get(url).text\n",
    "soup = BeautifulSoup(req, 'html.parser')\n",
    "soup.select_one(\"#resultStats\").text"
   ]
  },
  {
   "cell_type": "code",
   "execution_count": 39,
   "metadata": {},
   "outputs": [
    {
     "name": "stdout",
     "output_type": "stream",
     "text": [
      "['8', '910']\n"
     ]
    }
   ],
   "source": [
    "import re\n",
    "str = '검색결과 약 8,910개'\n",
    "print (re.findall('\\d+', str))"
   ]
  },
  {
   "cell_type": "code",
   "execution_count": 33,
   "metadata": {},
   "outputs": [
    {
     "data": {
      "text/plain": [
       "'검색결과 약 491,000,000개'"
      ]
     },
     "execution_count": 33,
     "metadata": {},
     "output_type": "execute_result"
    }
   ],
   "source": [
    "# google에 'python' 검색 결과\n",
    "from bs4 import BeautifulSoup\n",
    "import requests\n",
    "\n",
    "url = \"https://www.google.co.kr/search?source=&q=python\"\n",
    "req = requests.get(url).text\n",
    "soup = BeautifulSoup(req, 'html.parser')\n",
    "soup.select_one(\"#resultStats\").text"
   ]
  },
  {
   "cell_type": "code",
   "execution_count": 2,
   "metadata": {},
   "outputs": [
    {
     "data": {
      "text/plain": [
       "'검색결과 약 8,630,000,000개'"
      ]
     },
     "execution_count": 2,
     "metadata": {},
     "output_type": "execute_result"
    }
   ],
   "source": [
    "# google에 'instagram' 검색 결과\n",
    "from bs4 import BeautifulSoup\n",
    "import requests\n",
    "\n",
    "url = \"https://www.google.co.kr/search?source=&q=instagram\"\n",
    "req = requests.get(url).text\n",
    "soup = BeautifulSoup(req, 'html.parser')\n",
    "soup.select_one(\"#resultStats\").text"
   ]
  },
  {
   "cell_type": "code",
   "execution_count": 16,
   "metadata": {},
   "outputs": [
    {
     "name": "stdout",
     "output_type": "stream",
     "text": [
      "김 위원장, 새해 앞두고 전격 '친서'…북 신년사와 관련?\n",
      "12년 만의 전례 깬 민정수석 출석…여야 '전열 재정비'\n",
      "일본, 저공 위협 비행 인정?…섣부른 영상 공개\n",
      "前 사무관 \"靑이 KT&G사장 교체 지시\"…기재부 \"터무니없는 얘기\"\n",
      "월요일 출근길 강추위…옷차림 따뜻하게\n"
     ]
    }
   ],
   "source": [
    "url = \"https://news.naver.com/\"\n",
    "req = requests.get(url).text\n",
    "soup = BeautifulSoup(req, 'html.parser')\n",
    "\n",
    "for tag in soup.find('ul', class_=\"newsnow_txarea\").find_all('div',class_=\"newsnow_tx_inner\"):\n",
    "    news = tag.text\n",
    "    print(news.strip())"
   ]
  },
  {
   "cell_type": "code",
   "execution_count": 5,
   "metadata": {},
   "outputs": [
    {
     "name": "stdout",
     "output_type": "stream",
     "text": [
      "[\"김 위원장, 새해 앞두고 전격 '친서'…북 신년사와 관련?\", \"'조국' 둘러싼 전운…여야 운영위 '선수 교체'\", '일본, 저공 위협 비행 인정?…섣부른 영상 공개', \"트럼프·시진핑 '세밑 담판'…무역전쟁·비핵화 접점 찾았나?\", '월요일 출근길 강추위…옷차림 따뜻하게']\n"
     ]
    }
   ],
   "source": [
    "url = \"https://news.naver.com/\"\n",
    "req = requests.get(url).text\n",
    "soup = BeautifulSoup(req, 'html.parser')\n",
    "news = []\n",
    "for tag in soup.find('ul', class_=\"newsnow_txarea\").find_all('div',class_=\"newsnow_tx_inner\"):\n",
    "    news.append(tag.text.strip())\n",
    "print(news)"
   ]
  },
  {
   "cell_type": "code",
   "execution_count": 6,
   "metadata": {},
   "outputs": [
    {
     "data": {
      "text/plain": [
       "[\"김 위원장, 새해 앞두고 전격 '친서'…북 신년사와 관련?\",\n",
       " \"'조국' 둘러싼 전운…여야 운영위 '선수 교체'\",\n",
       " '일본, 저공 위협 비행 인정?…섣부른 영상 공개',\n",
       " \"트럼프·시진핑 '세밑 담판'…무역전쟁·비핵화 접점 찾았나?\",\n",
       " '월요일 출근길 강추위…옷차림 따뜻하게']"
      ]
     },
     "execution_count": 6,
     "metadata": {},
     "output_type": "execute_result"
    }
   ],
   "source": [
    "news"
   ]
  },
  {
   "cell_type": "code",
   "execution_count": 28,
   "metadata": {},
   "outputs": [],
   "source": [
    "# KBO Baseball data - 2018 team ranking\n",
    "from bs4 import BeautifulSoup\n",
    "import requests\n",
    "\n",
    "url = \"https://www.koreabaseball.com/Default.aspx\"\n",
    "req = requests.get(url).text\n",
    "soup = BeautifulSoup(req, 'html.parser')\n",
    "\n",
    "for tag in soup.select('.team-ranking'):  \n",
    "    team_name = tag.select_one('.team-name').text\n",
    "    print(team_name)"
   ]
  },
  {
   "cell_type": "code",
   "execution_count": null,
   "metadata": {},
   "outputs": [],
   "source": [
    "    rank = tag.select_one('#tblTeamRank > tbody > th').text    \n",
    "    print(f'{rank}위 : {team_name}')"
   ]
  },
  {
   "cell_type": "code",
   "execution_count": 23,
   "metadata": {},
   "outputs": [
    {
     "ename": "AttributeError",
     "evalue": "'list' object has no attribute 'text'",
     "output_type": "error",
     "traceback": [
      "\u001b[1;31m---------------------------------------------------------------------------\u001b[0m",
      "\u001b[1;31mAttributeError\u001b[0m                            Traceback (most recent call last)",
      "\u001b[1;32m<ipython-input-23-45d654b55e03>\u001b[0m in \u001b[0;36m<module>\u001b[1;34m()\u001b[0m\n\u001b[0;32m      3\u001b[0m \u001b[0msoup\u001b[0m \u001b[1;33m=\u001b[0m \u001b[0mBeautifulSoup\u001b[0m\u001b[1;33m(\u001b[0m\u001b[0mreq\u001b[0m\u001b[1;33m,\u001b[0m \u001b[1;34m'html.parser'\u001b[0m\u001b[1;33m)\u001b[0m\u001b[1;33m\u001b[0m\u001b[0m\n\u001b[0;32m      4\u001b[0m \u001b[0mteam\u001b[0m \u001b[1;33m=\u001b[0m \u001b[0msoup\u001b[0m\u001b[1;33m.\u001b[0m\u001b[0mselect\u001b[0m\u001b[1;33m(\u001b[0m\u001b[1;34m'#tblTeamRank > tbody > tr:nth-child(1) > td:nth-child(2) > span'\u001b[0m\u001b[1;33m)\u001b[0m\u001b[1;33m\u001b[0m\u001b[0m\n\u001b[1;32m----> 5\u001b[1;33m \u001b[0mprint\u001b[0m\u001b[1;33m(\u001b[0m\u001b[0mteam\u001b[0m\u001b[1;33m.\u001b[0m\u001b[0mtext\u001b[0m\u001b[1;33m)\u001b[0m\u001b[1;33m\u001b[0m\u001b[0m\n\u001b[0m",
      "\u001b[1;31mAttributeError\u001b[0m: 'list' object has no attribute 'text'"
     ]
    }
   ],
   "source": [
    "url = \"https://www.koreabaseball.com/Default.aspx\"\n",
    "req = requests.get(url).text\n",
    "soup = BeautifulSoup(req, 'html.parser')\n",
    "team = soup.select('#tblTeamRank > tbody > tr:nth-child(1) > td:nth-child(2) > span')\n",
    "print(team.text)"
   ]
  },
  {
   "cell_type": "code",
   "execution_count": 27,
   "metadata": {},
   "outputs": [
    {
     "ename": "AttributeError",
     "evalue": "'NoneType' object has no attribute 'find_all'",
     "output_type": "error",
     "traceback": [
      "\u001b[1;31m---------------------------------------------------------------------------\u001b[0m",
      "\u001b[1;31mAttributeError\u001b[0m                            Traceback (most recent call last)",
      "\u001b[1;32m<ipython-input-27-2d9d91c2766b>\u001b[0m in \u001b[0;36m<module>\u001b[1;34m()\u001b[0m\n\u001b[0;32m      3\u001b[0m \u001b[0msoup\u001b[0m \u001b[1;33m=\u001b[0m \u001b[0mBeautifulSoup\u001b[0m\u001b[1;33m(\u001b[0m\u001b[0mreq\u001b[0m\u001b[1;33m,\u001b[0m \u001b[1;34m'html.parser'\u001b[0m\u001b[1;33m)\u001b[0m\u001b[1;33m\u001b[0m\u001b[0m\n\u001b[0;32m      4\u001b[0m \u001b[1;33m\u001b[0m\u001b[0m\n\u001b[1;32m----> 5\u001b[1;33m \u001b[1;32mfor\u001b[0m \u001b[0mtag\u001b[0m \u001b[1;32min\u001b[0m \u001b[0msoup\u001b[0m\u001b[1;33m.\u001b[0m\u001b[0mfind\u001b[0m\u001b[1;33m(\u001b[0m\u001b[1;34m'table'\u001b[0m\u001b[1;33m,\u001b[0m \u001b[0mclass_\u001b[0m\u001b[1;33m=\u001b[0m\u001b[1;34m\"tbl\"\u001b[0m\u001b[1;33m)\u001b[0m\u001b[1;33m.\u001b[0m\u001b[0mfind_all\u001b[0m\u001b[1;33m(\u001b[0m\u001b[1;34m'span'\u001b[0m\u001b[1;33m,\u001b[0m\u001b[0mclass_\u001b[0m\u001b[1;33m=\u001b[0m\u001b[1;34m\"team-name\"\u001b[0m\u001b[1;33m)\u001b[0m\u001b[1;33m:\u001b[0m\u001b[1;33m\u001b[0m\u001b[0m\n\u001b[0m\u001b[0;32m      6\u001b[0m     \u001b[0mteam\u001b[0m \u001b[1;33m=\u001b[0m \u001b[0mtag\u001b[0m\u001b[1;33m.\u001b[0m\u001b[0mtext\u001b[0m\u001b[1;33m\u001b[0m\u001b[0m\n\u001b[0;32m      7\u001b[0m     \u001b[0mprint\u001b[0m\u001b[1;33m(\u001b[0m\u001b[0mteam\u001b[0m\u001b[1;33m)\u001b[0m\u001b[1;33m\u001b[0m\u001b[0m\n",
      "\u001b[1;31mAttributeError\u001b[0m: 'NoneType' object has no attribute 'find_all'"
     ]
    }
   ],
   "source": [
    "url = \"https://www.koreabaseball.com/Default.aspx\"\n",
    "req = requests.get(url).text\n",
    "soup = BeautifulSoup(req, 'html.parser')\n",
    "\n",
    "for tag in soup.find('table', class_=\"tbl\").find_all('span',class_=\"team-name\"):\n",
    "    team = tag.text\n",
    "    print(team)"
   ]
  }
 ],
 "metadata": {
  "kernelspec": {
   "display_name": "Python 3",
   "language": "python",
   "name": "python3"
  },
  "language_info": {
   "codemirror_mode": {
    "name": "ipython",
    "version": 3
   },
   "file_extension": ".py",
   "mimetype": "text/x-python",
   "name": "python",
   "nbconvert_exporter": "python",
   "pygments_lexer": "ipython3",
   "version": "3.6.4"
  }
 },
 "nbformat": 4,
 "nbformat_minor": 2
}

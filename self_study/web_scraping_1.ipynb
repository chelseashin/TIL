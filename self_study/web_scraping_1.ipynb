{
 "cells": [
  {
   "cell_type": "code",
   "execution_count": 1,
   "metadata": {},
   "outputs": [],
   "source": [
    "# 1\n",
    "# 다음 리스트의 요소들을 한줄로 출력하시오(for문 사용)\n",
    "# numbers = [2, 3, 6, 11, 8]\n",
    "# 답 예시 => 2 3 6 11 8"
   ]
  },
  {
   "cell_type": "code",
   "execution_count": 2,
   "metadata": {},
   "outputs": [
    {
     "name": "stdout",
     "output_type": "stream",
     "text": [
      "[2, 3, 6, 11, 8]\n",
      "2 3 6 11 8 "
     ]
    }
   ],
   "source": [
    "numbers = [2, 3, 6, 11, 8]\n",
    "\n",
    "print(numbers)\n",
    "\n",
    "for i in numbers:\n",
    "\n",
    "    print(i, end= \" \")"
   ]
  },
  {
   "cell_type": "code",
   "execution_count": 3,
   "metadata": {},
   "outputs": [],
   "source": [
    "numbers = [2, 3, 5, 7, 11, 24]"
   ]
  },
  {
   "cell_type": "code",
   "execution_count": 4,
   "metadata": {},
   "outputs": [
    {
     "name": "stdout",
     "output_type": "stream",
     "text": [
      "[2, 3, 5, 7, 11, 24]\n"
     ]
    }
   ],
   "source": [
    "print(numbers)"
   ]
  },
  {
   "cell_type": "code",
   "execution_count": 5,
   "metadata": {},
   "outputs": [
    {
     "name": "stdout",
     "output_type": "stream",
     "text": [
      "2 3 5 7 11 24 "
     ]
    }
   ],
   "source": [
    "for i in numbers:\n",
    "    print(i, end = \" \")"
   ]
  },
  {
   "cell_type": "code",
   "execution_count": 6,
   "metadata": {},
   "outputs": [],
   "source": [
    "# 2 \n",
    "# 주어진 리스트의 요소들 중에서 자연수가 홀수인지\n",
    "# 짝수인지 판별하여 각각의 리스트로 출력하여라.\n",
    "numbers = [1, 2, 3, 4, 5, 6, 7, 8, 9, 10]"
   ]
  },
  {
   "cell_type": "code",
   "execution_count": 7,
   "metadata": {},
   "outputs": [
    {
     "name": "stdout",
     "output_type": "stream",
     "text": [
      "[1, 2, 3, 4, 5, 6, 7, 8, 9, 10]\n",
      "[2, 4, 6, 8, 10] 짝수입니다\n",
      "[1, 3, 5, 7, 9] 홀수입니다\n"
     ]
    }
   ],
   "source": [
    "odd = []\n",
    "even = []\n",
    "print(numbers)\n",
    "\n",
    "for i in numbers:\n",
    "    if i % 2 == 0:\n",
    "        even.append(i)\n",
    "    else:\n",
    "        odd.append(i)\n",
    "        \n",
    "print(even, \"짝수입니다\")\n",
    "print(odd, \"홀수입니다\")"
   ]
  },
  {
   "cell_type": "code",
   "execution_count": 8,
   "metadata": {},
   "outputs": [],
   "source": [
    "numbers = [1, 2, 3, 4, 5, 6, 7, 8, 9, 10]\n",
    "odd= []\n",
    "even = []"
   ]
  },
  {
   "cell_type": "code",
   "execution_count": 9,
   "metadata": {},
   "outputs": [
    {
     "name": "stdout",
     "output_type": "stream",
     "text": [
      "[1, 2, 3, 4, 5, 6, 7, 8, 9, 10]\n"
     ]
    }
   ],
   "source": [
    "print (numbers)"
   ]
  },
  {
   "cell_type": "code",
   "execution_count": 10,
   "metadata": {},
   "outputs": [
    {
     "name": "stdout",
     "output_type": "stream",
     "text": [
      "[2, 4, 6, 8, 10] 짝수입니다\n",
      "[1, 3, 5, 7, 9] 홀수입니다\n"
     ]
    }
   ],
   "source": [
    "for i in numbers:\n",
    "    if i % 2 == 0:\n",
    "        even.append(i)\n",
    "    else:\n",
    "        odd.append(i)\n",
    "print(even, \"짝수입니다\")\n",
    "print(odd, \"홀수입니다\")"
   ]
  },
  {
   "cell_type": "code",
   "execution_count": 11,
   "metadata": {},
   "outputs": [],
   "source": [
    "dust = [35, 329, 26, 24, 17, 68, 92, 65, 263, 21, 83, 90]"
   ]
  },
  {
   "cell_type": "code",
   "execution_count": 12,
   "metadata": {},
   "outputs": [
    {
     "name": "stdout",
     "output_type": "stream",
     "text": [
      "[35, 329, 26, 24, 17, 68, 92, 65, 263, 21, 83, 90]\n"
     ]
    }
   ],
   "source": [
    "print(dust)"
   ]
  },
  {
   "cell_type": "code",
   "execution_count": 14,
   "metadata": {},
   "outputs": [
    {
     "data": {
      "text/plain": [
       "[26, 24, 17]"
      ]
     },
     "execution_count": 14,
     "metadata": {},
     "output_type": "execute_result"
    }
   ],
   "source": [
    "dust[2:5]"
   ]
  },
  {
   "cell_type": "markdown",
   "metadata": {},
   "source": [
    "### < scraping >"
   ]
  },
  {
   "cell_type": "code",
   "execution_count": 15,
   "metadata": {},
   "outputs": [],
   "source": [
    "import requests\n",
    "from bs4 import BeautifulSoup"
   ]
  },
  {
   "cell_type": "code",
   "execution_count": 16,
   "metadata": {
    "scrolled": true
   },
   "outputs": [
    {
     "name": "stdout",
     "output_type": "stream",
     "text": [
      "\n",
      "\n",
      "\n",
      "1\"아스널 깬 손흥민, 어떻게 막아야 하나\"...中의 한숨\n",
      "\n",
      "\n",
      "\n",
      "\n",
      "2\"손흥민, 리그컵 4강 2차전도 못 뛴다\"...英 언론의 걱정\n",
      "\n",
      "\n",
      "\n",
      "\n",
      "3'주급 7억' 산체스, '무리뉴 경질 두고 2850만 원 내기' 논란…'콩가루 집안' 맨유\n",
      "\n",
      "\n",
      "\n",
      "\n",
      "4솔샤르가 원했던 중국 FW, 바르사 B까지 갈 실력?\n",
      "\n",
      "\n",
      "\n",
      "\n",
      "5결국 외면, 벤투 감독 시야에 이승우는 없었다\n",
      "\n",
      "\n",
      "\n",
      "\n",
      "6홍명보 전무, “아시안컵 위해 포르투갈 출신 피지컬코치 합류”\n",
      "\n",
      "\n",
      "\n",
      "\n",
      "7벤투호에서 '골 맛' 봤던 석현준-문선민-박주호, 왜 빠졌나\n",
      "\n",
      "\n",
      "\n",
      "\n",
      "8박한이, \"승엽이형처럼 멋지게 떠나고 싶다\"\n",
      "\n",
      "\n",
      "\n"
     ]
    }
   ],
   "source": [
    "sports = requests.get(\"https://sports.news.naver.com/index.nhn\").text\n",
    "soup = BeautifulSoup(sports, 'html.parser')\n",
    "news = soup.select_one(\"#mostCommentedNewsList\")\n",
    "print(news.text)"
   ]
  },
  {
   "cell_type": "code",
   "execution_count": 17,
   "metadata": {},
   "outputs": [
    {
     "name": "stdout",
     "output_type": "stream",
     "text": [
      "1\"아스널 깬 손흥민, 어떻게 막아야 하나\"...中의 한숨\n"
     ]
    }
   ],
   "source": [
    "sports = \"https://sports.news.naver.com/index.nhn\"\n",
    "req = requests.get(sports).text\n",
    "soup = BeautifulSoup(req, 'html.parser')\n",
    "\n",
    "for tag in soup.select('#mostCommentedNewsList'):\n",
    "    rank = tag.select_one('.title').text\n",
    "    print(f'{rank}')\n",
    "    \n",
    "# for num in bus.select(\"#mostCommentedNewsList > li.best > a > span\")\n",
    "#     rank = num.select_one('.rank_num')\n",
    "#     issue = tag.select_one('').text\n",
    "#     print(f'{rank}위는 {issue}입니다')\n",
    "\n"
   ]
  },
  {
   "cell_type": "code",
   "execution_count": 18,
   "metadata": {},
   "outputs": [
    {
     "name": "stdout",
     "output_type": "stream",
     "text": [
      "1\"아스널 깬 손흥민, 어떻게 막아야 하나\"...中의 한숨\n",
      "2\"손흥민, 리그컵 4강 2차전도 못 뛴다\"...英 언론의 걱정\n",
      "3'주급 7억' 산체스, '무리뉴 경질 두고 2850만 원 내기' 논란…'콩가루 집안' 맨유\n",
      "4솔샤르가 원했던 중국 FW, 바르사 B까지 갈 실력?\n",
      "5결국 외면, 벤투 감독 시야에 이승우는 없었다\n",
      "6홍명보 전무, “아시안컵 위해 포르투갈 출신 피지컬코치 합류”\n",
      "7벤투호에서 '골 맛' 봤던 석현준-문선민-박주호, 왜 빠졌나\n",
      "8박한이, \"승엽이형처럼 멋지게 떠나고 싶다\"\n"
     ]
    }
   ],
   "source": [
    "from bs4 import BeautifulSoup\n",
    "\n",
    "sports = \"https://sports.news.naver.com/index.nhn\"\n",
    "req = requests.get(sports).text\n",
    "soup = BeautifulSoup(req, 'html.parser')\n",
    "\n",
    "for tag in soup.find(\"ul\", class_=\"main_ranknews_list\").find_all('span',class_=\"title\"):\n",
    "    rank = tag.text\n",
    "    print(f'{rank}')"
   ]
  },
  {
   "cell_type": "code",
   "execution_count": 19,
   "metadata": {},
   "outputs": [
    {
     "name": "stdout",
     "output_type": "stream",
     "text": [
      "1\"아스널 깬 손흥민, 어떻게 막아야 하나\"...中의 한숨\n",
      "2\"손흥민, 리그컵 4강 2차전도 못 뛴다\"...英 언론의 걱정\n",
      "3'주급 7억' 산체스, '무리뉴 경질 두고 2850만 원 내기' 논란…'콩가루 집안' 맨유\n",
      "4솔샤르가 원했던 중국 FW, 바르사 B까지 갈 실력?\n",
      "5결국 외면, 벤투 감독 시야에 이승우는 없었다\n",
      "6홍명보 전무, “아시안컵 위해 포르투갈 출신 피지컬코치 합류”\n",
      "7벤투호에서 '골 맛' 봤던 석현준-문선민-박주호, 왜 빠졌나\n",
      "8박한이, \"승엽이형처럼 멋지게 떠나고 싶다\"\n"
     ]
    }
   ],
   "source": [
    "sports = \"https://sports.news.naver.com/index.nhn\"\n",
    "req = requests.get(sports).text\n",
    "soup = BeautifulSoup(req, 'html.parser')\n",
    "\n",
    "\n",
    "for tag in soup.find('ul',class_=\"main_ranknews_list\").find_all('span',class_=\"title\"):\n",
    "    rank = tag.text\n",
    "    print(f'{rank}')"
   ]
  },
  {
   "cell_type": "code",
   "execution_count": 20,
   "metadata": {},
   "outputs": [
    {
     "name": "stdout",
     "output_type": "stream",
     "text": [
      "1위는 갑툭튀 간호사입니다\n",
      "2위는 스윗소로우입니다\n",
      "3위는 검은사제들입니다\n",
      "4위는 바버렛츠입니다\n",
      "5위는 잔나비입니다\n",
      "6위는 유희열의 스케치북입니다\n",
      "7위는 위메프 반값특가입니다\n",
      "8위는 오연준입니다\n",
      "9위는 최백호입니다\n",
      "10위는 플라이트입니다\n",
      "11위는 김연우입니다\n",
      "12위는 이주연입니다\n",
      "13위는 동지입니다\n",
      "14위는 영화 러브레터입니다\n",
      "15위는 쉘위댄스입니다\n",
      "16위는 무큐리입니다\n",
      "17위는 강기영입니다\n",
      "18위는 썸바디입니다\n",
      "19위는 러브레터입니다\n",
      "20위는 맹이슬입니다\n"
     ]
    }
   ],
   "source": [
    "naver = \"https://www.naver.com/\"\n",
    "req = requests.get(naver).text\n",
    "soup = BeautifulSoup(req, 'html.parser')\n",
    "\n",
    "for tag in soup.select('.PM_CL_realtimeKeyword_rolling .ah_item'):\n",
    "    rank = tag.select_one('.ah_r').text\n",
    "    issue = tag.select_one('.ah_k').text\n",
    "    print(f'{rank}위는 {issue}입니다')"
   ]
  },
  {
   "cell_type": "code",
   "execution_count": 21,
   "metadata": {},
   "outputs": [
    {
     "name": "stdout",
     "output_type": "stream",
     "text": [
      "2,061.49\n"
     ]
    }
   ],
   "source": [
    "req = requests.get(\"https://finance.naver.com/sise/\").text\n",
    "soup = BeautifulSoup(req, 'html.parser')\n",
    "kospi = soup.select_one(\"#KOSPI_now\")\n",
    "\n",
    "print(kospi.text)"
   ]
  },
  {
   "cell_type": "code",
   "execution_count": 22,
   "metadata": {},
   "outputs": [
    {
     "name": "stdout",
     "output_type": "stream",
     "text": [
      "1.37\n"
     ]
    }
   ],
   "source": [
    "req = requests.get(\"https://finance.naver.com/\").text\n",
    "soup = BeautifulSoup(req, 'html.parser')\n",
    "kosdaq = soup.select_one(\"#content > div.article > div.section2 > div.section_stock_market > div.section_stock > div.kospi_area.group_quot.quot_opn > div.heading_area > a > span > span.num2\")\n",
    "print(kosdaq.text)"
   ]
  },
  {
   "cell_type": "code",
   "execution_count": 23,
   "metadata": {},
   "outputs": [
    {
     "name": "stdout",
     "output_type": "stream",
     "text": [
      "뮤직플레이어\n"
     ]
    }
   ],
   "source": [
    "music = requests.get(\"https://music.naver.com/\").text\n",
    "soup = BeautifulSoup(music, 'html.parser')\n",
    "player = soup.select_one(\"#snb > div.musicplayer_btn > a\")\n",
    "print(player.text)"
   ]
  },
  {
   "cell_type": "code",
   "execution_count": 24,
   "metadata": {},
   "outputs": [
    {
     "name": "stdout",
     "output_type": "stream",
     "text": [
      "어학사전\n"
     ]
    }
   ],
   "source": [
    "dic = requests.get(\"https://dic.daum.net/\").text\n",
    "soup = BeautifulSoup(dic, 'html.parser')\n",
    "lan = soup.select_one(\"#daumServiceLogo > span\")\n",
    "print(lan.text)"
   ]
  }
 ],
 "metadata": {
  "kernelspec": {
   "display_name": "Python 3",
   "language": "python",
   "name": "python3"
  },
  "language_info": {
   "codemirror_mode": {
    "name": "ipython",
    "version": 3
   },
   "file_extension": ".py",
   "mimetype": "text/x-python",
   "name": "python",
   "nbconvert_exporter": "python",
   "pygments_lexer": "ipython3",
   "version": "3.6.4"
  }
 },
 "nbformat": 4,
 "nbformat_minor": 2
}

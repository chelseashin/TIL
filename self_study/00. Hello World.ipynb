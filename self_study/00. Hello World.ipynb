{
 "cells": [
  {
   "cell_type": "code",
   "execution_count": 2,
   "metadata": {},
   "outputs": [
    {
     "name": "stdout",
     "output_type": "stream",
     "text": [
      "Hello! World\n"
     ]
    }
   ],
   "source": [
    "s1 = \"Hello\"\n",
    "s2 = \"World\"\n",
    "\n",
    "print(s1 + \"! \" + s2)"
   ]
  },
  {
   "cell_type": "code",
   "execution_count": 3,
   "metadata": {},
   "outputs": [
    {
     "name": "stdout",
     "output_type": "stream",
     "text": [
      " C 드라이브의 볼륨에는 이름이 없습니다.\n",
      " 볼륨 일련 번호: 1876-724C\n",
      "\n",
      " C:\\Users\\user\\Desktop\\MyStudy 디렉터리\n",
      "\n",
      "2018-12-28  오후 10:33    <DIR>          .\n",
      "2018-12-28  오후 10:33    <DIR>          ..\n",
      "2018-12-28  오후 10:33    <DIR>          .ipynb_checkpoints\n",
      "2018-12-28  오후 10:32                72 00. Hello World.ipynb\n",
      "               1개 파일                  72 바이트\n",
      "               3개 디렉터리  76,973,199,360 바이트 남음\n"
     ]
    }
   ],
   "source": [
    "%ls"
   ]
  },
  {
   "cell_type": "code",
   "execution_count": 4,
   "metadata": {},
   "outputs": [
    {
     "data": {
      "text/plain": [
       "'C:\\\\Users\\\\user\\\\Desktop\\\\MyStudy'"
      ]
     },
     "execution_count": 4,
     "metadata": {},
     "output_type": "execute_result"
    }
   ],
   "source": [
    "%pwd"
   ]
  },
  {
   "cell_type": "code",
   "execution_count": 5,
   "metadata": {},
   "outputs": [
    {
     "name": "stdout",
     "output_type": "stream",
     "text": [
      "C:\\Users\\user\\Desktop\n"
     ]
    }
   ],
   "source": [
    "% cd .."
   ]
  },
  {
   "cell_type": "code",
   "execution_count": 6,
   "metadata": {},
   "outputs": [
    {
     "name": "stdout",
     "output_type": "stream",
     "text": [
      "C:\\Users\\user\\Desktop\\MyStudy\n"
     ]
    }
   ],
   "source": [
    "% cd MyStudy"
   ]
  },
  {
   "cell_type": "code",
   "execution_count": 7,
   "metadata": {},
   "outputs": [
    {
     "name": "stdout",
     "output_type": "stream",
     "text": [
      "Variable   Type    Data/Info\n",
      "----------------------------\n",
      "s1         str     Hello\n",
      "s2         str     World\n"
     ]
    }
   ],
   "source": [
    "%whos"
   ]
  },
  {
   "cell_type": "code",
   "execution_count": 8,
   "metadata": {},
   "outputs": [
    {
     "name": "stdout",
     "output_type": "stream",
     "text": [
      "s1 = \"Hello\"\n",
      "s1 = \"Hello\"\n",
      "s2 = \"World\"\n",
      "\n",
      "print(s1 + \"! \" + s2)\n",
      "%ls\n",
      "%pwd\n",
      "% cd ..\n",
      "% cd MyStudy\n",
      "%whos\n",
      "%history\n"
     ]
    }
   ],
   "source": [
    "%history"
   ]
  },
  {
   "cell_type": "code",
   "execution_count": 9,
   "metadata": {},
   "outputs": [],
   "source": [
    "%timeit"
   ]
  },
  {
   "cell_type": "code",
   "execution_count": 10,
   "metadata": {},
   "outputs": [],
   "source": [
    "%matplotlib inline"
   ]
  },
  {
   "cell_type": "code",
   "execution_count": 11,
   "metadata": {},
   "outputs": [
    {
     "name": "stdout",
     "output_type": "stream",
     "text": [
      "Automatic pdb calling has been turned ON\n"
     ]
    }
   ],
   "source": [
    "%pdb"
   ]
  },
  {
   "cell_type": "code",
   "execution_count": 12,
   "metadata": {},
   "outputs": [
    {
     "name": "stdout",
     "output_type": "stream",
     "text": [
      "# packages in environment at C:\\Users\\user\\Anaconda3:\n",
      "#\n",
      "# Name                    Version                   Build  Channel\n",
      "_ipyw_jlab_nb_ext_conf    0.1.0            py36he6757f0_0  \n",
      "absl-py                   0.2.2                     <pip>\n",
      "alabaster                 0.7.10           py36hcd07829_0  \n",
      "anaconda                  5.1.0                    py36_2  \n",
      "anaconda-client           1.6.9                    py36_0  \n",
      "anaconda-navigator        1.7.0                    py36_0  \n",
      "anaconda-project          0.8.2            py36hfad2e28_0  \n",
      "asn1crypto                0.24.0                   py36_0  \n",
      "astor                     0.6.2                     <pip>\n",
      "astroid                   1.6.1                    py36_0  \n",
      "astropy                   2.0.3            py36hfa6e2cd_0  \n",
      "attrs                     17.4.0                   py36_0  \n",
      "babel                     2.5.3                    py36_0  \n",
      "backports                 1.0              py36h81696a8_1  \n",
      "backports.shutil_get_terminal_size 1.0.0            py36h79ab834_2  \n",
      "beautifulsoup4            4.6.0            py36hd4cc5e8_1  \n",
      "bitarray                  0.8.1            py36hfa6e2cd_1  \n",
      "bkcharts                  0.2              py36h7e685f7_0  \n",
      "blaze                     0.11.3           py36h8a29ca5_0  \n",
      "bleach                    1.5.0                     <pip>\n",
      "bleach                    2.1.2                    py36_0  \n",
      "bokeh                     0.12.13          py36h047fa9f_0  \n",
      "boto                      2.48.0           py36h1a776d2_1  \n",
      "bottleneck                1.2.1            py36hd119dfa_0  \n",
      "branca                    0.3.0                     <pip>\n",
      "bzip2                     1.0.6                hbe05fcf_4  \n",
      "ca-certificates           2017.08.26           h94faf87_0  \n",
      "certifi                   2018.1.18                py36_0    conda-forge\n",
      "cffi                      1.11.4           py36hfa6e2cd_0  \n",
      "chardet                   3.0.4            py36h420ce6e_1  \n",
      "click                     6.7              py36hec8c647_0  \n",
      "cloudpickle               0.5.2                    py36_1  \n",
      "clyent                    1.2.2            py36hb10d595_1  \n",
      "colorama                  0.3.9            py36h029ae33_0  \n",
      "comtypes                  1.1.4                    py36_0  \n",
      "conda                     4.4.10                   py36_0  \n",
      "conda-build               3.4.1                    py36_0  \n",
      "conda-env                 2.6.0                h36134e3_1  \n",
      "conda-verify              2.0.0            py36h065de53_0  \n",
      "console_shortcut          0.1.1                h6bb2dd7_3  \n",
      "contextlib2               0.5.5            py36he5d52c0_0  \n",
      "cryptography              2.1.4            py36he1d7878_0  \n",
      "curl                      7.58.0               h7602738_0  \n",
      "cycler                    0.10.0           py36h009560c_0  \n",
      "cython                    0.27.3           py36h22f4c84_0  \n",
      "cytoolz                   0.9.0            py36hfa6e2cd_0  \n",
      "dask                      0.16.1                   py36_0  \n",
      "dask-core                 0.16.1                   py36_0  \n",
      "datashape                 0.5.4            py36h5770b85_0  \n",
      "decorator                 4.2.1                    py36_0  \n",
      "distributed               1.20.2                   py36_0  \n",
      "docutils                  0.14             py36h6012d8f_0  \n",
      "entrypoints               0.2.3            py36hfd66bb0_2  \n",
      "et_xmlfile                1.0.1            py36h3d2d736_0  \n",
      "fastcache                 1.0.2            py36hfa6e2cd_2  \n",
      "fbprophet                 0.3.post2           py36_vc14_0  [vc14]  conda-forge\n",
      "filelock                  2.0.13           py36h20000bf_0  \n",
      "fix-yahoo-finance         0.0.21                    <pip>\n",
      "flask                     0.12.2           py36h98b5e8f_0  \n",
      "flask-cors                3.0.3            py36h8a3855d_0  \n",
      "folium                    0.5.0                     <pip>\n",
      "freetype                  2.8.1                    vc14_0  [vc14]  conda-forge\n",
      "gast                      0.2.0                     <pip>\n",
      "get_terminal_size         1.0.0                h38e98db_0  \n",
      "gevent                    1.2.2            py36h342a76c_0  \n",
      "glob2                     0.6              py36hdf76b57_0  \n",
      "googlemaps                2.5.1                     <pip>\n",
      "graphviz                  2.38.0                        7    conda-forge\n",
      "greenlet                  0.4.12           py36ha00ad21_0  \n",
      "grpcio                    1.13.0                    <pip>\n",
      "h5py                      2.7.1            py36he54a1c3_0  \n",
      "hdf5                      1.10.1               h98b8871_1  \n",
      "heapdict                  1.0.0                    py36_2  \n",
      "html5lib                  0.9999999                 <pip>\n",
      "html5lib                  1.0.1            py36h047fa9f_0  \n",
      "icc_rt                    2017.0.4             h97af966_0  \n",
      "icu                       58.2                 ha66f8fd_1  \n",
      "idna                      2.6              py36h148d497_1  \n",
      "imageio                   2.2.0            py36had6c2d2_0  \n",
      "imagesize                 0.7.1            py36he29f638_0  \n",
      "intel-openmp              2018.0.0             hd92c6cd_8  \n",
      "ipykernel                 4.8.0                    py36_0  \n",
      "ipython                   6.2.1            py36h9cf0123_1  \n",
      "ipython_genutils          0.2.0            py36h3c5d0ee_0  \n",
      "ipywidgets                7.1.1                    py36_0  \n",
      "isort                     4.2.15           py36h6198cc5_0  \n",
      "itsdangerous              0.24             py36hb6c5a24_1  \n",
      "jdcal                     1.3              py36h64a5255_0  \n",
      "jedi                      0.11.1                   py36_0  \n",
      "jinja2                    2.10             py36h292fed1_0  \n",
      "jpeg                      9b                       vc14_2  [vc14]  conda-forge\n",
      "JPype1                    0.6.3                     <pip>\n",
      "jsonschema                2.6.0            py36h7636477_0  \n",
      "jupyter                   1.0.0                    py36_4  \n",
      "jupyter_client            5.2.2                    py36_0  \n",
      "jupyter_console           5.2.0            py36h6d89b47_1  \n",
      "jupyter_core              4.4.0            py36h56e9d50_0  \n",
      "jupyterlab                0.31.4                   py36_0  \n",
      "jupyterlab_launcher       0.10.2                   py36_0  \n",
      "Keras                     2.2.0                     <pip>\n",
      "Keras-Applications        1.0.2                     <pip>\n",
      "Keras-Preprocessing       1.0.1                     <pip>\n",
      "konlpy                    0.4.4                     <pip>\n",
      "lazy-object-proxy         1.3.1            py36hd1c21d2_0  \n",
      "libcurl                   7.58.0               h7602738_0  \n",
      "libiconv                  1.15                 h1df5818_7  \n",
      "libpng                    1.6.34               h79bbb47_0  \n",
      "libssh2                   1.8.0                hd619d38_4  \n",
      "libtiff                   4.0.9                h0f13578_0  \n",
      "libxml2                   2.9.8                    vc14_0  [vc14]  conda-forge\n",
      "libxslt                   1.1.32                   vc14_0  [vc14]  conda-forge\n",
      "llvmlite                  0.21.0           py36he0b0552_0  \n",
      "locket                    0.2.0            py36hfed976d_1  \n",
      "lxml                      4.1.1            py36hef2cd61_1  \n",
      "lzo                       2.10                 h6df0209_2  \n",
      "Markdown                  2.6.11                    <pip>\n",
      "markupsafe                1.0              py36h0e26971_1  \n",
      "matplotlib                2.1.2            py36h016c42a_0  \n",
      "mccabe                    0.6.1            py36hb41005a_1  \n",
      "menuinst                  1.4.11           py36hfa6e2cd_0  \n",
      "mistune                   0.8.3                    py36_0  \n",
      "mkl                       2018.0.1             h2108138_4  \n",
      "mkl-service               1.1.2            py36h57e144c_4  \n",
      "mpmath                    1.0.0            py36hacc8adf_2  \n",
      "msgpack-python            0.5.1            py36he980bc4_0  \n",
      "multipledispatch          0.4.9            py36he44c36e_0  \n",
      "multitasking              0.0.7                     <pip>\n",
      "mysql-connector-python    8.0.12                    <pip>\n",
      "navigator-updater         0.1.0            py36h8a7b86b_0  \n",
      "nbconvert                 5.3.1            py36h8dc0fde_0  \n",
      "nbformat                  4.4.0            py36h3a5bc1b_0  \n",
      "networkx                  2.1                      py36_0  \n",
      "nltk                      3.2.5            py36h76d52bb_0  \n",
      "nose                      1.3.7            py36h1c3779e_2  \n",
      "notebook                  5.4.0                    py36_0  \n",
      "numba                     0.36.2          np114py36h12cb543_0  \n",
      "numexpr                   2.6.4            py36h30784b8_0  \n",
      "numpy                     1.14.5                    <pip>\n",
      "numpy                     1.14.0           py36h4a99626_1  \n",
      "numpydoc                  0.7.0            py36ha25429e_0  \n",
      "odo                       0.5.1            py36h7560279_0  \n",
      "olefile                   0.45.1                   py36_0  \n",
      "openpyxl                  2.4.10                   py36_0  \n",
      "openssl                   1.0.2n               h74b6da3_0  \n",
      "packaging                 16.8             py36ha0986f6_1  \n",
      "pandas                    0.22.0           py36h6538335_0  \n",
      "pandas-datareader         0.6.0                     <pip>\n",
      "pandoc                    1.19.2.1             hb2460c7_1  \n",
      "pandocfilters             1.4.2            py36h3ef6317_1  \n",
      "parso                     0.1.1            py36hae3edee_0  \n",
      "partd                     0.3.8            py36hc8e763b_0  \n",
      "path.py                   10.5             py36h2b94a8f_0  \n",
      "pathlib2                  2.3.0            py36h7bfb78b_0  \n",
      "patsy                     0.5.0                    py36_0  \n",
      "pep8                      1.7.1                    py36_0  \n",
      "pickleshare               0.7.4            py36h9de030f_0  \n",
      "pillow                    5.0.0            py36h0738816_0  \n",
      "pip                       9.0.1            py36h226ae91_4  \n",
      "pip                       18.1                      <pip>\n",
      "pkginfo                   1.4.1            py36hb0f9cfa_1  \n",
      "pluggy                    0.6.0            py36hc7daf1e_0  \n",
      "ply                       3.10             py36h1211beb_0  \n",
      "prompt_toolkit            1.0.15           py36h60b8f86_0  \n",
      "protobuf                  3.6.0                     <pip>\n",
      "psutil                    5.4.3            py36hfa6e2cd_0  \n",
      "py                        1.5.2            py36hbcfbabc_0  \n",
      "pycodestyle               2.3.1            py36h7cc55cd_0  \n",
      "pycosat                   0.6.3            py36h413d8a4_0  \n",
      "pycparser                 2.18             py36hd053e01_1  \n",
      "pycrypto                  2.6.1            py36hfa6e2cd_7  \n",
      "pycurl                    7.43.0.1         py36h74b6da3_0  \n",
      "pydot                     1.2.4                     <pip>\n",
      "pyflakes                  1.6.0            py36h0b975d6_0  \n",
      "pygments                  2.2.0            py36hb010967_0  \n",
      "pylint                    1.8.2                    py36_0  \n",
      "pyodbc                    4.0.22           py36h6538335_0  \n",
      "pyopenssl                 17.5.0           py36h5b7d817_0  \n",
      "pyparsing                 2.2.0            py36h785a196_1  \n",
      "pyqt                      5.6.0            py36hb5ed885_5  \n",
      "pysocks                   1.6.7            py36h698d350_1  \n",
      "pystan                    2.17.1.0            py36_vc14_0  [vc14]  conda-forge\n",
      "pytables                  3.4.2            py36h71138e3_2  \n",
      "pytest                    3.3.2                    py36_0  \n",
      "python                    3.6.4                h6538335_1  \n",
      "python-dateutil           2.6.1            py36h509ddcb_1  \n",
      "python-graphviz           0.8.3                    py36_0    conda-forge\n",
      "pytz                      2017.3           py36h1d3fa6b_0  \n",
      "pywavelets                0.5.2            py36hc649158_0  \n",
      "pywin32                   222              py36hfa6e2cd_0  \n",
      "pywinpty                  0.5              py36h6538335_1  \n",
      "pyyaml                    3.12             py36h1d1928f_1  \n",
      "pyzmq                     16.0.3           py36he714bf5_0  \n",
      "qt                        5.6.2           vc14h6f8c307_12  [vc14]\n",
      "qtawesome                 0.4.4            py36h5aa48f6_0  \n",
      "qtconsole                 4.3.1            py36h99a29a9_0  \n",
      "qtpy                      1.3.1            py36hb8717c5_0  \n",
      "requests                  2.18.4           py36h4371aae_1  \n",
      "requests-file             1.4.3                     <pip>\n",
      "requests-ftp              0.3.1                     <pip>\n",
      "rope                      0.10.7           py36had63a69_0  \n",
      "ruamel_yaml               0.15.35          py36hfa6e2cd_1  \n",
      "scikit-image              0.13.1           py36hfa6e2cd_1  \n",
      "scikit-learn              0.19.1           py36h53aea1b_0  \n",
      "scipy                     1.0.0            py36h1260518_0  \n",
      "seaborn                   0.8.1            py36h9b69545_0  \n",
      "selenium                  3.12.0                    <pip>\n",
      "send2trash                1.4.2                    py36_0  \n",
      "setuptools                39.2.0                    <pip>\n",
      "setuptools                38.4.0                   py36_0  \n",
      "simplegeneric             0.8.1                    py36_2  \n",
      "singledispatch            3.4.0.3          py36h17d0c80_0  \n",
      "sip                       4.18.1           py36h9c25514_2  \n",
      "six                       1.11.0           py36h4db2310_1  \n",
      "snowballstemmer           1.2.1            py36h763602f_0  \n",
      "sortedcollections         0.5.3            py36hbefa0ab_0  \n",
      "sortedcontainers          1.5.9                    py36_0  \n",
      "sphinx                    1.6.6                    py36_0  \n",
      "sphinxcontrib             1.0              py36hbbac3d2_1  \n",
      "sphinxcontrib-websupport  1.0.1            py36hb5e5916_1  \n",
      "spyder                    3.2.6                    py36_0  \n",
      "sqlalchemy                1.2.1            py36hfa6e2cd_0  \n",
      "sqlite                    3.22.0                   vc14_0  [vc14]  conda-forge\n",
      "statsmodels               0.8.0            py36h6189b4c_0  \n",
      "sympy                     1.1.1            py36h96708e0_0  \n",
      "tblib                     1.3.2            py36h30f5020_0  \n",
      "tensorboard               1.8.0                     <pip>\n",
      "tensorflow                1.8.0                     <pip>\n",
      "termcolor                 1.1.0                     <pip>\n",
      "terminado                 0.8.1                    py36_1  \n",
      "testpath                  0.3.1            py36h2698cfe_0  \n",
      "tk                        8.6.7                hcb92d03_3  \n",
      "toolz                     0.9.0                    py36_0  \n",
      "tornado                   4.5.3                    py36_0  \n",
      "traitlets                 4.3.2            py36h096827d_0  \n",
      "typing                    3.6.2            py36hb035bda_0  \n",
      "unicodecsv                0.14.1           py36h6450c06_0  \n",
      "urllib3                   1.22             py36h276f60a_0  \n",
      "vc                        14                   h0510ff6_3  \n",
      "vs2015_runtime            14.0.25123                    3  \n",
      "wcwidth                   0.1.7            py36h3d5aa90_0  \n",
      "webencodings              0.5.1            py36h67c50ae_1  \n",
      "werkzeug                  0.14.1                   py36_0  \n",
      "wheel                     0.30.0           py36h6c3ec14_1  \n",
      "wheel                     0.31.1                    <pip>\n",
      "widgetsnbextension        3.1.0                    py36_0  \n",
      "win_inet_pton             1.0.1            py36he67d7fd_1  \n",
      "win_unicode_console       0.5              py36hcdbd4b5_0  \n",
      "wincertstore              0.2              py36h7fe50ca_0  \n",
      "winpty                    0.4.3                         4  \n",
      "wordcloud                 1.4.1                    py36_0    conda-forge\n",
      "wrapt                     1.10.11          py36he5f5981_0  \n",
      "xlrd                      1.1.0            py36h1cb58dc_1  \n",
      "xlsxwriter                1.0.2            py36hf723b7d_0  \n",
      "xlwings                   0.11.5                   py36_0  \n",
      "xlwt                      1.3.0            py36h1a4751e_0  \n",
      "yaml                      0.1.7                hc54c509_2  \n",
      "zict                      0.1.3            py36h2d8e73e_0  \n",
      "zlib                      1.2.11               h8395fce_2  \n"
     ]
    }
   ],
   "source": [
    "!conda list # 터미널 명령 바로 입력"
   ]
  },
  {
   "cell_type": "code",
   "execution_count": 13,
   "metadata": {},
   "outputs": [
    {
     "name": "stdout",
     "output_type": "stream",
     "text": [
      " C 드라이브의 볼륨에는 이름이 없습니다.\n",
      " 볼륨 일련 번호: 1876-724C\n",
      "\n",
      " C:\\Users\\user\\Desktop\\MyStudy 디렉터리\n",
      "\n",
      "[.]                     [..]                    [.ipynb_checkpoints]\n",
      "00. Hello World.ipynb   \n",
      "               1개 파일               3,909 바이트\n",
      "               3개 디렉터리  76,966,420,480 바이트 남음\n"
     ]
    }
   ],
   "source": [
    "!dir/w"
   ]
  }
 ],
 "metadata": {
  "kernelspec": {
   "display_name": "Python 3",
   "language": "python",
   "name": "python3"
  },
  "language_info": {
   "codemirror_mode": {
    "name": "ipython",
    "version": 3
   },
   "file_extension": ".py",
   "mimetype": "text/x-python",
   "name": "python",
   "nbconvert_exporter": "python",
   "pygments_lexer": "ipython3",
   "version": "3.6.4"
  }
 },
 "nbformat": 4,
 "nbformat_minor": 2
}

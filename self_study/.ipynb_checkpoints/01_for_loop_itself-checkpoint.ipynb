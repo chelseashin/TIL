{
 "cells": [
  {
   "cell_type": "code",
   "execution_count": 1,
   "metadata": {},
   "outputs": [
    {
     "name": "stdout",
     "output_type": "stream",
     "text": [
      "{'대전': 23, '서울': 30, '구미': 20}\n"
     ]
    }
   ],
   "source": [
    "dict = {\n",
    "    \"대전\" : 23,\n",
    "    \"서울\" : 30,\n",
    "    \"구미\" : 20\n",
    "}\n",
    "print(dict)"
   ]
  },
  {
   "cell_type": "code",
   "execution_count": 2,
   "metadata": {},
   "outputs": [
    {
     "name": "stdout",
     "output_type": "stream",
     "text": [
      "<class 'dict'>\n"
     ]
    }
   ],
   "source": [
    "print(type(dict))"
   ]
  },
  {
   "cell_type": "code",
   "execution_count": 3,
   "metadata": {},
   "outputs": [
    {
     "name": "stdout",
     "output_type": "stream",
     "text": [
      "23\n",
      "20\n"
     ]
    }
   ],
   "source": [
    "print(dict[\"대전\"])\n",
    "print(dict[\"구미\"])"
   ]
  },
  {
   "cell_type": "code",
   "execution_count": 4,
   "metadata": {},
   "outputs": [
    {
     "name": "stdout",
     "output_type": "stream",
     "text": [
      "dict_values([87, 92, 40])\n"
     ]
    }
   ],
   "source": [
    "# Q1\n",
    "# 1. 평균을 구하시오.\n",
    "\n",
    "score = {\n",
    "    \"국어\" : 87,\n",
    "    \"영어\" : 92,\n",
    "    \"수학\" : 40\n",
    "}\n",
    "\n",
    "print(score.values())"
   ]
  },
  {
   "cell_type": "code",
   "execution_count": 5,
   "metadata": {},
   "outputs": [
    {
     "name": "stdout",
     "output_type": "stream",
     "text": [
      "73.0\n"
     ]
    }
   ],
   "source": [
    "sco = 0\n",
    "for i in score.values():\n",
    "    sco = sco + i\n",
    "print(sco/len(score.values()))"
   ]
  },
  {
   "cell_type": "code",
   "execution_count": 6,
   "metadata": {},
   "outputs": [
    {
     "name": "stdout",
     "output_type": "stream",
     "text": [
      "73.0\n"
     ]
    }
   ],
   "source": [
    "scores = 0\n",
    "for i in score.values():\n",
    "    scores = scores + i\n",
    "    mean = scores/len(score.values())\n",
    "print(mean)"
   ]
  },
  {
   "cell_type": "code",
   "execution_count": 7,
   "metadata": {},
   "outputs": [
    {
     "data": {
      "text/plain": [
       "3"
      ]
     },
     "execution_count": 7,
     "metadata": {},
     "output_type": "execute_result"
    }
   ],
   "source": [
    "len(score.values())"
   ]
  },
  {
   "cell_type": "code",
   "execution_count": 8,
   "metadata": {
    "scrolled": true
   },
   "outputs": [
    {
     "name": "stdout",
     "output_type": "stream",
     "text": [
      "73.0\n"
     ]
    }
   ],
   "source": [
    "value = 0\n",
    "for i in score.values():\n",
    "    value = value + i\n",
    "    mean = value/len(score.values())\n",
    "print(mean)"
   ]
  },
  {
   "cell_type": "code",
   "execution_count": 9,
   "metadata": {},
   "outputs": [
    {
     "name": "stdout",
     "output_type": "stream",
     "text": [
      "{'철수': {'수학': 80, '국어': 90, '음악': 100}, '영희': {'수학': 70, '국어': 60, '음악': 50}}\n"
     ]
    }
   ],
   "source": [
    "# 2. 반 평균을 구하시오\n",
    "scores = {\n",
    "    \"철수\" : {\n",
    "        \"수학\" : 80,\n",
    "        \"국어\" : 90,\n",
    "        \"음악\" : 100\n",
    "    },\n",
    "    \"영희\" :  {\n",
    "        \"수학\" : 70,\n",
    "        \"국어\" : 60,\n",
    "        \"음악\" : 50\n",
    "    }\n",
    "}\n",
    "print(scores)"
   ]
  },
  {
   "cell_type": "code",
   "execution_count": 10,
   "metadata": {},
   "outputs": [
    {
     "name": "stdout",
     "output_type": "stream",
     "text": [
      "dict_values([{'수학': 80, '국어': 90, '음악': 100}, {'수학': 70, '국어': 60, '음악': 50}])\n"
     ]
    }
   ],
   "source": [
    "print(scores.values())"
   ]
  },
  {
   "cell_type": "code",
   "execution_count": 11,
   "metadata": {},
   "outputs": [
    {
     "name": "stdout",
     "output_type": "stream",
     "text": [
      "90.0\n",
      "75.0\n"
     ]
    }
   ],
   "source": [
    "total_s = 0\n",
    "count = 0\n",
    "for i in scores.values():\n",
    "    for n in i.values():\n",
    "        total_s = total_s + n\n",
    "        count += 1\n",
    "    mean_s = total_s/count\n",
    "    print(mean_s)"
   ]
  },
  {
   "cell_type": "code",
   "execution_count": 12,
   "metadata": {},
   "outputs": [
    {
     "name": "stdout",
     "output_type": "stream",
     "text": [
      "75.0\n"
     ]
    }
   ],
   "source": [
    "total_score = 0\n",
    "count = 0\n",
    "for per_score in scores.values():\n",
    "    for ind_score in per_score.values():\n",
    "        total_score += ind_score\n",
    "#       total_score = total_score + ind_score(위와 같은 식! 누적된다는 의미)\n",
    "        count += 1\n",
    "mean_score = total_score / count\n",
    "print(mean_score)\n"
   ]
  },
  {
   "cell_type": "code",
   "execution_count": 13,
   "metadata": {},
   "outputs": [
    {
     "name": "stdout",
     "output_type": "stream",
     "text": [
      "dict_items([('서울', [-6, -10, 5]), ('대전', [-3, -5, 2]), ('광주', [0, -2, 10]), ('부산', [2, -2, 9])])\n"
     ]
    }
   ],
   "source": [
    "# 3. 도시 중에 최근 3일 중에 가장 추웠던 곳, 가장 더웠던 곳은?\n",
    "cities = {\n",
    "    \"서울\": [-6, -10, 5],\n",
    "    \"대전\": [-3, -5, 2],\n",
    "    \"광주\": [0, -2, 10],\n",
    "    \"부산\": [2, -2, 9]\n",
    "}\n",
    "\n",
    "#  cities.items() 로 name과 temp값 가져오기!\n",
    "print(cities.items())"
   ]
  },
  {
   "cell_type": "code",
   "execution_count": 14,
   "metadata": {},
   "outputs": [
    {
     "name": "stdout",
     "output_type": "stream",
     "text": [
      "dict_items([('서울', [-6, -10, 5]), ('대전', [-3, -5, 2]), ('광주', [0, -2, 10]), ('부산', [2, -2, 9])])\n",
      "dict_items([('서울', [-6, -10, 5]), ('대전', [-3, -5, 2]), ('광주', [0, -2, 10]), ('부산', [2, -2, 9])])\n",
      "dict_items([('서울', [-6, -10, 5]), ('대전', [-3, -5, 2]), ('광주', [0, -2, 10]), ('부산', [2, -2, 9])])\n",
      "dict_items([('서울', [-6, -10, 5]), ('대전', [-3, -5, 2]), ('광주', [0, -2, 10]), ('부산', [2, -2, 9])])\n"
     ]
    }
   ],
   "source": [
    "for name, temp in cities.items():\n",
    "    print(cities.items())"
   ]
  },
  {
   "cell_type": "code",
   "execution_count": 15,
   "metadata": {},
   "outputs": [
    {
     "name": "stdout",
     "output_type": "stream",
     "text": [
      "['one', 'two', 'three', 'four']\n"
     ]
    }
   ],
   "source": [
    "test_list = ['one', 'two', 'three']\n",
    "test_list.append('four')\n",
    "print(test_list)"
   ]
  },
  {
   "cell_type": "code",
   "execution_count": 16,
   "metadata": {},
   "outputs": [
    {
     "name": "stdout",
     "output_type": "stream",
     "text": [
      "['apple', 'banana', 'cherry', ['Ford', 'BMW', 'Volvo']]\n"
     ]
    }
   ],
   "source": [
    "a = [\"apple\", \"banana\", \"cherry\"]\n",
    "b = [\"Ford\", \"BMW\", \"Volvo\"]\n",
    "a.append(b)\n",
    "print(a)"
   ]
  },
  {
   "cell_type": "code",
   "execution_count": 17,
   "metadata": {},
   "outputs": [
    {
     "name": "stdout",
     "output_type": "stream",
     "text": [
      "one\n",
      "two\n",
      "three\n"
     ]
    }
   ],
   "source": [
    "test_list = ['one', 'two', 'three']\n",
    "for i in test_list:\n",
    "        print(i)"
   ]
  },
  {
   "cell_type": "code",
   "execution_count": 18,
   "metadata": {},
   "outputs": [
    {
     "name": "stdout",
     "output_type": "stream",
     "text": [
      "2\n",
      "12\n",
      "30\n"
     ]
    }
   ],
   "source": [
    "a = [(1,2), (3,4),(5,6)]\n",
    "for (first,last) in a:\n",
    "    print(first*last)"
   ]
  },
  {
   "cell_type": "code",
   "execution_count": 19,
   "metadata": {},
   "outputs": [
    {
     "name": "stdout",
     "output_type": "stream",
     "text": [
      "1번 학생은 합격\n",
      "2번 학생은 불합격\n",
      "3번 학생은 합격\n",
      "4번 학생은 불합격\n",
      "5번 학생은 합격\n"
     ]
    }
   ],
   "source": [
    "marks = [90, 25, 67, 45, 80]\n",
    "\n",
    "num = 0\n",
    "for i in marks:\n",
    "    num += 1\n",
    "    if i >= 60 :\n",
    "        print(f\"{num}번 학생은 합격\")\n",
    "    else:\n",
    "        print(f\"{num}번 학생은 불합격\")\n"
   ]
  },
  {
   "cell_type": "code",
   "execution_count": 20,
   "metadata": {},
   "outputs": [
    {
     "name": "stdout",
     "output_type": "stream",
     "text": [
      "1번 학생은 합격입니다.\n",
      "2번 학생은 불합격입니다.\n",
      "3번 학생은 합격입니다.\n",
      "4번 학생은 불합격입니다.\n",
      "5번 학생은 합격입니다.\n"
     ]
    }
   ],
   "source": [
    "marks = [90, 25, 67, 45, 80]\n",
    "\n",
    "number = 0 \n",
    "for mark in marks: \n",
    "    number = number +1 \n",
    "    if mark >= 60: \n",
    "        print(\"%d번 학생은 합격입니다.\" % number)\n",
    "    else: \n",
    "        print(\"%d번 학생은 불합격입니다.\" % number)"
   ]
  },
  {
   "cell_type": "code",
   "execution_count": 21,
   "metadata": {},
   "outputs": [
    {
     "name": "stdout",
     "output_type": "stream",
     "text": [
      "1번 학생 축하합니다. 합격입니다. \n",
      "3번 학생 축하합니다. 합격입니다. \n",
      "5번 학생 축하합니다. 합격입니다. \n"
     ]
    }
   ],
   "source": [
    "marks = [90, 25, 67, 45, 80]\n",
    "\n",
    "number = 0 \n",
    "for mark in marks: \n",
    "    number = number +1 \n",
    "    if mark < 60: continue \n",
    "    print(\"%d번 학생 축하합니다. 합격입니다. \" % number)"
   ]
  },
  {
   "cell_type": "code",
   "execution_count": 22,
   "metadata": {},
   "outputs": [
    {
     "name": "stdout",
     "output_type": "stream",
     "text": [
      "range(0, 10)\n"
     ]
    }
   ],
   "source": [
    "a = range(10)\n",
    "print(a)"
   ]
  },
  {
   "cell_type": "code",
   "execution_count": 23,
   "metadata": {},
   "outputs": [
    {
     "name": "stdout",
     "output_type": "stream",
     "text": [
      "range(1, 11)\n"
     ]
    }
   ],
   "source": [
    "a = range(1,11)\n",
    "print(a)"
   ]
  },
  {
   "cell_type": "code",
   "execution_count": 24,
   "metadata": {},
   "outputs": [
    {
     "name": "stdout",
     "output_type": "stream",
     "text": [
      "55\n"
     ]
    }
   ],
   "source": [
    "sum = 0\n",
    "for i in a:\n",
    "    sum += i\n",
    "print(sum)"
   ]
  },
  {
   "cell_type": "code",
   "execution_count": 25,
   "metadata": {},
   "outputs": [
    {
     "name": "stdout",
     "output_type": "stream",
     "text": [
      "5050\n"
     ]
    }
   ],
   "source": [
    "b = range(1, 101)\n",
    "\n",
    "plus = 0\n",
    "for i in b:\n",
    "    plus = plus + i\n",
    "print(plus)"
   ]
  },
  {
   "cell_type": "code",
   "execution_count": 26,
   "metadata": {},
   "outputs": [
    {
     "name": "stdout",
     "output_type": "stream",
     "text": [
      "5\n"
     ]
    }
   ],
   "source": [
    "marks = [90, 25, 67, 45, 80]\n",
    "print(len(marks))"
   ]
  },
  {
   "cell_type": "code",
   "execution_count": 27,
   "metadata": {},
   "outputs": [
    {
     "name": "stdout",
     "output_type": "stream",
     "text": [
      "1번 학생은 합격\n",
      "3번 학생은 합격\n",
      "5번 학생은 합격\n"
     ]
    }
   ],
   "source": [
    "for i in range(len(marks)):\n",
    "    if marks[i] < 60:\n",
    "        continue\n",
    "    else :\n",
    "        print(f\"{i+1}번 학생은 합격\")"
   ]
  },
  {
   "cell_type": "code",
   "execution_count": 28,
   "metadata": {},
   "outputs": [
    {
     "name": "stdout",
     "output_type": "stream",
     "text": [
      "1 2 3 4 5 6 7 8 9  \n",
      "2 4 6 8 10 12 14 16 18  \n",
      "3 6 9 12 15 18 21 24 27  \n",
      "4 8 12 16 20 24 28 32 36  \n",
      "5 10 15 20 25 30 35 40 45  \n",
      "6 12 18 24 30 36 42 48 54  \n",
      "7 14 21 28 35 42 49 56 63  \n",
      "8 16 24 32 40 48 56 64 72  \n",
      "9 18 27 36 45 54 63 72 81  \n"
     ]
    }
   ],
   "source": [
    "gu = range(1,10)\n",
    "\n",
    "for i in gu:\n",
    "    for num in gu:\n",
    "        print(i*num, end = \" \")\n",
    "    print(' ')"
   ]
  },
  {
   "cell_type": "code",
   "execution_count": 29,
   "metadata": {},
   "outputs": [
    {
     "name": "stdout",
     "output_type": "stream",
     "text": [
      "1 2 3 4 5 6 7 8 9 \n",
      "2 4 6 8 10 12 14 16 18 \n",
      "3 6 9 12 15 18 21 24 27 \n",
      "4 8 12 16 20 24 28 32 36 \n",
      "5 10 15 20 25 30 35 40 45 \n",
      "6 12 18 24 30 36 42 48 54 \n",
      "7 14 21 28 35 42 49 56 63 \n",
      "8 16 24 32 40 48 56 64 72 \n",
      "9 18 27 36 45 54 63 72 81 \n"
     ]
    }
   ],
   "source": [
    "gu = range(1,10)\n",
    "\n",
    "for i in gu: \n",
    "     for j in gu: \n",
    "         print(i*j, end=\" \") \n",
    "     print('') "
   ]
  },
  {
   "cell_type": "code",
   "execution_count": 30,
   "metadata": {},
   "outputs": [
    {
     "name": "stdout",
     "output_type": "stream",
     "text": [
      "2 4 6 8 10 12 14 16 18 \n",
      "3 6 9 12 15 18 21 24 27 \n",
      "4 8 12 16 20 24 28 32 36 \n",
      "5 10 15 20 25 30 35 40 45 \n",
      "6 12 18 24 30 36 42 48 54 \n",
      "7 14 21 28 35 42 49 56 63 \n",
      "8 16 24 32 40 48 56 64 72 \n",
      "9 18 27 36 45 54 63 72 81 \n"
     ]
    }
   ],
   "source": [
    "for i in range(2,10):\n",
    "    for n in range(1,10):\n",
    "        print(i * n, end = \" \")\n",
    "    print('')"
   ]
  },
  {
   "cell_type": "code",
   "execution_count": 31,
   "metadata": {},
   "outputs": [
    {
     "name": "stdout",
     "output_type": "stream",
     "text": [
      "[70, 145, 1550, 4180]\n"
     ]
    }
   ],
   "source": [
    "c = [14, 29, 310, 836]\n",
    "\n",
    "result = []\n",
    "for i in c:\n",
    "    result.append(i * 5)\n",
    "print(result)"
   ]
  },
  {
   "cell_type": "code",
   "execution_count": 32,
   "metadata": {},
   "outputs": [
    {
     "name": "stdout",
     "output_type": "stream",
     "text": [
      "[1, 2, 3, 4, 5, 6, 8]\n"
     ]
    }
   ],
   "source": [
    "numbers_list = [1,2,3,4,5]\n",
    "numbers_list.append(6)\n",
    "numbers_list.append(7)\n",
    "numbers_list.append(8)\n",
    "numbers_list.remove(7)\n",
    "print(numbers_list)"
   ]
  },
  {
   "cell_type": "code",
   "execution_count": 33,
   "metadata": {},
   "outputs": [
    {
     "name": "stdout",
     "output_type": "stream",
     "text": [
      "[3, 6, 9, 12]\n"
     ]
    }
   ],
   "source": [
    "# 리스트 안에 for문 포함하기!\n",
    "d = [1,2,3,4]\n",
    "\n",
    "result = [i*3 for i in d]\n",
    "print(result)"
   ]
  },
  {
   "cell_type": "code",
   "execution_count": 34,
   "metadata": {},
   "outputs": [
    {
     "name": "stdout",
     "output_type": "stream",
     "text": [
      "[6, 12]\n"
     ]
    }
   ],
   "source": [
    "d = [1,2,3,4]\n",
    "res = [n*3 for n in d if n%2 == 0]\n",
    "print(res)"
   ]
  },
  {
   "cell_type": "code",
   "execution_count": 51,
   "metadata": {
    "scrolled": true
   },
   "outputs": [
    {
     "name": "stdout",
     "output_type": "stream",
     "text": [
      "1\n",
      "2\n",
      "3\n",
      "4\n",
      "5\n",
      "6\n",
      "7\n",
      "8\n",
      "9\n",
      "10\n",
      "11\n",
      "12\n",
      "13\n",
      "14\n",
      "15\n"
     ]
    }
   ],
   "source": [
    "# ex1\n",
    "for i in range(1, 16):\n",
    "    print(i)"
   ]
  },
  {
   "cell_type": "code",
   "execution_count": 36,
   "metadata": {},
   "outputs": [
    {
     "name": "stdout",
     "output_type": "stream",
     "text": [
      "100500\n"
     ]
    }
   ],
   "source": [
    "# ex2\n",
    "sum = 0\n",
    "for i in range(1, 1001):\n",
    "    if i%5 == 0:\n",
    "        sum = sum+i\n",
    "print(sum)"
   ]
  },
  {
   "cell_type": "code",
   "execution_count": 37,
   "metadata": {},
   "outputs": [
    {
     "name": "stdout",
     "output_type": "stream",
     "text": [
      "79.0\n",
      "79.0\n"
     ]
    }
   ],
   "source": [
    "# ex3\n",
    "# 방법 1\n",
    "A = [70, 60, 55, 75, 95, 90, 80, 80, 85, 100]\n",
    "sum = 0\n",
    "for i in A:\n",
    "    sum = sum + i\n",
    "print(sum/len(A))\n",
    "\n",
    "# 방법 2\n",
    "total = 0\n",
    "for n in A:\n",
    "    total += n\n",
    "average = total/len(A)\n",
    "print(average)"
   ]
  },
  {
   "cell_type": "code",
   "execution_count": 38,
   "metadata": {},
   "outputs": [
    {
     "name": "stdout",
     "output_type": "stream",
     "text": [
      "A형은 3명, B형은 3명, AB형은 3명, O형은 3명입니다!!!!!!!\n"
     ]
    }
   ],
   "source": [
    "# ex4\n",
    "# 다음은 학생들의 혈액형(A, B, AB, O)에 대한 데이터이다.\n",
    "# for 문을 이용하여 각 혈액형 별 학생수의 합계를 구하시오.\n",
    "bt = ['A', 'B', 'A', 'O', 'AB', 'AB', 'O', 'A', 'B', 'O', 'B', 'AB']\n",
    "\n",
    "# 방법 1\n",
    "a = 0\n",
    "b = 0\n",
    "ab = 0\n",
    "o = 0\n",
    "\n",
    "for i in bt:\n",
    "    if i == 'A':\n",
    "        a += 1\n",
    "    elif i == 'B':\n",
    "        b += 1\n",
    "    elif i == 'AB':\n",
    "        ab += 1\n",
    "    else:\n",
    "        o += 1\n",
    "print(f\"A형은 {a}명, B형은 {b}명, AB형은 {ab}명, O형은 {o}명입니다!!!!!!!\")"
   ]
  },
  {
   "cell_type": "code",
   "execution_count": 39,
   "metadata": {},
   "outputs": [
    {
     "name": "stdout",
     "output_type": "stream",
     "text": [
      "{'A': 3, 'B': 3, 'O': 3, 'AB': 3}\n"
     ]
    }
   ],
   "source": [
    "# 방법 2\n",
    "data = ['A', 'B', 'A', 'O', 'AB', 'AB', 'O', 'A', 'B', 'O', 'B', 'AB']\n",
    "\n",
    "result = {}\n",
    "for blood_type in data:\n",
    "    if blood_type in result:  # 키 값이 존재하는 경우에는 기존 값에 더함\n",
    "        result[blood_type] += 1\n",
    "    else:  # 키 값이 없는 경우에는 새로운 키 생성\n",
    "        result[blood_type] = 1\n",
    "\n",
    "print(result)  # {'A': 3, 'B': 3, 'O': 3, 'AB': 3} 출력"
   ]
  },
  {
   "cell_type": "code",
   "execution_count": 40,
   "metadata": {},
   "outputs": [
    {
     "name": "stdout",
     "output_type": "stream",
     "text": [
      "[2, 6, 10]\n"
     ]
    }
   ],
   "source": [
    "# Q5\n",
    "# 리스트 중에서 홀수에만 2를 곱하여 리스트로 저장하는 코드\n",
    "# 방법 1\n",
    "numbers = [1, 2, 3, 4, 5]\n",
    "\n",
    "result = []\n",
    "for i in numbers:\n",
    "    if i%2 == 1:\n",
    "        result.append(i*2)\n",
    "print(result)"
   ]
  },
  {
   "cell_type": "code",
   "execution_count": 41,
   "metadata": {},
   "outputs": [
    {
     "name": "stdout",
     "output_type": "stream",
     "text": [
      "[2, 6, 10]\n"
     ]
    }
   ],
   "source": [
    "# 위 코드를 리스트 내포(list comprehension)를 이용하여 표현하시오.\n",
    "# 방법 2\n",
    "numbers = [1, 2, 3, 4, 5]\n",
    "\n",
    "result = [i*2 for i in numbers if i%2 != 0]\n",
    "print(result)"
   ]
  },
  {
   "cell_type": "markdown",
   "metadata": {},
   "source": [
    "### 제어문"
   ]
  },
  {
   "cell_type": "code",
   "execution_count": 48,
   "metadata": {},
   "outputs": [
    {
     "name": "stdout",
     "output_type": "stream",
     "text": [
      "번호를 입력하세요 : 5\n",
      "1\n",
      "2\n",
      "3\n",
      "4\n",
      "5\n"
     ]
    }
   ],
   "source": [
    "# Q1\n",
    "# 자연수 n이 주어졌을 때, 1부터  N까지 한 줄에 하나씩 출력하는 프로그램을 작성하시오\n",
    "item = int(input(\"번호를 입력하세요 : \"))\n",
    "for i in range(1, item + 1):\n",
    "    print(i)"
   ]
  },
  {
   "cell_type": "code",
   "execution_count": 49,
   "metadata": {},
   "outputs": [
    {
     "name": "stdout",
     "output_type": "stream",
     "text": [
      "숫자를 입력하세요: 7\n",
      "1\n",
      "2\n",
      "3\n",
      "4\n",
      "5\n",
      "6\n",
      "7\n"
     ]
    }
   ],
   "source": [
    "n = int(input('숫자를 입력하세요: '))\n",
    "for i in range(n):\n",
    "    print(i+1)"
   ]
  },
  {
   "cell_type": "code",
   "execution_count": 50,
   "metadata": {},
   "outputs": [
    {
     "name": "stdout",
     "output_type": "stream",
     "text": [
      "번호를 입력하세요 : 9\n",
      "1\n",
      "2\n",
      "3\n",
      "4\n",
      "5\n",
      "6\n",
      "7\n",
      "8\n",
      "9\n"
     ]
    }
   ],
   "source": [
    "item = int(input(\"번호를 입력하세요 : \"))\n",
    "for i in range(item) : \n",
    "    print(i+1)"
   ]
  },
  {
   "cell_type": "code",
   "execution_count": 45,
   "metadata": {},
   "outputs": [
    {
     "name": "stdout",
     "output_type": "stream",
     "text": [
      "경고 종목 리스트: ['microsoft', 'google', 'naver', 'kakao', 'samsung', 'lg']\n",
      "투자종목이 무엇입니까?: \n",
      "투자 경고 종목이 아닙니다\n",
      "SAFE\n"
     ]
    }
   ],
   "source": [
    "# Q2\n",
    "# 투자 경고 종목 리스트가 있을 때, 사용자로부터 종목명을 입력받은 후 해당 종목이 \n",
    "# 투자 경고 종목이라면 '투자 경고 종목입니다'를 아니면\n",
    "# \"투자경고 종목이 아닙니다\"를 출력하는 프로그램을 작성하라\n",
    "\n",
    "warn_investment_list = [\"microsoft\", \"google\", \"naver\", \"kakao\", \"samsung\", \"lg\"]\n",
    "print(f\"경고 종목 리스트: {warn_investment_list}\")\n",
    "item = input('투자종목이 무엇입니까?: ')\n",
    "\n",
    "# A 1\n",
    "if item in warn_investment_list:\n",
    "    print(\"투자 경고 종목입니다\")\n",
    "else:\n",
    "    print(\"투자 경고 종목이 아닙니다\")\n",
    "\n",
    "# A 2\n",
    "if item.lower() in warn_investment_list:\n",
    "    print(\"WARNING!\")\n",
    "else:\n",
    "    print(\"SAFE\")"
   ]
  },
  {
   "cell_type": "code",
   "execution_count": 46,
   "metadata": {},
   "outputs": [
    {
     "name": "stdout",
     "output_type": "stream",
     "text": [
      "['Banana', 'Coconut', 'Deli']\n"
     ]
    }
   ],
   "source": [
    "# Q3\n",
    "# 다음 리스트에서 0, 4, 5번째 항목을 제외한 리스트를 출력하시오\n",
    "colors = ['Apple', 'Banana', 'Coconut', 'Deli', 'Ele', 'Grape']\n",
    "del_list = [0, 4, 5]\n",
    "fruit = []\n",
    "\n",
    "for i in range(len(colors)):\n",
    "    if i not in del_list:\n",
    "        fruit.append(colors[i])\n",
    "print(fruit)"
   ]
  },
  {
   "cell_type": "code",
   "execution_count": 47,
   "metadata": {},
   "outputs": [
    {
     "name": "stdout",
     "output_type": "stream",
     "text": [
      "['Banana', 'Coconut', 'Deli']\n"
     ]
    }
   ],
   "source": [
    "# 다음 리스트에서 0, 4, 5번째 항목을 제외한 리스트를 출력하시오\n",
    "colors = ['Apple', 'Banana', 'Coconut', 'Deli', 'Ele', 'Grape']\n",
    "del_list = [0, 4, 5]\n",
    "\n",
    "fruit = []\n",
    "for i in range(len(colors)):\n",
    "    if i not in del_list:\n",
    "        fruit.append(colors[i])\n",
    "print(fruit)"
   ]
  }
 ],
 "metadata": {
  "kernelspec": {
   "display_name": "Python 3",
   "language": "python",
   "name": "python3"
  },
  "language_info": {
   "codemirror_mode": {
    "name": "ipython",
    "version": 3
   },
   "file_extension": ".py",
   "mimetype": "text/x-python",
   "name": "python",
   "nbconvert_exporter": "python",
   "pygments_lexer": "ipython3",
   "version": "3.6.4"
  }
 },
 "nbformat": 4,
 "nbformat_minor": 2
}

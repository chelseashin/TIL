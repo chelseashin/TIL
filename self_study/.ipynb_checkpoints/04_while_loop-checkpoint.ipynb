{
 "cells": [
  {
   "cell_type": "markdown",
   "metadata": {},
   "source": [
    "## While문"
   ]
  },
  {
   "cell_type": "code",
   "execution_count": null,
   "metadata": {},
   "outputs": [],
   "source": [
    "# 반복해서 문장을 수행해야 할 경우 while문을 사용한다.\n",
    "# while문은 조건문이 참인 동안에 while문 아래에 속하는 문장들이 반복해서 수행된다.\n",
    "# while문 안의 문장을 수행할 때,\n",
    "# 입력된 조건을 검사해서 조건에 맞지 않으면 while문을 빠져나간다."
   ]
  },
  {
   "cell_type": "code",
   "execution_count": 1,
   "metadata": {},
   "outputs": [
    {
     "name": "stdout",
     "output_type": "stream",
     "text": [
      "나무를 1번 찍었습니다.\n",
      "나무를 2번 찍었습니다.\n",
      "나무를 3번 찍었습니다.\n",
      "나무를 4번 찍었습니다.\n",
      "나무를 5번 찍었습니다.\n",
      "나무를 6번 찍었습니다.\n",
      "나무를 7번 찍었습니다.\n",
      "나무를 8번 찍었습니다.\n",
      "나무를 9번 찍었습니다.\n",
      "나무를 10번 찍었습니다.\n",
      "나무 넘어갑니다\n"
     ]
    }
   ],
   "source": [
    "# \"열 번 찍어 안 넘어 가는 나무 없다\" 라는 속담을 파이썬 프로그램으로 만들어보자.\n",
    "treehit = 0\n",
    "while treehit < 10:\n",
    "    treehit = treehit + 1\n",
    "    print(\"나무를 %d번 찍었습니다.\" %treehit)\n",
    "    if treehit == 10:\n",
    "        print(\"나무 넘어갑니다\")"
   ]
  },
  {
   "cell_type": "code",
   "execution_count": 2,
   "metadata": {},
   "outputs": [
    {
     "name": "stdout",
     "output_type": "stream",
     "text": [
      "나무를 1번 찍었습니다.\n",
      "나무를 2번 찍었습니다.\n",
      "나무를 3번 찍었습니다.\n",
      "나무를 4번 찍었습니다.\n",
      "나무를 5번 찍었습니다.\n",
      "나무를 6번 찍었습니다.\n",
      "나무를 7번 찍었습니다.\n",
      "나무를 8번 찍었습니다.\n",
      "나무를 9번 찍었습니다.\n",
      "나무를 10번 찍었습니다.\n",
      "나무 넘어갑니다\n"
     ]
    }
   ],
   "source": [
    "treehit = 0\n",
    "while treehit < 10:\n",
    "    treehit += 1\n",
    "    print(f\"나무를 {treehit}번 찍었습니다.\")\n",
    "    if treehit == 10:\n",
    "        print(\"나무 넘어갑니다\")"
   ]
  },
  {
   "cell_type": "code",
   "execution_count": 3,
   "metadata": {},
   "outputs": [],
   "source": [
    "prompt = \"\"\"\n",
    "    1. Add\n",
    "    2. Del\n",
    "    3. List\n",
    "    4. Quit\n",
    "    \n",
    "    Enter number : \"\"\""
   ]
  },
  {
   "cell_type": "code",
   "execution_count": 4,
   "metadata": {},
   "outputs": [
    {
     "name": "stdout",
     "output_type": "stream",
     "text": [
      "\n",
      "    1. Add\n",
      "    2. Del\n",
      "    3. List\n",
      "    4. Quit\n",
      "    \n",
      "    Enter number : \n",
      "3\n",
      "\n",
      "    1. Add\n",
      "    2. Del\n",
      "    3. List\n",
      "    4. Quit\n",
      "    \n",
      "    Enter number : \n",
      "4\n"
     ]
    }
   ],
   "source": [
    "number = 0\n",
    "while number != 4:\n",
    "    print(prompt)\n",
    "    number = int(input())"
   ]
  },
  {
   "cell_type": "code",
   "execution_count": 5,
   "metadata": {},
   "outputs": [
    {
     "name": "stdout",
     "output_type": "stream",
     "text": [
      "돈을 받았으니 커피를 줍니다.\n",
      "남은 커피의 양은 9개 입니다.\n",
      "돈을 받았으니 커피를 줍니다.\n",
      "남은 커피의 양은 8개 입니다.\n",
      "돈을 받았으니 커피를 줍니다.\n",
      "남은 커피의 양은 7개 입니다.\n",
      "돈을 받았으니 커피를 줍니다.\n",
      "남은 커피의 양은 6개 입니다.\n",
      "돈을 받았으니 커피를 줍니다.\n",
      "남은 커피의 양은 5개 입니다.\n",
      "돈을 받았으니 커피를 줍니다.\n",
      "남은 커피의 양은 4개 입니다.\n",
      "돈을 받았으니 커피를 줍니다.\n",
      "남은 커피의 양은 3개 입니다.\n",
      "돈을 받았으니 커피를 줍니다.\n",
      "남은 커피의 양은 2개 입니다.\n",
      "돈을 받았으니 커피를 줍니다.\n",
      "남은 커피의 양은 1개 입니다.\n",
      "돈을 받았으니 커피를 줍니다.\n",
      "남은 커피의 양은 0개 입니다.\n",
      "커피가 다 떨어졌습니다. 판매를 중지합니다\n"
     ]
    }
   ],
   "source": [
    "# While문 강제로 빠져나가기\n",
    "# ex. 커피자판기\n",
    "\n",
    "coffee = 10\n",
    "money = 300\n",
    "while money:\n",
    "    print(\"돈을 받았으니 커피를 줍니다.\")\n",
    "    coffee = coffee - 1\n",
    "    print(f\"남은 커피의 양은 {coffee}개 입니다.\")\n",
    "    if not coffee:\n",
    "        print(\"커피가 다 떨어졌습니다. 판매를 중지합니다\")\n",
    "        break"
   ]
  },
  {
   "cell_type": "code",
   "execution_count": null,
   "metadata": {},
   "outputs": [
    {
     "name": "stdout",
     "output_type": "stream",
     "text": [
      "돈을 넣어 주세요 : 300\n",
      "커피를 줍니다.\n",
      "돈을 넣어 주세요 : 200\n",
      "돈을 다시 돌려주고 커피를 주지 않습니다\n",
      "남은 커피의 양은 9개 입니다.\n",
      "돈을 넣어 주세요 : 300\n",
      "커피를 줍니다.\n",
      "돈을 넣어 주세요 : 300\n",
      "커피를 줍니다.\n",
      "돈을 넣어 주세요 : 300\n",
      "커피를 줍니다.\n",
      "돈을 넣어 주세요 : 300\n",
      "커피를 줍니다.\n",
      "돈을 넣어 주세요 : 200\n",
      "돈을 다시 돌려주고 커피를 주지 않습니다\n",
      "남은 커피의 양은 5개 입니다.\n",
      "돈을 넣어 주세요 : 1000\n",
      "거스름돈 700원을 주고 커피를 줍니다.\n",
      "돈을 넣어 주세요 : 2000\n",
      "거스름돈 1700원을 주고 커피를 줍니다.\n",
      "돈을 넣어 주세요 : 300\n",
      "커피를 줍니다.\n",
      "돈을 넣어 주세요 : 300\n",
      "커피를 줍니다.\n"
     ]
    }
   ],
   "source": [
    "# break문 이용해 자판기 작동 과정 만들기\n",
    "\n",
    "coffee = 10\n",
    "while True:\n",
    "    money = int(input(\"돈을 넣어 주세요 : \"))\n",
    "    if money == 300:\n",
    "        print(\"커피를 줍니다.\")\n",
    "        coffee = coffee - 1\n",
    "    elif money >= 300:\n",
    "        print(f\"거스름돈 {money-300}원을 주고 커피를 줍니다.\")\n",
    "        coffee = coffee - 1\n",
    "    else:\n",
    "        print(\"돈을 다시 돌려주고 커피를 주지 않습니다\")\n",
    "        print(f\"남은 커피의 양은 {coffee}개 입니다.\")\n",
    "    if not coffee:\n",
    "        print(\"커피가 다 떨어졌습니다. 판매를 중지합니다.\")\n",
    "        break"
   ]
  },
  {
   "cell_type": "code",
   "execution_count": null,
   "metadata": {},
   "outputs": [],
   "source": [
    "# while문의 맨 처음으로 돌아가기\n",
    "# while문 안의 문장을 수행할 때 입력된 조건을 검사해서 조건에 맞지 않으면 \n",
    "# while문을 빠져나간다. \n",
    "# 그런데 프로그래밍을 하다 보면 while문을 빠져나가지 않고 \n",
    "# while문의 맨 처음(조건문)으로 다시 돌아가게 만들고 싶은 경우가 생기게 된다. \n",
    "# 이때 사용하는 것이 바로 continue문이다."
   ]
  },
  {
   "cell_type": "code",
   "execution_count": 10,
   "metadata": {},
   "outputs": [
    {
     "name": "stdout",
     "output_type": "stream",
     "text": [
      "1\n",
      "3\n",
      "5\n",
      "7\n",
      "9\n"
     ]
    }
   ],
   "source": [
    "# 1부터 10까지의 숫자 중에서 홀수만 출력하는 것을 while문을 이용해서 작성해보자\n",
    "a = 0\n",
    "while a < 10:\n",
    "    a += 1\n",
    "    if a%2 == 0: \n",
    "        continue\n",
    "    print(a)"
   ]
  },
  {
   "cell_type": "code",
   "execution_count": 11,
   "metadata": {},
   "outputs": [
    {
     "name": "stdout",
     "output_type": "stream",
     "text": [
      "5050\n"
     ]
    }
   ],
   "source": [
    "# 연습문제 \n",
    "# 1. 1부터 100까지의 자연수를 모두 더하고 그 결과를 출력하시오.\n",
    "sum = 0\n",
    "i = 1\n",
    "while i <= 100:\n",
    "    sum += i\n",
    "    i += 1\n",
    "print(sum)"
   ]
  },
  {
   "cell_type": "code",
   "execution_count": 13,
   "metadata": {},
   "outputs": [
    {
     "name": "stdout",
     "output_type": "stream",
     "text": [
      "166833\n"
     ]
    }
   ],
   "source": [
    "# 2. 1부터 1000까지의 자연수 중 3의 배수의 합을 구하시오.\n",
    "result = 0\n",
    "i = 1\n",
    "while i <= 1000:\n",
    "    i += 1\n",
    "    if i%3 == 0:\n",
    "        result += i\n",
    "print(result)        "
   ]
  },
  {
   "cell_type": "code",
   "execution_count": 31,
   "metadata": {},
   "outputs": [
    {
     "name": "stdout",
     "output_type": "stream",
     "text": [
      "166833\n"
     ]
    }
   ],
   "source": [
    "result = 0\n",
    "i = 1\n",
    "while i <= 1000:\n",
    "    if i % 3 == 0:\n",
    "        result += i\n",
    "    i+=1\n",
    "print(result)"
   ]
  },
  {
   "cell_type": "code",
   "execution_count": 40,
   "metadata": {},
   "outputs": [
    {
     "name": "stdout",
     "output_type": "stream",
     "text": [
      "481\n"
     ]
    }
   ],
   "source": [
    "# 3. 다음은 A학급 학생의 점수를 나타내는 리스트이다. \n",
    "#    다음 리스트에서 50점 이상의 점수들의 총합을 구하시오\n",
    "A = [20, 55, 67, 82, 45, 33, 90, 87, 100, 25]\n",
    "\n",
    "result = 0\n",
    "while A:              # A 리스트에 값이 있는 동안\n",
    "    mark = A.pop()    # A 리스트의 가장 마지막 항목을 하나씩 뽑아냄\n",
    "    if mark >= 50:    # 50점 이상의 점수만 더함\n",
    "        result += mark\n",
    "print(result)"
   ]
  },
  {
   "cell_type": "code",
   "execution_count": 47,
   "metadata": {},
   "outputs": [
    {
     "name": "stdout",
     "output_type": "stream",
     "text": [
      "481\n"
     ]
    }
   ],
   "source": [
    "# 같은 문제 for문 이용\n",
    "A = [20, 55, 67, 82, 45, 33, 90, 87, 100, 25]\n",
    "\n",
    "sum = 0\n",
    "for i in A:\n",
    "    if i >= 50:\n",
    "        sum = sum + i\n",
    "print(sum)"
   ]
  },
  {
   "cell_type": "code",
   "execution_count": 66,
   "metadata": {},
   "outputs": [
    {
     "name": "stdout",
     "output_type": "stream",
     "text": [
      "*\n",
      "**\n",
      "***\n",
      "****\n"
     ]
    }
   ],
   "source": [
    "# 4. while문을 이용하여 아래와 같이 별(*)을 표시하는 프로그램을 작성해 보자.\n",
    "# *\n",
    "# **\n",
    "# ***\n",
    "# ****\n",
    "\n",
    "i = 0\n",
    "while True:  \n",
    "     i += 1            # while문 수행 시 1씩 증가\n",
    "     if i >= 5: break  # i 값이 5보다 크면 while문을 벗어난다.\n",
    "     print(\"*\"*i)      # i 값 개수만큼 * 을 출력한다"
   ]
  },
  {
   "cell_type": "code",
   "execution_count": null,
   "metadata": {},
   "outputs": [],
   "source": [
    "# 5. while문을 이용하여 아래와 같이 별(*)을 표시하는 프로그램을 작성해 보자.\n",
    "\n",
    "# *******\n",
    "#  *****\n",
    "#   ***\n",
    "#    *\n",
    "\n",
    "# 출력되는 별의 갯수는 7, 5, 3, 1 이고 \n",
    "# 앞에 포함되어야 할 공백 갯수는 0, 1, 2 , 3 임을 알 수 있다. \n",
    "# 이러한 아이디어를 기반으로 작성한 파이썬 코드는 다음과 같다."
   ]
  },
  {
   "cell_type": "code",
   "execution_count": 63,
   "metadata": {},
   "outputs": [
    {
     "name": "stdout",
     "output_type": "stream",
     "text": [
      "*******\n",
      " *****\n",
      "  ***\n",
      "   *\n"
     ]
    }
   ],
   "source": [
    "star = 7  # 별의 개수\n",
    "space = 0 # 공백의 개수\n",
    "\n",
    "while star > 0:\n",
    "    print(' ' * space + '*' * star) # 공백 + 별 출력\n",
    "    star = star - 2   # 별의 개수는 2씩 감소\n",
    "    space = space + 1 # 공백의 개수는 1씩 증가"
   ]
  },
  {
   "cell_type": "code",
   "execution_count": 2,
   "metadata": {},
   "outputs": [
    {
     "name": "stdout",
     "output_type": "stream",
     "text": [
      "5\n",
      "4\n",
      "3\n",
      "2\n",
      "1\n"
     ]
    }
   ],
   "source": [
    "# c가 0이 아닌동안 계속 반복\n",
    "c = 5\n",
    "while c != 0:\n",
    "    print(c)\n",
    "    c -= 1"
   ]
  },
  {
   "cell_type": "code",
   "execution_count": 3,
   "metadata": {},
   "outputs": [
    {
     "name": "stdout",
     "output_type": "stream",
     "text": [
      "5\n",
      "4\n",
      "3\n",
      "2\n",
      "1\n"
     ]
    }
   ],
   "source": [
    "c = 5\n",
    "while c:\n",
    "    print(c)\n",
    "    c -= 1"
   ]
  },
  {
   "cell_type": "code",
   "execution_count": null,
   "metadata": {},
   "outputs": [],
   "source": [
    "while True:\n",
    "     print(\"무한루프!CTRL+C로빠져나오세요\")    "
   ]
  },
  {
   "cell_type": "code",
   "execution_count": 5,
   "metadata": {},
   "outputs": [
    {
     "name": "stdout",
     "output_type": "stream",
     "text": [
      "숫자를 입력하세요 : 15\n",
      "숫자를 입력하세요 : 2\n",
      "숫자를 입력하세요 : 7\n",
      "숫자를 입력하세요 : 43\n",
      "숫자를 입력하세요 : 90\n",
      "10으로 나누었을 때 나머지가 0입니다.\n"
     ]
    }
   ],
   "source": [
    "# 무한 루프 속에서 10으로 나누었을때 나머지가 0인 경우 \n",
    "# break문으로 반복문을 중단하고 빠져나오는 예제입니다.\n",
    "\n",
    "while True:\n",
    "    response = input('숫자를 입력하세요 : ')\n",
    "    if int(response) % 10 == 0:\n",
    "        print('10으로 나누었을 때 나머지가 0입니다.')\n",
    "        break"
   ]
  },
  {
   "cell_type": "code",
   "execution_count": null,
   "metadata": {},
   "outputs": [
    {
     "name": "stdout",
     "output_type": "stream",
     "text": [
      "숫자를 입력하세요 : 16\n",
      "10으로 나눈 나머지는 6입니다.\n",
      "숫자를 입력하세요 : 49\n",
      "10으로 나눈 나머지는 9입니다.\n",
      "숫자를 입력하세요 : 67\n",
      "10으로 나눈 나머지는 7입니다.\n",
      "숫자를 입력하세요 : 82\n",
      "10으로 나눈 나머지는 2입니다.\n",
      "숫자를 입력하세요 : 19\n",
      "10으로 나눈 나머지는 9입니다.\n",
      "숫자를 입력하세요 : 30\n"
     ]
    }
   ],
   "source": [
    "while True:\n",
    "    response = input('숫자를 입력하세요 : ')\n",
    "    result = int(response) % 10\n",
    "    if result == 0 :\n",
    "        continue\n",
    "    print(f\"10으로 나눈 나머지는 {result}입니다.\")\n",
    "# 아래의 예제는 무한 loop이기 때문에 CTRL + C로 중단하셔야 합니다."
   ]
  },
  {
   "cell_type": "code",
   "execution_count": 2,
   "metadata": {},
   "outputs": [
    {
     "name": "stdout",
     "output_type": "stream",
     "text": [
      "숫자를 입력하세요 : 47\n",
      "10으로 나눈 나머지는 7입니다.\n",
      "숫자를 입력하세요 : 13\n",
      "10으로 나눈 나머지는 3입니다.\n",
      "숫자를 입력하세요 : 94\n",
      "10으로 나눈 나머지는 4입니다.\n",
      "숫자를 입력하세요 : 60\n"
     ]
    }
   ],
   "source": [
    "while True:\n",
    "    response = input('숫자를 입력하세요 : ')\n",
    "    result = int(response) % 10\n",
    "    if result == 0 :\n",
    "        break\n",
    "    print(f\"10으로 나눈 나머지는 {result}입니다.\")"
   ]
  }
 ],
 "metadata": {
  "kernelspec": {
   "display_name": "Python 3",
   "language": "python",
   "name": "python3"
  },
  "language_info": {
   "codemirror_mode": {
    "name": "ipython",
    "version": 3
   },
   "file_extension": ".py",
   "mimetype": "text/x-python",
   "name": "python",
   "nbconvert_exporter": "python",
   "pygments_lexer": "ipython3",
   "version": "3.6.4"
  }
 },
 "nbformat": 4,
 "nbformat_minor": 2
}

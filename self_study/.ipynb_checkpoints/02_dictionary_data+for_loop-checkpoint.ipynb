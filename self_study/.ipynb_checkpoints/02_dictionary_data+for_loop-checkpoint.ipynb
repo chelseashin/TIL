{
 "cells": [
  {
   "cell_type": "code",
   "execution_count": 4,
   "metadata": {},
   "outputs": [],
   "source": [
    "dic = {'name':'pey', 'phone':'0119993323', 'birth': '1118'}"
   ]
  },
  {
   "cell_type": "code",
   "execution_count": 5,
   "metadata": {},
   "outputs": [
    {
     "name": "stdout",
     "output_type": "stream",
     "text": [
      "dict_values(['pey', '0119993323', '1118'])\n"
     ]
    }
   ],
   "source": [
    "print(dic.values())"
   ]
  },
  {
   "cell_type": "code",
   "execution_count": 6,
   "metadata": {},
   "outputs": [],
   "source": [
    "a = {'a':1, 'b':2}"
   ]
  },
  {
   "cell_type": "code",
   "execution_count": 7,
   "metadata": {},
   "outputs": [
    {
     "name": "stdout",
     "output_type": "stream",
     "text": [
      "2\n"
     ]
    }
   ],
   "source": [
    "print(a['b'])"
   ]
  },
  {
   "cell_type": "code",
   "execution_count": 8,
   "metadata": {},
   "outputs": [
    {
     "name": "stdout",
     "output_type": "stream",
     "text": [
      "1118\n"
     ]
    }
   ],
   "source": [
    "print(dic['birth'])"
   ]
  },
  {
   "cell_type": "code",
   "execution_count": 9,
   "metadata": {},
   "outputs": [
    {
     "data": {
      "text/plain": [
       "'0119993323'"
      ]
     },
     "execution_count": 9,
     "metadata": {},
     "output_type": "execute_result"
    }
   ],
   "source": [
    "dic['phone']"
   ]
  },
  {
   "cell_type": "code",
   "execution_count": 10,
   "metadata": {},
   "outputs": [
    {
     "name": "stdout",
     "output_type": "stream",
     "text": [
      "dict_keys(['name', 'phone', 'birth'])\n",
      "dict_values(['pey', '0119993323', '1118'])\n"
     ]
    }
   ],
   "source": [
    "print(dic.keys())\n",
    "print(dic.values())"
   ]
  },
  {
   "cell_type": "code",
   "execution_count": 11,
   "metadata": {
    "scrolled": true
   },
   "outputs": [
    {
     "name": "stdout",
     "output_type": "stream",
     "text": [
      "name\n",
      "phone\n",
      "birth\n"
     ]
    }
   ],
   "source": [
    "for i in dic.keys():\n",
    "    print(i)"
   ]
  },
  {
   "cell_type": "code",
   "execution_count": 12,
   "metadata": {},
   "outputs": [
    {
     "name": "stdout",
     "output_type": "stream",
     "text": [
      "pey\n",
      "0119993323\n",
      "1118\n"
     ]
    }
   ],
   "source": [
    "for i in dic.values():\n",
    "    print(i)"
   ]
  },
  {
   "cell_type": "code",
   "execution_count": 13,
   "metadata": {},
   "outputs": [
    {
     "data": {
      "text/plain": [
       "dict_values(['pey', '0119993323', '1118'])"
      ]
     },
     "execution_count": 13,
     "metadata": {},
     "output_type": "execute_result"
    }
   ],
   "source": [
    "dic.values()"
   ]
  },
  {
   "cell_type": "code",
   "execution_count": 14,
   "metadata": {},
   "outputs": [
    {
     "data": {
      "text/plain": [
       "dict_items([('name', 'pey'), ('phone', '0119993323'), ('birth', '1118')])"
      ]
     },
     "execution_count": 14,
     "metadata": {},
     "output_type": "execute_result"
    }
   ],
   "source": [
    "dic.items()"
   ]
  },
  {
   "cell_type": "code",
   "execution_count": 15,
   "metadata": {},
   "outputs": [
    {
     "data": {
      "text/plain": [
       "{}"
      ]
     },
     "execution_count": 15,
     "metadata": {},
     "output_type": "execute_result"
    }
   ],
   "source": [
    "dic.clear()\n",
    "dic"
   ]
  },
  {
   "cell_type": "code",
   "execution_count": 16,
   "metadata": {},
   "outputs": [],
   "source": [
    "dic= {'name':'pey', 'phone':'0119993323', 'birth': '1118'}"
   ]
  },
  {
   "cell_type": "code",
   "execution_count": 17,
   "metadata": {},
   "outputs": [
    {
     "data": {
      "text/plain": [
       "'pey'"
      ]
     },
     "execution_count": 17,
     "metadata": {},
     "output_type": "execute_result"
    }
   ],
   "source": [
    "dic.get('name')"
   ]
  },
  {
   "cell_type": "code",
   "execution_count": 18,
   "metadata": {},
   "outputs": [
    {
     "data": {
      "text/plain": [
       "'0119993323'"
      ]
     },
     "execution_count": 18,
     "metadata": {},
     "output_type": "execute_result"
    }
   ],
   "source": [
    "dic.get('phone')"
   ]
  },
  {
   "cell_type": "code",
   "execution_count": 19,
   "metadata": {},
   "outputs": [
    {
     "data": {
      "text/plain": [
       "True"
      ]
     },
     "execution_count": 19,
     "metadata": {},
     "output_type": "execute_result"
    }
   ],
   "source": [
    "'name' in dic"
   ]
  },
  {
   "cell_type": "code",
   "execution_count": 20,
   "metadata": {},
   "outputs": [
    {
     "data": {
      "text/plain": [
       "False"
      ]
     },
     "execution_count": 20,
     "metadata": {},
     "output_type": "execute_result"
    }
   ],
   "source": [
    "'email' in dic"
   ]
  },
  {
   "cell_type": "markdown",
   "metadata": {},
   "source": [
    "### 연습문제"
   ]
  },
  {
   "cell_type": "code",
   "execution_count": 21,
   "metadata": {},
   "outputs": [
    {
     "data": {
      "text/plain": [
       "{'age': '24', 'birth': '1021', 'name': '채원'}"
      ]
     },
     "execution_count": 21,
     "metadata": {},
     "output_type": "execute_result"
    }
   ],
   "source": [
    "dict = {'name' : '채원', 'birth' : '1021', 'age': '24' }\n",
    "dict"
   ]
  },
  {
   "cell_type": "code",
   "execution_count": 22,
   "metadata": {},
   "outputs": [
    {
     "data": {
      "text/plain": [
       "dict_values(['채원', '1021', '24'])"
      ]
     },
     "execution_count": 22,
     "metadata": {},
     "output_type": "execute_result"
    }
   ],
   "source": [
    "dict.values()"
   ]
  },
  {
   "cell_type": "code",
   "execution_count": 23,
   "metadata": {},
   "outputs": [
    {
     "data": {
      "text/plain": [
       "'1021'"
      ]
     },
     "execution_count": 23,
     "metadata": {},
     "output_type": "execute_result"
    }
   ],
   "source": [
    "dict['birth']"
   ]
  },
  {
   "cell_type": "code",
   "execution_count": 24,
   "metadata": {},
   "outputs": [],
   "source": [
    "a = {'A':90, 'B':80, 'C':70}"
   ]
  },
  {
   "cell_type": "code",
   "execution_count": 25,
   "metadata": {},
   "outputs": [
    {
     "data": {
      "text/plain": [
       "80"
      ]
     },
     "execution_count": 25,
     "metadata": {},
     "output_type": "execute_result"
    }
   ],
   "source": [
    "a['B']"
   ]
  },
  {
   "cell_type": "code",
   "execution_count": 26,
   "metadata": {},
   "outputs": [
    {
     "name": "stdout",
     "output_type": "stream",
     "text": [
      "{'A': 90, 'C': 70}\n"
     ]
    }
   ],
   "source": [
    "result = a.pop('B')\n",
    "print(a)"
   ]
  },
  {
   "cell_type": "code",
   "execution_count": 27,
   "metadata": {},
   "outputs": [
    {
     "name": "stdout",
     "output_type": "stream",
     "text": [
      "80\n"
     ]
    }
   ],
   "source": [
    "print(result)"
   ]
  },
  {
   "cell_type": "code",
   "execution_count": 28,
   "metadata": {},
   "outputs": [],
   "source": [
    "a = {'A':90, 'B':80}"
   ]
  },
  {
   "cell_type": "code",
   "execution_count": 29,
   "metadata": {},
   "outputs": [
    {
     "data": {
      "text/plain": [
       "70"
      ]
     },
     "execution_count": 29,
     "metadata": {},
     "output_type": "execute_result"
    }
   ],
   "source": [
    "a.get('C', 70)"
   ]
  },
  {
   "cell_type": "code",
   "execution_count": 30,
   "metadata": {},
   "outputs": [
    {
     "data": {
      "text/plain": [
       "{'A': 90, 'B': 80}"
      ]
     },
     "execution_count": 30,
     "metadata": {},
     "output_type": "execute_result"
    }
   ],
   "source": [
    "a"
   ]
  },
  {
   "cell_type": "code",
   "execution_count": 32,
   "metadata": {},
   "outputs": [
    {
     "data": {
      "text/plain": [
       "dict_values([90, 80])"
      ]
     },
     "execution_count": 32,
     "metadata": {},
     "output_type": "execute_result"
    }
   ],
   "source": [
    "a.values()"
   ]
  },
  {
   "cell_type": "code",
   "execution_count": 33,
   "metadata": {},
   "outputs": [
    {
     "data": {
      "text/plain": [
       "80"
      ]
     },
     "execution_count": 33,
     "metadata": {},
     "output_type": "execute_result"
    }
   ],
   "source": [
    "min(a.values())"
   ]
  },
  {
   "cell_type": "code",
   "execution_count": 34,
   "metadata": {},
   "outputs": [
    {
     "data": {
      "text/plain": [
       "dict_keys(['A', 'B'])"
      ]
     },
     "execution_count": 34,
     "metadata": {},
     "output_type": "execute_result"
    }
   ],
   "source": [
    "a.keys()"
   ]
  },
  {
   "cell_type": "code",
   "execution_count": 35,
   "metadata": {},
   "outputs": [],
   "source": [
    "aa = list(a.keys())"
   ]
  },
  {
   "cell_type": "code",
   "execution_count": 50,
   "metadata": {},
   "outputs": [
    {
     "name": "stdout",
     "output_type": "stream",
     "text": [
      "['A', 'B', 'C']\n"
     ]
    }
   ],
   "source": [
    "print(aa)"
   ]
  },
  {
   "cell_type": "code",
   "execution_count": 51,
   "metadata": {},
   "outputs": [
    {
     "name": "stdout",
     "output_type": "stream",
     "text": [
      "B\n"
     ]
    }
   ],
   "source": [
    "print(aa[1])"
   ]
  },
  {
   "cell_type": "code",
   "execution_count": 36,
   "metadata": {},
   "outputs": [
    {
     "data": {
      "text/plain": [
       "dict_items([('A', 90), ('B', 80)])"
      ]
     },
     "execution_count": 36,
     "metadata": {},
     "output_type": "execute_result"
    }
   ],
   "source": [
    "a.items()"
   ]
  },
  {
   "cell_type": "code",
   "execution_count": 37,
   "metadata": {},
   "outputs": [
    {
     "data": {
      "text/plain": [
       "[('A', 90), ('B', 80)]"
      ]
     },
     "execution_count": 37,
     "metadata": {},
     "output_type": "execute_result"
    }
   ],
   "source": [
    "list(a.items())"
   ]
  },
  {
   "cell_type": "code",
   "execution_count": 38,
   "metadata": {},
   "outputs": [],
   "source": [
    "# 1. for문으로 평균 구하기\n",
    "scores = {\n",
    "    \"국어\": 87,\n",
    "    \"영어\": 92,\n",
    "    \"수학\": 40\n",
    "}"
   ]
  },
  {
   "cell_type": "code",
   "execution_count": 39,
   "metadata": {},
   "outputs": [
    {
     "data": {
      "text/plain": [
       "dict_values([87, 92, 40])"
      ]
     },
     "execution_count": 39,
     "metadata": {},
     "output_type": "execute_result"
    }
   ],
   "source": [
    "scores.values()"
   ]
  },
  {
   "cell_type": "code",
   "execution_count": 40,
   "metadata": {},
   "outputs": [
    {
     "name": "stdout",
     "output_type": "stream",
     "text": [
      "73.0\n"
     ]
    }
   ],
   "source": [
    "sum = 0\n",
    "for i in scores.values():\n",
    "    sum = sum + i\n",
    "    mean = sum/len(scores.values())\n",
    "print(mean)"
   ]
  },
  {
   "cell_type": "code",
   "execution_count": 41,
   "metadata": {},
   "outputs": [],
   "source": [
    "# 2. for문으로 반 평균 구하기\n",
    "\n",
    "scores = {\n",
    "    \"철수\" : {\n",
    "        \"수학\" : 80,\n",
    "        \"국어\" : 90,\n",
    "        \"음악\" : 100\n",
    "    },\n",
    "    \"영희\" :  {\n",
    "        \"수학\" : 70,\n",
    "        \"국어\" : 60,\n",
    "        \"음악\" : 50\n",
    "    }\n",
    "}"
   ]
  },
  {
   "cell_type": "code",
   "execution_count": 42,
   "metadata": {},
   "outputs": [
    {
     "data": {
      "text/plain": [
       "dict_values([{'수학': 80, '국어': 90, '음악': 100}, {'수학': 70, '국어': 60, '음악': 50}])"
      ]
     },
     "execution_count": 42,
     "metadata": {},
     "output_type": "execute_result"
    }
   ],
   "source": [
    "scores.values()"
   ]
  },
  {
   "cell_type": "code",
   "execution_count": 43,
   "metadata": {},
   "outputs": [
    {
     "name": "stdout",
     "output_type": "stream",
     "text": [
      "75.0\n"
     ]
    }
   ],
   "source": [
    "plus = 0\n",
    "count = 0\n",
    "for i in scores.values():\n",
    "    for n in i.values():\n",
    "        plus = plus + n\n",
    "        count = count + 1\n",
    "mean = plus/count\n",
    "print(mean)"
   ]
  },
  {
   "cell_type": "code",
   "execution_count": 44,
   "metadata": {},
   "outputs": [],
   "source": [
    "# 3. 도시 중에 최근 3일 중에 가장 추웠던 곳, 가장 더웠던 곳은?\n",
    "cities = {\n",
    "    \"서울\": [-6, -10, 5],\n",
    "    \"대전\": [-3, -5, 2],\n",
    "    \"광주\": [0, -2, 10],\n",
    "    \"부산\": [2, -2, 9]\n",
    "}"
   ]
  },
  {
   "cell_type": "code",
   "execution_count": 45,
   "metadata": {},
   "outputs": [
    {
     "data": {
      "text/plain": [
       "dict_items([('서울', [-6, -10, 5]), ('대전', [-3, -5, 2]), ('광주', [0, -2, 10]), ('부산', [2, -2, 9])])"
      ]
     },
     "execution_count": 45,
     "metadata": {},
     "output_type": "execute_result"
    }
   ],
   "source": [
    "cities.items()"
   ]
  },
  {
   "cell_type": "code",
   "execution_count": 46,
   "metadata": {},
   "outputs": [
    {
     "name": "stdout",
     "output_type": "stream",
     "text": [
      "가장 추운 곳 : 서울, 가장 더운 곳 : 광주\n"
     ]
    }
   ],
   "source": [
    "count = 0\n",
    "\n",
    "for name, temp in cities.items():\n",
    "    if count == 0:\n",
    "        hot = max(temp)\n",
    "        cold = min(temp)\n",
    "        hot_city = name\n",
    "        cold_city = name\n",
    "    else:\n",
    "        if min(temp) < cold:\n",
    "            cold = min(temp)\n",
    "            cold_city = name\n",
    "        if max(temp) > hot:\n",
    "            hot = max(temp)\n",
    "            hot_city = name\n",
    "    count += 1\n",
    "print(f\"가장 추운 곳 : {cold_city}, 가장 더운 곳 : {hot_city}\")"
   ]
  },
  {
   "cell_type": "code",
   "execution_count": 47,
   "metadata": {},
   "outputs": [],
   "source": [
    "# Lotto 문제\n",
    "# url 을 통해 회차별 당첨번호 가져오기\n",
    "import random\n",
    "import requests\n",
    "from bs4 import BeautifulSoup"
   ]
  },
  {
   "cell_type": "code",
   "execution_count": 48,
   "metadata": {},
   "outputs": [
    {
     "data": {
      "text/plain": [
       "[801, 809, 810, 815, 817, 821, 822, 835]"
      ]
     },
     "execution_count": 48,
     "metadata": {},
     "output_type": "execute_result"
    }
   ],
   "source": [
    "numbers = random.sample(range(800, 838), 8)\n",
    "sorted(numbers)"
   ]
  },
  {
   "cell_type": "code",
   "execution_count": 49,
   "metadata": {},
   "outputs": [
    {
     "name": "stdout",
     "output_type": "stream",
     "text": [
      "817 회차 당첨번호 : \n",
      "3 9 12 13 25 43 + 34 \n",
      "801 회차 당첨번호 : \n",
      "17 25 28 37 43 44 + 2 \n",
      "822 회차 당첨번호 : \n",
      "9 18 20 24 27 36 + 12 \n",
      "815 회차 당첨번호 : \n",
      "17 21 25 26 27 36 + 4 \n",
      "810 회차 당첨번호 : \n",
      "5 10 13 21 39 43 + 11 \n",
      "809 회차 당첨번호 : \n",
      "6 11 15 17 23 40 + 39 \n",
      "835 회차 당첨번호 : \n",
      "9 10 13 28 38 45 + 35 \n",
      "821 회차 당첨번호 : \n",
      "1 12 13 24 29 44 + 16 \n"
     ]
    }
   ],
   "source": [
    "count = 0\n",
    "for num in numbers:\n",
    "    count = 0\n",
    "    url = f\"https://dhlottery.co.kr/gameResult.do?method=byWin&drwNo={num}\"\n",
    "    req = requests.get(url).text\n",
    "    soup = BeautifulSoup(req, \"html.parser\")\n",
    "    lucky = soup.select(\".ball_645\")\n",
    "    print(f\"{num} 회차 당첨번호 : \")\n",
    "    for i in lucky :\n",
    "        print(i.text, end = \" \")\n",
    "        count += 1\n",
    "        if count == 6:\n",
    "            print(\"+\", end = \" \")\n",
    "    print()"
   ]
  },
  {
   "cell_type": "code",
   "execution_count": 50,
   "metadata": {},
   "outputs": [],
   "source": [
    "# Lotto 심화문제\n",
    "import random\n",
    "import requests\n",
    "import json\n",
    "from pprint import pprint\n",
    "\n",
    "# 0. random 으로 로또번호를 생성합니다.\n",
    "# 1. api 를 통해 우승 번호 번호를 가져옵니다.\n",
    "# 2. 0 번과 1번을 비교하여 나의 등수를 알려준다.\n",
    "# --------\n",
    "# 1. url 요청 보내서 정보를 가져옵니다.\n",
    "#     - json 으로 받는다. (딕셔너리로 접근 가능)\n",
    "# 2. api 의 당첨번호와 보너스 번호를 저장하고.\n",
    "# 3. 뽑은게 몇등인지, 몇번만에 당첨된건지 하는거 뽑으세요."
   ]
  },
  {
   "cell_type": "code",
   "execution_count": 51,
   "metadata": {},
   "outputs": [],
   "source": [
    "url = \"https://dhlottery.co.kr/common.do?method=getLottoNumber&drwNo=838\"\n",
    "res = requests.get(url)\n",
    "lotto = res.json()"
   ]
  },
  {
   "cell_type": "code",
   "execution_count": 52,
   "metadata": {},
   "outputs": [
    {
     "name": "stdout",
     "output_type": "stream",
     "text": [
      "꽝\n",
      "꽝\n",
      "꽝\n",
      "꽝\n",
      "꽝\n",
      "꽝\n",
      "꽝\n",
      "꽝\n",
      "꽝\n",
      "꽝\n",
      "꽝\n",
      "꽝\n",
      "꽝\n",
      "꽝\n",
      "꽝\n",
      "꽝\n",
      "꽝\n",
      "꽝\n",
      "5등\n",
      "19 번만에 당첨되셨습니다.\n",
      "이번 주 당첨 번호 : [9, 14, 17, 33, 36, 38]\n",
      "보너스 번호 : 20\n",
      "내 번호 : [6, 14, 30, 36, 38, 40]\n"
     ]
    }
   ],
   "source": [
    "winner = []\n",
    "for i in range(1, 7):\n",
    "    winner.append(lotto[f\"drwtNo{i}\"])\n",
    "\n",
    "bonus = lotto[\"bnusNo\"]\n",
    "count = 0\n",
    "while True:\n",
    "    count += 1\n",
    "    my_numbers = sorted(random.sample(range(1, 46), 6))\n",
    "    matched = len(set(winner) & set(my_numbers))\n",
    "    \n",
    "    if matched == 6:\n",
    "        print(\"1등\")\n",
    "    elif matched == 5 and bonus in my_numbers:\n",
    "        print(\"2등\")\n",
    "    elif matched == 5:\n",
    "        print(\"3등\")\n",
    "    elif matched == 4:\n",
    "        print(\"4등\")\n",
    "    elif matched == 3:\n",
    "        print(\"5등\")\n",
    "        print(count, \"번만에 당첨되셨습니다.\")\n",
    "        break\n",
    "    else:\n",
    "        print(\"꽝\")\n",
    "print(\"이번 주 당첨 번호 : \" + str(winner))\n",
    "print(\"보너스 번호 : \" + str(bonus))\n",
    "print(\"내 번호 : \" + str(my_numbers))"
   ]
  }
 ],
 "metadata": {
  "kernelspec": {
   "display_name": "Python 3",
   "language": "python",
   "name": "python3"
  },
  "language_info": {
   "codemirror_mode": {
    "name": "ipython",
    "version": 3
   },
   "file_extension": ".py",
   "mimetype": "text/x-python",
   "name": "python",
   "nbconvert_exporter": "python",
   "pygments_lexer": "ipython3",
   "version": "3.6.4"
  }
 },
 "nbformat": 4,
 "nbformat_minor": 2
}

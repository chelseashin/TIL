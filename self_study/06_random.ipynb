{
 "cells": [
  {
   "cell_type": "code",
   "execution_count": 5,
   "metadata": {},
   "outputs": [
    {
     "name": "stdout",
     "output_type": "stream",
     "text": [
      "로또 번호를 몇 번 출력하시겠습니까? : 5\n",
      "1번째 로또번호 : [5, 10, 14, 16, 19, 31]\n",
      "2번째 로또번호 : [5, 6, 7, 20, 26, 35]\n",
      "3번째 로또번호 : [10, 14, 27, 30, 38, 43]\n",
      "4번째 로또번호 : [5, 15, 24, 29, 30, 35]\n",
      "5번째 로또번호 : [18, 29, 31, 36, 39, 40]\n"
     ]
    }
   ],
   "source": [
    "# 로또 번호 출력하기\n",
    "# 몇 회의 로또번호를 출력할 지 입력받아 입력받은 횟수만큼 로또번호를 출력합니다.\n",
    "\n",
    "import random\n",
    "\n",
    "count = int(input(\"로또 번호를 몇 번 출력하시겠습니까? : \"))\n",
    "\n",
    "lottos = []\n",
    "\n",
    "for _ in range(count):\n",
    "    lotto = []\n",
    "    while True:\n",
    "        number = random.randint(1, 45)\n",
    "        \n",
    "        if number not in lotto:\n",
    "            lotto.append(number)\n",
    "        \n",
    "        if len(lotto) >= 6:\n",
    "            lotto.sort()\n",
    "            break\n",
    "    \n",
    "    lottos.append(lotto)\n",
    "\n",
    "for idx, lotto in enumerate(lottos):\n",
    "    print(f\"{idx+1}번째 로또번호 : {lotto}\")"
   ]
  },
  {
   "cell_type": "code",
   "execution_count": 7,
   "metadata": {},
   "outputs": [
    {
     "name": "stdout",
     "output_type": "stream",
     "text": [
      "0\n",
      "1\n",
      "2\n",
      "3\n",
      "4\n"
     ]
    }
   ],
   "source": [
    "range(5)\n",
    "for i in range(5):\n",
    "    print(i)"
   ]
  },
  {
   "cell_type": "code",
   "execution_count": 9,
   "metadata": {},
   "outputs": [
    {
     "name": "stdout",
     "output_type": "stream",
     "text": [
      "10\n",
      "11\n",
      "12\n",
      "13\n",
      "14\n",
      "15\n",
      "16\n"
     ]
    }
   ],
   "source": [
    "for i in range(10,17):\n",
    "    print(i)"
   ]
  },
  {
   "cell_type": "code",
   "execution_count": 10,
   "metadata": {},
   "outputs": [
    {
     "name": "stdout",
     "output_type": "stream",
     "text": [
      "(0, 1)\n",
      "(1, 5)\n",
      "(2, 7)\n",
      "(3, 33)\n",
      "(4, 39)\n",
      "(5, 52)\n"
     ]
    }
   ],
   "source": [
    "t = [1, 5, 7, 33, 39, 52]\n",
    "for i in enumerate(t):\n",
    "    print(i)"
   ]
  },
  {
   "cell_type": "code",
   "execution_count": 11,
   "metadata": {},
   "outputs": [
    {
     "name": "stdout",
     "output_type": "stream",
     "text": [
      "index : 0, value : 1\n",
      "index : 1, value : 5\n",
      "index : 2, value : 7\n",
      "index : 3, value : 33\n",
      "index : 4, value : 39\n",
      "index : 5, value : 52\n"
     ]
    }
   ],
   "source": [
    "for i, v in enumerate(t):\n",
    "    print(f\"index : {i}, value : {v}\")"
   ]
  },
  {
   "cell_type": "code",
   "execution_count": 13,
   "metadata": {},
   "outputs": [
    {
     "name": "stdout",
     "output_type": "stream",
     "text": [
      "로또 번호를 몇 번 출력하시겠습니까? : 5\n",
      "1번째 로또번호 : [[42, 10, 37, 6, 9, 31]]\n",
      "2번째 로또번호 : [[16, 28, 39, 17, 36, 32]]\n",
      "3번째 로또번호 : [[7, 40, 13, 16, 35, 24]]\n",
      "4번째 로또번호 : [[40, 4, 31, 10, 7, 30]]\n",
      "5번째 로또번호 : [[30, 4, 41, 11, 31, 22]]\n"
     ]
    }
   ],
   "source": [
    "import random\n",
    "\n",
    "count = int(input(\"로또 번호를 몇 번 출력하시겠습니까? : \"))\n",
    "\n",
    "lottos = []\n",
    "\n",
    "for _ in range(count):\n",
    "    lotto = []\n",
    "    while True:\n",
    "        number = random.sample(range(1, 46), 6)\n",
    "        lotto.append(number)\n",
    "        lotto.sort()\n",
    "        break\n",
    "    lottos.append(lotto)\n",
    "\n",
    "for i, lotto in enumerate(lottos):\n",
    "    print(f\"{i+1}번째 로또번호 : {lotto}\")"
   ]
  },
  {
   "cell_type": "code",
   "execution_count": 14,
   "metadata": {},
   "outputs": [],
   "source": [
    "# Random(난수)\n",
    "from random import *"
   ]
  },
  {
   "cell_type": "code",
   "execution_count": 16,
   "metadata": {},
   "outputs": [
    {
     "name": "stdout",
     "output_type": "stream",
     "text": [
      "7\n"
     ]
    }
   ],
   "source": [
    "i = randint(1, 100) # 1부터 100사이의 임의의 정수\n",
    "print(i)"
   ]
  },
  {
   "cell_type": "code",
   "execution_count": 17,
   "metadata": {},
   "outputs": [
    {
     "name": "stdout",
     "output_type": "stream",
     "text": [
      "0.740216872913885\n"
     ]
    }
   ],
   "source": [
    "f = random() # 0부터 1사이의 임의의 float 생성\n",
    "print(f)"
   ]
  },
  {
   "cell_type": "code",
   "execution_count": 18,
   "metadata": {},
   "outputs": [
    {
     "name": "stdout",
     "output_type": "stream",
     "text": [
      "35.33720740328538\n"
     ]
    }
   ],
   "source": [
    "f = uniform(1.0, 36.5)  # 1부터 36.5t사이의 임의의 float\n",
    "print(f)"
   ]
  },
  {
   "cell_type": "code",
   "execution_count": 23,
   "metadata": {},
   "outputs": [
    {
     "name": "stdout",
     "output_type": "stream",
     "text": [
      "81\n"
     ]
    }
   ],
   "source": [
    "i = randrange(1, 101, 2)  # 1부터 100사이의 임의의 홀수\n",
    "print(i)"
   ]
  },
  {
   "cell_type": "code",
   "execution_count": 24,
   "metadata": {},
   "outputs": [
    {
     "name": "stdout",
     "output_type": "stream",
     "text": [
      "7\n"
     ]
    }
   ],
   "source": [
    "i = randrange(10) # 0부터 9사이의 임의의 정수\n",
    "print(i)"
   ]
  },
  {
   "cell_type": "code",
   "execution_count": 33,
   "metadata": {},
   "outputs": [
    {
     "name": "stdout",
     "output_type": "stream",
     "text": [
      "Guess my number (Q to exit): 50\n",
      "Choose higher number\n",
      "Guess my number (Q to exit): 75\n",
      "Choose lower number\n",
      "Guess my number (Q to exit): 62\n",
      "Choose higher number\n",
      "Guess my number (Q to exit): 70\n",
      "Choose higher number\n",
      "Guess my number (Q to exit): 43\n",
      "Choose higher number\n",
      "Guess my number (Q to exit): 73\n",
      "Choose lower number\n",
      "Guess my number (Q to exit): 71\n",
      "Correct!\n"
     ]
    }
   ],
   "source": [
    "# 난수를 생성한 후 어떤 숫자인지 맞추는 프로그램\n",
    "# 즉, 사용자가 입력한 숫자가 난수보다 큰지 작은지를 알려주고 \n",
    "# 계속 추측해서 난수값을 맞추게하는 예제\n",
    "from random import randint\n",
    "\n",
    "n = randint(1, 100)\n",
    "\n",
    "while True:\n",
    "    ans = input(\"Guess my number (Q to exit): \")\n",
    "    if ans.upper() == \"Q\":\n",
    "        break\n",
    "    ians = int(ans)\n",
    "    if (n == ians):\n",
    "        print(\"Correct!\")\n",
    "        break\n",
    "    elif (n > ians):\n",
    "        print(\"Choose higher number\")\n",
    "    elif (n < ians):\n",
    "        print(\"Choose lower number\")"
   ]
  },
  {
   "cell_type": "code",
   "execution_count": 34,
   "metadata": {},
   "outputs": [
    {
     "name": "stdout",
     "output_type": "stream",
     "text": [
      "[1, 4, 9]\n"
     ]
    }
   ],
   "source": [
    "# Sample(샘플링)\n",
    "import random\n",
    "\n",
    "# (1) 숫자리스트 샘플링\n",
    "numlist = [1, 2, 3, 4, 5, 6, 7, 8, 9]\n",
    "s = random.sample(numlist, 3)\n",
    "s.sort()\n",
    "print(s)"
   ]
  },
  {
   "cell_type": "code",
   "execution_count": 35,
   "metadata": {},
   "outputs": [
    {
     "name": "stdout",
     "output_type": "stream",
     "text": [
      "['거봉', '배']\n"
     ]
    }
   ],
   "source": [
    "# (2) 튜플 샘플링\n",
    "fruits = ('사과', '배', '딸기', '멜론', \"귤\", \"거봉\")\n",
    "s = random.sample(fruits, 2)\n",
    "print(s)"
   ]
  }
 ],
 "metadata": {
  "kernelspec": {
   "display_name": "Python 3",
   "language": "python",
   "name": "python3"
  },
  "language_info": {
   "codemirror_mode": {
    "name": "ipython",
    "version": 3
   },
   "file_extension": ".py",
   "mimetype": "text/x-python",
   "name": "python",
   "nbconvert_exporter": "python",
   "pygments_lexer": "ipython3",
   "version": "3.6.4"
  }
 },
 "nbformat": 4,
 "nbformat_minor": 2
}

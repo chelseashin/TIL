{
 "cells": [
  {
   "cell_type": "markdown",
   "metadata": {},
   "source": [
    "## WebScraping today"
   ]
  },
  {
   "cell_type": "code",
   "execution_count": 34,
   "metadata": {},
   "outputs": [
    {
     "name": "stdout",
     "output_type": "stream",
     "text": [
      "\n",
      "\n",
      "주요뉴스AiRS추천 Beta\n",
      "전체기사보기\n",
      "\n",
      "\n",
      "\n",
      "\n",
      "\n",
      "\t\t\t\t\t\t\t\n",
      "\t\t\t\t\t\t\t눈치싸움에 꽁꽁 언 FA시장…힘 받는 ‘보상 규정 개선’ 목소리\n",
      "\t\t\t\t\t\t\n",
      "\n",
      "\n",
      "\n",
      "\n",
      "\n",
      "\t\t\t\t\t\t\t\n",
      "\t\t\t\t\t\t\t‘18년간 실종된 국내투수 노히트노런’ 송진우, 2000년 마지막 기록\n",
      "\t\t\t\t\t\t\n",
      "\n",
      "\n",
      "\n",
      "\n",
      "\n",
      "\t\t\t\t\t\t\t\n",
      "\t\t\t\t\t\t\t'두산의 선택' 이형범 \"음주·조작? 전 깔끔합니다\" [인터뷰]\n",
      "\t\t\t\t\t\t\n",
      "\n",
      "\n",
      "\n",
      "\n",
      "\n",
      "\t\t\t\t\t\t\t\n",
      "\t\t\t\t\t\t\t한화 18세 신인투수 정이황, 부산서 방파제 빠진 여성 구조 도와\n",
      "\t\t\t\t\t\t\n",
      "\n",
      "\n",
      "\n",
      "\n",
      "\n",
      "\t\t\t\t\t\t\t\n",
      "\t\t\t\t\t\t\t야구 원로, 정운찬 총재에 선동열 전 감독 ‘명예회복’ 건의\n",
      "\t\t\t\t\t\t\n",
      "\n",
      "\n",
      "\n",
      "\n",
      "\n",
      "\t\t\t\t\t\t\t\n",
      "\t\t\t\t\t\t\t'한화이글스 홈구장 우리 품에' 대전 자치구 경쟁과열\n",
      "\t\t\t\t\t\t\n",
      "\n",
      "\n",
      "\n",
      "\n",
      "\n",
      "\t\t\t\t\t\t\t\n",
      "\t\t\t\t\t\t\t'방망이 대신 삽' 준우-재균-지영, 유기견과 함께 한 특별한 시간\n",
      "\t\t\t\t\t\t\n",
      "\n",
      "\n",
      "\n",
      "\n",
      "\n",
      "\t\t\t\t\t\t\t\n",
      "\t\t\t\t\t\t\t이택근 \"문우람에게 진심으로 미안…심각한 폭행 아니었다\"\n",
      "\t\t\t\t\t\t\n",
      "\n",
      "\n",
      "\n",
      "\n",
      "\n",
      "\t\t\t\t\t\t\t\n",
      "\t\t\t\t\t\t\t‘안정과 확신’ 롯데 필승조 조합의 학습효과\n",
      "\t\t\t\t\t\t\n",
      "\n",
      "\n",
      "\n",
      "\n",
      "\n",
      "\t\t\t\t\t\t\t\n",
      "\t\t\t\t\t\t\t김동엽, \"띄우면 넘길 자신있다…30홈런 90타점 목표\" [일문일답]\n",
      "\t\t\t\t\t\t\n",
      "\n",
      "\n",
      "\n",
      "\n",
      "\n",
      "\n",
      "\n",
      "\t\t\t\t\t\t\t\t\n",
      "\t\t\t\t\t\t\t\t넥센 안방 책임질 이지영의 다짐 “기회 놓치지 않겠다”\n",
      "\t\t\t\t\t\t\t\n",
      "\n",
      "\n",
      "\n",
      "\n",
      "\n",
      "\t\t\t\t\t\t\t\t\n",
      "\t\t\t\t\t\t\t\t김현수-조셉-채은성, LG 타선 내년 더 강력해진다\n",
      "\t\t\t\t\t\t\t\n",
      "\n",
      "\n",
      "\n",
      "\n",
      "\n",
      "\t\t\t\t\t\t\t\t\n",
      "\t\t\t\t\t\t\t\t독립구단 파주챌린저스, 내년 1월 제주 전지훈련 돌입\n",
      "\t\t\t\t\t\t\t\n",
      "\n",
      "\n",
      "\n",
      "\n",
      "\n",
      "\t\t\t\t\t\t\t\t\n",
      "\t\t\t\t\t\t\t\tMOON이 주목했던 윤수호-이형범, 두산에서 기량 꽃 피울까\n",
      "\t\t\t\t\t\t\t\n",
      "\n",
      "\n",
      "\n",
      "\n",
      "\n",
      "\t\t\t\t\t\t\t\t\n",
      "\t\t\t\t\t\t\t\t제5의 시즌…김태형이 풀어야할 ‘3가지 숙제’\n",
      "\t\t\t\t\t\t\t\n",
      "\n",
      "\n",
      "\n",
      "\n",
      "\n",
      "\t\t\t\t\t\t\t\t\n",
      "\t\t\t\t\t\t\t\t이제는 '삼성맨' 김동엽, \"내년에 제대로 보여 주겠다\" [SPO 톡]\n",
      "\t\t\t\t\t\t\t\n",
      "\n",
      "\n",
      "\n",
      "\n",
      "\n",
      "\t\t\t\t\t\t\t\t\n",
      "\t\t\t\t\t\t\t\t김광현 \"제3의 구종이요? 아직은 비밀 입니다\" [SPO 톡]\n",
      "\t\t\t\t\t\t\t\n",
      "\n",
      "\n",
      "\n",
      "\n",
      "\n",
      "\t\t\t\t\t\t\t\t\n",
      "\t\t\t\t\t\t\t\t러프, 3년 연속 삼성에서 뛴다…팀 역사상 최초\n",
      "\t\t\t\t\t\t\t\n",
      "\n",
      "\n",
      "\n",
      "\n",
      "\n",
      "\t\t\t\t\t\t\t\t\n",
      "\t\t\t\t\t\t\t\t구자욱, \"장타 생산에 대한 욕심 더 생겼다\" [오!쎈 인터뷰]\n",
      "\t\t\t\t\t\t\t\n",
      "\n",
      "\n",
      "\n",
      "\n",
      "\n",
      "\t\t\t\t\t\t\t\t\n",
      "\t\t\t\t\t\t\t\t10개 구단 울상, “KBO 졸속 ‘공인구 정책’으로 혼란” [엠스플 이슈]\n",
      "\t\t\t\t\t\t\t\n",
      "\n",
      "\n",
      "\n",
      "\n"
     ]
    }
   ],
   "source": [
    "import requests\n",
    "from bs4 import BeautifulSoup\n",
    "\n",
    "baseball = requests.get(\"https://sports.news.naver.com/kbaseball/index.nhn\").text\n",
    "soup = BeautifulSoup(baseball, 'html.parser')\n",
    "news = soup.select_one(\"#content > div > div.home_grid > div.content > div.home_article > div.home_news\")\n",
    "\n",
    "print(news.text)"
   ]
  },
  {
   "cell_type": "code",
   "execution_count": 63,
   "metadata": {},
   "outputs": [
    {
     "name": "stdout",
     "output_type": "stream",
     "text": [
      "전체기사보기\n",
      "KBO, 상벌위 열어 '폭력 행위' 이택근에 36경기 출전 정지\n",
      "SK \"김택형 승부조작 관련 無... 이태양·문우람에 사과 요구\"\n",
      "눈치싸움에 꽁꽁 언 FA시장…힘 받는 ‘보상 규정 개선’ 목소리\n",
      "‘18년간 실종된 국내투수 노히트노런’ 송진우, 2000년 마지막 기록\n",
      "'두산의 선택' 이형범 \"음주·조작? 전 깔끔합니다\" [인터뷰]\n",
      "한화 18세 신인투수 정이황, 부산서 방파제 빠진 여성 구조 도와\n",
      "야구 원로, 정운찬 총재에 선동열 전 감독 ‘명예회복’ 건의\n",
      "'한화이글스 홈구장 우리 품에' 대전 자치구 경쟁과열\n",
      "'방망이 대신 삽' 준우-재균-지영, 유기견과 함께 한 특별한 시간\n",
      "이택근 \"문우람에게 진심으로 미안…심각한 폭행 아니었다\"\n",
      "‘안정과 확신’ 롯데 필승조 조합의 학습효과\n",
      "김동엽, \"띄우면 넘길 자신있다…30홈런 90타점 목표\" [일문일답]\n",
      "넥센 안방 책임질 이지영의 다짐 “기회 놓치지 않겠다”\n",
      "김현수-조셉-채은성, LG 타선 내년 더 강력해진다\n",
      "독립구단 파주챌린저스, 내년 1월 제주 전지훈련 돌입\n",
      "MOON이 주목했던 윤수호-이형범, 두산에서 기량 꽃 피울까\n",
      "제5의 시즌…김태형이 풀어야할 ‘3가지 숙제’\n",
      "이제는 '삼성맨' 김동엽, \"내년에 제대로 보여 주겠다\" [SPO 톡]\n",
      "김광현 \"제3의 구종이요? 아직은 비밀 입니다\" [SPO 톡]\n",
      "러프, 3년 연속 삼성에서 뛴다…팀 역사상 최초\n"
     ]
    }
   ],
   "source": [
    "import requests\n",
    "from bs4 import BeautifulSoup\n",
    "\n",
    "baseball = \"https://sports.news.naver.com/kbaseball/index.nhn\"\n",
    "req = requests.get(baseball).text\n",
    "soup = BeautifulSoup(req, 'html.parser')\n",
    "\n",
    "for head in soup.find('div', class_=\"home_news\").find_all('a'):\n",
    "    news = head.text.strip()\n",
    "    print(f'{news}')"
   ]
  },
  {
   "cell_type": "code",
   "execution_count": 52,
   "metadata": {},
   "outputs": [
    {
     "data": {
      "text/plain": [
       "str"
      ]
     },
     "execution_count": 52,
     "metadata": {},
     "output_type": "execute_result"
    }
   ],
   "source": [
    "type(news)"
   ]
  },
  {
   "cell_type": "code",
   "execution_count": 65,
   "metadata": {
    "scrolled": true
   },
   "outputs": [
    {
     "data": {
      "text/plain": [
       "[\"KBO, 상벌위 열어 '폭력 행위' 이택근에 36경기 출전 정지\",\n",
       " 'SK \"김택형 승부조작 관련 無... 이태양·문우람에 사과 요구\"',\n",
       " '눈치싸움에 꽁꽁 언 FA시장…힘 받는 ‘보상 규정 개선’ 목소리',\n",
       " '‘18년간 실종된 국내투수 노히트노런’ 송진우, 2000년 마지막 기록',\n",
       " '\\'두산의 선택\\' 이형범 \"음주·조작? 전 깔끔합니다\" [인터뷰]',\n",
       " '한화 18세 신인투수 정이황, 부산서 방파제 빠진 여성 구조 도와',\n",
       " '야구 원로, 정운찬 총재에 선동열 전 감독 ‘명예회복’ 건의',\n",
       " \"'한화이글스 홈구장 우리 품에' 대전 자치구 경쟁과열\",\n",
       " \"'방망이 대신 삽' 준우-재균-지영, 유기견과 함께 한 특별한 시간\",\n",
       " '이택근 \"문우람에게 진심으로 미안…심각한 폭행 아니었다\"',\n",
       " '‘안정과 확신’ 롯데 필승조 조합의 학습효과',\n",
       " '김동엽, \"띄우면 넘길 자신있다…30홈런 90타점 목표\" [일문일답]',\n",
       " '넥센 안방 책임질 이지영의 다짐 “기회 놓치지 않겠다”',\n",
       " '김현수-조셉-채은성, LG 타선 내년 더 강력해진다',\n",
       " '독립구단 파주챌린저스, 내년 1월 제주 전지훈련 돌입',\n",
       " 'MOON이 주목했던 윤수호-이형범, 두산에서 기량 꽃 피울까',\n",
       " '제5의 시즌…김태형이 풀어야할 ‘3가지 숙제’',\n",
       " '이제는 \\'삼성맨\\' 김동엽, \"내년에 제대로 보여 주겠다\" [SPO 톡]',\n",
       " '김광현 \"제3의 구종이요? 아직은 비밀 입니다\" [SPO 톡]',\n",
       " '러프, 3년 연속 삼성에서 뛴다…팀 역사상 최초']"
      ]
     },
     "execution_count": 65,
     "metadata": {},
     "output_type": "execute_result"
    }
   ],
   "source": [
    "# news 결과를 list형태로 저장한 후 첫 번째 행의 불필요한 내용 삭제!\n",
    "\n",
    "baseball = \"https://sports.news.naver.com/kbaseball/index.nhn\"\n",
    "req = requests.get(baseball).text\n",
    "soup = BeautifulSoup(req, 'html.parser')\n",
    "news = []\n",
    "for head in soup.find('div', class_=\"home_news\").find_all('a'):\n",
    "    news.append(head.text.strip())\n",
    "\n",
    "del news[0]\n",
    "news"
   ]
  },
  {
   "cell_type": "code",
   "execution_count": 66,
   "metadata": {},
   "outputs": [
    {
     "data": {
      "text/plain": [
       "list"
      ]
     },
     "execution_count": 66,
     "metadata": {},
     "output_type": "execute_result"
    }
   ],
   "source": [
    "type(news)"
   ]
  },
  {
   "cell_type": "code",
   "execution_count": 58,
   "metadata": {},
   "outputs": [
    {
     "data": {
      "text/plain": [
       "[\"KBO, 상벌위 열어 '폭력 행위' 이택근에 36경기 출전 정지\",\n",
       " '눈치싸움에 꽁꽁 언 FA시장…힘 받는 ‘보상 규정 개선’ 목소리',\n",
       " '‘18년간 실종된 국내투수 노히트노런’ 송진우, 2000년 마지막 기록',\n",
       " '\\'두산의 선택\\' 이형범 \"음주·조작? 전 깔끔합니다\" [인터뷰]',\n",
       " '한화 18세 신인투수 정이황, 부산서 방파제 빠진 여성 구조 도와',\n",
       " '야구 원로, 정운찬 총재에 선동열 전 감독 ‘명예회복’ 건의',\n",
       " \"'한화이글스 홈구장 우리 품에' 대전 자치구 경쟁과열\",\n",
       " \"'방망이 대신 삽' 준우-재균-지영, 유기견과 함께 한 특별한 시간\",\n",
       " '이택근 \"문우람에게 진심으로 미안…심각한 폭행 아니었다\"',\n",
       " '‘안정과 확신’ 롯데 필승조 조합의 학습효과',\n",
       " '김동엽, \"띄우면 넘길 자신있다…30홈런 90타점 목표\" [일문일답]',\n",
       " '넥센 안방 책임질 이지영의 다짐 “기회 놓치지 않겠다”',\n",
       " '김현수-조셉-채은성, LG 타선 내년 더 강력해진다',\n",
       " '독립구단 파주챌린저스, 내년 1월 제주 전지훈련 돌입',\n",
       " 'MOON이 주목했던 윤수호-이형범, 두산에서 기량 꽃 피울까',\n",
       " '제5의 시즌…김태형이 풀어야할 ‘3가지 숙제’',\n",
       " '이제는 \\'삼성맨\\' 김동엽, \"내년에 제대로 보여 주겠다\" [SPO 톡]',\n",
       " '김광현 \"제3의 구종이요? 아직은 비밀 입니다\" [SPO 톡]',\n",
       " '러프, 3년 연속 삼성에서 뛴다…팀 역사상 최초',\n",
       " '구자욱, \"장타 생산에 대한 욕심 더 생겼다\" [오!쎈 인터뷰]']"
      ]
     },
     "execution_count": 58,
     "metadata": {},
     "output_type": "execute_result"
    }
   ],
   "source": [
    "news"
   ]
  },
  {
   "cell_type": "code",
   "execution_count": 39,
   "metadata": {},
   "outputs": [
    {
     "name": "stdout",
     "output_type": "stream",
     "text": [
      "1이택근 \"문우람에게 진심으로 미안…심각한 폭행 아니었다\"\n",
      "2[오피셜] 맨유, '솔샤르 체제'로 간다...2018/2019시즌 종료까지\n",
      "3'끝판대왕' 오승환, 고향 정읍 방문…'자랑스런 체육인상'\n",
      "4이제 봐도 '넘사벽'…퍼거슨, EPL 우승 확률 '61.9%, 3위↑100%'\n",
      "5\"거듭 죄송합니다. 우람아 미안해\" 울먹인 이택근의 진심\n",
      "6분노한 네빌, 포그바 맹비난 “완전히 쓰레기”\n",
      "7이택근 \"문우람에게 진심으로 미안\"…36G 출장정지(종합)\n",
      "8'문우람 폭행' 이택근, 36경기 출장정지…'음주운전' 임지열은 30G\n"
     ]
    }
   ],
   "source": [
    "sports = \"https://sports.news.naver.com/index.nhn\"\n",
    "req = requests.get(sports).text\n",
    "soup = BeautifulSoup(req, 'html.parser')\n",
    "\n",
    "\n",
    "for tag in soup.find('ul',class_=\"main_ranknews_list\").find_all('span',class_=\"title\"):\n",
    "    rank = tag.text\n",
    "    print(f'{rank}')"
   ]
  },
  {
   "cell_type": "code",
   "execution_count": 2,
   "metadata": {},
   "outputs": [
    {
     "name": "stdout",
     "output_type": "stream",
     "text": [
      "1위는 뱅쇼입니다\n",
      "2위는 뱅쇼 만드는법입니다\n",
      "3위는 정려원입니다\n",
      "4위는 행잉트리입니다\n",
      "5위는 위메프 반값특가입니다\n",
      "6위는 농락입니다\n",
      "7위는 려원입니다\n",
      "8위는 플라이트입니다\n",
      "9위는 박나래입니다\n",
      "10위는 멜젓입니다\n",
      "11위는 갯지렁이입니다\n",
      "12위는 2019 무료 신년운세입니다\n",
      "13위는 강기영 여자친구입니다\n",
      "14위는 려원 나이입니다\n",
      "15위는 이주연입니다\n",
      "16위는 전영록입니다\n",
      "17위는 유희열의 스케치북입니다\n",
      "18위는 검은사제들입니다\n",
      "19위는 마스터입니다\n",
      "20위는 헨리입니다\n"
     ]
    }
   ],
   "source": [
    "# for문을 이용한  webscraping\n",
    "naver = \"https://www.naver.com/\"\n",
    "req = requests.get(naver).text\n",
    "soup = BeautifulSoup(req, 'html.parser')\n",
    "\n",
    "for tag in soup.select('.PM_CL_realtimeKeyword_rolling .ah_item'):\n",
    "    rank = tag.select_one('.ah_r').text\n",
    "    issue = tag.select_one('.ah_k').text\n",
    "    print(f'{rank}위는 {issue}입니다')"
   ]
  }
 ],
 "metadata": {
  "kernelspec": {
   "display_name": "Python 3",
   "language": "python",
   "name": "python3"
  },
  "language_info": {
   "codemirror_mode": {
    "name": "ipython",
    "version": 3
   },
   "file_extension": ".py",
   "mimetype": "text/x-python",
   "name": "python",
   "nbconvert_exporter": "python",
   "pygments_lexer": "ipython3",
   "version": "3.6.4"
  }
 },
 "nbformat": 4,
 "nbformat_minor": 2
}

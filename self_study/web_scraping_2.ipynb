{
 "cells": [
  {
   "cell_type": "markdown",
   "metadata": {},
   "source": [
    "## WebScraping today"
   ]
  },
  {
   "cell_type": "code",
   "execution_count": 1,
   "metadata": {},
   "outputs": [
    {
     "name": "stdout",
     "output_type": "stream",
     "text": [
      "\n",
      "\n",
      "주요뉴스AiRS추천 Beta\n",
      "전체기사보기\n",
      "\n",
      "\n",
      "\n",
      "\n",
      "\n",
      "\t\t\t\t\t\t\t\n",
      "\t\t\t\t\t\t\tNC 새 구장명, 결국 ‘창원 NC파크’로 확정\n",
      "\t\t\t\t\t\t\n",
      "\n",
      "\n",
      "\n",
      "\n",
      "\n",
      "\t\t\t\t\t\t\t\n",
      "\t\t\t\t\t\t\t삼성맨으로 새출발…쉼표 없는 ‘철인 코치’ 최태원\n",
      "\t\t\t\t\t\t\n",
      "\n",
      "\n",
      "\n",
      "\n",
      "\n",
      "\t\t\t\t\t\t\t\n",
      "\t\t\t\t\t\t\tKBO, ‘타고투저’ 제동 건다…공인구 반발계수 하향\n",
      "\t\t\t\t\t\t\n",
      "\n",
      "\n",
      "\n",
      "\n",
      "\n",
      "\t\t\t\t\t\t\t\n",
      "\t\t\t\t\t\t\t'괴짜 구단주' 허민, 이젠 '히어로즈 감시자'로 변신\n",
      "\t\t\t\t\t\t\n",
      "\n",
      "\n",
      "\n",
      "\n",
      "\n",
      "\t\t\t\t\t\t\t\n",
      "\t\t\t\t\t\t\tNC다이노스 신축구장 명칭 '창원NC파크'…만장일치로 선정\n",
      "\t\t\t\t\t\t\n",
      "\n",
      "\n",
      "\n",
      "\n",
      "\n",
      "\t\t\t\t\t\t\t\n",
      "\t\t\t\t\t\t\t김하성-이정후의 뒤늦은 GG 수상 소감 “더욱 좋은 선수 될 것”\n",
      "\t\t\t\t\t\t\n",
      "\n",
      "\n",
      "\n",
      "\n",
      "\n",
      "\t\t\t\t\t\t\t\n",
      "\t\t\t\t\t\t\t넥센이 구단 인수 의사 밝힌 허민 대표를 사외이사로 영입한 배경\n",
      "\t\t\t\t\t\t\n",
      "\n",
      "\n",
      "\n",
      "\n",
      "\n",
      "\t\t\t\t\t\t\t\n",
      "\t\t\t\t\t\t\t‘후랭코프·브리검, 예상보다 소폭 인상’ 샌즈, 최저가 재계약\n",
      "\t\t\t\t\t\t\n",
      "\n",
      "\n",
      "\n",
      "\n",
      "\n",
      "\t\t\t\t\t\t\t\n",
      "\t\t\t\t\t\t\t“KBO ‘성추행’ 반복, 총재 리더십 부족이 원인” [엠스플 인터뷰]\n",
      "\t\t\t\t\t\t\n",
      "\n",
      "\n",
      "\n",
      "\n",
      "\n",
      "\t\t\t\t\t\t\t\n",
      "\t\t\t\t\t\t\t“아프니까 가족이다”, 원 씨네 ‘삼부자’의 야구 이야기 [엠스플 특집]\n",
      "\t\t\t\t\t\t\n",
      "\n",
      "\n",
      "\n",
      "\n",
      "\n",
      "\n",
      "\n",
      "\t\t\t\t\t\t\t\t\n",
      "\t\t\t\t\t\t\t\t‘박석민 옵션 10억…정의윤 12억’ FA도입 초기 옵션내용 공개\n",
      "\t\t\t\t\t\t\t\n",
      "\n",
      "\n",
      "\n",
      "\n",
      "\n",
      "\t\t\t\t\t\t\t\t\n",
      "\t\t\t\t\t\t\t\t'우승 단장' SK 염경엽, '우승 감독' 꿈 이룰까 [풀카운트]\n",
      "\t\t\t\t\t\t\t\n",
      "\n",
      "\n",
      "\n",
      "\n",
      "\n",
      "\t\t\t\t\t\t\t\t\n",
      "\t\t\t\t\t\t\t\t이태양·문우람 무책임한 폭로전, 결국 상처만 남겼다\n",
      "\t\t\t\t\t\t\t\n",
      "\n",
      "\n",
      "\n",
      "\n",
      "\n",
      "\t\t\t\t\t\t\t\t\n",
      "\t\t\t\t\t\t\t\t‘최정·김현수·박민우의 공통점’ 이영민 타격상 출신…올해는 누구?\n",
      "\t\t\t\t\t\t\t\n",
      "\n",
      "\n",
      "\n",
      "\n",
      "\n",
      "\t\t\t\t\t\t\t\t\n",
      "\t\t\t\t\t\t\t\t박한이, \"승엽이형처럼 멋지게 떠나고 싶다\"\n",
      "\t\t\t\t\t\t\t\n",
      "\n",
      "\n",
      "\n",
      "\n",
      "\n",
      "\t\t\t\t\t\t\t\t\n",
      "\t\t\t\t\t\t\t\t한용덕 고백 \"남몰래 매일 산에 올라 바위 앞에 소원 빌었다\"[영상]\n",
      "\t\t\t\t\t\t\t\n",
      "\n",
      "\n",
      "\n",
      "\n",
      "\n",
      "\t\t\t\t\t\t\t\t\n",
      "\t\t\t\t\t\t\t\tAWB 빛낸 최하늘 “롯데에서도 기회가 찾아오겠죠” [이상철의 오디세이]\n",
      "\t\t\t\t\t\t\t\n",
      "\n",
      "\n",
      "\n",
      "\n",
      "\n",
      "\t\t\t\t\t\t\t\t\n",
      "\t\t\t\t\t\t\t\t\"'승부 조작 가담' 박현준, 멕시칸리그에서 새 출발\" 日언론\n",
      "\t\t\t\t\t\t\t\n",
      "\n",
      "\n",
      "\n",
      "\n",
      "\n",
      "\t\t\t\t\t\t\t\t\n",
      "\t\t\t\t\t\t\t\t‘26년째 실종된 롯데 신인왕’ 염종석, 92년 우승 주역 유일 신인왕\n",
      "\t\t\t\t\t\t\t\n",
      "\n",
      "\n",
      "\n",
      "\n",
      "\n",
      "\t\t\t\t\t\t\t\t\n",
      "\t\t\t\t\t\t\t\t‘5번 만난’ 삼성·김상수, 한 발짝 더 다가섰다 [엠스플 이슈]\n",
      "\t\t\t\t\t\t\t\n",
      "\n",
      "\n",
      "\n",
      "\n"
     ]
    }
   ],
   "source": [
    "import requests\n",
    "from bs4 import BeautifulSoup\n",
    "\n",
    "baseball = requests.get(\"https://sports.news.naver.com/kbaseball/index.nhn\").text\n",
    "soup = BeautifulSoup(baseball, 'html.parser')\n",
    "news = soup.select_one(\"#content > div > div.home_grid > div.content > div.home_article > div.home_news\")\n",
    "\n",
    "print(news.text)"
   ]
  },
  {
   "cell_type": "code",
   "execution_count": 2,
   "metadata": {},
   "outputs": [
    {
     "name": "stdout",
     "output_type": "stream",
     "text": [
      "전체기사보기\n",
      "NC 새 구장명, 결국 ‘창원 NC파크’로 확정\n",
      "삼성맨으로 새출발…쉼표 없는 ‘철인 코치’ 최태원\n",
      "KBO, ‘타고투저’ 제동 건다…공인구 반발계수 하향\n",
      "'괴짜 구단주' 허민, 이젠 '히어로즈 감시자'로 변신\n",
      "NC다이노스 신축구장 명칭 '창원NC파크'…만장일치로 선정\n",
      "김하성-이정후의 뒤늦은 GG 수상 소감 “더욱 좋은 선수 될 것”\n",
      "넥센이 구단 인수 의사 밝힌 허민 대표를 사외이사로 영입한 배경\n",
      "‘후랭코프·브리검, 예상보다 소폭 인상’ 샌즈, 최저가 재계약\n",
      "“KBO ‘성추행’ 반복, 총재 리더십 부족이 원인” [엠스플 인터뷰]\n",
      "“아프니까 가족이다”, 원 씨네 ‘삼부자’의 야구 이야기 [엠스플 특집]\n",
      "‘박석민 옵션 10억…정의윤 12억’ FA도입 초기 옵션내용 공개\n",
      "'우승 단장' SK 염경엽, '우승 감독' 꿈 이룰까 [풀카운트]\n",
      "이태양·문우람 무책임한 폭로전, 결국 상처만 남겼다\n",
      "‘최정·김현수·박민우의 공통점’ 이영민 타격상 출신…올해는 누구?\n",
      "박한이, \"승엽이형처럼 멋지게 떠나고 싶다\"\n",
      "한용덕 고백 \"남몰래 매일 산에 올라 바위 앞에 소원 빌었다\"[영상]\n",
      "AWB 빛낸 최하늘 “롯데에서도 기회가 찾아오겠죠” [이상철의 오디세이]\n",
      "\"'승부 조작 가담' 박현준, 멕시칸리그에서 새 출발\" 日언론\n",
      "‘26년째 실종된 롯데 신인왕’ 염종석, 92년 우승 주역 유일 신인왕\n",
      "‘5번 만난’ 삼성·김상수, 한 발짝 더 다가섰다 [엠스플 이슈]\n"
     ]
    }
   ],
   "source": [
    "import requests\n",
    "from bs4 import BeautifulSoup\n",
    "\n",
    "baseball = \"https://sports.news.naver.com/kbaseball/index.nhn\"\n",
    "req = requests.get(baseball).text\n",
    "soup = BeautifulSoup(req, 'html.parser')\n",
    "\n",
    "for head in soup.find('div', class_=\"home_news\").find_all('a'):\n",
    "    news = head.text.strip()\n",
    "    print(f'{news}')"
   ]
  },
  {
   "cell_type": "code",
   "execution_count": 3,
   "metadata": {},
   "outputs": [
    {
     "data": {
      "text/plain": [
       "str"
      ]
     },
     "execution_count": 3,
     "metadata": {},
     "output_type": "execute_result"
    }
   ],
   "source": [
    "type(news)"
   ]
  },
  {
   "cell_type": "code",
   "execution_count": 4,
   "metadata": {
    "scrolled": true
   },
   "outputs": [
    {
     "data": {
      "text/plain": [
       "['NC 새 구장명, 결국 ‘창원 NC파크’로 확정',\n",
       " '삼성맨으로 새출발…쉼표 없는 ‘철인 코치’ 최태원',\n",
       " 'KBO, ‘타고투저’ 제동 건다…공인구 반발계수 하향',\n",
       " \"'괴짜 구단주' 허민, 이젠 '히어로즈 감시자'로 변신\",\n",
       " \"NC다이노스 신축구장 명칭 '창원NC파크'…만장일치로 선정\",\n",
       " '김하성-이정후의 뒤늦은 GG 수상 소감 “더욱 좋은 선수 될 것”',\n",
       " '넥센이 구단 인수 의사 밝힌 허민 대표를 사외이사로 영입한 배경',\n",
       " '‘후랭코프·브리검, 예상보다 소폭 인상’ 샌즈, 최저가 재계약',\n",
       " '“KBO ‘성추행’ 반복, 총재 리더십 부족이 원인” [엠스플 인터뷰]',\n",
       " '“아프니까 가족이다”, 원 씨네 ‘삼부자’의 야구 이야기 [엠스플 특집]',\n",
       " '‘박석민 옵션 10억…정의윤 12억’ FA도입 초기 옵션내용 공개',\n",
       " \"'우승 단장' SK 염경엽, '우승 감독' 꿈 이룰까 [풀카운트]\",\n",
       " '이태양·문우람 무책임한 폭로전, 결국 상처만 남겼다',\n",
       " '‘최정·김현수·박민우의 공통점’ 이영민 타격상 출신…올해는 누구?',\n",
       " '박한이, \"승엽이형처럼 멋지게 떠나고 싶다\"',\n",
       " '한용덕 고백 \"남몰래 매일 산에 올라 바위 앞에 소원 빌었다\"[영상]',\n",
       " 'AWB 빛낸 최하늘 “롯데에서도 기회가 찾아오겠죠” [이상철의 오디세이]',\n",
       " '\"\\'승부 조작 가담\\' 박현준, 멕시칸리그에서 새 출발\" 日언론',\n",
       " '‘26년째 실종된 롯데 신인왕’ 염종석, 92년 우승 주역 유일 신인왕',\n",
       " '‘5번 만난’ 삼성·김상수, 한 발짝 더 다가섰다 [엠스플 이슈]']"
      ]
     },
     "execution_count": 4,
     "metadata": {},
     "output_type": "execute_result"
    }
   ],
   "source": [
    "# news 결과를 list형태로 저장한 후 첫 번째 행의 불필요한 내용 삭제!\n",
    "\n",
    "baseball = \"https://sports.news.naver.com/kbaseball/index.nhn\"\n",
    "req = requests.get(baseball).text\n",
    "soup = BeautifulSoup(req, 'html.parser')\n",
    "news = []\n",
    "for head in soup.find('div', class_=\"home_news\").find_all('a'):\n",
    "    news.append(head.text.strip())\n",
    "\n",
    "del news[0]\n",
    "news"
   ]
  },
  {
   "cell_type": "code",
   "execution_count": 5,
   "metadata": {},
   "outputs": [
    {
     "data": {
      "text/plain": [
       "list"
      ]
     },
     "execution_count": 5,
     "metadata": {},
     "output_type": "execute_result"
    }
   ],
   "source": [
    "type(news)"
   ]
  },
  {
   "cell_type": "code",
   "execution_count": 6,
   "metadata": {},
   "outputs": [
    {
     "data": {
      "text/plain": [
       "['NC 새 구장명, 결국 ‘창원 NC파크’로 확정',\n",
       " '삼성맨으로 새출발…쉼표 없는 ‘철인 코치’ 최태원',\n",
       " 'KBO, ‘타고투저’ 제동 건다…공인구 반발계수 하향',\n",
       " \"'괴짜 구단주' 허민, 이젠 '히어로즈 감시자'로 변신\",\n",
       " \"NC다이노스 신축구장 명칭 '창원NC파크'…만장일치로 선정\",\n",
       " '김하성-이정후의 뒤늦은 GG 수상 소감 “더욱 좋은 선수 될 것”',\n",
       " '넥센이 구단 인수 의사 밝힌 허민 대표를 사외이사로 영입한 배경',\n",
       " '‘후랭코프·브리검, 예상보다 소폭 인상’ 샌즈, 최저가 재계약',\n",
       " '“KBO ‘성추행’ 반복, 총재 리더십 부족이 원인” [엠스플 인터뷰]',\n",
       " '“아프니까 가족이다”, 원 씨네 ‘삼부자’의 야구 이야기 [엠스플 특집]',\n",
       " '‘박석민 옵션 10억…정의윤 12억’ FA도입 초기 옵션내용 공개',\n",
       " \"'우승 단장' SK 염경엽, '우승 감독' 꿈 이룰까 [풀카운트]\",\n",
       " '이태양·문우람 무책임한 폭로전, 결국 상처만 남겼다',\n",
       " '‘최정·김현수·박민우의 공통점’ 이영민 타격상 출신…올해는 누구?',\n",
       " '박한이, \"승엽이형처럼 멋지게 떠나고 싶다\"',\n",
       " '한용덕 고백 \"남몰래 매일 산에 올라 바위 앞에 소원 빌었다\"[영상]',\n",
       " 'AWB 빛낸 최하늘 “롯데에서도 기회가 찾아오겠죠” [이상철의 오디세이]',\n",
       " '\"\\'승부 조작 가담\\' 박현준, 멕시칸리그에서 새 출발\" 日언론',\n",
       " '‘26년째 실종된 롯데 신인왕’ 염종석, 92년 우승 주역 유일 신인왕',\n",
       " '‘5번 만난’ 삼성·김상수, 한 발짝 더 다가섰다 [엠스플 이슈]']"
      ]
     },
     "execution_count": 6,
     "metadata": {},
     "output_type": "execute_result"
    }
   ],
   "source": [
    "news"
   ]
  },
  {
   "cell_type": "code",
   "execution_count": 7,
   "metadata": {},
   "outputs": [
    {
     "name": "stdout",
     "output_type": "stream",
     "text": [
      "1\"아스널 깬 손흥민, 어떻게 막아야 하나\"...中의 한숨\n",
      "2\"손흥민, 리그컵 4강 2차전도 못 뛴다\"...英 언론의 걱정\n",
      "3'주급 7억' 산체스, '무리뉴 경질 두고 2850만 원 내기' 논란…'콩가루 집안' 맨유\n",
      "4솔샤르가 원했던 중국 FW, 바르사 B까지 갈 실력?\n",
      "5결국 외면, 벤투 감독 시야에 이승우는 없었다\n",
      "6홍명보 전무, “아시안컵 위해 포르투갈 출신 피지컬코치 합류”\n",
      "7벤투호에서 '골 맛' 봤던 석현준-문선민-박주호, 왜 빠졌나\n",
      "8박한이, \"승엽이형처럼 멋지게 떠나고 싶다\"\n"
     ]
    }
   ],
   "source": [
    "sports = \"https://sports.news.naver.com/index.nhn\"\n",
    "req = requests.get(sports).text\n",
    "soup = BeautifulSoup(req, 'html.parser')\n",
    "\n",
    "\n",
    "for tag in soup.find('ul',class_=\"main_ranknews_list\").find_all('span',class_=\"title\"):\n",
    "    rank = tag.text\n",
    "    print(f'{rank}')"
   ]
  },
  {
   "cell_type": "code",
   "execution_count": 8,
   "metadata": {},
   "outputs": [
    {
     "name": "stdout",
     "output_type": "stream",
     "text": [
      "1위는 갑툭튀 간호사입니다\n",
      "2위는 스윗소로우입니다\n",
      "3위는 검은사제들입니다\n",
      "4위는 바버렛츠입니다\n",
      "5위는 잔나비입니다\n",
      "6위는 위메프 반값특가입니다\n",
      "7위는 유희열의 스케치북입니다\n",
      "8위는 오연준입니다\n",
      "9위는 최백호입니다\n",
      "10위는 김연우입니다\n",
      "11위는 플라이트입니다\n",
      "12위는 이주연입니다\n",
      "13위는 동지입니다\n",
      "14위는 영화 러브레터입니다\n",
      "15위는 쉘위댄스입니다\n",
      "16위는 무큐리입니다\n",
      "17위는 썸바디입니다\n",
      "18위는 강기영입니다\n",
      "19위는 러브레터입니다\n",
      "20위는 맹이슬입니다\n"
     ]
    }
   ],
   "source": [
    "# for문을 이용한  webscraping\n",
    "naver = \"https://www.naver.com/\"\n",
    "req = requests.get(naver).text\n",
    "soup = BeautifulSoup(req, 'html.parser')\n",
    "\n",
    "for tag in soup.select('.PM_CL_realtimeKeyword_rolling .ah_item'):\n",
    "    rank = tag.select_one('.ah_r').text\n",
    "    issue = tag.select_one('.ah_k').text\n",
    "    print(f'{rank}위는 {issue}입니다')"
   ]
  }
 ],
 "metadata": {
  "kernelspec": {
   "display_name": "Python 3",
   "language": "python",
   "name": "python3"
  },
  "language_info": {
   "codemirror_mode": {
    "name": "ipython",
    "version": 3
   },
   "file_extension": ".py",
   "mimetype": "text/x-python",
   "name": "python",
   "nbconvert_exporter": "python",
   "pygments_lexer": "ipython3",
   "version": "3.6.4"
  }
 },
 "nbformat": 4,
 "nbformat_minor": 2
}

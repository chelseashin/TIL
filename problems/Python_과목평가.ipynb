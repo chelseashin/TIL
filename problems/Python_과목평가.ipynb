{
 "cells": [
  {
   "cell_type": "code",
   "execution_count": 2,
   "metadata": {},
   "outputs": [
    {
     "name": "stdout",
     "output_type": "stream",
     "text": [
      "hon\n"
     ]
    }
   ],
   "source": [
    "#1\n",
    "word = \"python\"\n",
    "indexing = word[3:8]\n",
    "print(indexing)"
   ]
  },
  {
   "cell_type": "code",
   "execution_count": 4,
   "metadata": {},
   "outputs": [
    {
     "name": "stdout",
     "output_type": "stream",
     "text": [
      "<class 'int'>\n"
     ]
    },
    {
     "data": {
      "text/plain": [
       "True"
      ]
     },
     "execution_count": 4,
     "metadata": {},
     "output_type": "execute_result"
    }
   ],
   "source": [
    "#2\n",
    "my_int = 3\n",
    "print(type(my_int))\n",
    "type(my_int) == int"
   ]
  },
  {
   "cell_type": "code",
   "execution_count": 6,
   "metadata": {},
   "outputs": [
    {
     "name": "stdout",
     "output_type": "stream",
     "text": [
      "hello ssafy\n",
      "hello ssafy\n"
     ]
    }
   ],
   "source": [
    "#3\n",
    "s = \"hello ssafy\"\n",
    "\n",
    "for i in s:\n",
    "    if i == \"s\":\n",
    "        print(s)"
   ]
  },
  {
   "cell_type": "code",
   "execution_count": 13,
   "metadata": {},
   "outputs": [
    {
     "name": "stdout",
     "output_type": "stream",
     "text": [
      "사과\n",
      "None\n",
      "True\n",
      "{'사과': None}\n",
      "{'사과': None}\n"
     ]
    }
   ],
   "source": [
    "#4\n",
    "fruits = {'apple' : '사과', 'banana' : '바나나'}\n",
    "\n",
    "a = fruits.get('apple')\n",
    "print(a)\n",
    "b = fruits.get('cherry')\n",
    "print(b)\n",
    "c = fruits.get('melon', True)   # 'melon'이 없으면 True를 리턴\n",
    "print(c)\n",
    "d = {a : b}\n",
    "print(d)\n",
    "\n",
    "if c:\n",
    "    print(d)"
   ]
  },
  {
   "cell_type": "code",
   "execution_count": 15,
   "metadata": {},
   "outputs": [
    {
     "name": "stdout",
     "output_type": "stream",
     "text": [
      "13\n",
      "None\n"
     ]
    }
   ],
   "source": [
    "#5\n",
    "def my_sum(a, b):\n",
    "    c = a + b\n",
    "    print(c)\n",
    "result = my_sum(5, 8)\n",
    "print(result)"
   ]
  },
  {
   "cell_type": "code",
   "execution_count": 16,
   "metadata": {},
   "outputs": [],
   "source": [
    "#5\n",
    "class Person():\n",
    "    population = 0\n",
    "    \n",
    "    def __init__(self, name):\n",
    "        self.name = name\n",
    "        Person.population += 1\n",
    "\n",
    "p1 = Person('hong')\n",
    "p2 = Person('kim')\n",
    "p3 = Person('Kang')"
   ]
  },
  {
   "cell_type": "code",
   "execution_count": 17,
   "metadata": {},
   "outputs": [
    {
     "data": {
      "text/plain": [
       "3"
      ]
     },
     "execution_count": 17,
     "metadata": {},
     "output_type": "execute_result"
    }
   ],
   "source": [
    "p3.population"
   ]
  },
  {
   "cell_type": "code",
   "execution_count": 18,
   "metadata": {},
   "outputs": [
    {
     "data": {
      "text/plain": [
       "3"
      ]
     },
     "execution_count": 18,
     "metadata": {},
     "output_type": "execute_result"
    }
   ],
   "source": [
    "p1.population"
   ]
  },
  {
   "cell_type": "code",
   "execution_count": 19,
   "metadata": {},
   "outputs": [],
   "source": [
    "#####7\n",
    "import copy\n",
    "\n",
    "list1 = [3, 'a', 'b']\n",
    "list2 = [1, 2, [3, 'a', 'b']]\n",
    "list3 = list1[:]\n",
    "list4 = copy.copy(list2)\n",
    "list5 = copy.deepcopy(list2)"
   ]
  },
  {
   "cell_type": "code",
   "execution_count": 23,
   "metadata": {},
   "outputs": [
    {
     "name": "stdout",
     "output_type": "stream",
     "text": [
      "[3, 'a', 'b']\n",
      "[1, 2, [3, 'a', 'b']]\n",
      "[1, 2, [3, 'a', 'b']]\n",
      "[1, 2, [3, 'a', 'b']]\n",
      "[3, 'a', 'b']\n"
     ]
    }
   ],
   "source": [
    "print(list3)\n",
    "print(list4)\n",
    "print(list5)\n",
    "print(list2)\n",
    "print(list1)"
   ]
  },
  {
   "cell_type": "code",
   "execution_count": 24,
   "metadata": {},
   "outputs": [
    {
     "data": {
      "text/plain": [
       "True"
      ]
     },
     "execution_count": 24,
     "metadata": {},
     "output_type": "execute_result"
    }
   ],
   "source": [
    "list1 == list3"
   ]
  },
  {
   "cell_type": "code",
   "execution_count": 26,
   "metadata": {},
   "outputs": [
    {
     "name": "stdout",
     "output_type": "stream",
     "text": [
      "[3, 'a', 'b']\n"
     ]
    }
   ],
   "source": [
    "list4[2][0]\n",
    "print(list2[2])"
   ]
  },
  {
   "cell_type": "code",
   "execution_count": 27,
   "metadata": {},
   "outputs": [
    {
     "name": "stdout",
     "output_type": "stream",
     "text": [
      "[3, 'a', 'b']\n"
     ]
    }
   ],
   "source": [
    "list4[2] = 5\n",
    "print(list2[2])"
   ]
  },
  {
   "cell_type": "code",
   "execution_count": 29,
   "metadata": {},
   "outputs": [
    {
     "name": "stdout",
     "output_type": "stream",
     "text": [
      "a\n"
     ]
    }
   ],
   "source": [
    "list5[2][1] = 3\n",
    "print(list2[2][1])"
   ]
  },
  {
   "cell_type": "code",
   "execution_count": 22,
   "metadata": {},
   "outputs": [
    {
     "name": "stdout",
     "output_type": "stream",
     "text": [
      "10\n"
     ]
    }
   ],
   "source": [
    "#8\n",
    "result = 4 + True + False + 5\n",
    "print(result)"
   ]
  }
 ],
 "metadata": {
  "kernelspec": {
   "display_name": "Python 3",
   "language": "python",
   "name": "python3"
  },
  "language_info": {
   "codemirror_mode": {
    "name": "ipython",
    "version": 3
   },
   "file_extension": ".py",
   "mimetype": "text/x-python",
   "name": "python",
   "nbconvert_exporter": "python",
   "pygments_lexer": "ipython3",
   "version": "3.6.4"
  }
 },
 "nbformat": 4,
 "nbformat_minor": 2
}

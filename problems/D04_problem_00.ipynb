{
 "cells": [
  {
   "cell_type": "markdown",
   "metadata": {},
   "source": [
    "## 최대공약수, 최소공배수 구하기\n",
    "\n",
    "> 두 수를 입력받아 두 수의 최대공약수와 최소공배수를 반환하는 함수, gcdlcm을 완성해 보세요.\n",
    ">\n",
    "> 배열의 맨 앞에 최대공약수, 그다음 최소공배수를 넣어 반환하면 됩니다. \n",
    ">\n",
    "> 예를 들어 두 수 3, 12의 최대공약수는 3, 최소공배수는 12이므로 `gcdlcm(3, 12)`는 `[3, 12]`를 반환해야 합니다. \n",
    "\n",
    "예시)\n",
    "\n",
    "```python\n",
    "gcdlcm(3, 12) #=> [3, 12]\n",
    "gcdlcm(1071, 1029) #=> [21, 52479]\n",
    "```"
   ]
  },
  {
   "cell_type": "code",
   "execution_count": 1,
   "metadata": {},
   "outputs": [
    {
     "name": "stdout",
     "output_type": "stream",
     "text": [
      "(3, 12)\n",
      "(21, 52479)\n"
     ]
    }
   ],
   "source": [
    "# 교집합, 합집합으로 풀어보기\n",
    "\n",
    "def gcdlcm(a, b):\n",
    "    set1 = []\n",
    "    set2 = []\n",
    "    for i in range(1, a+1):\n",
    "        if a % i == 0:\n",
    "            set1.append(i)\n",
    "    for j in range(1, b+1):\n",
    "        if b % j == 0:\n",
    "            set2.append(j)\n",
    "    set11 = set(set1)\n",
    "    set22 = set(set2)\n",
    "    gcd = max(set11.intersection(set22))\n",
    "    lcm = int(a*b / gcd)\n",
    "    \n",
    "    return gcd, lcm    \n",
    "\n",
    "print(gcdlcm(3, 12))\n",
    "print(gcdlcm(1071, 1029))"
   ]
  },
  {
   "cell_type": "code",
   "execution_count": 2,
   "metadata": {
    "scrolled": true
   },
   "outputs": [
    {
     "name": "stdout",
     "output_type": "stream",
     "text": [
      "3\n",
      "21\n"
     ]
    }
   ],
   "source": [
    "# 다른 풀이 - 최대공약수 구하기\n",
    "def computeHCF(x, y):\n",
    "    # 두 수 가운데 작은값 찾기\n",
    "    if x > y:\n",
    "        smaller = y\n",
    "    else:\n",
    "        smaller = x\n",
    "    # smaller~1까지의 범위를 역순으로 탐색\n",
    "    for i in range(smaller + 1, 1, -1):\n",
    "        # 처음 공약수를 발견하면 그 수를 hcf에 저장하고\n",
    "        # 탐색 종료\n",
    "        if ((x % i == 0) and (y % i == 0)):\n",
    "            hcf = i\n",
    "            break\n",
    "    return hcf\n",
    "\n",
    "print(computeHCF(3, 12))\n",
    "print(computeHCF(1071, 1029))"
   ]
  },
  {
   "cell_type": "code",
   "execution_count": 3,
   "metadata": {
    "scrolled": true
   },
   "outputs": [
    {
     "name": "stdout",
     "output_type": "stream",
     "text": [
      "3\n",
      "21\n"
     ]
    }
   ],
   "source": [
    "# 최대공약수 구하기 2\n",
    "def computeHCF(x, y):\n",
    "    a, b = min(x, y), max(x, y)\n",
    "    for i in range(a, 0, -1):\n",
    "        if (a % i == 0) and (b % i == 0):\n",
    "            gcd = i\n",
    "            break\n",
    "    return i \n",
    "\n",
    "print(computeHCF(3, 12))\n",
    "print(computeHCF(1071, 1029))"
   ]
  },
  {
   "cell_type": "markdown",
   "metadata": {},
   "source": [
    "유클리드 호제법(Euclidean algorithm)을 이용할 수도 있습니다. \n",
    "1071과 1029의 최대공약수를 유클리드 호제법을 활용해 계산하면 다음과 같습니다.\n",
    "\n",
    "(1) 1071은 1029로 나누어 떨어지지 않기 때문에 1071을 1029로 나눈 나머지를 구한다 : 42\n",
    "\n",
    "(2) 1029는 42로 나누어 떨어지지 않기 때문에 1029를 42로 나눈 나머지를 구한다 : 21\n",
    "\n",
    "(3) 42는 21로 나누어 떨어진다\n",
    "\n",
    "(4) 1071과 1029의 최대공약수는 21이다.\n"
   ]
  },
  {
   "cell_type": "code",
   "execution_count": 4,
   "metadata": {},
   "outputs": [
    {
     "name": "stdout",
     "output_type": "stream",
     "text": [
      "3\n",
      "21\n"
     ]
    }
   ],
   "source": [
    "# 유클리드 호제법으로 최대공약수 구하기 3\n",
    "def computeHCF_euc(x, y):\n",
    "   # y가 0이 될 때까지 반복\n",
    "    while(y):\n",
    "       # y를 x에 대입\n",
    "       # x를 y로 나눈 나머지를 y에 대입\n",
    "        x, y = y, x % y\n",
    "    return x\n",
    "\n",
    "print(computeHCF(3, 12))\n",
    "print(computeHCF(1071, 1029))"
   ]
  },
  {
   "cell_type": "markdown",
   "metadata": {},
   "source": [
    "최대공약수와 최소공약수 사이의 관계와 유클리드 호제법을 활용해 구할 수도 있습니다. 예컨대 x=ab이고 y=bc라면 x와 y의 최대공약수는 b, 최소공배수는 abc입니다. xy=ab2c이므로 이를 최대공약수 b로 나눠주면 최소공배수를 구할 수 있습니다.\n",
    "\n",
    "우리는 이미 유클리드 호제법을 활용해 최대공약수를 구하는 알고리즘을 구현해 놓았으므로 이를 다시 활용합니다. 다음과 같습니다."
   ]
  },
  {
   "cell_type": "code",
   "execution_count": 5,
   "metadata": {},
   "outputs": [
    {
     "name": "stdout",
     "output_type": "stream",
     "text": [
      "12\n",
      "52479\n"
     ]
    }
   ],
   "source": [
    "# 유클리드 호제법으로 구한 최대공약수를 활용하여 최소공배수 구하기\n",
    "def lcm(x, y):\n",
    "    lcm = (x*y)//computeHCF_euc(x,y)\n",
    "    return lcm\n",
    "\n",
    "print(lcm(3, 12))\n",
    "print(lcm(1071, 1029))"
   ]
  },
  {
   "cell_type": "code",
   "execution_count": 6,
   "metadata": {},
   "outputs": [
    {
     "name": "stdout",
     "output_type": "stream",
     "text": [
      "12\n",
      "52479\n"
     ]
    }
   ],
   "source": [
    "# 다른 풀이 - 최소공배수 구하기\n",
    "def lcm(x, y):\n",
    "    a, b = min(x, y), max(x, y)\n",
    "    while(True):\n",
    "        if (b % x == 0) and (b % y == 0):\n",
    "            lcm = b\n",
    "            break\n",
    "        b += 1\n",
    "    return lcm\n",
    "\n",
    "print(lcm(3, 12))\n",
    "print(lcm(1071, 1029))"
   ]
  },
  {
   "cell_type": "code",
   "execution_count": 7,
   "metadata": {},
   "outputs": [
    {
     "name": "stdout",
     "output_type": "stream",
     "text": [
      "[3, 12]\n"
     ]
    }
   ],
   "source": [
    "# 좋은 풀이\n",
    "def gcdlcm(a, b):\n",
    "    c, d = max(a, b), min(a, b)\n",
    "    t = 1\n",
    "    while t > 0:\n",
    "        t = c % d\n",
    "        c, d = d, t\n",
    "    return [c, int(a*b/c)]\n",
    "\n",
    "print(gcdlcm(3,12))"
   ]
  },
  {
   "cell_type": "code",
   "execution_count": 8,
   "metadata": {},
   "outputs": [
    {
     "name": "stdout",
     "output_type": "stream",
     "text": [
      "[3, 12]\n",
      "[21, 52479]\n"
     ]
    }
   ],
   "source": [
    "print(gcdlcm(3, 12))\n",
    "print(gcdlcm(1071, 1029))"
   ]
  },
  {
   "cell_type": "markdown",
   "metadata": {},
   "source": [
    "## URL 편하게 만들기\n",
    "\n",
    "> url 패턴을 만들어 문자열을 반환하는 `my_url` 함수를 만들어봅시다.\n",
    ">\n",
    "> 영진위에서 제공하는 일별 박스오피스 API 서비스는 다음과 같은 방식으로 요청을 받습니다.\n",
    "\n",
    "```\n",
    "기본 요청 URL : http://www.kobis.or.kr/kobisopenapi/webservice/rest/boxoffice/searchDailyBoxOfficeList.json?\n",
    "```\n",
    "\n",
    "* key : 발급받은 키값(abc)\n",
    "* targetDt : yyyymmdd\n",
    "* itemPerPage : 1 ~ 10 **기본 10**\n",
    "---\n",
    "\n",
    "예시)\n",
    "```python\n",
    "api = {\n",
    "    'key': 'abc',\n",
    "    'targetDt': 'yyyymmdd'\n",
    "}\n",
    "my_url(**api)\n",
    "```\n",
    "\n",
    "예시 출력)\n",
    "```python\n",
    "'http://www.kobis.or.kr/kobisopenapi/webservice/rest/boxoffice/searchDailyBoxOfficeList.json?itemPerpage=10&key=abc&targetDt=yyyymmdd&'\n",
    "```"
   ]
  },
  {
   "cell_type": "code",
   "execution_count": 9,
   "metadata": {},
   "outputs": [],
   "source": [
    "api = {\n",
    "    'key': 'abc',\n",
    "    'targetDt': 'yyyymmdd'\n",
    "    }"
   ]
  },
  {
   "cell_type": "code",
   "execution_count": 10,
   "metadata": {},
   "outputs": [
    {
     "name": "stdout",
     "output_type": "stream",
     "text": [
      "dict_keys(['key', 'targetDt'])\n",
      "dict_values(['abc', 'yyyymmdd'])\n"
     ]
    }
   ],
   "source": [
    "print(api.keys())\n",
    "print(api.values())"
   ]
  },
  {
   "cell_type": "code",
   "execution_count": 11,
   "metadata": {},
   "outputs": [
    {
     "name": "stdout",
     "output_type": "stream",
     "text": [
      "abc\n",
      "yyyymmdd\n"
     ]
    }
   ],
   "source": [
    "print(api['key'])\n",
    "print(api['targetDt'])"
   ]
  },
  {
   "cell_type": "code",
   "execution_count": 12,
   "metadata": {},
   "outputs": [
    {
     "data": {
      "text/plain": [
       "'http://www.kobis.or.kr/kobisopenapi/webservice/rest/boxoffice/searchDailyBoxOfficeList.json?itemPerPage=10&key=abc&targetDt=yyyymmdd&'"
      ]
     },
     "execution_count": 12,
     "metadata": {},
     "output_type": "execute_result"
    }
   ],
   "source": [
    "# 좋은 풀이\n",
    "def my_url(itemPerPage=10, **args):\n",
    "        base_url = 'http://www.kobis.or.kr/kobisopenapi/webservice/rest/boxoffice/searchDailyBoxOfficeList.json?'\n",
    "        base_url += f'itemPerPage={itemPerPage}&'\n",
    "        for key, value in args.items():\n",
    "            base_url +=f'{key}={value}&'\n",
    "        return base_url\n",
    "        \n",
    "api = {\n",
    "    'key': 'abc',\n",
    "    'targetDt': 'yyyymmdd'\n",
    "    }\n",
    "my_url(**api)"
   ]
  },
  {
   "cell_type": "code",
   "execution_count": 13,
   "metadata": {},
   "outputs": [
    {
     "data": {
      "text/plain": [
       "'http://www.kobis.or.kr/kobisopenapi/webservice/rest/boxoffice/searchDailyBoxOfficeList.json?itemPerPage=10&key=430156241533f1d058c603178cc3ca0e&targetDt=20190101&'"
      ]
     },
     "execution_count": 13,
     "metadata": {},
     "output_type": "execute_result"
    }
   ],
   "source": [
    "# 좋은 풀이\n",
    "def my_url(itemPerPage=10, **args):\n",
    "        base_url = 'http://www.kobis.or.kr/kobisopenapi/webservice/rest/boxoffice/searchDailyBoxOfficeList.json?'\n",
    "        base_url += f'itemPerPage={itemPerPage}&'\n",
    "        for key, value in args.items():\n",
    "            base_url +=f'{key}={value}&'\n",
    "        return base_url\n",
    "        \n",
    "api = {\n",
    "    'key': '430156241533f1d058c603178cc3ca0e',\n",
    "    'targetDt': '20190101'\n",
    "    }\n",
    "\n",
    "my_url(**api)"
   ]
  },
  {
   "cell_type": "markdown",
   "metadata": {},
   "source": [
    "## URL 검증하기\n",
    "\n",
    "> 이제 우리는 만들어진 요청 보내기전에 URL을 검증해야합니다. \n",
    ">\n",
    "> 앞선 설명을 참고하여 검증 로직을 구현하고 문자열을 반환하세요.\n",
    "\n",
    "```\n",
    "> 아래의 두가지 상황만 만들도록 하겠습니다. <\n",
    "\n",
    "1. key, targetDt가 없으면, '필수 요청변수가 누락되었습니다.'\n",
    "\n",
    "2. itemPerPage의 범위가 1~10을 넘어가면, '1~10까지의 값을 넣어주세요.'\n",
    "```"
   ]
  },
  {
   "cell_type": "code",
   "execution_count": 14,
   "metadata": {},
   "outputs": [],
   "source": [
    "# 좋은 풀이\n",
    "def my_url(itemPerPage=10, **args):\n",
    "        if ('key' not in args or 'targetDt' not in args) and itemPerPage not in range(1, 11):\n",
    "            return '필수 요청 변수가 누락되었으며, 1 ~ 10까지의 값을 넣어주세요.'\n",
    "        elif 'key' not in args or 'targetDt' not in args:\n",
    "            return '필수 요청변수가 누락되었습니다.'\n",
    "        elif int(itemPerPage) not in range(1, 11):\n",
    "            return '1 ~ 10까지의 값을 넣어주세요.'\n",
    "        else:\n",
    "            base_url = 'http://www.kobis.or.kr/kobisopenapi/webservice/rest/boxoffice/searchDailyBoxOfficeList.json?'\n",
    "            base_url += f'itemPerPage={itemPerPage}&'\n",
    "            for key, value in args.items():\n",
    "                base_url +=f'{key}={value}&'\n",
    "            return base_url"
   ]
  },
  {
   "cell_type": "code",
   "execution_count": 15,
   "metadata": {},
   "outputs": [
    {
     "name": "stdout",
     "output_type": "stream",
     "text": [
      "http://www.kobis.or.kr/kobisopenapi/webservice/rest/boxoffice/searchDailyBoxOfficeList.json?itemPerPage=10&key=430156241533f1d058c603178cc3ca0e&targetDt=20190101&\n"
     ]
    }
   ],
   "source": [
    "print(my_url(**api))"
   ]
  },
  {
   "cell_type": "code",
   "execution_count": 16,
   "metadata": {},
   "outputs": [
    {
     "name": "stdout",
     "output_type": "stream",
     "text": [
      "1 ~ 10까지의 값을 넣어주세요.\n"
     ]
    }
   ],
   "source": [
    "print(my_url(15, **api))"
   ]
  },
  {
   "cell_type": "code",
   "execution_count": 17,
   "metadata": {},
   "outputs": [
    {
     "name": "stdout",
     "output_type": "stream",
     "text": [
      "필수 요청 변수가 누락되었으며, 1 ~ 10까지의 값을 넣어주세요.\n"
     ]
    }
   ],
   "source": [
    "print(my_url(15))"
   ]
  },
  {
   "cell_type": "code",
   "execution_count": 18,
   "metadata": {},
   "outputs": [
    {
     "name": "stdout",
     "output_type": "stream",
     "text": [
      "http://www.kobis.or.kr/kobisopenapi/webservice/rest/boxoffice/searchDailyBoxOfficeList.json?itemPerPage=10&key=430156241533f1d058c603178cc3ca0e&targetDt=20190101&\n",
      "1 ~ 10까지의 값을 넣어주세요\n"
     ]
    }
   ],
   "source": [
    "# 나의 풀이\n",
    "def my_url(itemPerPage=10, **args):\n",
    "        base_url = 'http://www.kobis.or.kr/kobisopenapi/webservice/rest/boxoffice/searchDailyBoxOfficeList.json?'\n",
    "        base_url += f'itemPerPage={itemPerPage}&'\n",
    "        api = {\n",
    "    'key': '430156241533f1d058c603178cc3ca0e',\n",
    "    'targetDt': '20190101'\n",
    "    }\n",
    "        for key, value in args.items():\n",
    "            base_url +=f'{key}={value}&'\n",
    "            if bool(api['key']) == False | bool(api['targetDt']) == False :\n",
    "                return '필수 요청변수가 누락되었습니다.'\n",
    "            elif itemPerPage not in range(1, 11):\n",
    "                return '1 ~ 10까지의 값을 넣어주세요'\n",
    "        return base_url\n",
    "\n",
    "print(my_url(**api))\n",
    "print(my_url(15, **api))"
   ]
  },
  {
   "cell_type": "code",
   "execution_count": 19,
   "metadata": {},
   "outputs": [],
   "source": [
    "def return_test():\n",
    "    return '대전 2반'\n",
    "def print_test():\n",
    "    print('대전 2반')\n",
    "#     return None"
   ]
  },
  {
   "cell_type": "code",
   "execution_count": 20,
   "metadata": {},
   "outputs": [
    {
     "name": "stdout",
     "output_type": "stream",
     "text": [
      "우리는 대전 2반입니다.\n"
     ]
    }
   ],
   "source": [
    "print(f'우리는 {return_test()}입니다.')"
   ]
  },
  {
   "cell_type": "code",
   "execution_count": 21,
   "metadata": {},
   "outputs": [
    {
     "name": "stdout",
     "output_type": "stream",
     "text": [
      "대전 2반\n",
      "우리는 None입니다.\n"
     ]
    }
   ],
   "source": [
    "print(f'우리는 {print_test()}입니다.')\n",
    "# def 문제는 return으로 출력하는 것이 좋다"
   ]
  },
  {
   "cell_type": "markdown",
   "metadata": {},
   "source": [
    "### 단축평가"
   ]
  },
  {
   "cell_type": "code",
   "execution_count": 22,
   "metadata": {},
   "outputs": [
    {
     "ename": "SyntaxError",
     "evalue": "unexpected EOF while parsing (<ipython-input-22-b6f26a09e504>, line 1)",
     "output_type": "error",
     "traceback": [
      "\u001b[1;36m  File \u001b[1;32m\"<ipython-input-22-b6f26a09e504>\"\u001b[1;36m, line \u001b[1;32m1\u001b[0m\n\u001b[1;33m    if 'key' not in args or 'targetDt' not in args:\u001b[0m\n\u001b[1;37m                                                   ^\u001b[0m\n\u001b[1;31mSyntaxError\u001b[0m\u001b[1;31m:\u001b[0m unexpected EOF while parsing\n"
     ]
    }
   ],
   "source": [
    "if 'key' not in args or 'targetDt' not in args:"
   ]
  },
  {
   "cell_type": "code",
   "execution_count": null,
   "metadata": {},
   "outputs": [],
   "source": [
    "if ('key' or 'targetDt') not in args:"
   ]
  },
  {
   "cell_type": "code",
   "execution_count": null,
   "metadata": {},
   "outputs": [],
   "source": [
    "vowel = 'aeiou'"
   ]
  },
  {
   "cell_type": "code",
   "execution_count": null,
   "metadata": {},
   "outputs": [],
   "source": [
    "('a' and 'b') in vowel  # 'b'를 받음"
   ]
  },
  {
   "cell_type": "code",
   "execution_count": null,
   "metadata": {},
   "outputs": [],
   "source": [
    "('b'and 'a') in vowell  # 'a'를 받음"
   ]
  },
  {
   "cell_type": "code",
   "execution_count": null,
   "metadata": {},
   "outputs": [],
   "source": [
    "'a' and 'b' # 'a'"
   ]
  },
  {
   "cell_type": "code",
   "execution_count": null,
   "metadata": {},
   "outputs": [],
   "source": [
    "'b' and 'a'"
   ]
  },
  {
   "cell_type": "code",
   "execution_count": null,
   "metadata": {},
   "outputs": [],
   "source": [
    "(''and 'b') in vowel   # 공집합은 어느 문자열에든 부분집합이 된다."
   ]
  },
  {
   "cell_type": "code",
   "execution_count": null,
   "metadata": {},
   "outputs": [],
   "source": [
    "# 생각 많이 해보기!"
   ]
  }
 ],
 "metadata": {
  "kernelspec": {
   "display_name": "Python 3",
   "language": "python",
   "name": "python3"
  },
  "language_info": {
   "codemirror_mode": {
    "name": "ipython",
    "version": 3
   },
   "file_extension": ".py",
   "mimetype": "text/x-python",
   "name": "python",
   "nbconvert_exporter": "python",
   "pygments_lexer": "ipython3",
   "version": "3.6.7"
  },
  "toc": {
   "base_numbering": 1,
   "nav_menu": {},
   "number_sections": true,
   "sideBar": true,
   "skip_h1_title": false,
   "title_cell": "Table of Contents",
   "title_sidebar": "Contents",
   "toc_cell": false,
   "toc_position": {},
   "toc_section_display": true,
   "toc_window_display": false
  }
 },
 "nbformat": 4,
 "nbformat_minor": 2
}

{
 "cells": [
  {
   "cell_type": "code",
   "execution_count": 2,
   "metadata": {},
   "outputs": [
    {
     "name": "stdout",
     "output_type": "stream",
     "text": [
      "<class 'dict_values'>\n"
     ]
    }
   ],
   "source": [
    "\"\"\"\n",
    "파이썬  dictionary 활용 기초!\n",
    "\"\"\"\n",
    "\n",
    "dict = {\n",
    "    \"대전\" : 23,\n",
    "    \"서울\" : 30,\n",
    "    \"구미\" : 20\n",
    "}\n",
    "# type을 알고 싶을 때\n",
    "print(type(dict.values()))"
   ]
  },
  {
   "cell_type": "code",
   "execution_count": 3,
   "metadata": {},
   "outputs": [],
   "source": [
    "# 1. 평균 구하기\n",
    "score = {\n",
    "    '국어' : 87,\n",
    "    '영어' : 92,\n",
    "    '수학' : 40\n",
    "}"
   ]
  },
  {
   "cell_type": "code",
   "execution_count": 4,
   "metadata": {},
   "outputs": [
    {
     "name": "stdout",
     "output_type": "stream",
     "text": [
      "dict_values([87, 92, 40])\n"
     ]
    }
   ],
   "source": [
    "print(score.values())"
   ]
  },
  {
   "cell_type": "code",
   "execution_count": 8,
   "metadata": {},
   "outputs": [
    {
     "name": "stdout",
     "output_type": "stream",
     "text": [
      "73.0\n"
     ]
    }
   ],
   "source": [
    "value = 0\n",
    "for i in score.values():\n",
    "    value += i\n",
    "print(value/len(score.values()))"
   ]
  },
  {
   "cell_type": "code",
   "execution_count": 11,
   "metadata": {},
   "outputs": [],
   "source": [
    "# 2. 반 평균을 구하시오\n",
    "scores = {\n",
    "    \"철수\" : {\n",
    "        \"수학\" : 80,\n",
    "        \"국어\" : 90,\n",
    "        \"음악\" : 100\n",
    "    },\n",
    "    \"영희\" :  {\n",
    "        \"수학\" : 70,\n",
    "        \"국어\" : 60,\n",
    "        \"음악\" : 50\n",
    "    }\n",
    "}"
   ]
  },
  {
   "cell_type": "code",
   "execution_count": 13,
   "metadata": {},
   "outputs": [
    {
     "name": "stdout",
     "output_type": "stream",
     "text": [
      "{'철수': {'수학': 80, '국어': 90, '음악': 100}, '영희': {'수학': 70, '국어': 60, '음악': 50}}\n"
     ]
    }
   ],
   "source": [
    "print(scores)"
   ]
  },
  {
   "cell_type": "code",
   "execution_count": 14,
   "metadata": {},
   "outputs": [
    {
     "name": "stdout",
     "output_type": "stream",
     "text": [
      "dict_values([{'수학': 80, '국어': 90, '음악': 100}, {'수학': 70, '국어': 60, '음악': 50}])\n"
     ]
    }
   ],
   "source": [
    "print(scores.values())"
   ]
  },
  {
   "cell_type": "code",
   "execution_count": 15,
   "metadata": {},
   "outputs": [
    {
     "name": "stdout",
     "output_type": "stream",
     "text": [
      "<class 'dict_values'>\n"
     ]
    }
   ],
   "source": [
    "print(type(scores.values()))"
   ]
  },
  {
   "cell_type": "code",
   "execution_count": 16,
   "metadata": {},
   "outputs": [
    {
     "name": "stdout",
     "output_type": "stream",
     "text": [
      "75.0\n"
     ]
    }
   ],
   "source": [
    "total = 0\n",
    "count = 0 \n",
    "for score in scores.values():\n",
    "    for s in score.values():\n",
    "        total += s\n",
    "        count += 1\n",
    "print(total/count)"
   ]
  },
  {
   "cell_type": "code",
   "execution_count": 17,
   "metadata": {},
   "outputs": [
    {
     "name": "stdout",
     "output_type": "stream",
     "text": [
      "75.0\n"
     ]
    }
   ],
   "source": [
    "total_score = 0\n",
    "count = 0\n",
    "for per_score in scores.values():\n",
    "#    print(per_score)\n",
    "    for ind_score in per_score.values():\n",
    "        total_score += ind_score\n",
    "#       total_score = total_score + ind_score(위와 같은 식! 누적된다는 의미)\n",
    "        count += 1\n",
    "mean_score = total_score / count\n",
    "print(mean_score)"
   ]
  },
  {
   "cell_type": "code",
   "execution_count": 18,
   "metadata": {},
   "outputs": [],
   "source": [
    "# 3. 도시 중에 최근 3일 중에 가장 추웠던 곳, 가장 더웠던 곳은?\n",
    "cities = {\n",
    "    \"서울\" : [-6, -10, 5],\n",
    "    \"대전\" : [-3, -5, 2],\n",
    "    \"광주\" : [0, -2, 10],\n",
    "    \"부산\" : [2, -2, 9]\n",
    " }"
   ]
  },
  {
   "cell_type": "code",
   "execution_count": 19,
   "metadata": {},
   "outputs": [
    {
     "name": "stdout",
     "output_type": "stream",
     "text": [
      "서울 [-6, -10, 5]\n",
      "대전 [-3, -5, 2]\n",
      "광주 [0, -2, 10]\n",
      "부산 [2, -2, 9]\n"
     ]
    }
   ],
   "source": [
    "for name, temp in cities.items():\n",
    "    print(name, temp)"
   ]
  },
  {
   "cell_type": "code",
   "execution_count": null,
   "metadata": {},
   "outputs": [],
   "source": []
  },
  {
   "cell_type": "code",
   "execution_count": 21,
   "metadata": {},
   "outputs": [
    {
     "data": {
      "text/plain": [
       "dict_values([[-6, -10, 5], [-3, -5, 2], [0, -2, 10], [2, -2, 9]])"
      ]
     },
     "execution_count": 21,
     "metadata": {},
     "output_type": "execute_result"
    }
   ],
   "source": [
    "cities.values()"
   ]
  },
  {
   "cell_type": "code",
   "execution_count": 22,
   "metadata": {},
   "outputs": [
    {
     "data": {
      "text/plain": [
       "[-6, -10, 5]"
      ]
     },
     "execution_count": 22,
     "metadata": {},
     "output_type": "execute_result"
    }
   ],
   "source": [
    "min(cities.values())"
   ]
  },
  {
   "cell_type": "code",
   "execution_count": 24,
   "metadata": {},
   "outputs": [
    {
     "name": "stdout",
     "output_type": "stream",
     "text": [
      "33\n"
     ]
    }
   ],
   "source": []
  },
  {
   "cell_type": "code",
   "execution_count": 25,
   "metadata": {},
   "outputs": [],
   "source": [
    "# ssafy_dictionary\n",
    "ssafy = {\n",
    "    \"location\": [\"서울\", \"대전\", \"구미\", \"광주\"],\n",
    "    \"language\": {\n",
    "        \"python\": {\n",
    "            \"frameworks\": {\n",
    "                \"flask\": \"micro\",\n",
    "                \"django\": \"full-functioning\"\n",
    "            },\n",
    "            \"data_science\": [\"numpy\", \"pandas\", \"scipy\", \"sklearn\"]\n",
    "        }\n",
    "    },\n",
    "    \"duration\": {\n",
    "        \"semester1\": \"6월까지\"\n",
    "    },\n",
    "    \"classes\": {\n",
    "        \"seoul\":  {\n",
    "            \"lecturer\": \"john\",\n",
    "            \"manager\": \"pro\",\n",
    "        },\n",
    "        \"daejeon\":  {\n",
    "            \"lecturer\": \"tak\",\n",
    "            \"manager\": \"yoon\",\n",
    "        }\n",
    "    }\n",
    "}"
   ]
  },
  {
   "cell_type": "code",
   "execution_count": null,
   "metadata": {},
   "outputs": [],
   "source": [
    "# ssafy의 semester1의 기간을 출력하세요."
   ]
  },
  {
   "cell_type": "code",
   "execution_count": null,
   "metadata": {},
   "outputs": [],
   "source": [
    "# ssafy의 dictionary 안에 들어있는 '대전'을 출력하세요"
   ]
  },
  {
   "cell_type": "code",
   "execution_count": null,
   "metadata": {},
   "outputs": [],
   "source": [
    "# daejeon의 매니저의 이름을 출력하세요"
   ]
  }
 ],
 "metadata": {
  "kernelspec": {
   "display_name": "Python 3",
   "language": "python",
   "name": "python3"
  },
  "language_info": {
   "codemirror_mode": {
    "name": "ipython",
    "version": 3
   },
   "file_extension": ".py",
   "mimetype": "text/x-python",
   "name": "python",
   "nbconvert_exporter": "python",
   "pygments_lexer": "ipython3",
   "version": "3.6.7"
  }
 },
 "nbformat": 4,
 "nbformat_minor": 2
}

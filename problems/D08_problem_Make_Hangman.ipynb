{
 "cells": [
  {
   "cell_type": "markdown",
   "metadata": {},
   "source": [
    "# 행맨 게임 만들기 "
   ]
  },
  {
   "cell_type": "markdown",
   "metadata": {},
   "source": [
    "## 답안 확인 하기\n",
    "\n",
    "> 행맨 게임을 위한 코드를 작성해봅시다. \n",
    ">\n",
    "> `isanswer(answer, letters)`는 정답 문자열(answer)과 추측 알파벳의 리스트(letters)를 받아서, True/False 결과를 반환합니다."
   ]
  },
  {
   "cell_type": "code",
   "execution_count": 1,
   "metadata": {},
   "outputs": [
    {
     "name": "stdout",
     "output_type": "stream",
     "text": [
      "False\n",
      "True\n"
     ]
    }
   ],
   "source": [
    "# 좋은 풀이\n",
    "def isanswer(answer, letters):\n",
    "    # 갯수가 있으면 실패(false) / 없으면 성공(true)\n",
    "    return not (set(answer) - set(letters))\n",
    "\n",
    "print(isanswer('apple', ['a', 'p', 'l'])) #=> False\n",
    "print(isanswer('apple', ['a', 'p', 'l', 'e'])) #=> True"
   ]
  },
  {
   "cell_type": "code",
   "execution_count": 2,
   "metadata": {},
   "outputs": [
    {
     "name": "stdout",
     "output_type": "stream",
     "text": [
      "False\n",
      "True\n"
     ]
    }
   ],
   "source": [
    "# 다른 풀이\n",
    "def isanswer(answer, letters):\n",
    "    return set(answer) == set(letters)\n",
    "\n",
    "print(isanswer('apple', ['a', 'p', 'l'])) \n",
    "print(isanswer('apple', ['a', 'p', 'l', 'e']))"
   ]
  },
  {
   "cell_type": "code",
   "execution_count": 3,
   "metadata": {},
   "outputs": [
    {
     "name": "stdout",
     "output_type": "stream",
     "text": [
      "['a', 'p', 'p', 'l', 'e']\n",
      "['c', 'f', 'b', 'a', 'g', 'd', 'e']\n"
     ]
    }
   ],
   "source": [
    "# string을 list 원소 형태로 바꾸기\n",
    "a = 'apple'\n",
    "print(list(a))\n",
    "# list_a = [1, 2, 3, 1, 2, 3]\n",
    "# set(list_a)\n",
    "\n",
    "# 세트로 중복 제거하여 리스트로 변환하기\n",
    "ex_list = [ 'a', 'b', 'c', 'd', 'e', 'f', 'g', 'a', 'b', 'c', 'd' ] \n",
    "ex_list = list(set(ex_list))\n",
    "print(ex_list)"
   ]
  },
  {
   "cell_type": "markdown",
   "metadata": {},
   "source": [
    "## 현재 상태 출력하기\n",
    "\n",
    "> 행맨 게임을 위한 코드를 작성해봅시다. \n",
    ">\n",
    "> `status(answer, letters)`는 정답 문자열(answer)과 추측 알파벳의 리스트(letters)를 받아서, 현재 결과를 반환합니다.\n",
    "\n",
    "ex) status('apple', ['a', 'p', 'l']) #=> 'appl_'"
   ]
  },
  {
   "cell_type": "code",
   "execution_count": 4,
   "metadata": {},
   "outputs": [
    {
     "name": "stdout",
     "output_type": "stream",
     "text": [
      "appl_\n"
     ]
    }
   ],
   "source": [
    "# 좋은 풀이\n",
    "def status(answer, letters):\n",
    "    corrects =  set(answer) & set(letters)\n",
    "    return \"\".join([i if i in corrects else \"_\" for i in answer])\n",
    "\n",
    "print(status('apple', ['a', 'p', 'l']))"
   ]
  },
  {
   "cell_type": "code",
   "execution_count": 5,
   "metadata": {},
   "outputs": [
    {
     "name": "stdout",
     "output_type": "stream",
     "text": [
      "appl_\n"
     ]
    }
   ],
   "source": [
    "# 나의 풀이 - for문 풀어써보기\n",
    "def status(answer, letters):\n",
    "    corrects = set(answer) & set(letters)\n",
    "    a = []\n",
    "    for i in answer:\n",
    "        if i in corrects:\n",
    "            a.append(i)\n",
    "        else:\n",
    "            a.append(\"_\")\n",
    "    return ''.join(a)\n",
    "\n",
    "print(status('apple', ['a', 'p', 'l']))"
   ]
  },
  {
   "cell_type": "code",
   "execution_count": 6,
   "metadata": {},
   "outputs": [
    {
     "name": "stdout",
     "output_type": "stream",
     "text": [
      "appl_\n"
     ]
    }
   ],
   "source": [
    "# 다른 풀이\n",
    "def status(answer, letters):\n",
    "    answer = list(answer)\n",
    "    L = []\n",
    "    for i in range(len(answer)):\n",
    "        if answer[i] in letters:\n",
    "            L.append(answer[i])\n",
    "        else:\n",
    "            L.append('_')\n",
    "    result = ''.join(map(str, L))\n",
    "    return result\n",
    "\n",
    "print(status('apple', ['a', 'p', 'l']))"
   ]
  },
  {
   "cell_type": "code",
   "execution_count": 7,
   "metadata": {},
   "outputs": [
    {
     "name": "stdout",
     "output_type": "stream",
     "text": [
      "['a', 'p', 'p', 'l', 'e']\n",
      "5\n"
     ]
    }
   ],
   "source": [
    "a = 'apple'\n",
    "print(list(a))\n",
    "print(len(a))"
   ]
  },
  {
   "cell_type": "markdown",
   "metadata": {},
   "source": [
    "## 행맨 로직 만들기 - 자유코딩!\n",
    "\n",
    "> 위의 코드를 활용하여 `hangman(answer)`를 만들어봅시다!\n",
    ">\n",
    "> 사용자가 답을 맞출 때까지 진행하며, 8번내로 정답을 맞춰야 합니다.\n"
   ]
  },
  {
   "cell_type": "code",
   "execution_count": 8,
   "metadata": {},
   "outputs": [],
   "source": [
    "# 다른 풀이\n",
    "def hangman(answer):\n",
    "    answer = list(answer)\n",
    "    L = []\n",
    "    for i in range(8):\n",
    "        a = input(\"입력하세요: \")\n",
    "        if a in answer:\n",
    "            L.append(a)\n",
    "            print(\"맞습니다\")\n",
    "            if set(L) == set(answer):\n",
    "                print(\"정답입니다\")\n",
    "                return ''.join(map(str, answer))\n",
    "        else:\n",
    "            L.append('')\n",
    "            print(\"틀립니다\")"
   ]
  },
  {
   "cell_type": "code",
   "execution_count": null,
   "metadata": {},
   "outputs": [
    {
     "name": "stdout",
     "output_type": "stream",
     "text": [
      "입력하세요: apple\n",
      "틀립니다\n",
      "입력하세요: apele\n",
      "틀립니다\n",
      "입력하세요: alelp\n",
      "틀립니다\n",
      "입력하세요: apple\n",
      "틀립니다\n"
     ]
    }
   ],
   "source": [
    "hangman('apple')"
   ]
  },
  {
   "cell_type": "code",
   "execution_count": 1,
   "metadata": {},
   "outputs": [
    {
     "name": "stdout",
     "output_type": "stream",
     "text": [
      "알파벳을 입력하세요 : appl\n",
      "틀렸습니다\n"
     ]
    },
    {
     "data": {
      "text/plain": [
       "'appl_'"
      ]
     },
     "execution_count": 1,
     "metadata": {},
     "output_type": "execute_result"
    }
   ],
   "source": [
    "# 다른 풀이\n",
    "def hangman(answer):\n",
    "    while True:\n",
    "        letters = input('알파벳을 입력하세요 : ')\n",
    "        if len(letters) <= 8:\n",
    "            n = 8\n",
    "            while n>0:\n",
    "                for alp in answer:\n",
    "                    if alp not in letters:\n",
    "                        answer = answer.replace(alp, '_')\n",
    "                        n = n-1\n",
    "                    else:\n",
    "                        n = n-1\n",
    "            if set(answer) - set(letters) == set(): \n",
    "                print('정답입니다')\n",
    "            else:\n",
    "                print('틀렸습니다')\n",
    "            break\n",
    "        print(\"너무 깁니다\")            \n",
    "    return answer\n",
    "\n",
    "hangman('apple')"
   ]
  },
  {
   "cell_type": "code",
   "execution_count": 2,
   "metadata": {},
   "outputs": [],
   "source": [
    "# 다른 풀이 2\n",
    "def hangman(answer):\n",
    "    i = 0\n",
    "    man ='(@^_^@)ㄱ'\n",
    "    user = ['_ ' for x in range(len(answer))]\n",
    "    print(''.join(user), 'start!!')\n",
    "    while i < 8:\n",
    "        c = input()\n",
    "        if c in answer:\n",
    "            for j in range(len(answer)):\n",
    "                if answer[j] == c:\n",
    "                    user[j] = c\n",
    "            print(''.join(user), 7-i, 'turn left')\n",
    "        else:\n",
    "            for k in range(i+1):\n",
    "                print(man[k],end=\"\")\n",
    "            print('\\n',7-i, 'turn left')\n",
    "        i += 1\n",
    "        if answer == ''.join(user):\n",
    "            return 'you win!!'\n",
    "    else:\n",
    "        return '(@x_x@)ㄱ -------- Your man is dead'"
   ]
  },
  {
   "cell_type": "code",
   "execution_count": 3,
   "metadata": {},
   "outputs": [
    {
     "name": "stdout",
     "output_type": "stream",
     "text": [
      "_ _ _ _ _  start!!\n",
      "a\n",
      "a_ _ _ _  7 turn left\n",
      "e\n",
      "a_ _ _ e 6 turn left\n",
      "s\n",
      "(@^\n",
      " 5 turn left\n",
      "live\n",
      "(@^_\n",
      " 4 turn left\n",
      "apple\n",
      "a_ _ _ e 3 turn left\n",
      "orange\n",
      "(@^_^@\n",
      " 2 turn left\n",
      "hello\n",
      "(@^_^@)\n",
      " 1 turn left\n",
      "hi\n",
      "(@^_^@)ㄱ\n",
      " 0 turn left\n"
     ]
    },
    {
     "data": {
      "text/plain": [
       "'(@x_x@)ㄱ -------- Your man is dead'"
      ]
     },
     "execution_count": 3,
     "metadata": {},
     "output_type": "execute_result"
    }
   ],
   "source": [
    "hangman('apple')"
   ]
  },
  {
   "cell_type": "markdown",
   "metadata": {},
   "source": [
    "## 순열 만들기"
   ]
  },
  {
   "cell_type": "code",
   "execution_count": 4,
   "metadata": {},
   "outputs": [
    {
     "name": "stdout",
     "output_type": "stream",
     "text": [
      "1 2 3\n",
      "1 3 2\n",
      "2 1 3\n",
      "2 3 1\n",
      "3 1 2\n",
      "3 2 1\n"
     ]
    }
   ],
   "source": [
    "a = [1, 2, 3]\n",
    "\n",
    "for i in a:\n",
    "    for j in a:\n",
    "        if j != i:\n",
    "            for z in a:\n",
    "                if z != i and z != j:\n",
    "                    print(i, j, z)"
   ]
  }
 ],
 "metadata": {
  "kernelspec": {
   "display_name": "Python 3",
   "language": "python",
   "name": "python3"
  },
  "language_info": {
   "codemirror_mode": {
    "name": "ipython",
    "version": 3
   },
   "file_extension": ".py",
   "mimetype": "text/x-python",
   "name": "python",
   "nbconvert_exporter": "python",
   "pygments_lexer": "ipython3",
   "version": "3.6.4"
  },
  "latex_envs": {
   "LaTeX_envs_menu_present": true,
   "autoclose": false,
   "autocomplete": true,
   "bibliofile": "biblio.bib",
   "cite_by": "apalike",
   "current_citInitial": 1,
   "eqLabelWithNumbers": true,
   "eqNumInitial": 1,
   "hotkeys": {
    "equation": "Ctrl-E",
    "itemize": "Ctrl-I"
   },
   "labels_anchors": false,
   "latex_user_defs": false,
   "report_style_numbering": false,
   "user_envs_cfg": false
  },
  "toc": {
   "base_numbering": 1,
   "nav_menu": {},
   "number_sections": true,
   "sideBar": true,
   "skip_h1_title": false,
   "title_cell": "Table of Contents",
   "title_sidebar": "Contents",
   "toc_cell": false,
   "toc_position": {},
   "toc_section_display": true,
   "toc_window_display": false
  }
 },
 "nbformat": 4,
 "nbformat_minor": 2
}

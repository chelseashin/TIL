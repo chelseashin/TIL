{
 "cells": [
  {
   "cell_type": "markdown",
   "metadata": {},
   "source": [
    "# 행맨 게임 만들기 "
   ]
  },
  {
   "cell_type": "markdown",
   "metadata": {},
   "source": [
    "## 답안 확인 하기\n",
    "\n",
    "> 행맨 게임을 위한 코드를 작성해봅시다. \n",
    ">\n",
    "> `isanswer(answer, letters)`는 정답 문자열(answer)과 추측 알파벳의 리스트(letters)를 받아서, True/False 결과를 반환합니다."
   ]
  },
  {
   "cell_type": "code",
   "execution_count": 4,
   "metadata": {},
   "outputs": [
    {
     "name": "stdout",
     "output_type": "stream",
     "text": [
      "False\n",
      "True\n"
     ]
    }
   ],
   "source": [
    "# 좋은 풀이\n",
    "def isanswer(answer, letters):\n",
    "    # 갯수가 있으면 실패(false) / 없으면 성공(true)\n",
    "    return not (set(answer) - set(letters))\n",
    "\n",
    "print(isanswer('apple', ['a', 'p', 'l'])) \n",
    "print(isanswer('apple', ['a', 'p', 'l', 'e']))"
   ]
  },
  {
   "cell_type": "code",
   "execution_count": 9,
   "metadata": {},
   "outputs": [
    {
     "name": "stdout",
     "output_type": "stream",
     "text": [
      "False\n",
      "True\n"
     ]
    }
   ],
   "source": [
    "# 다른 풀이\n",
    "def isanswer(answer, letters):\n",
    "    return set(answer) == set(letters)\n",
    "\n",
    "print(isanswer('apple', ['a', 'p', 'l'])) \n",
    "print(isanswer('apple', ['a', 'p', 'l', 'e']))"
   ]
  },
  {
   "cell_type": "code",
   "execution_count": 17,
   "metadata": {},
   "outputs": [
    {
     "ename": "TypeError",
     "evalue": "must be str, not list",
     "output_type": "error",
     "traceback": [
      "\u001b[1;31m---------------------------------------------------------------------------\u001b[0m",
      "\u001b[1;31mTypeError\u001b[0m                                 Traceback (most recent call last)",
      "\u001b[1;32m<ipython-input-17-be5a4d146d6c>\u001b[0m in \u001b[0;36m<module>\u001b[1;34m\u001b[0m\n\u001b[0;32m     11\u001b[0m             \u001b[1;32mreturn\u001b[0m \u001b[1;32mFalse\u001b[0m\u001b[1;33m\u001b[0m\u001b[1;33m\u001b[0m\u001b[0m\n\u001b[0;32m     12\u001b[0m \u001b[1;33m\u001b[0m\u001b[0m\n\u001b[1;32m---> 13\u001b[1;33m \u001b[0mprint\u001b[0m\u001b[1;33m(\u001b[0m\u001b[0misanswer\u001b[0m\u001b[1;33m(\u001b[0m\u001b[1;34m'apple'\u001b[0m\u001b[1;33m,\u001b[0m \u001b[1;33m[\u001b[0m\u001b[1;34m'a'\u001b[0m\u001b[1;33m,\u001b[0m \u001b[1;34m'p'\u001b[0m\u001b[1;33m,\u001b[0m \u001b[1;34m'l'\u001b[0m\u001b[1;33m]\u001b[0m\u001b[1;33m)\u001b[0m\u001b[1;33m)\u001b[0m\u001b[1;33m\u001b[0m\u001b[1;33m\u001b[0m\u001b[0m\n\u001b[0m\u001b[0;32m     14\u001b[0m \u001b[0mprint\u001b[0m\u001b[1;33m(\u001b[0m\u001b[0misanswer\u001b[0m\u001b[1;33m(\u001b[0m\u001b[1;34m'apple'\u001b[0m\u001b[1;33m,\u001b[0m \u001b[1;33m[\u001b[0m\u001b[1;34m'a'\u001b[0m\u001b[1;33m,\u001b[0m \u001b[1;34m'p'\u001b[0m\u001b[1;33m,\u001b[0m \u001b[1;34m'l'\u001b[0m\u001b[1;33m,\u001b[0m \u001b[1;34m'e'\u001b[0m\u001b[1;33m]\u001b[0m\u001b[1;33m)\u001b[0m\u001b[1;33m)\u001b[0m\u001b[1;33m\u001b[0m\u001b[1;33m\u001b[0m\u001b[0m\n",
      "\u001b[1;32m<ipython-input-17-be5a4d146d6c>\u001b[0m in \u001b[0;36misanswer\u001b[1;34m(answer, letters)\u001b[0m\n\u001b[0;32m      4\u001b[0m     \u001b[0mset1\u001b[0m \u001b[1;33m=\u001b[0m \u001b[0mset\u001b[0m\u001b[1;33m(\u001b[0m\u001b[1;33m)\u001b[0m\u001b[1;33m\u001b[0m\u001b[1;33m\u001b[0m\u001b[0m\n\u001b[0;32m      5\u001b[0m     \u001b[1;32mfor\u001b[0m \u001b[0mi\u001b[0m \u001b[1;32min\u001b[0m \u001b[0mlist\u001b[0m\u001b[1;33m(\u001b[0m\u001b[0manswer\u001b[0m\u001b[1;33m)\u001b[0m\u001b[1;33m:\u001b[0m\u001b[1;33m\u001b[0m\u001b[1;33m\u001b[0m\u001b[0m\n\u001b[1;32m----> 6\u001b[1;33m         \u001b[0mi\u001b[0m \u001b[1;33m+=\u001b[0m \u001b[0mi\u001b[0m\u001b[1;33m.\u001b[0m\u001b[0msplit\u001b[0m\u001b[1;33m(\u001b[0m\u001b[1;33m)\u001b[0m\u001b[1;33m\u001b[0m\u001b[1;33m\u001b[0m\u001b[0m\n\u001b[0m\u001b[0;32m      7\u001b[0m         \u001b[0mset1\u001b[0m\u001b[1;33m.\u001b[0m\u001b[0mappend\u001b[0m\u001b[1;33m(\u001b[0m\u001b[0mi\u001b[0m\u001b[1;33m)\u001b[0m\u001b[1;33m\u001b[0m\u001b[1;33m\u001b[0m\u001b[0m\n\u001b[0;32m      8\u001b[0m         \u001b[1;32mif\u001b[0m \u001b[0mset1\u001b[0m \u001b[1;33m==\u001b[0m \u001b[0mletters\u001b[0m\u001b[1;33m:\u001b[0m\u001b[1;33m\u001b[0m\u001b[1;33m\u001b[0m\u001b[0m\n",
      "\u001b[1;31mTypeError\u001b[0m: must be str, not list"
     ]
    }
   ],
   "source": [
    "# 나의 풀이\n",
    "def isanswer(answer, letters):\n",
    "    # set로 풀어보자\n",
    "    set1 = set()\n",
    "    for i in list(answer):\n",
    "        i += i.split()\n",
    "        set1.append(i)\n",
    "        if set1 == letters:\n",
    "            return True\n",
    "        else:\n",
    "            return False\n",
    "    \n",
    "print(isanswer('apple', ['a', 'p', 'l'])) \n",
    "print(isanswer('apple', ['a', 'p', 'l', 'e']))"
   ]
  },
  {
   "cell_type": "code",
   "execution_count": 2,
   "metadata": {},
   "outputs": [],
   "source": [
    "# 여기에 코드를 작성하세요.\n",
    "def isanswer(answer, letters):\n",
    "    # set로 풀어보자\n",
    "    set1 = []\n",
    "    for i in list(answer):\n",
    "        i = i.split()\n",
    "        set1 = set1.append(i)\n",
    "        set1 = list(set(set1))\n",
    "        if set1 == letters:\n",
    "            return True\n",
    "        else:\n",
    "            return False"
   ]
  },
  {
   "cell_type": "code",
   "execution_count": 61,
   "metadata": {
    "scrolled": true
   },
   "outputs": [
    {
     "name": "stdout",
     "output_type": "stream",
     "text": [
      "False\n",
      "True\n"
     ]
    }
   ],
   "source": [
    "print(isanswer('apple', ['a', 'p', 'l'])) #=> False\n",
    "print(isanswer('apple', ['a', 'p', 'l', 'e'])) #=> True"
   ]
  },
  {
   "cell_type": "code",
   "execution_count": 42,
   "metadata": {},
   "outputs": [
    {
     "name": "stdout",
     "output_type": "stream",
     "text": [
      "['a', 'p', 'p', 'l', 'e']\n",
      "['e', 'c', 'a', 'b', 'd', 'g', 'f']\n"
     ]
    }
   ],
   "source": [
    "a = 'apple'\n",
    "print(list(a))\n",
    "# list_a = [1, 2, 3, 1, 2, 3]\n",
    "# set(list_a)\n",
    "\n",
    "ex_list = [ 'a', 'b', 'c', 'd', 'e', 'f', 'g', 'a', 'b', 'c', 'd' ] \n",
    "ex_list = list(set(ex_list))\n",
    "print(ex_list)"
   ]
  },
  {
   "cell_type": "markdown",
   "metadata": {},
   "source": [
    "## 현재 상태 출력하기\n",
    "\n",
    "> 행맨 게임을 위한 코드를 작성해봅시다. \n",
    ">\n",
    "> `status(answer, letters)`는 정답 문자열(answer)과 추측 알파벳의 리스트(letters)를 받아서, 현재 결과를 반환합니다."
   ]
  },
  {
   "cell_type": "code",
   "execution_count": 64,
   "metadata": {},
   "outputs": [],
   "source": [
    "# 다른 풀이\n",
    "def status(answer, letters):\n",
    "    corrects =  set(answer) & set(letters)\n",
    "    return \"\".join([i if i in corrects else \"_\" for i in answer])"
   ]
  },
  {
   "cell_type": "code",
   "execution_count": null,
   "metadata": {},
   "outputs": [],
   "source": [
    "def status(answer, letters):\n",
    "    corrects = set(answer) & set(letters)\n",
    "    return \"\".join([i  if i in corrects else \"_\" for i in answer])"
   ]
  },
  {
   "cell_type": "code",
   "execution_count": 70,
   "metadata": {},
   "outputs": [],
   "source": [
    "# for문 풀어써보기 - 다시\n",
    "def status(answer, letters):\n",
    "    corrects = set(answer) & set(letters)\n",
    "    for i in answer:\n",
    "        if i in corrects:\n",
    "            return \"\".join(i)\n",
    "        else:\n",
    "            return \"\".join(\"_\")"
   ]
  },
  {
   "cell_type": "code",
   "execution_count": 71,
   "metadata": {},
   "outputs": [
    {
     "data": {
      "text/plain": [
       "'a'"
      ]
     },
     "execution_count": 71,
     "metadata": {},
     "output_type": "execute_result"
    }
   ],
   "source": [
    "status('apple', ['a', 'p', 'l']) #=> 'appl_'"
   ]
  },
  {
   "cell_type": "markdown",
   "metadata": {},
   "source": [
    "## 행맨 로직 만들기 - 자유코딩!\n",
    "\n",
    "> 위의 코드를 활용하여 `hangman(answer)`를 만들어봅시다!\n",
    ">\n",
    "> 사용자가 답을 맞출 때까지 진행하며, 8번내로 정답을 맞춰야 합니다.\n"
   ]
  },
  {
   "cell_type": "code",
   "execution_count": null,
   "metadata": {},
   "outputs": [],
   "source": [
    "# 다시 풀어보기\n",
    "def hangman(answer):\n",
    "    while True:\n",
    "        letters = input(\"\")\n"
   ]
  },
  {
   "cell_type": "code",
   "execution_count": null,
   "metadata": {},
   "outputs": [],
   "source": [
    "hangman('apple')"
   ]
  },
  {
   "cell_type": "code",
   "execution_count": 1,
   "metadata": {},
   "outputs": [
    {
     "name": "stdout",
     "output_type": "stream",
     "text": [
      "알파벳을 입력하세요 : appel\n",
      "정답입니다\n"
     ]
    },
    {
     "data": {
      "text/plain": [
       "'apple'"
      ]
     },
     "execution_count": 1,
     "metadata": {},
     "output_type": "execute_result"
    }
   ],
   "source": [
    "# 다른 풀이\n",
    "def hangman(answer):\n",
    "    while True:\n",
    "        letters = input('알파벳을 입력하세요 : ')\n",
    "        if len(letters) <= 8:\n",
    "            n = 8\n",
    "            while n>0:\n",
    "                for alp in answer:\n",
    "                    if alp not in letters:\n",
    "                        answer = answer.replace(alp, '_')\n",
    "                        n = n-1\n",
    "                    else:\n",
    "                        n = n-1\n",
    "            if set(answer) - set(letters) == set(): \n",
    "                print('정답입니다')\n",
    "            else:\n",
    "                print('틀렸습니다')\n",
    "            break\n",
    "        print(\"너무 깁니다\")            \n",
    "    return answer\n",
    "\n",
    "hangman('apple')"
   ]
  },
  {
   "cell_type": "code",
   "execution_count": 72,
   "metadata": {},
   "outputs": [],
   "source": [
    "# 다른 풀이\n",
    "def hangman(answer):\n",
    "    count = 0 #몇번째인지 카운트하는거임\n",
    "    active = 8 #몇번까지하면 종료인지 설정하는거\n",
    "    answer = answer.lower()\n",
    "    answersheet = [] #여태까지 선택한 답안들의모음\n",
    "    alphabetlist = 'abcdefghijklmnopqrstuwxyz' #남은 선택지리스트입니다.\n",
    "    while count < active and not isanswer(answer,answersheet): # 답을 아직 못맞춰거나 제한횟수전일때까지만 while loop\n",
    "        print(\"남은리스트: \", \",\".join(alphabetlist))       #남은 선택지리스트를 보여줌\n",
    "        selection = input(\"알파벳뭐넣을거임?\")   #유저선택을 받아옴"
   ]
  },
  {
   "cell_type": "code",
   "execution_count": 73,
   "metadata": {},
   "outputs": [],
   "source": [
    "def hangman(answer):\n",
    "    i = 0\n",
    "    man ='(@^_^@)ㄱ'\n",
    "    user = ['_ ' for x in range(len(answer))]\n",
    "    print(''.join(user), 'start!!')\n",
    "    while i < 8:\n",
    "        c = input()\n",
    "        if c in answer:\n",
    "            for j in range(len(answer)):\n",
    "                if answer[j] == c:\n",
    "                    user[j] = c\n",
    "            print(''.join(user), 7-i, 'turn left')\n",
    "        else:\n",
    "            for k in range(i+1):\n",
    "                print(man[k],end=\"\")\n",
    "            print('\\n',7-i, 'turn left')\n",
    "        i += 1\n",
    "        if answer == ''.join(user):\n",
    "            return 'you win!!'\n",
    "    else:\n",
    "        return '(@x_x@)ㄱ -------- Your man is dead'"
   ]
  },
  {
   "cell_type": "code",
   "execution_count": null,
   "metadata": {},
   "outputs": [
    {
     "name": "stdout",
     "output_type": "stream",
     "text": [
      "_ _ _ _ _  start!!\n",
      "1\n",
      "(\n",
      " 7 turn left\n",
      "52\n",
      "(@\n",
      " 6 turn left\n",
      "48\n",
      "(@^\n",
      " 5 turn left\n",
      "35\n",
      "(@^_\n",
      " 4 turn left\n",
      "apple\n",
      "_ _ _ _ _  3 turn left\n",
      "'apple'\n",
      "(@^_^@\n",
      " 2 turn left\n"
     ]
    }
   ],
   "source": [
    "hangman('apple')"
   ]
  },
  {
   "cell_type": "markdown",
   "metadata": {},
   "source": [
    "## 순열 만들기"
   ]
  },
  {
   "cell_type": "code",
   "execution_count": 19,
   "metadata": {},
   "outputs": [
    {
     "name": "stdout",
     "output_type": "stream",
     "text": [
      "1 2 3\n",
      "1 3 2\n",
      "2 1 3\n",
      "2 3 1\n",
      "3 1 2\n",
      "3 2 1\n"
     ]
    }
   ],
   "source": [
    "a = [1, 2, 3]\n",
    "\n",
    "for i in a:\n",
    "    for j in a:\n",
    "        if j != i:\n",
    "            for z in a:\n",
    "                if z != i and z != j:\n",
    "                    print(i, j, z)"
   ]
  },
  {
   "cell_type": "markdown",
   "metadata": {},
   "source": [
    "## Baby Jin Algorithm"
   ]
  },
  {
   "cell_type": "code",
   "execution_count": 21,
   "metadata": {},
   "outputs": [
    {
     "name": "stdout",
     "output_type": "stream",
     "text": [
      "Not Baby Jin\n"
     ]
    }
   ],
   "source": [
    "def babyjin(data):\n",
    "    for i1 in range(6):      # 1\n",
    "        for i2 in range(6):  # 2 3\n",
    "            if i2 != i1:\n",
    "                for i3 in range(6):\n",
    "                    if i3 != i1 and i3 != i2:\n",
    "                        for i4 in range(6):\n",
    "                            if i4 != i1 and i4 != i2 and i4 != i3:\n",
    "                                for i5 in range(6):\n",
    "                                    if i5 != i1 and i5 != i2 and i5 != i3 and i5 != i4:\n",
    "                                        for i6 in range(6):\n",
    "                                            if i6 != i1 and i6 != i2 and i6 != i3 and i6 != i4 and i6 != 5:\n",
    "                                                chk = 0\n",
    "                                                if data[i1] == data[i2] == data[i3]:\n",
    "                                                    chk += 1\n",
    "                                                if data[i4] == data[i5] == data[i6]:\n",
    "                                                    chk += 1\n",
    "                                                if data[i1] + 1 == data[i2] and data[i2] + 1 == data[i3]:\n",
    "                                                    chk += 1\n",
    "                                                if data[i4] + 1 == data[i5] and data[i5] + 1 == data[i6]:\n",
    "                                                    chk += 1\n",
    "                                                if chk == 2:\n",
    "                                                    return\n",
    "                                                # print(\"Baby Jin\")\n",
    "                                                #     return\n",
    "                                                # else:\n",
    "                                                #     print(\"Not Baby Jin\")\n",
    "\n",
    "data = [6, 6, 7, 7, 6, 7]\n",
    "if babyjin(data):\n",
    "    print(\"Baby Jin\")\n",
    "else:\n",
    "    print(\"Not Baby Jin\")\n",
    "    \n",
    "# 비효율적임.."
   ]
  }
 ],
 "metadata": {
  "kernelspec": {
   "display_name": "Python 3",
   "language": "python",
   "name": "python3"
  },
  "language_info": {
   "codemirror_mode": {
    "name": "ipython",
    "version": 3
   },
   "file_extension": ".py",
   "mimetype": "text/x-python",
   "name": "python",
   "nbconvert_exporter": "python",
   "pygments_lexer": "ipython3",
   "version": "3.6.7"
  },
  "latex_envs": {
   "LaTeX_envs_menu_present": true,
   "autoclose": false,
   "autocomplete": true,
   "bibliofile": "biblio.bib",
   "cite_by": "apalike",
   "current_citInitial": 1,
   "eqLabelWithNumbers": true,
   "eqNumInitial": 1,
   "hotkeys": {
    "equation": "Ctrl-E",
    "itemize": "Ctrl-I"
   },
   "labels_anchors": false,
   "latex_user_defs": false,
   "report_style_numbering": false,
   "user_envs_cfg": false
  },
  "toc": {
   "base_numbering": 1,
   "nav_menu": {},
   "number_sections": true,
   "sideBar": true,
   "skip_h1_title": false,
   "title_cell": "Table of Contents",
   "title_sidebar": "Contents",
   "toc_cell": false,
   "toc_position": {},
   "toc_section_display": true,
   "toc_window_display": false
  }
 },
 "nbformat": 4,
 "nbformat_minor": 2
}

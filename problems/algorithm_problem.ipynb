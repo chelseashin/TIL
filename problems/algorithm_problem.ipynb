{
 "cells": [
  {
   "cell_type": "code",
   "execution_count": 1,
   "metadata": {},
   "outputs": [
    {
     "data": {
      "text/plain": [
       "297191"
      ]
     },
     "execution_count": 1,
     "metadata": {},
     "output_type": "execute_result"
    }
   ],
   "source": [
    "data = [477162, 658880, 751280, 927930, 297191]\n",
    "min(data)"
   ]
  },
  {
   "cell_type": "code",
   "execution_count": 6,
   "metadata": {},
   "outputs": [
    {
     "data": {
      "text/plain": [
       "['7797946543']"
      ]
     },
     "execution_count": 6,
     "metadata": {},
     "output_type": "execute_result"
    }
   ],
   "source": [
    "data = [7797946543]\n",
    "list(map(str, data))\n",
    "# less = []\n",
    "# most = []\n",
    "# for i in range(len(data)):\n",
    "#     data.count(data[i])\n"
   ]
  },
  {
   "cell_type": "code",
   "execution_count": 48,
   "metadata": {},
   "outputs": [
    {
     "name": "stdout",
     "output_type": "stream",
     "text": [
      "9\n",
      "9\n",
      "0\n"
     ]
    }
   ],
   "source": [
    "data = [7797946543]\n",
    "\n",
    "print(str(data[0])[2])\n",
    "print(int(str(data[0])[2]))\n",
    "print(data.count(int(str(data[0])[2])))"
   ]
  },
  {
   "cell_type": "code",
   "execution_count": 35,
   "metadata": {},
   "outputs": [
    {
     "name": "stdout",
     "output_type": "stream",
     "text": [
      "0\n"
     ]
    }
   ],
   "source": [
    "data = [7797946543]\n",
    "less = []\n",
    "most = []\n",
    "for i in range(len(data)):\n",
    "    a = data.count(str(data[0])[i])\n",
    "#     most.append(a)\n",
    "print(a)"
   ]
  },
  {
   "cell_type": "code",
   "execution_count": 62,
   "metadata": {},
   "outputs": [
    {
     "name": "stdout",
     "output_type": "stream",
     "text": [
      "[7, 7, 9, 7, 9, 4, 6, 5, 4, 3]\n"
     ]
    }
   ],
   "source": [
    "data = [7797946543]\n",
    "new = []\n",
    "for i in range(10):\n",
    "    i = int(str(data[0])[i])\n",
    "    new.append(i)\n",
    "print(new)"
   ]
  },
  {
   "cell_type": "code",
   "execution_count": 70,
   "metadata": {},
   "outputs": [
    {
     "name": "stdout",
     "output_type": "stream",
     "text": [
      "[7797946543]\n"
     ]
    },
    {
     "data": {
      "text/plain": [
       "12"
      ]
     },
     "execution_count": 70,
     "metadata": {},
     "output_type": "execute_result"
    }
   ],
   "source": [
    "data = [7797946543]\n",
    "print(str(data))\n",
    "len(str(data))"
   ]
  },
  {
   "cell_type": "code",
   "execution_count": null,
   "metadata": {},
   "outputs": [],
   "source": [
    "for x in new:\n",
    "    most = new.count(x)\n",
    "#     less = new.count(x)\n",
    "print(most, less)"
   ]
  },
  {
   "cell_type": "code",
   "execution_count": 71,
   "metadata": {},
   "outputs": [
    {
     "data": {
      "text/plain": [
       "(7, 7, 9, 7, 9, 4, 6, 5, 4, 3)"
      ]
     },
     "execution_count": 71,
     "metadata": {},
     "output_type": "execute_result"
    }
   ],
   "source": [
    "data = 7, 7, 9, 7, 9, 4, 6, 5, 4, 3\n",
    "data"
   ]
  },
  {
   "cell_type": "code",
   "execution_count": 73,
   "metadata": {},
   "outputs": [],
   "source": [
    "new = ['7', '7', '9', '7', '9', '4', '6', '5', '4', '3']"
   ]
  },
  {
   "cell_type": "code",
   "execution_count": 74,
   "metadata": {},
   "outputs": [
    {
     "data": {
      "text/plain": [
       "[7, 7, 9, 7, 9, 4, 6, 5, 4, 3]"
      ]
     },
     "execution_count": 74,
     "metadata": {},
     "output_type": "execute_result"
    }
   ],
   "source": [
    "list(map(int, new))"
   ]
  },
  {
   "cell_type": "code",
   "execution_count": 75,
   "metadata": {},
   "outputs": [
    {
     "name": "stdout",
     "output_type": "stream",
     "text": [
      "0 갯수: 192\n",
      "1 갯수: 301\n",
      "2 갯수: 300\n",
      "3 갯수: 300\n",
      "4 갯수: 300\n",
      "5 갯수: 300\n",
      "6 갯수: 300\n",
      "7 갯수: 300\n",
      "8 갯수: 300\n",
      "9 갯수: 300\n"
     ]
    }
   ],
   "source": [
    "list = []\n",
    "for k in range(0, 10):\n",
    "    list.append(0)\n",
    "\n",
    "def count(n):\n",
    "    s=str(n)\n",
    "    for i in range(len(s)):\n",
    "        a=s[i]\n",
    "        b=int(a)\n",
    "        list[b]+=1\n",
    "\n",
    "for i in range(1,1001):\n",
    "    count(i)\n",
    "\n",
    "for i in range(0,10):\n",
    "    print(\"%d 갯수: %d\" % (i,list[i]))"
   ]
  },
  {
   "cell_type": "code",
   "execution_count": 76,
   "metadata": {},
   "outputs": [
    {
     "data": {
      "text/plain": [
       "0"
      ]
     },
     "execution_count": 76,
     "metadata": {},
     "output_type": "execute_result"
    }
   ],
   "source": [
    "data = 7, 7, 9, 7, 9, 4, 6, 5, 4, 3\n",
    "data.index(7)"
   ]
  },
  {
   "cell_type": "code",
   "execution_count": 2,
   "metadata": {},
   "outputs": [
    {
     "data": {
      "text/plain": [
       "5"
      ]
     },
     "execution_count": 2,
     "metadata": {},
     "output_type": "execute_result"
    }
   ],
   "source": [
    "something = [7, 7, 9, 7, 9, 4, 6, 5, 4, 3]\n",
    "something.pop(7)"
   ]
  },
  {
   "cell_type": "code",
   "execution_count": 3,
   "metadata": {},
   "outputs": [
    {
     "data": {
      "text/plain": [
       "[7, 7, 9, 7, 9, 4, 6, 4, 3]"
      ]
     },
     "execution_count": 3,
     "metadata": {},
     "output_type": "execute_result"
    }
   ],
   "source": [
    "something"
   ]
  },
  {
   "cell_type": "code",
   "execution_count": 7,
   "metadata": {},
   "outputs": [
    {
     "data": {
      "text/plain": [
       "[7, 7, 9, 7, 9, 4, 6, 5, 4, 3]"
      ]
     },
     "execution_count": 7,
     "metadata": {},
     "output_type": "execute_result"
    }
   ],
   "source": [
    "s = [7, 7, 9, 7, 9, 4, 6, 5, 4, 3]\n",
    "s"
   ]
  },
  {
   "cell_type": "code",
   "execution_count": 8,
   "metadata": {},
   "outputs": [
    {
     "data": {
      "text/plain": [
       "True"
      ]
     },
     "execution_count": 8,
     "metadata": {},
     "output_type": "execute_result"
    }
   ],
   "source": [
    "r = True\n",
    "r == s\n",
    "r"
   ]
  }
 ],
 "metadata": {
  "kernelspec": {
   "display_name": "Python 3",
   "language": "python",
   "name": "python3"
  },
  "language_info": {
   "codemirror_mode": {
    "name": "ipython",
    "version": 3
   },
   "file_extension": ".py",
   "mimetype": "text/x-python",
   "name": "python",
   "nbconvert_exporter": "python",
   "pygments_lexer": "ipython3",
   "version": "3.6.7"
  }
 },
 "nbformat": 4,
 "nbformat_minor": 2
}

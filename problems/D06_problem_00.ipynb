{
 "cells": [
  {
   "cell_type": "markdown",
   "metadata": {},
   "source": [
    "# 소대소대\n",
    "\n",
    "> 단어의 짝수번째 알파벳은 대문자로, 홀수번째 알파벳은 소문자로 바꾼 문자열을 return 하는 함수 `up_and_low`을 작성하세요.\n",
    "\n",
    "예시)\n",
    "```python\n",
    "up_and_low('applepie') #=> aPpLePiE\n",
    "up_and_low('spaceship') #=> sPaCeShIp\n",
    "```"
   ]
  },
  {
   "cell_type": "code",
   "execution_count": 1,
   "metadata": {},
   "outputs": [
    {
     "name": "stdout",
     "output_type": "stream",
     "text": [
      "aPpLePiE\n",
      "sPaCeShIp\n"
     ]
    }
   ],
   "source": [
    "# 나의 풀이\n",
    "def up_and_low(word):\n",
    "    W = \"\"\n",
    "    for i in range(len(word)):\n",
    "        if i%2 == 0:\n",
    "            W += word[i].lower()\n",
    "        else:\n",
    "            W += word[i].upper()\n",
    "    return W\n",
    "\n",
    "print(up_and_low('applepie'))\n",
    "print(up_and_low('spaceship'))"
   ]
  },
  {
   "cell_type": "code",
   "execution_count": 2,
   "metadata": {},
   "outputs": [
    {
     "name": "stdout",
     "output_type": "stream",
     "text": [
      "aPpLePiE\n",
      "sPaCeShIp\n"
     ]
    }
   ],
   "source": [
    "# 나의 풀이\n",
    "def up_and_low(word):\n",
    "    w = [word[i].upper() if i%2 else word[i].lower() for i in range(len(word))]\n",
    "    return ''.join(w)\n",
    "print(up_and_low('applepie'))\n",
    "print(up_and_low('spaceship'))"
   ]
  },
  {
   "cell_type": "code",
   "execution_count": 3,
   "metadata": {},
   "outputs": [
    {
     "name": "stdout",
     "output_type": "stream",
     "text": [
      "aPpLePiE\n",
      "sPaCeShIp\n"
     ]
    }
   ],
   "source": [
    "# 좋은 풀이\n",
    "def up_and_low(word):\n",
    "    new_str = ''\n",
    "    for idx, w in enumerate(word):\n",
    "        if idx % 2:\n",
    "            new_str += w.upper()\n",
    "        else:\n",
    "            new_str += w.lower()\n",
    "    return new_str\n",
    "\n",
    "print(up_and_low('applepie'))\n",
    "print(up_and_low('spaceship'))"
   ]
  },
  {
   "cell_type": "code",
   "execution_count": 4,
   "metadata": {},
   "outputs": [],
   "source": [
    "# 좋은 풀이 - comprehension\n",
    "def up_and_low(word):\n",
    "    new_str = [w.upper() if idx%2 else w.lower() \n",
    "               for idx, w in enumerate(word)]\n",
    "    return ''.join(new_str)"
   ]
  },
  {
   "cell_type": "code",
   "execution_count": 5,
   "metadata": {},
   "outputs": [
    {
     "name": "stdout",
     "output_type": "stream",
     "text": [
      "aPpLePiE\n",
      "sPaCeShIp\n"
     ]
    }
   ],
   "source": [
    "# 해당 코드를 통해 올바른 결과가 나오는지 확인하세요.\n",
    "print(up_and_low('applepie'))\n",
    "print(up_and_low('spaceship'))"
   ]
  },
  {
   "cell_type": "markdown",
   "metadata": {},
   "source": [
    "# 숫자 패턴\n",
    "\n",
    "> 원하는 행까지 아래의 패턴을 생성하는 함수 `pattern`를 작성하세요. 만약 인자가 0이나 음의 정수인 경우 \"\" 즉, 빈 문자열로 반환하세요. 짝수가 인수로 전달되면 패턴은 통과된 짝수보다 작은 최대 홀수까지 계속되어야 합니다.\n",
    "\n",
    "예시)\n",
    "\n",
    "```python\n",
    "pattern(9)\n",
    "\n",
    "1\n",
    "333\n",
    "55555\n",
    "7777777\n",
    "999999999\n",
    "\n",
    "pattern(6)\n",
    "\n",
    "1\n",
    "333\n",
    "55555\n",
    "```\n",
    "\n",
    "주의)\n",
    "\n",
    "- 패턴에 공백은 없습니다.\n",
    "- 함수 내부에서 `print()`를 사용하는 것이 아니라, 하나의 문자열을 `return`하여서 출력하여야 합니다."
   ]
  },
  {
   "cell_type": "code",
   "execution_count": 6,
   "metadata": {},
   "outputs": [
    {
     "name": "stdout",
     "output_type": "stream",
     "text": [
      "1\n",
      "333\n",
      "55555\n",
      "7777777\n",
      "999999999\n",
      "1\n",
      "333\n",
      "55555\n"
     ]
    }
   ],
   "source": [
    "# 좋은 풀이\n",
    "def pattern(n):\n",
    "    string = ''\n",
    "    a = n\n",
    "    if a % 2 == 0:\n",
    "        a -= 1\n",
    "    for x in range(1, a+1):\n",
    "        if x % 2 != 0:\n",
    "            string += str(x) * x\n",
    "            if x != a:\n",
    "                string += '\\n'\n",
    "    return string\n",
    "\n",
    "print(pattern(9))\n",
    "print(pattern(6))    "
   ]
  },
  {
   "cell_type": "code",
   "execution_count": 7,
   "metadata": {},
   "outputs": [
    {
     "name": "stdout",
     "output_type": "stream",
     "text": [
      "1\n",
      "333\n",
      "55555\n",
      "7777777\n",
      "999999999\n",
      "1\n",
      "333\n",
      "55555\n"
     ]
    }
   ],
   "source": [
    "# 다른 풀이\n",
    "def pattern(n):\n",
    "    ans = []\n",
    "    for i in range(1, n+1):\n",
    "        if (i+1) % 2 == 0:\n",
    "            ans.append(f'{i}' * i)\n",
    "    ans = '\\n'.join(ans)\n",
    "    return ans\n",
    "                       \n",
    "print(pattern(9))\n",
    "print(pattern(6))                    "
   ]
  },
  {
   "cell_type": "code",
   "execution_count": 8,
   "metadata": {},
   "outputs": [
    {
     "name": "stdout",
     "output_type": "stream",
     "text": [
      "1\n",
      "333\n",
      "55555\n",
      "7777777\n",
      "999999999\n",
      "\n",
      "1\n",
      "333\n",
      "55555\n",
      "\n"
     ]
    }
   ],
   "source": [
    "# 다른 풀이 2\n",
    "def pattern(n):\n",
    "    string = ''\n",
    "    a = n\n",
    "    if a%2 == 0:\n",
    "        a = a-1\n",
    "    for x in range(1, a+1):\n",
    "        if x%2 != 0:\n",
    "            string += str(x) * x + '\\n'\n",
    "    return string\n",
    "print(pattern(9))\n",
    "print(pattern(6)) "
   ]
  },
  {
   "cell_type": "code",
   "execution_count": 9,
   "metadata": {},
   "outputs": [
    {
     "name": "stdout",
     "output_type": "stream",
     "text": [
      "1\n",
      "333\n",
      "55555\n",
      "7777777\n",
      "999999999\n",
      "1\n",
      "333\n",
      "55555\n"
     ]
    }
   ],
   "source": [
    "# 나의 풀이 \n",
    "def pattern(n):\n",
    "    p = []\n",
    "    for i in range(1, n+1, 2):\n",
    "        i = str(i) * i\n",
    "        p.append(i)\n",
    "    return '\\n'.join(p)\n",
    "\n",
    "print(pattern(9))\n",
    "print(pattern(6))        "
   ]
  },
  {
   "cell_type": "code",
   "execution_count": 10,
   "metadata": {},
   "outputs": [],
   "source": [
    "# 좋은 풀이\n",
    "# 리스트를 만드는 list comprehension으로 아예 다른 사고를 해보자\n",
    "def pattern(n):\n",
    "    r = [str(x)*x for x in range(1, n+1) if x%2]\n",
    "    return '\\n'.join(r)"
   ]
  },
  {
   "cell_type": "code",
   "execution_count": 11,
   "metadata": {},
   "outputs": [],
   "source": [
    "# 좋은 풀이 2 - if문 없애기\n",
    "def pattern(n):\n",
    "    p = [str(x)*x for x in range(1, n+1, 2)]\n",
    "    return '\\n'.join(p)"
   ]
  },
  {
   "cell_type": "code",
   "execution_count": 12,
   "metadata": {},
   "outputs": [
    {
     "name": "stdout",
     "output_type": "stream",
     "text": [
      "1\n",
      "333\n",
      "55555\n",
      "7777777\n",
      "999999999\n",
      "1\n",
      "333\n",
      "55555\n"
     ]
    }
   ],
   "source": [
    "# 해당 코드를 통해 올바른 결과가 나오는지 확인하세요.\n",
    "print(pattern(9))\n",
    "print(pattern(6))"
   ]
  },
  {
   "cell_type": "markdown",
   "metadata": {},
   "source": [
    "# 무엇이 중복일까\n",
    "\n",
    "> 중복된 요소만 뽑아서 출력하는 `duplicated` 함수를 작성하시오.\n",
    "\n",
    "예시)\n",
    "\n",
    "```python\n",
    "duplicated(['a', 'b', 'c', 'b', 'd', 'm', 'n', 'n', 'b']) #=> ['b', 'n']\n",
    "```"
   ]
  },
  {
   "cell_type": "code",
   "execution_count": 13,
   "metadata": {},
   "outputs": [
    {
     "name": "stdout",
     "output_type": "stream",
     "text": [
      "['b', 'n']\n"
     ]
    }
   ],
   "source": [
    "# 좋은 풀이\n",
    "def duplicated(some_list):\n",
    "    dup = []\n",
    "    for value in some_list:\n",
    "        if some_list.count(value) > 1:\n",
    "            if value not in dup:      # 중복된 값을 가진 요소들이 여러개 나오기 때문에 하나만 나오게 하기 위한 조건\n",
    "                dup.append(value)\n",
    "    return dup\n",
    "\n",
    "print(duplicated(['a', 'b', 'c', 'b', 'd', 'm', 'n', 'n', 'b']))"
   ]
  },
  {
   "cell_type": "code",
   "execution_count": 14,
   "metadata": {},
   "outputs": [
    {
     "name": "stdout",
     "output_type": "stream",
     "text": [
      "['b', 'n']\n"
     ]
    }
   ],
   "source": [
    "# 다른 풀이 1\n",
    "def duplicate(some_list):\n",
    "    result = []\n",
    "    while some_list:\n",
    "        dup = some_list.pop()\n",
    "        if dup in some_list and dup not in result:\n",
    "            result.append(dup)\n",
    "    return result\n",
    "\n",
    "print(duplicated(['a', 'b', 'c', 'b', 'd', 'm', 'n', 'n', 'b']))"
   ]
  },
  {
   "cell_type": "code",
   "execution_count": 15,
   "metadata": {},
   "outputs": [
    {
     "name": "stdout",
     "output_type": "stream",
     "text": [
      "['n', 'b']\n"
     ]
    }
   ],
   "source": [
    "# 다른 풀이 2 - set로 풀기\n",
    "def duplicated(some_list):\n",
    "    no_duplicate = list(set(some_list))\n",
    "    for i in no_duplicate:\n",
    "        some_list.remove(i)\n",
    "    return list(set(some_list))\n",
    "\n",
    "print(duplicated(['a', 'b', 'c', 'b', 'd', 'm', 'n', 'n', 'b']))"
   ]
  },
  {
   "cell_type": "code",
   "execution_count": 16,
   "metadata": {},
   "outputs": [
    {
     "name": "stdout",
     "output_type": "stream",
     "text": [
      "['n', 'b']\n"
     ]
    }
   ],
   "source": [
    "# list comprehension\n",
    "def duplicated(some_list):\n",
    "    return list({c for c in some_list if some_list.count(c) > 1}) # 세트를 리스트로 형변환해요\n",
    "\n",
    "print(duplicated(['a', 'b', 'c', 'b', 'd', 'm', 'n', 'n', 'b']))"
   ]
  },
  {
   "cell_type": "code",
   "execution_count": 17,
   "metadata": {},
   "outputs": [
    {
     "name": "stdout",
     "output_type": "stream",
     "text": [
      "[{'n', 'b'}]\n"
     ]
    }
   ],
   "source": [
    "def duplicated(some_list):\n",
    "    return [{c for c in some_list if some_list.count(c) > 1}]     # 리스트 안에 세트를 담아요\n",
    "print(duplicated(['a', 'b', 'c', 'b', 'd', 'm', 'n', 'n', 'b']))"
   ]
  },
  {
   "cell_type": "code",
   "execution_count": 18,
   "metadata": {},
   "outputs": [
    {
     "name": "stdout",
     "output_type": "stream",
     "text": [
      "['a', 'b', 'c', 'd', 'm', 'n']\n"
     ]
    }
   ],
   "source": [
    "# 리스트에서 중복된 요소를 제거하기\n",
    "def uniq(some_list):\n",
    "    result =[]\n",
    "    for i in some_list:\n",
    "        if result.count(i) < 1:\n",
    "            result.append(i)\n",
    "    return result\n",
    "\n",
    "print(uniq(['a', 'b', 'c', 'b', 'd', 'm', 'n', 'n', 'b']))"
   ]
  },
  {
   "cell_type": "code",
   "execution_count": 19,
   "metadata": {},
   "outputs": [
    {
     "name": "stdout",
     "output_type": "stream",
     "text": [
      "['a', 'b', 'c', 'd', 'm', 'n']\n"
     ]
    }
   ],
   "source": [
    "# 리스트에서 중복된 요소를 제거하기 - 2\n",
    "def uniq(alist):\n",
    "    return [x for i, x in enumerate(alist) if x not in alist[:i]]\n",
    "print(uniq(['a', 'b', 'c', 'b', 'd', 'm', 'n', 'n', 'b']))\n",
    "\n",
    "# i번째 원소가 0~i-1번째 원본의 부분열에서 나타나는 지를 검사해서 중복 체크\n",
    "# 각 원소에 대해서 해당 원소가 원본 리스트의 자신의 위치보다\n",
    "# 앞에 출현한 적이 있으면 제외하는 식으로 필터링하여 한번에 리스트를 만듦"
   ]
  }
 ],
 "metadata": {
  "kernelspec": {
   "display_name": "Python 3",
   "language": "python",
   "name": "python3"
  },
  "language_info": {
   "codemirror_mode": {
    "name": "ipython",
    "version": 3
   },
   "file_extension": ".py",
   "mimetype": "text/x-python",
   "name": "python",
   "nbconvert_exporter": "python",
   "pygments_lexer": "ipython3",
   "version": "3.6.7"
  },
  "toc": {
   "base_numbering": 1,
   "nav_menu": {},
   "number_sections": true,
   "sideBar": true,
   "skip_h1_title": false,
   "title_cell": "Table of Contents",
   "title_sidebar": "Contents",
   "toc_cell": false,
   "toc_position": {},
   "toc_section_display": true,
   "toc_window_display": false
  }
 },
 "nbformat": 4,
 "nbformat_minor": 2
}

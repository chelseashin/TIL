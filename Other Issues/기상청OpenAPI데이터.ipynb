{
 "cells": [
  {
   "cell_type": "code",
   "execution_count": 2,
   "metadata": {},
   "outputs": [],
   "source": [
    "from urllib.request import urlopen\n",
    "from urllib.parse import urlencode,unquote,quote_plus\n",
    "import urllib"
   ]
  },
  {
   "cell_type": "code",
   "execution_count": 3,
   "metadata": {},
   "outputs": [],
   "source": [
    "url = 'http://apis.data.go.kr/1360000/WthrWrnInfoService/getWthrWrnList'"
   ]
  },
  {
   "cell_type": "code",
   "execution_count": 4,
   "metadata": {},
   "outputs": [],
   "source": [
    "queryParams = '?' + urlencode({ quote_plus('ServiceKey') : '서비스키', quote_plus('ServiceKey') : '-', quote_plus('pageNo') : '1', quote_plus('numOfRows') : '10', quote_plus('dataType') : 'XML', quote_plus('stnId') : '184', quote_plus('fromTmFc') : '20170601', quote_plus('toTmFc') : '20170607' })"
   ]
  },
  {
   "cell_type": "code",
   "execution_count": 13,
   "metadata": {},
   "outputs": [
    {
     "data": {
      "text/plain": [
       "'http://apis.data.go.kr/1360000/WthrWrnInfoService/getWthrWrnList?ServiceKey=-&pageNo=1&numOfRows=10&dataType=XML&stnId=184&fromTmFc=20170601&toTmFc=20170607'"
      ]
     },
     "execution_count": 13,
     "metadata": {},
     "output_type": "execute_result"
    }
   ],
   "source": [
    "url + queryParams"
   ]
  },
  {
   "cell_type": "code",
   "execution_count": 14,
   "metadata": {},
   "outputs": [],
   "source": [
    "open_api_url = \"http://apis.data.go.kr/1360000/WthrWrnInfoService/getWthrWrnList?ServiceKey=R0wCbCUo8fPtDeV5QJ6GpfRvTcr5FdZvrNMMqIVDOXUbhGfojhUJnSDTIylRbx26AHU4D7yIveeQUkOlQ6qUaw%3D%3D&pageNo=1&numOfRows=10&dataType=XML&stnId=184&fromTmFc=20201020&toTmFc=20201026\""
   ]
  },
  {
   "cell_type": "code",
   "execution_count": 15,
   "metadata": {},
   "outputs": [],
   "source": [
    "request = requests.get(open_api_url)"
   ]
  },
  {
   "cell_type": "code",
   "execution_count": 7,
   "metadata": {},
   "outputs": [],
   "source": [
    "import requests"
   ]
  },
  {
   "cell_type": "code",
   "execution_count": 8,
   "metadata": {},
   "outputs": [],
   "source": [
    "request = requests.get(url + queryParams)"
   ]
  },
  {
   "cell_type": "code",
   "execution_count": 16,
   "metadata": {},
   "outputs": [],
   "source": [
    "request.get_method = lambda: 'GET'"
   ]
  },
  {
   "cell_type": "code",
   "execution_count": 11,
   "metadata": {},
   "outputs": [],
   "source": [
    "from bs4 import BeautifulSoup"
   ]
  },
  {
   "cell_type": "code",
   "execution_count": 18,
   "metadata": {},
   "outputs": [],
   "source": [
    "soup = BeautifulSoup(request.content, 'html.parser')"
   ]
  },
  {
   "cell_type": "code",
   "execution_count": 19,
   "metadata": {},
   "outputs": [],
   "source": [
    "data = soup.find_all('item')"
   ]
  },
  {
   "cell_type": "code",
   "execution_count": 20,
   "metadata": {},
   "outputs": [
    {
     "data": {
      "text/plain": [
       "[<item><stnid>184</stnid><title>[특보] 제10-23호 : 2020.10.24.16:00 / 풍랑주의보 해제 (*)</title><tmfc>202010241600</tmfc><tmseq>23</tmseq></item>,\n",
       " <item><stnid>184</stnid><title>[특보] 제10-22호 : 2020.10.24.12:00 / 풍랑주의보 해제 (*)</title><tmfc>202010241200</tmfc><tmseq>22</tmseq></item>,\n",
       " <item><stnid>184</stnid><title>[특보] 제10-21호 : 2020.10.24.09:00 / 강풍주의보·풍랑주의보 해제 (*)</title><tmfc>202010240900</tmfc><tmseq>21</tmseq></item>,\n",
       " <item><stnid>184</stnid><title>[특보] 제10-20호 : 2020.10.23.08:00 / 풍랑주의보 해제 (*)</title><tmfc>202010230800</tmfc><tmseq>20</tmseq></item>,\n",
       " <item><stnid>184</stnid><title>[특보] 제10-19호 : 2020.10.23.01:00 / 강풍주의보·풍랑주의보 발표 (*)</title><tmfc>202010230100</tmfc><tmseq>19</tmseq></item>]"
      ]
     },
     "execution_count": 20,
     "metadata": {},
     "output_type": "execute_result"
    }
   ],
   "source": [
    "data"
   ]
  },
  {
   "cell_type": "code",
   "execution_count": 22,
   "metadata": {},
   "outputs": [],
   "source": [
    "title = soup.find_all('title').text"
   ]
  },
  {
   "cell_type": "code",
   "execution_count": 23,
   "metadata": {},
   "outputs": [
    {
     "data": {
      "text/plain": [
       "[<title>[특보] 제10-23호 : 2020.10.24.16:00 / 풍랑주의보 해제 (*)</title>,\n",
       " <title>[특보] 제10-22호 : 2020.10.24.12:00 / 풍랑주의보 해제 (*)</title>,\n",
       " <title>[특보] 제10-21호 : 2020.10.24.09:00 / 강풍주의보·풍랑주의보 해제 (*)</title>,\n",
       " <title>[특보] 제10-20호 : 2020.10.23.08:00 / 풍랑주의보 해제 (*)</title>,\n",
       " <title>[특보] 제10-19호 : 2020.10.23.01:00 / 강풍주의보·풍랑주의보 발표 (*)</title>]"
      ]
     },
     "execution_count": 23,
     "metadata": {},
     "output_type": "execute_result"
    }
   ],
   "source": [
    "title"
   ]
  },
  {
   "cell_type": "code",
   "execution_count": null,
   "metadata": {},
   "outputs": [],
   "source": []
  }
 ],
 "metadata": {
  "kernelspec": {
   "display_name": "Python 3",
   "language": "python",
   "name": "python3"
  },
  "language_info": {
   "codemirror_mode": {
    "name": "ipython",
    "version": 3
   },
   "file_extension": ".py",
   "mimetype": "text/x-python",
   "name": "python",
   "nbconvert_exporter": "python",
   "pygments_lexer": "ipython3",
   "version": "3.6.4"
  }
 },
 "nbformat": 4,
 "nbformat_minor": 2
}

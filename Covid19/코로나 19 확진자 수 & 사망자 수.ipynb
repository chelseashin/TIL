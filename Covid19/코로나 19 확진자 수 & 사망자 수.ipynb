{
 "cells": [
  {
   "cell_type": "code",
   "execution_count": 1,
   "metadata": {},
   "outputs": [],
   "source": [
    "from urllib.request import urlopen\n",
    "from urllib.parse import urlencode,unquote,quote_plus\n",
    "import urllib\n"
   ]
  },
  {
   "cell_type": "code",
   "execution_count": 2,
   "metadata": {},
   "outputs": [],
   "source": [
    "key = \"FVOY2y2S0R%2F7YzCJ3B9ZJoh18TZNO23p56%2FHkVtWGUiGbKQQ5Dg7%2B4OYN2%2F%2BWnFcLyDZSvYcgh48JLenrDeDEw%3D%3D\""
   ]
  },
  {
   "cell_type": "code",
   "execution_count": 3,
   "metadata": {},
   "outputs": [],
   "source": [
    "url = 'http://openapi.data.go.kr/openapi/service/rest/Covid19/getCovid19InfStateJson'"
   ]
  },
  {
   "cell_type": "code",
   "execution_count": 14,
   "metadata": {},
   "outputs": [],
   "source": [
    "queryParams = '?' + urlencode({ quote_plus('ServiceKey') : 'FVOY2y2S0R%2F7YzCJ3B9ZJoh18TZNO23p56%2FHkVtWGUiGbKQQ5Dg7%2B4OYN2%2F%2BWnFcLyDZSvYcgh48JLenrDeDEw%3D%3D', quote_plus('ServiceKey') : '-', quote_plus('pageNo') : '1', quote_plus('numOfRows') : '10', quote_plus('startCreateDt') : '20200120', quote_plus('endCreateDt') : '20200330' })"
   ]
  },
  {
   "cell_type": "code",
   "execution_count": 9,
   "metadata": {},
   "outputs": [],
   "source": [
    "# 참고 링크 : https://www.lightsky.kr/140"
   ]
  },
  {
   "cell_type": "code",
   "execution_count": 15,
   "metadata": {},
   "outputs": [],
   "source": [
    "import requests"
   ]
  },
  {
   "cell_type": "code",
   "execution_count": 16,
   "metadata": {},
   "outputs": [],
   "source": [
    "request = requests.get(url + queryParams)"
   ]
  },
  {
   "cell_type": "code",
   "execution_count": 17,
   "metadata": {},
   "outputs": [],
   "source": [
    "from bs4 import BeautifulSoup"
   ]
  },
  {
   "cell_type": "code",
   "execution_count": 18,
   "metadata": {},
   "outputs": [],
   "source": [
    "soup = BeautifulSoup(request.content, 'html.parser')"
   ]
  },
  {
   "cell_type": "code",
   "execution_count": 19,
   "metadata": {},
   "outputs": [],
   "source": [
    "data = soup.find_all('item')"
   ]
  },
  {
   "cell_type": "code",
   "execution_count": 20,
   "metadata": {},
   "outputs": [],
   "source": [
    "for item in data:\n",
    "    death_cnt = item.find('deathCnt')\n",
    "    decide_cnt = item.find('decideCnt')\n",
    "    print(death_cnt.get_text(), decide_cnt.get_text())"
   ]
  },
  {
   "cell_type": "code",
   "execution_count": 21,
   "metadata": {},
   "outputs": [
    {
     "name": "stdout",
     "output_type": "stream",
     "text": [
      "[]\n"
     ]
    }
   ],
   "source": [
    "print(data)"
   ]
  },
  {
   "cell_type": "code",
   "execution_count": 65,
   "metadata": {},
   "outputs": [],
   "source": [
    "request = urllib.request.Request(url+unquote(queryParams))"
   ]
  },
  {
   "cell_type": "code",
   "execution_count": 64,
   "metadata": {},
   "outputs": [
    {
     "name": "stdout",
     "output_type": "stream",
     "text": [
      "Your Request:\n",
      "http://openapi.data.go.kr/openapi/service/rest/Covid19/getCovid19InfStateJson?ServiceKey=-&pageNo=1&numOfRows=10&startCreateDt=20200310&endCreateDt=20200315\n"
     ]
    }
   ],
   "source": [
    "print ('Your Request:\\n'+url+queryParams)"
   ]
  },
  {
   "cell_type": "code",
   "execution_count": 66,
   "metadata": {},
   "outputs": [],
   "source": [
    "request.get_method = lambda: 'GET'"
   ]
  },
  {
   "cell_type": "code",
   "execution_count": 69,
   "metadata": {},
   "outputs": [],
   "source": [
    "response_body = urlopen(request).read()"
   ]
  },
  {
   "cell_type": "code",
   "execution_count": 74,
   "metadata": {},
   "outputs": [
    {
     "data": {
      "text/plain": [
       "b'<?xml version=\"1.0\" encoding=\"UTF-8\" standalone=\"yes\"?><response><header><resultCode>99</resultCode><resultMsg>SERVICE KEY IS NOT REGISTERED ERROR.</resultMsg></header></response>'"
      ]
     },
     "execution_count": 74,
     "metadata": {},
     "output_type": "execute_result"
    }
   ],
   "source": [
    "response_body"
   ]
  },
  {
   "cell_type": "code",
   "execution_count": 75,
   "metadata": {},
   "outputs": [
    {
     "ename": "AttributeError",
     "evalue": "'bytes' object has no attribute 'text'",
     "output_type": "error",
     "traceback": [
      "\u001b[1;31m---------------------------------------------------------------------------\u001b[0m",
      "\u001b[1;31mAttributeError\u001b[0m                            Traceback (most recent call last)",
      "\u001b[1;32m<ipython-input-75-7a360346b964>\u001b[0m in \u001b[0;36m<module>\u001b[1;34m()\u001b[0m\n\u001b[1;32m----> 1\u001b[1;33m \u001b[0mresponse_body\u001b[0m\u001b[1;33m.\u001b[0m\u001b[0mtext\u001b[0m\u001b[1;33m\u001b[0m\u001b[0m\n\u001b[0m",
      "\u001b[1;31mAttributeError\u001b[0m: 'bytes' object has no attribute 'text'"
     ]
    }
   ],
   "source": [
    "response_body"
   ]
  },
  {
   "cell_type": "code",
   "execution_count": null,
   "metadata": {},
   "outputs": [],
   "source": []
  },
  {
   "cell_type": "code",
   "execution_count": 17,
   "metadata": {},
   "outputs": [],
   "source": [
    "request = requests.get(url + queryParams)"
   ]
  },
  {
   "cell_type": "code",
   "execution_count": 14,
   "metadata": {},
   "outputs": [],
   "source": [
    "request.get_method = lambda: 'GET'"
   ]
  },
  {
   "cell_type": "code",
   "execution_count": 25,
   "metadata": {},
   "outputs": [],
   "source": [
    "response_body = urlopen(request).read()"
   ]
  },
  {
   "cell_type": "code",
   "execution_count": 29,
   "metadata": {},
   "outputs": [
    {
     "name": "stdout",
     "output_type": "stream",
     "text": [
      "b'<?xml version=\"1.0\" encoding=\"UTF-8\" standalone=\"yes\"?><response><header><resultCode>99</resultCode><resultMsg>SERVICE KEY IS NOT REGISTERED ERROR.</resultMsg></header></response>'\n"
     ]
    }
   ],
   "source": [
    "print(response_body)"
   ]
  },
  {
   "cell_type": "code",
   "execution_count": 30,
   "metadata": {},
   "outputs": [
    {
     "name": "stdout",
     "output_type": "stream",
     "text": [
      "<class 'bytes'>\n"
     ]
    }
   ],
   "source": [
    "print(type(response_body))"
   ]
  },
  {
   "cell_type": "code",
   "execution_count": 32,
   "metadata": {},
   "outputs": [],
   "source": [
    "import webbrowser"
   ]
  },
  {
   "cell_type": "code",
   "execution_count": 36,
   "metadata": {},
   "outputs": [],
   "source": [
    "import requests"
   ]
  },
  {
   "cell_type": "code",
   "execution_count": 39,
   "metadata": {},
   "outputs": [],
   "source": [
    "res = requests.get(url+queryParams)"
   ]
  },
  {
   "cell_type": "code",
   "execution_count": 40,
   "metadata": {},
   "outputs": [
    {
     "data": {
      "text/plain": [
       "True"
      ]
     },
     "execution_count": 40,
     "metadata": {},
     "output_type": "execute_result"
    }
   ],
   "source": [
    "webbrowser.open(res.request.url)"
   ]
  },
  {
   "cell_type": "code",
   "execution_count": 41,
   "metadata": {},
   "outputs": [
    {
     "data": {
      "text/plain": [
       "'<?xml version=\"1.0\" encoding=\"UTF-8\" standalone=\"yes\"?><response><header><resultCode>99</resultCode><resultMsg>SERVICE KEY IS NOT REGISTERED ERROR.</resultMsg></header></response>'"
      ]
     },
     "execution_count": 41,
     "metadata": {},
     "output_type": "execute_result"
    }
   ],
   "source": [
    "res.text"
   ]
  },
  {
   "cell_type": "code",
   "execution_count": 58,
   "metadata": {},
   "outputs": [],
   "source": [
    "response = requests.get(url + queryParams).text.encode('utf-8')\n",
    "xmlobj = bs(response, 'lxml-xml')"
   ]
  },
  {
   "cell_type": "code",
   "execution_count": 59,
   "metadata": {},
   "outputs": [
    {
     "name": "stdout",
     "output_type": "stream",
     "text": [
      "<?xml version=\"1.0\" encoding=\"utf-8\"?>\n",
      "<response><header><resultCode>99</resultCode><resultMsg>SERVICE KEY IS NOT REGISTERED ERROR.</resultMsg></header></response>\n"
     ]
    }
   ],
   "source": [
    "print(xmlobj)"
   ]
  },
  {
   "cell_type": "code",
   "execution_count": 60,
   "metadata": {},
   "outputs": [
    {
     "data": {
      "text/plain": [
       "'99SERVICE KEY IS NOT REGISTERED ERROR.'"
      ]
     },
     "execution_count": 60,
     "metadata": {},
     "output_type": "execute_result"
    }
   ],
   "source": [
    "xmlobj.text"
   ]
  },
  {
   "cell_type": "code",
   "execution_count": null,
   "metadata": {},
   "outputs": [],
   "source": []
  },
  {
   "cell_type": "code",
   "execution_count": 22,
   "metadata": {},
   "outputs": [],
   "source": [
    "open_api_key = \"FVOY2y2S0R%2F7YzCJ3B9ZJoh18TZNO23p56%2FHkVtWGUiGbKQQ5Dg7%2B4OYN2%2F%2BWnFcLyDZSvYcgh48JLenrDeDEw%3D%3D\""
   ]
  },
  {
   "cell_type": "code",
   "execution_count": 23,
   "metadata": {},
   "outputs": [],
   "source": [
    "url = 'http://openapi.data.go.kr/openapi/service/rest/Covid19/getCovid19InfStateJson'"
   ]
  },
  {
   "cell_type": "code",
   "execution_count": 25,
   "metadata": {},
   "outputs": [
    {
     "name": "stdout",
     "output_type": "stream",
     "text": [
      "?ServiceKey=-&pageNo=1&numOfRows=10&startCreateDt=20200120&endCreateDt=20200330\n"
     ]
    }
   ],
   "source": [
    "print(queryParams)"
   ]
  },
  {
   "cell_type": "code",
   "execution_count": 27,
   "metadata": {},
   "outputs": [],
   "source": [
    "open_url = \"http://openapi.data.go.kr/openapi/service/rest/Covid19/getCovid19InfStateJson?ServiceKey=FVOY2y2S0R%2F7YzCJ3B9ZJoh18TZNO23p56%2FHkVtWGUiGbKQQ5Dg7%2B4OYN2%2F%2BWnFcLyDZSvYcgh48JLenrDeDEw%3D%3D&pageNo=1&numOfRows=10&startCreateDt=20200120&endCreateDt=20201022\""
   ]
  },
  {
   "cell_type": "code",
   "execution_count": 28,
   "metadata": {},
   "outputs": [
    {
     "name": "stdout",
     "output_type": "stream",
     "text": [
      "http://openapi.data.go.kr/openapi/service/rest/Covid19/getCovid19InfStateJson?ServiceKey=FVOY2y2S0R%2F7YzCJ3B9ZJoh18TZNO23p56%2FHkVtWGUiGbKQQ5Dg7%2B4OYN2%2F%2BWnFcLyDZSvYcgh48JLenrDeDEw%3D%3D&pageNo=1&numOfRows=10&startCreateDt=20200120&endCreateDt=20201022\n"
     ]
    }
   ],
   "source": [
    "print(open_url)"
   ]
  },
  {
   "cell_type": "code",
   "execution_count": 29,
   "metadata": {},
   "outputs": [],
   "source": [
    "res = requests.get(open_url)"
   ]
  },
  {
   "cell_type": "code",
   "execution_count": 87,
   "metadata": {},
   "outputs": [],
   "source": [
    "soup = BeautifulSoup(res.content, 'html.parser')"
   ]
  },
  {
   "cell_type": "code",
   "execution_count": 88,
   "metadata": {},
   "outputs": [],
   "source": [
    "data = soup.find_all('item')"
   ]
  },
  {
   "cell_type": "code",
   "execution_count": 89,
   "metadata": {},
   "outputs": [
    {
     "name": "stdout",
     "output_type": "stream",
     "text": [
      "[<item><accdefrate>1.0235574904</accdefrate><accexamcnt>2515325</accexamcnt><accexamcompcnt>2495512</accexamcompcnt><carecnt>1443</carecnt><clearcnt>23647</clearcnt><createdt>2020-10-22 09:41:20.743</createdt><deathcnt>453</deathcnt><decidecnt>25543</decidecnt><examcnt>19813</examcnt><resutlnegcnt>2469969</resutlnegcnt><seq>299</seq><statedt>20201022</statedt><statetime>00:00</statetime><updatedt>null</updatedt></item>, <item><accdefrate>1.0235112910</accdefrate><accexamcnt>2503491</accexamcnt><accexamcompcnt>2483998</accexamcompcnt><carecnt>1390</carecnt><clearcnt>23584</clearcnt><createdt>2020-10-21 09:34:27.414</createdt><deathcnt>450</deathcnt><decidecnt>25424</decidecnt><examcnt>19493</examcnt><resutlnegcnt>2458574</resutlnegcnt><seq>298</seq><statedt>20201021</statedt><statetime>00:00</statetime><updatedt>null</updatedt></item>, <item><accdefrate>1.0248259256</accdefrate><accexamcnt>2491311</accexamcnt><accexamcompcnt>2471932</accexamcompcnt><carecnt>1420</carecnt><clearcnt>23466</clearcnt><createdt>2020-10-20 09:32:53.426</createdt><deathcnt>447</deathcnt><decidecnt>25333</decidecnt><examcnt>19379</examcnt><resutlnegcnt>2446599</resutlnegcnt><seq>297</seq><statedt>20201020</statedt><statetime>00:00</statetime><updatedt>null</updatedt></item>, <item><accdefrate>1.0264113613</accdefrate><accexamcnt>2479226</accexamcnt><accexamcompcnt>2462463</accexamcompcnt><carecnt>1463</carecnt><clearcnt>23368</clearcnt><createdt>2020-10-19 09:42:35.552</createdt><deathcnt>444</deathcnt><decidecnt>25275</decidecnt><examcnt>16763</examcnt><resutlnegcnt>2437188</resutlnegcnt><seq>296</seq><statedt>20201019</statedt><statetime>00:00</statetime><updatedt>null</updatedt></item>, <item><accdefrate>1.0257055261</accdefrate><accexamcnt>2474529</accexamcnt><accexamcompcnt>2456748</accexamcompcnt><carecnt>1443</carecnt><clearcnt>23312</clearcnt><createdt>2020-10-18 09:33:55.901</createdt><deathcnt>444</deathcnt><decidecnt>25199</decidecnt><examcnt>17781</examcnt><resutlnegcnt>2431549</resutlnegcnt><seq>295</seq><statedt>20201018</statedt><statetime>00:00</statetime><updatedt>null</updatedt></item>, <item><accdefrate>1.0243108604</accdefrate><accexamcnt>2468527</accexamcnt><accexamcompcnt>2451209</accexamcompcnt><carecnt>1407</carecnt><clearcnt>23258</clearcnt><createdt>2020-10-17 09:49:12.315</createdt><deathcnt>443</deathcnt><decidecnt>25108</decidecnt><examcnt>17318</examcnt><resutlnegcnt>2426101</resutlnegcnt><seq>294</seq><statedt>20201017</statedt><statetime>00:00</statetime><updatedt>null</updatedt></item>, <item><accdefrate>1.0251544693</accdefrate><accexamcnt>2459426</accexamcnt><accexamcompcnt>2442071</accexamcompcnt><carecnt>1414</carecnt><clearcnt>23180</clearcnt><createdt>2020-10-16 09:34:40.212</createdt><deathcnt>441</deathcnt><decidecnt>25035</decidecnt><examcnt>17355</examcnt><resutlnegcnt>2417036</resutlnegcnt><seq>293</seq><statedt>20201016</statedt><statetime>00:00</statetime><updatedt>null</updatedt></item>, <item><accdefrate>1.0272656226</accdefrate><accexamcnt>2450739</accexamcnt><accexamcompcnt>2432477</accexamcompcnt><carecnt>1467</carecnt><clearcnt>23082</clearcnt><createdt>2020-10-15 09:39:50.753</createdt><deathcnt>439</deathcnt><decidecnt>24988</decidecnt><examcnt>18262</examcnt><resutlnegcnt>2407489</resutlnegcnt><seq>292</seq><statedt>20201015</statedt><statetime>00:00</statetime><updatedt>null</updatedt></item>, <item><accdefrate>1.0271731010</accdefrate><accexamcnt>2441454</accexamcnt><accexamcompcnt>2423058</accexamcompcnt><carecnt>1421</carecnt><clearcnt>23030</clearcnt><createdt>2020-10-14 09:35:05.055</createdt><deathcnt>438</deathcnt><decidecnt>24889</decidecnt><examcnt>18396</examcnt><resutlnegcnt>2398169</resutlnegcnt><seq>291</seq><statedt>20201014</statedt><statetime>00:00</statetime><updatedt>null</updatedt></item>, <item><accdefrate>1.0298312704</accdefrate><accexamcnt>2428771</accexamcnt><accexamcompcnt>2408647</accexamcompcnt><carecnt>1508</carecnt><clearcnt>22863</clearcnt><createdt>2020-10-13 09:40:11.124</createdt><deathcnt>434</deathcnt><decidecnt>24805</decidecnt><examcnt>20124</examcnt><resutlnegcnt>2383842</resutlnegcnt><seq>290</seq><statedt>20201013</statedt><statetime>00:00</statetime><updatedt>null</updatedt></item>, <item><accdefrate>1.0308301807</accdefrate><accexamcnt>2415610</accexamcnt><accexamcompcnt>2396418</accexamcompcnt><carecnt>1541</carecnt><clearcnt>22729</clearcnt><createdt>2020-10-12 09:41:37.542</createdt><deathcnt>433</deathcnt><decidecnt>24703</decidecnt><examcnt>19192</examcnt><resutlnegcnt>2371715</resutlnegcnt><seq>289</seq><statedt>20201012</statedt><statetime>00:00</statetime><updatedt>null</updatedt></item>, <item><accdefrate>1.0308301807</accdefrate><accexamcnt>2415610</accexamcnt><accexamcompcnt>2396418</accexamcompcnt><carecnt>1542</carecnt><clearcnt>22728</clearcnt><createdt>2020-10-12 09:41:37.542</createdt><deathcnt>433</deathcnt><decidecnt>24703</decidecnt><examcnt>19192</examcnt><resutlnegcnt>2371715</resutlnegcnt><seq>289</seq><statedt>20201012</statedt><statetime>00:00</statetime><updatedt>2020-10-12 15:39:41.918</updatedt></item>, <item><accdefrate>1.0290316914</accdefrate><accexamcnt>2410483</accexamcnt><accexamcompcnt>2391180</accexamcompcnt><carecnt>1481</carecnt><clearcnt>22693</clearcnt><createdt>2020-10-11 09:32:37.429</createdt><deathcnt>432</deathcnt><decidecnt>24606</decidecnt><examcnt>19303</examcnt><resutlnegcnt>2366574</resutlnegcnt><seq>288</seq><statedt>20201011</statedt><statetime>00:00</statetime><updatedt>null</updatedt></item>, <item><accdefrate>1.0289633826</accdefrate><accexamcnt>2404684</accexamcnt><accexamcompcnt>2385702</accexamcompcnt><carecnt>1494</carecnt><clearcnt>22624</clearcnt><createdt>2020-10-10 09:39:43.14</createdt><deathcnt>430</deathcnt><decidecnt>24548</decidecnt><examcnt>18982</examcnt><resutlnegcnt>2361154</resutlnegcnt><seq>287</seq><statedt>20201010</statedt><statetime>00:00</statetime><updatedt>null</updatedt></item>, <item><accdefrate>1.0286047604</accdefrate><accexamcnt>2400233</accexamcnt><accexamcompcnt>2379534</accexamcompcnt><carecnt>1479</carecnt><clearcnt>22569</clearcnt><createdt>2020-10-09 09:37:05.199</createdt><deathcnt>428</deathcnt><decidecnt>24476</decidecnt><examcnt>20699</examcnt><resutlnegcnt>2355058</resutlnegcnt><seq>286</seq><statedt>20201009</statedt><statetime>00:00</statetime><updatedt>null</updatedt></item>, <item><accdefrate>1.0313928237</accdefrate><accexamcnt>2388844</accexamcnt><accexamcompcnt>2367866</accexamcompcnt><carecnt>1532</carecnt><clearcnt>22463</clearcnt><createdt>2020-10-08 10:01:47.648</createdt><deathcnt>427</deathcnt><decidecnt>24422</decidecnt><examcnt>20978</examcnt><resutlnegcnt>2343444</resutlnegcnt><seq>285</seq><statedt>20201008</statedt><statetime>00:00</statetime><updatedt>null</updatedt></item>, <item><accdefrate>1.0336872621</accdefrate><accexamcnt>2378073</accexamcnt><accexamcompcnt>2355935</accexamcompcnt><carecnt>1594</carecnt><clearcnt>22334</clearcnt><createdt>2020-10-07 09:42:43.617</createdt><deathcnt>425</deathcnt><decidecnt>24353</decidecnt><examcnt>22138</examcnt><resutlnegcnt>2331582</resutlnegcnt><seq>284</seq><statedt>20201007</statedt><statetime>00:00</statetime><updatedt>null</updatedt></item>, <item><accdefrate>1.0346626280</accdefrate><accexamcnt>2365433</accexamcnt><accexamcompcnt>2342696</accexamcompcnt><carecnt>1734</carecnt><clearcnt>22083</clearcnt><createdt>2020-10-06 09:39:50.695</createdt><deathcnt>422</deathcnt><decidecnt>24239</decidecnt><examcnt>22737</examcnt><resutlnegcnt>2318457</resutlnegcnt><seq>283</seq><statedt>20201006</statedt><statetime>00:00</statetime><updatedt>null</updatedt></item>, <item><accdefrate>1.0371122578</accdefrate><accexamcnt>2352378</accexamcnt><accexamcompcnt>2329931</accexamcompcnt><carecnt>1856</carecnt><clearcnt>21886</clearcnt><createdt>2020-10-05 09:32:34.385</createdt><deathcnt>422</deathcnt><decidecnt>24164</decidecnt><examcnt>22447</examcnt><resutlnegcnt>2305767</resutlnegcnt><seq>282</seq><statedt>20201005</statedt><statetime>00:00</statetime><updatedt>null</updatedt></item>, <item><accdefrate>1.0365157650</accdefrate><accexamcnt>2346345</accexamcnt><accexamcompcnt>2324229</accexamcompcnt><carecnt>1825</carecnt><clearcnt>21845</clearcnt><createdt>2020-10-04 09:35:29.507</createdt><deathcnt>421</deathcnt><decidecnt>24091</decidecnt><examcnt>22116</examcnt><resutlnegcnt>2300138</resutlnegcnt><seq>281</seq><statedt>20201004</statedt><statetime>00:00</statetime><updatedt>null</updatedt></item>, <item><accdefrate>1.0362844026</accdefrate><accexamcnt>2339859</accexamcnt><accexamcompcnt>2318572</accexamcompcnt><carecnt>1820</carecnt><clearcnt>21787</clearcnt><createdt>2020-10-03 09:49:45.749</createdt><deathcnt>420</deathcnt><decidecnt>24027</decidecnt><examcnt>21287</examcnt><resutlnegcnt>2294545</resutlnegcnt><seq>280</seq><statedt>20201003</statedt><statetime>00:00</statetime><updatedt>null</updatedt></item>, <item><accdefrate>1.0351882761</accdefrate><accexamcnt>2333777</accexamcnt><accexamcompcnt>2313782</accexamcompcnt><carecnt>1803</carecnt><clearcnt>21733</clearcnt><createdt>2020-10-02 09:51:40.639</createdt><deathcnt>416</deathcnt><decidecnt>23952</decidecnt><examcnt>19995</examcnt><resutlnegcnt>2289830</resutlnegcnt><seq>279</seq><statedt>20201002</statedt><statetime>00:00</statetime><updatedt>null</updatedt></item>, <item><accdefrate>1.0348699492</accdefrate><accexamcnt>2328435</accexamcnt><accexamcompcnt>2308406</accexamcompcnt><carecnt>1808</carecnt><clearcnt>21666</clearcnt><createdt>2020-10-01 09:38:23.382</createdt><deathcnt>415</deathcnt><decidecnt>23889</decidecnt><examcnt>20029</examcnt><resutlnegcnt>2284517</resutlnegcnt><seq>278</seq><statedt>20201001</statedt><statetime>00:00</statetime><updatedt>null</updatedt></item>, <item><accdefrate>1.0342238087</accdefrate><accexamcnt>2322999</accexamcnt><accexamcompcnt>2302403</accexamcompcnt><carecnt>1809</carecnt><clearcnt>21590</clearcnt><createdt>2020-09-30 09:32:00.223</createdt><deathcnt>413</deathcnt><decidecnt>23812</decidecnt><examcnt>20596</examcnt><resutlnegcnt>2278591</resutlnegcnt><seq>277</seq><statedt>20200930</statedt><statetime>00:00</statetime><updatedt>null</updatedt></item>, <item><accdefrate>1.0342238087</accdefrate><accexamcnt>2322999</accexamcnt><accexamcompcnt>2302403</accexamcompcnt><carecnt>1808</carecnt><clearcnt>21591</clearcnt><createdt>2020-09-30 09:32:00.223</createdt><deathcnt>413</deathcnt><decidecnt>23812</decidecnt><examcnt>20596</examcnt><resutlnegcnt>2278591</resutlnegcnt><seq>277</seq><statedt>20200930</statedt><statetime>00:00</statetime><updatedt>2020-09-30 18:56:19.249</updatedt></item>, <item><accdefrate>1.0335422601</accdefrate><accexamcnt>2313044</accexamcnt><accexamcompcnt>2292988</accexamcompcnt><carecnt>1822</carecnt><clearcnt>21470</clearcnt><createdt>2020-09-29 09:40:16.798</createdt><deathcnt>407</deathcnt><decidecnt>23699</decidecnt><examcnt>20056</examcnt><resutlnegcnt>2269289</resutlnegcnt><seq>276</seq><statedt>20200929</statedt><statetime>00:00</statetime><updatedt>null</updatedt></item>, <item><accdefrate>1.0365284161</accdefrate><accexamcnt>2301303</accexamcnt><accexamcompcnt>2282716</accexamcompcnt><carecnt>1963</carecnt><clearcnt>21292</clearcnt><createdt>2020-09-28 10:25:15.422</createdt><deathcnt>406</deathcnt><decidecnt>23661</decidecnt><examcnt>18587</examcnt><resutlnegcnt>2259055</resutlnegcnt><seq>275</seq><statedt>20200928</statedt><statetime>00:00</statetime><updatedt>null</updatedt></item>, <item><accdefrate>1.0366436472</accdefrate><accexamcnt>2296517</accexamcnt><accexamcompcnt>2277639</accexamcompcnt><carecnt>1962</carecnt><clearcnt>21248</clearcnt><createdt>2020-09-27 10:12:36.066</createdt><deathcnt>401</deathcnt><decidecnt>23611</decidecnt><examcnt>18878</examcnt><resutlnegcnt>2254028</resutlnegcnt><seq>274</seq><statedt>20200927</statedt><statetime>00:00</statetime><updatedt>null</updatedt></item>, <item><accdefrate>1.0351094730</accdefrate><accexamcnt>2290345</accexamcnt><accexamcompcnt>2271837</accexamcompcnt><carecnt>1951</carecnt><clearcnt>21166</clearcnt><createdt>2020-09-26 10:01:53.253</createdt><deathcnt>399</deathcnt><decidecnt>23516</decidecnt><examcnt>18508</examcnt><resutlnegcnt>2248321</resutlnegcnt><seq>273</seq><statedt>20200926</statedt><statetime>00:00</statetime><updatedt>null</updatedt></item>, <item><accdefrate>1.0375100466</accdefrate><accexamcnt>2280276</accexamcnt><accexamcompcnt>2260701</accexamcompcnt><carecnt>2082</carecnt><clearcnt>20978</clearcnt><createdt>2020-09-25 09:56:13.802</createdt><deathcnt>395</deathcnt><decidecnt>23455</decidecnt><examcnt>19575</examcnt><resutlnegcnt>2237246</resutlnegcnt><seq>272</seq><statedt>20200925</statedt><statetime>00:00</statetime><updatedt>null</updatedt></item>, <item><accdefrate>1.0382004939</accdefrate><accexamcnt>2268999</accexamcnt><accexamcompcnt>2248217</accexamcompcnt><carecnt>2116</carecnt><clearcnt>20832</clearcnt><createdt>2020-09-24 10:06:21.95</createdt><deathcnt>393</deathcnt><decidecnt>23341</decidecnt><examcnt>20782</examcnt><resutlnegcnt>2224876</resutlnegcnt><seq>271</seq><statedt>20200924</statedt><statetime>00:00</statetime><updatedt>null</updatedt></item>, <item><accdefrate>1.0381099387</accdefrate><accexamcnt>2256899</accexamcnt><accexamcompcnt>2236372</accexamcompcnt><carecnt>2178</carecnt><clearcnt>20650</clearcnt><createdt>2020-09-23 10:10:59.643</createdt><deathcnt>388</deathcnt><decidecnt>23216</decidecnt><examcnt>20527</examcnt><resutlnegcnt>2213156</resutlnegcnt><seq>270</seq><statedt>20200923</statedt><statetime>00:00</statetime><updatedt>null</updatedt></item>, <item><accdefrate>1.0399254688</accdefrate><accexamcnt>2245112</accexamcnt><accexamcompcnt>2221890</accexamcompcnt><carecnt>2277</carecnt><clearcnt>20441</clearcnt><createdt>2020-09-22 10:08:48.145</createdt><deathcnt>388</deathcnt><decidecnt>23106</decidecnt><examcnt>23222</examcnt><resutlnegcnt>2198784</resutlnegcnt><seq>269</seq><statedt>20200922</statedt><statetime>00:00</statetime><updatedt>null</updatedt></item>, <item><accdefrate>1.0432072023</accdefrate><accexamcnt>2231589</accexamcnt><accexamcompcnt>2209053</accexamcompcnt><carecnt>2412</carecnt><clearcnt>20248</clearcnt><createdt>2020-09-21 10:01:42.98</createdt><deathcnt>385</deathcnt><decidecnt>23045</decidecnt><examcnt>22536</examcnt><resutlnegcnt>2186008</resutlnegcnt><seq>268</seq><statedt>20200921</statedt><statetime>00:00</statetime><updatedt>null</updatedt></item>, <item><accdefrate>1.0431673785</accdefrate><accexamcnt>2226701</accexamcnt><accexamcompcnt>2202427</accexamcompcnt><carecnt>2434</carecnt><clearcnt>20158</clearcnt><createdt>2020-09-20 09:52:54.024</createdt><deathcnt>383</deathcnt><decidecnt>22975</decidecnt><examcnt>24274</examcnt><resutlnegcnt>2179452</resutlnegcnt><seq>267</seq><statedt>20200920</statedt><statetime>00:00</statetime><updatedt>null</updatedt></item>, <item><accdefrate>1.0432193476</accdefrate><accexamcnt>2219162</accexamcnt><accexamcompcnt>2194457</accexamcompcnt><carecnt>2545</carecnt><clearcnt>19970</clearcnt><createdt>2020-09-19 10:09:15.94</createdt><deathcnt>378</deathcnt><decidecnt>22893</decidecnt><examcnt>24705</examcnt><resutlnegcnt>2171564</resutlnegcnt><seq>266</seq><statedt>20200919</statedt><statetime>00:00</statetime><updatedt>null</updatedt></item>, <item><accdefrate>1.0446307638</accdefrate><accexamcnt>2206365</accexamcnt><accexamcompcnt>2180962</accexamcompcnt><carecnt>2635</carecnt><clearcnt>19771</clearcnt><createdt>2020-09-18 09:58:09.847</createdt><deathcnt>377</deathcnt><decidecnt>22783</decidecnt><examcnt>25403</examcnt><resutlnegcnt>2158179</resutlnegcnt><seq>265</seq><statedt>20200918</statedt><statetime>00:00</statetime><updatedt>null</updatedt></item>, <item><accdefrate>1.0458441347</accdefrate><accexamcnt>2191892</accexamcnt><accexamcompcnt>2166384</accexamcompcnt><carecnt>2742</carecnt><clearcnt>19543</clearcnt><createdt>2020-09-17 10:09:16.903</createdt><deathcnt>372</deathcnt><decidecnt>22657</decidecnt><examcnt>25508</examcnt><resutlnegcnt>2143727</resutlnegcnt><seq>264</seq><statedt>20200917</statedt><statetime>00:00</statetime><updatedt>null</updatedt></item>, <item><accdefrate>1.0452440559</accdefrate><accexamcnt>2178832</accexamcnt><accexamcompcnt>2152990</accexamcompcnt><carecnt>2827</carecnt><clearcnt>19310</clearcnt><createdt>2020-09-16 09:37:10.616</createdt><deathcnt>367</deathcnt><decidecnt>22504</decidecnt><examcnt>25842</examcnt><resutlnegcnt>2130486</resutlnegcnt><seq>263</seq><statedt>20200916</statedt><statetime>00:00</statetime><updatedt>null</updatedt></item>, <item><accdefrate>1.0476458731</accdefrate><accexamcnt>2164578</accexamcnt><accexamcompcnt>2137268</accexamcompcnt><carecnt>3146</carecnt><clearcnt>18878</clearcnt><createdt>2020-09-15 09:48:41.78</createdt><deathcnt>367</deathcnt><decidecnt>22391</decidecnt><examcnt>27310</examcnt><resutlnegcnt>2114877</resutlnegcnt><seq>262</seq><statedt>20200915</statedt><statetime>00:00</statetime><updatedt>null</updatedt></item>, <item><accdefrate>1.0494338190</accdefrate><accexamcnt>2151002</accexamcnt><accexamcompcnt>2123526</accexamcompcnt><carecnt>3433</carecnt><clearcnt>18489</clearcnt><createdt>2020-09-14 09:54:39.941</createdt><deathcnt>363</deathcnt><decidecnt>22285</decidecnt><examcnt>27476</examcnt><resutlnegcnt>2101241</resutlnegcnt><seq>261</seq><statedt>20200914</statedt><statetime>00:00</statetime><updatedt>null</updatedt></item>, <item><accdefrate>1.0482306145</accdefrate><accexamcnt>2143270</accexamcnt><accexamcompcnt>2115565</accexamcompcnt><carecnt>3592</carecnt><clearcnt>18226</clearcnt><createdt>2020-09-13 11:05:38.708</createdt><deathcnt>358</deathcnt><decidecnt>22176</decidecnt><examcnt>27705</examcnt><resutlnegcnt>2093389</resutlnegcnt><seq>260</seq><statedt>20200913</statedt><statetime>00:00</statetime><updatedt>null</updatedt></item>, <item><accdefrate>1.0464355477</accdefrate><accexamcnt>2135457</accexamcnt><accexamcompcnt>2107631</accexamcompcnt><carecnt>3671</carecnt><clearcnt>18029</clearcnt><createdt>2020-09-12 10:03:19.762</createdt><deathcnt>355</deathcnt><decidecnt>22055</decidecnt><examcnt>27826</examcnt><resutlnegcnt>2085576</resutlnegcnt><seq>259</seq><statedt>20200912</statedt><statetime>00:00</statetime><updatedt>null</updatedt></item>, <item><accdefrate>1.0488623726</accdefrate><accexamcnt>2119211</accexamcnt><accexamcompcnt>2089788</accexamcompcnt><carecnt>3953</carecnt><clearcnt>17616</clearcnt><createdt>2020-09-11 09:34:22.301</createdt><deathcnt>350</deathcnt><decidecnt>21919</decidecnt><examcnt>29423</examcnt><resutlnegcnt>2067869</resutlnegcnt><seq>258</seq><statedt>20200911</statedt><statetime>00:00</statetime><updatedt>null</updatedt></item>, <item><accdefrate>1.0521283303</accdefrate><accexamcnt>2099591</accexamcnt><accexamcompcnt>2066573</accexamcompcnt><carecnt>4037</carecnt><clearcnt>17360</clearcnt><createdt>2020-09-10 09:43:44.767</createdt><deathcnt>346</deathcnt><decidecnt>21743</decidecnt><examcnt>33018</examcnt><resutlnegcnt>2044830</resutlnegcnt><seq>257</seq><statedt>20200910</statedt><statetime>00:00</statetime><updatedt>null</updatedt></item>, <item><accdefrate>1.0552861830</accdefrate><accexamcnt>2082234</accexamcnt><accexamcompcnt>2045701</accexamcompcnt><carecnt>4221</carecnt><clearcnt>17023</clearcnt><createdt>2020-09-09 10:04:44.84</createdt><deathcnt>344</deathcnt><decidecnt>21588</decidecnt><examcnt>36533</examcnt><resutlnegcnt>2024113</resutlnegcnt><seq>256</seq><statedt>20200909</statedt><statetime>00:00</statetime><updatedt>null</updatedt></item>, <item><accdefrate>1.0595696462</accdefrate><accexamcnt>2066078</accexamcnt><accexamcompcnt>2022708</accexamcompcnt><carecnt>4455</carecnt><clearcnt>16636</clearcnt><createdt>2020-09-08 09:34:17.322</createdt><deathcnt>341</deathcnt><decidecnt>21432</decidecnt><examcnt>43370</examcnt><resutlnegcnt>2001276</resutlnegcnt><seq>255</seq><statedt>20200908</statedt><statetime>00:00</statetime><updatedt>null</updatedt></item>, <item><accdefrate>1.0625749680</accdefrate><accexamcnt>2051297</accexamcnt><accexamcompcnt>2004188</accexamcompcnt><carecnt>4663</carecnt><clearcnt>16297</clearcnt><createdt>2020-09-07 09:34:31.98</createdt><deathcnt>336</deathcnt><decidecnt>21296</decidecnt><examcnt>47109</examcnt><resutlnegcnt>1982892</resutlnegcnt><seq>254</seq><statedt>20200907</statedt><statetime>00:00</statetime><updatedt>null</updatedt></item>, <item><accdefrate>1.0608050637</accdefrate><accexamcnt>2045935</accexamcnt><accexamcompcnt>1996314</accexamcompcnt><carecnt>4697</carecnt><clearcnt>16146</clearcnt><createdt>2020-09-06 09:48:30.763</createdt><deathcnt>334</deathcnt><decidecnt>21177</decidecnt><examcnt>49621</examcnt><resutlnegcnt>1975137</resutlnegcnt><seq>253</seq><statedt>20200906</statedt><statetime>00:00</statetime><updatedt>null</updatedt></item>, <item><accdefrate>1.0584553504</accdefrate><accexamcnt>2037045</accexamcnt><accexamcompcnt>1984968</accexamcompcnt><carecnt>4668</carecnt><clearcnt>16009</clearcnt><createdt>2020-09-05 09:34:11.934</createdt><deathcnt>333</deathcnt><decidecnt>21010</decidecnt><examcnt>52077</examcnt><resutlnegcnt>1963958</resutlnegcnt><seq>252</seq><statedt>20200905</statedt><statetime>00:00</statetime><updatedt>null</updatedt></item>, <item><accdefrate>1.0597770817</accdefrate><accexamcnt>2018906</accexamcnt><accexamcompcnt>1966640</accexamcompcnt><carecnt>4728</carecnt><clearcnt>15783</clearcnt><createdt>2020-09-04 09:46:40.727</createdt><deathcnt>331</deathcnt><decidecnt>20842</decidecnt><examcnt>52266</examcnt><resutlnegcnt>1945798</resutlnegcnt><seq>251</seq><statedt>20200904</statedt><statetime>00:00</statetime><updatedt>null</updatedt></item>, <item><accdefrate>1.0613728954</accdefrate><accexamcnt>2000552</accexamcnt><accexamcompcnt>1945028</accexamcompcnt><carecnt>4786</carecnt><clearcnt>15529</clearcnt><createdt>2020-09-03 09:37:35.778</createdt><deathcnt>329</deathcnt><decidecnt>20644</decidecnt><examcnt>55524</examcnt><resutlnegcnt>1924384</resutlnegcnt><seq>250</seq><statedt>20200903</statedt><statetime>00:00</statetime><updatedt>null</updatedt></item>, <item><accdefrate>1.0630881387</accdefrate><accexamcnt>1980295</accexamcnt><accexamcompcnt>1923547</accexamcompcnt><carecnt>4767</carecnt><clearcnt>15356</clearcnt><createdt>2020-09-02 10:20:17.634</createdt><deathcnt>326</deathcnt><decidecnt>20449</decidecnt><examcnt>56748</examcnt><resutlnegcnt>1903098</resutlnegcnt><seq>249</seq><statedt>20200902</statedt><statetime>00:00</statetime><updatedt>null</updatedt></item>, <item><accdefrate>1.0609056124</accdefrate><accexamcnt>1959080</accexamcnt><accexamcompcnt>1902337</accexamcompcnt><carecnt>4660</carecnt><clearcnt>15198</clearcnt><createdt>2020-09-01 09:32:28.222</createdt><deathcnt>324</deathcnt><decidecnt>20182</decidecnt><examcnt>56743</examcnt><resutlnegcnt>1882155</resutlnegcnt><seq>248</seq><statedt>20200901</statedt><statetime>00:00</statetime><updatedt>null</updatedt></item>, <item><accdefrate>1.0611161854</accdefrate><accexamcnt>1937689</accexamcnt><accexamcompcnt>1879813</accexamcompcnt><carecnt>4650</carecnt><clearcnt>14973</clearcnt><createdt>2020-08-31 09:32:30.212</createdt><deathcnt>324</deathcnt><decidecnt>19947</decidecnt><examcnt>57876</examcnt><resutlnegcnt>1859866</resutlnegcnt><seq>247</seq><statedt>20200831</statedt><statetime>00:00</statetime><updatedt>null</updatedt></item>, <item><accdefrate>1.0555963109</accdefrate><accexamcnt>1924170</accexamcnt><accexamcompcnt>1866149</accexamcompcnt><carecnt>4473</carecnt><clearcnt>14903</clearcnt><createdt>2020-08-30 09:37:35.21</createdt><deathcnt>323</deathcnt><decidecnt>19699</decidecnt><examcnt>58021</examcnt><resutlnegcnt>1846450</resutlnegcnt><seq>246</seq><statedt>20200830</statedt><statetime>00:00</statetime><updatedt>null</updatedt></item>, <item><accdefrate>1.0456625754</accdefrate><accexamcnt>1909329</accexamcnt><accexamcompcnt>1855283</accexamcompcnt><carecnt>4314</carecnt><clearcnt>14765</clearcnt><createdt>2020-08-29 09:56:02.115</createdt><deathcnt>321</deathcnt><decidecnt>19400</decidecnt><examcnt>54046</examcnt><resutlnegcnt>1835883</resutlnegcnt><seq>245</seq><statedt>20200829</statedt><statetime>00:00</statetime><updatedt>null</updatedt></item>, <item><accdefrate>1.0384832711</accdefrate><accexamcnt>1887717</accexamcnt><accexamcompcnt>1837006</accexamcompcnt><carecnt>4210</carecnt><clearcnt>14551</clearcnt><createdt>2020-08-28 09:39:46.063</createdt><deathcnt>316</deathcnt><decidecnt>19077</decidecnt><examcnt>50711</examcnt><resutlnegcnt>1817929</resutlnegcnt><seq>244</seq><statedt>20200828</statedt><statetime>00:00</statetime><updatedt>null</updatedt></item>, <item><accdefrate>1.0291944377</accdefrate><accexamcnt>1869579</accexamcnt><accexamcompcnt>1817538</accexamcompcnt><carecnt>3932</carecnt><clearcnt>14461</clearcnt><createdt>2020-08-27 10:15:47.305</createdt><deathcnt>313</deathcnt><decidecnt>18706</decidecnt><examcnt>52041</examcnt><resutlnegcnt>1798832</resutlnegcnt><seq>243</seq><statedt>20200827</statedt><statetime>00:00</statetime><updatedt>null</updatedt></item>, <item><accdefrate>1.0165797393</accdefrate><accexamcnt>1849506</accexamcnt><accexamcompcnt>1796711</accexamcompcnt><carecnt>3585</carecnt><clearcnt>14368</clearcnt><createdt>2020-08-26 10:20:54.096</createdt><deathcnt>312</deathcnt><decidecnt>18265</decidecnt><examcnt>52795</examcnt><resutlnegcnt>1778446</resutlnegcnt><seq>242</seq><statedt>20200826</statedt><statetime>00:00</statetime><updatedt>null</updatedt></item>, <item><accdefrate>1.0107154423</accdefrate><accexamcnt>1825837</accexamcnt><accexamcompcnt>1775475</accexamcompcnt><carecnt>3349</carecnt><clearcnt>14286</clearcnt><createdt>2020-08-25 10:23:00.215</createdt><deathcnt>310</deathcnt><decidecnt>17945</decidecnt><examcnt>50362</examcnt><resutlnegcnt>1757530</resutlnegcnt><seq>241</seq><statedt>20200825</statedt><statetime>00:00</statetime><updatedt>null</updatedt></item>, <item><accdefrate>1.0057349380</accdefrate><accexamcnt>1804422</accexamcnt><accexamcompcnt>1756427</accexamcompcnt><carecnt>3137</carecnt><clearcnt>14219</clearcnt><createdt>2020-08-24 10:17:43.752</createdt><deathcnt>309</deathcnt><decidecnt>17665</decidecnt><examcnt>47995</examcnt><resutlnegcnt>1738762</resutlnegcnt><seq>240</seq><statedt>20200824</statedt><statetime>00:00</statetime><updatedt>null</updatedt></item>, <item><accdefrate>0.9978653630</accdefrate><accexamcnt>1791186</accexamcnt><accexamcompcnt>1743622</accexamcompcnt><carecnt>2890</carecnt><clearcnt>14200</clearcnt><createdt>2020-08-23 10:21:59.464</createdt><deathcnt>309</deathcnt><decidecnt>17399</decidecnt><examcnt>47564</examcnt><resutlnegcnt>1726223</resutlnegcnt><seq>239</seq><statedt>20200823</statedt><statetime>00:00</statetime><updatedt>null</updatedt></item>, <item><accdefrate>0.9808621687</accdefrate><accexamcnt>1775800</accexamcnt><accexamcompcnt>1733373</accexamcompcnt><carecnt>2524</carecnt><clearcnt>14169</clearcnt><createdt>2020-08-22 10:15:55.539</createdt><deathcnt>309</deathcnt><decidecnt>17002</decidecnt><examcnt>42427</examcnt><resutlnegcnt>1716371</resutlnegcnt><seq>238</seq><statedt>20200822</statedt><statetime>00:00</statetime><updatedt>null</updatedt></item>, <item><accdefrate>0.9714010668</accdefrate><accexamcnt>1754123</accexamcnt><accexamcompcnt>1716078</accexamcompcnt><carecnt>2241</carecnt><clearcnt>14120</clearcnt><createdt>2020-08-21 10:21:09.752</createdt><deathcnt>309</deathcnt><decidecnt>16670</decidecnt><examcnt>38045</examcnt><resutlnegcnt>1699408</resutlnegcnt><seq>237</seq><statedt>20200821</statedt><statetime>00:00</statetime><updatedt>null</updatedt></item>, <item><accdefrate>0.9620472195</accdefrate><accexamcnt>1734083</accexamcnt><accexamcompcnt>1699085</accexamcompcnt><carecnt>1976</carecnt><clearcnt>14063</clearcnt><createdt>2020-08-20 10:13:52.572</createdt><deathcnt>307</deathcnt><decidecnt>16346</decidecnt><examcnt>34998</examcnt><resutlnegcnt>1682739</resutlnegcnt><seq>236</seq><statedt>20200820</statedt><statetime>00:00</statetime><updatedt>null</updatedt></item>, <item><accdefrate>0.9535391635</accdefrate><accexamcnt>1715064</accexamcnt><accexamcompcnt>1684042</accexamcompcnt><carecnt>1746</carecnt><clearcnt>14006</clearcnt><createdt>2020-08-19 10:12:19.406</createdt><deathcnt>306</deathcnt><decidecnt>16058</decidecnt><examcnt>31022</examcnt><resutlnegcnt>1667984</resutlnegcnt><seq>235</seq><statedt>20200819</statedt><statetime>00:00</statetime><updatedt>null</updatedt></item>, <item><accdefrate>0.9427433406</accdefrate><accexamcnt>1697042</accexamcnt><accexamcompcnt>1671823</accexamcompcnt><carecnt>1521</carecnt><clearcnt>13934</clearcnt><createdt>2020-08-18 10:13:01.496</createdt><deathcnt>306</deathcnt><decidecnt>15761</decidecnt><examcnt>25219</examcnt><resutlnegcnt>1656062</resutlnegcnt><seq>234</seq><statedt>20200818</statedt><statetime>00:00</statetime><updatedt>null</updatedt></item>, <item><accdefrate>0.9315487305</accdefrate><accexamcnt>1688470</accexamcnt><accexamcompcnt>1665506</accexamcompcnt><carecnt>1293</carecnt><clearcnt>13917</clearcnt><createdt>2020-08-18 09:12:22.918</createdt><deathcnt>305</deathcnt><decidecnt>15515</decidecnt><examcnt>22964</examcnt><resutlnegcnt>1649991</resutlnegcnt><seq>233</seq><statedt>20200817</statedt><statetime>00:00</statetime><updatedt>null</updatedt></item>, <item><accdefrate>0.9228922834</accdefrate><accexamcnt>1681787</accexamcnt><accexamcompcnt>1659782</accexamcompcnt><carecnt>1103</carecnt><clearcnt>13910</clearcnt><createdt>2020-08-16 10:33:30.845</createdt><deathcnt>305</deathcnt><decidecnt>15318</decidecnt><examcnt>22005</examcnt><resutlnegcnt>1644464</resutlnegcnt><seq>232</seq><statedt>20200816</statedt><statetime>00:00</statetime><updatedt>null</updatedt></item>, <item><accdefrate>0.9094273492</accdefrate><accexamcnt>1675296</accexamcnt><accexamcompcnt>1653678</accexamcompcnt><carecnt>833</carecnt><clearcnt>13901</clearcnt><createdt>2020-08-15 09:04:10.134</createdt><deathcnt>305</deathcnt><decidecnt>15039</decidecnt><examcnt>21618</examcnt><resutlnegcnt>1638639</resutlnegcnt><seq>231</seq><statedt>20200815</statedt><statetime>00:00</statetime><updatedt>null</updatedt></item>, <item><accdefrate>0.9041601213</accdefrate><accexamcnt>1665084</accexamcnt><accexamcompcnt>1644952</accexamcompcnt><carecnt>705</carecnt><clearcnt>13863</clearcnt><createdt>2020-08-14 10:25:20.167</createdt><deathcnt>305</deathcnt><decidecnt>14873</decidecnt><examcnt>20132</examcnt><resutlnegcnt>1630079</resutlnegcnt><seq>230</seq><statedt>20200814</statedt><statetime>00:00</statetime><updatedt>null</updatedt></item>, <item><accdefrate>0.9022051188</accdefrate><accexamcnt>1654898</accexamcnt><accexamcompcnt>1637100</accexamcompcnt><carecnt>648</carecnt><clearcnt>13817</clearcnt><createdt>2020-08-13 10:26:12.732</createdt><deathcnt>305</deathcnt><decidecnt>14770</decidecnt><examcnt>17798</examcnt><resutlnegcnt>1622330</resutlnegcnt><seq>229</seq><statedt>20200813</statedt><statetime>00:00</statetime><updatedt>null</updatedt></item>, <item><accdefrate>0.9030999639</accdefrate><accexamcnt>1646652</accexamcnt><accexamcompcnt>1629277</accexamcompcnt><carecnt>623</carecnt><clearcnt>13786</clearcnt><createdt>2020-08-12 10:41:22.169</createdt><deathcnt>305</deathcnt><decidecnt>14714</decidecnt><examcnt>17375</examcnt><resutlnegcnt>1614563</resutlnegcnt><seq>228</seq><statedt>20200812</statedt><statetime>00:00</statetime><updatedt>null</updatedt></item>, <item><accdefrate>0.9047400106</accdefrate><accexamcnt>1637844</accexamcnt><accexamcompcnt>1620355</accexamcompcnt><carecnt>626</carecnt><clearcnt>13729</clearcnt><createdt>2020-08-11 10:28:36.961</createdt><deathcnt>305</deathcnt><decidecnt>14660</decidecnt><examcnt>17489</examcnt><resutlnegcnt>1605695</resutlnegcnt><seq>227</seq><statedt>20200811</statedt><statetime>00:00</statetime><updatedt>null</updatedt></item>, <item><accdefrate>0.9073724476</accdefrate><accexamcnt>1628303</accexamcnt><accexamcompcnt>1611907</accexamcompcnt><carecnt>663</carecnt><clearcnt>13658</clearcnt><createdt>2020-08-10 10:37:49.213</createdt><deathcnt>305</deathcnt><decidecnt>14626</decidecnt><examcnt>16396</examcnt><resutlnegcnt>1597281</resutlnegcnt><seq>226</seq><statedt>20200810</statedt><statetime>00:00</statetime><updatedt>null</updatedt></item>, <item><accdefrate>0.9079222090</accdefrate><accexamcnt>1624650</accexamcnt><accexamcompcnt>1607847</accexamcompcnt><carecnt>651</carecnt><clearcnt>13642</clearcnt><createdt>2020-08-09 10:42:31.546</createdt><deathcnt>305</deathcnt><decidecnt>14598</decidecnt><examcnt>16803</examcnt><resutlnegcnt>1593249</resutlnegcnt><seq>225</seq><statedt>20200809</statedt><statetime>00:00</statetime><updatedt>null</updatedt></item>, <item><accdefrate>0.9076239288</accdefrate><accexamcnt>1620514</accexamcnt><accexamcompcnt>1604409</accexamcompcnt><carecnt>629</carecnt><clearcnt>13629</clearcnt><createdt>2020-08-08 10:18:57.161</createdt><deathcnt>304</deathcnt><decidecnt>14562</decidecnt><examcnt>16105</examcnt><resutlnegcnt>1589847</resutlnegcnt><seq>224</seq><statedt>20200808</statedt><statetime>00:00</statetime><updatedt>null</updatedt></item>, <item><accdefrate>0.9093790242</accdefrate><accexamcnt>1613652</accexamcnt><accexamcompcnt>1596584</accexamcompcnt><carecnt>673</carecnt><clearcnt>13543</clearcnt><createdt>2020-08-07 10:11:42.66</createdt><deathcnt>303</deathcnt><decidecnt>14519</decidecnt><examcnt>17068</examcnt><resutlnegcnt>1582065</resutlnegcnt><seq>223</seq><statedt>20200807</statedt><statetime>00:00</statetime><updatedt>null</updatedt></item>, <item><accdefrate>0.9127731583</accdefrate><accexamcnt>1606487</accexamcnt><accexamcompcnt>1588456</accexamcompcnt><carecnt>696</carecnt><clearcnt>13501</clearcnt><createdt>2020-08-06 10:22:46.898</createdt><deathcnt>302</deathcnt><decidecnt>14499</decidecnt><examcnt>18031</examcnt><resutlnegcnt>1573957</resutlnegcnt><seq>222</seq><statedt>20200806</statedt><statetime>00:00</statetime><updatedt>null</updatedt></item>, <item><accdefrate>0.9151122018</accdefrate><accexamcnt>1598187</accexamcnt><accexamcompcnt>1579697</accexamcompcnt><carecnt>748</carecnt><clearcnt>13406</clearcnt><createdt>2020-08-05 10:20:58.194</createdt><deathcnt>302</deathcnt><decidecnt>14456</decidecnt><examcnt>18490</examcnt><resutlnegcnt>1565241</resutlnegcnt><seq>221</seq><statedt>20200805</statedt><statetime>00:00</statetime><updatedt>null</updatedt></item>, <item><accdefrate>0.9180449328</accdefrate><accexamcnt>1589780</accexamcnt><accexamcompcnt>1571056</accexamcompcnt><carecnt>770</carecnt><clearcnt>13352</clearcnt><createdt>2020-08-04 10:49:58.56</createdt><deathcnt>301</deathcnt><decidecnt>14423</decidecnt><examcnt>18724</examcnt><resutlnegcnt>1556633</resutlnegcnt><seq>220</seq><statedt>20200804</statedt><statetime>00:00</statetime><updatedt>null</updatedt></item>, <item><accdefrate>0.9209808775</accdefrate><accexamcnt>1579757</accexamcnt><accexamcompcnt>1562356</accexamcompcnt><carecnt>808</carecnt><clearcnt>13280</clearcnt><createdt>2020-08-03 10:22:38.424</createdt><deathcnt>301</deathcnt><decidecnt>14389</decidecnt><examcnt>17401</examcnt><resutlnegcnt>1547967</resutlnegcnt><seq>219</seq><statedt>20200803</statedt><statetime>00:00</statetime><updatedt>null</updatedt></item>, <item><accdefrate>0.9217967786</accdefrate><accexamcnt>1576246</accexamcnt><accexamcompcnt>1558478</accexamcompcnt><carecnt>806</carecnt><clearcnt>13259</clearcnt><createdt>2020-08-02 12:17:01.037</createdt><deathcnt>301</deathcnt><decidecnt>14366</decidecnt><examcnt>17768</examcnt><resutlnegcnt>1544112</resutlnegcnt><seq>218</seq><statedt>20200802</statedt><statetime>00:00</statetime><updatedt>null</updatedt></item>, <item><accdefrate>0.9227885516</accdefrate><accexamcnt>1571830</accexamcnt><accexamcompcnt>1553552</accexamcompcnt><carecnt>802</carecnt><clearcnt>13233</clearcnt><createdt>2020-08-01 10:20:04.002</createdt><deathcnt>301</deathcnt><decidecnt>14336</decidecnt><examcnt>18278</examcnt><resutlnegcnt>1539216</resutlnegcnt><seq>217</seq><statedt>20200801</statedt><statetime>00:00</statetime><updatedt>null</updatedt></item>, <item><accdefrate>0.9256107866</accdefrate><accexamcnt>1563796</accexamcnt><accexamcompcnt>1545466</accexamcompcnt><carecnt>821</carecnt><clearcnt>13183</clearcnt><createdt>2020-07-31 10:36:44.935</createdt><deathcnt>301</deathcnt><decidecnt>14305</decidecnt><examcnt>18330</examcnt><resutlnegcnt>1531161</resutlnegcnt><seq>216</seq><statedt>20200731</statedt><statetime>00:00</statetime><updatedt>null</updatedt></item>, <item><accdefrate>0.9282479734</accdefrate><accexamcnt>1556215</accexamcnt><accexamcompcnt>1537197</accexamcompcnt><carecnt>837</carecnt><clearcnt>13132</clearcnt><createdt>2020-07-30 11:11:23.001</createdt><deathcnt>300</deathcnt><decidecnt>14269</decidecnt><examcnt>19018</examcnt><resutlnegcnt>1522928</resutlnegcnt><seq>215</seq><statedt>20200730</statedt><statetime>00:00</statetime><updatedt>2020-07-30 11:14:10.775</updatedt></item>, <item><accdefrate>0.9326686653</accdefrate><accexamcnt>1547307</accexamcnt><accexamcompcnt>1527981</accexamcompcnt><carecnt>882</carecnt><clearcnt>13069</clearcnt><createdt>2020-07-29 10:44:55.248</createdt><deathcnt>300</deathcnt><decidecnt>14251</decidecnt><examcnt>19326</examcnt><resutlnegcnt>1513730</resutlnegcnt><seq>214</seq><statedt>20200729</statedt><statetime>00:00</statetime><updatedt>null</updatedt></item>, <item><accdefrate>0.9360953297</accdefrate><accexamcnt>1537704</accexamcnt><accexamcompcnt>1517260</accexamcompcnt><carecnt>896</carecnt><clearcnt>13007</clearcnt><createdt>2020-07-28 10:31:12.133</createdt><deathcnt>300</deathcnt><decidecnt>14203</decidecnt><examcnt>20444</examcnt><resutlnegcnt>1503057</resutlnegcnt><seq>213</seq><statedt>20200728</statedt><statetime>00:00</statetime><updatedt>null</updatedt></item>, <item><accdefrate>0.9398595945</accdefrate><accexamcnt>1526974</accexamcnt><accexamcompcnt>1508204</accexamcompcnt><carecnt>971</carecnt><clearcnt>12905</clearcnt><createdt>2020-07-27 10:35:55.409</createdt><deathcnt>299</deathcnt><decidecnt>14175</decidecnt><examcnt>18770</examcnt><resutlnegcnt>1494029</resutlnegcnt><seq>212</seq><statedt>20200727</statedt><statetime>00:00</statetime><updatedt>null</updatedt></item>, <item><accdefrate>0.9410046604</accdefrate><accexamcnt>1522926</accexamcnt><accexamcompcnt>1503712</accexamcompcnt><carecnt>962</carecnt><clearcnt>12890</clearcnt><createdt>2020-07-26 10:28:23.583</createdt><deathcnt>298</deathcnt><decidecnt>14150</decidecnt><examcnt>19214</examcnt><resutlnegcnt>1489562</resutlnegcnt><seq>211</seq><statedt>20200726</statedt><statetime>00:00</statetime><updatedt>null</updatedt></item>, <item><accdefrate>0.9401228724</accdefrate><accexamcnt>1518634</accexamcnt><accexamcompcnt>1498953</accexamcompcnt><carecnt>928</carecnt><clearcnt>12866</clearcnt><createdt>2020-07-25 10:19:50.222</createdt><deathcnt>298</deathcnt><decidecnt>14092</decidecnt><examcnt>19681</examcnt><resutlnegcnt>1484861</resutlnegcnt><seq>210</seq><statedt>20200725</statedt><statetime>00:00</statetime><updatedt>null</updatedt></item>, <item><accdefrate>0.9383340224</accdefrate><accexamcnt>1510327</accexamcnt><accexamcompcnt>1489768</accexamcompcnt><carecnt>864</carecnt><clearcnt>12817</clearcnt><createdt>2020-07-24 11:05:47.968</createdt><deathcnt>298</deathcnt><decidecnt>13979</decidecnt><examcnt>20559</examcnt><resutlnegcnt>1475789</resutlnegcnt><seq>209</seq><statedt>20200724</statedt><statetime>00:00</statetime><updatedt>null</updatedt></item>, <item><accdefrate>0.9421157792</accdefrate><accexamcnt>1500854</accexamcnt><accexamcompcnt>1479436</accexamcompcnt><carecnt>883</carecnt><clearcnt>12758</clearcnt><createdt>2020-07-23 10:38:02.297</createdt><deathcnt>297</deathcnt><decidecnt>13938</decidecnt><examcnt>21418</examcnt><resutlnegcnt>1465498</resutlnegcnt><seq>208</seq><statedt>20200723</statedt><statetime>00:00</statetime><updatedt>null</updatedt></item>, <item><accdefrate>0.9439441754</accdefrate><accexamcnt>1492071</accexamcnt><accexamcompcnt>1470320</accexamcompcnt><carecnt>884</carecnt><clearcnt>12698</clearcnt><createdt>2020-07-22 10:27:17.21</createdt><deathcnt>297</deathcnt><decidecnt>13879</decidecnt><examcnt>21751</examcnt><resutlnegcnt>1456441</resutlnegcnt><seq>207</seq><statedt>20200722</statedt><statetime>00:00</statetime><updatedt>null</updatedt></item>, <item><accdefrate>0.9472577108</accdefrate><accexamcnt>1482390</accexamcnt><accexamcompcnt>1458526</accexamcompcnt><carecnt>877</carecnt><clearcnt>12643</clearcnt><createdt>2020-07-21 11:07:32.302</createdt><deathcnt>296</deathcnt><decidecnt>13816</decidecnt><examcnt>23864</examcnt><resutlnegcnt>1444710</resutlnegcnt><seq>206</seq><statedt>20200721</statedt><statetime>00:00</statetime><updatedt>null</updatedt></item>, <item><accdefrate>0.9504510691</accdefrate><accexamcnt>1470193</accexamcnt><accexamcompcnt>1448891</accexamcompcnt><carecnt>903</carecnt><clearcnt>12572</clearcnt><createdt>2020-07-20 10:55:19.896</createdt><deathcnt>296</deathcnt><decidecnt>13771</decidecnt><examcnt>21302</examcnt><resutlnegcnt>1435120</resutlnegcnt><seq>205</seq><statedt>20200720</statedt><statetime>00:00</statetime><updatedt>null</updatedt></item>, <item><accdefrate>0.9523011114</accdefrate><accexamcnt>1465299</accexamcnt><accexamcompcnt>1443346</accexamcompcnt><carecnt>894</carecnt><clearcnt>12556</clearcnt><createdt>2020-07-19 10:19:04.08</createdt><deathcnt>295</deathcnt><decidecnt>13745</decidecnt><examcnt>21953</examcnt><resutlnegcnt>1429601</resutlnegcnt><seq>204</seq><statedt>20200719</statedt><statetime>00:00</statetime><updatedt>null</updatedt></item>, <item><accdefrate>0.9539540284</accdefrate><accexamcnt>1460204</accexamcnt><accexamcompcnt>1437281</accexamcompcnt><carecnt>898</carecnt><clearcnt>12519</clearcnt><createdt>2020-07-18 10:13:20.679</createdt><deathcnt>294</deathcnt><decidecnt>13711</decidecnt><examcnt>22923</examcnt><resutlnegcnt>1423570</resutlnegcnt><seq>203</seq><statedt>20200718</statedt><statetime>00:00</statetime><updatedt>null</updatedt></item>, <item><accdefrate>0.9574853264</accdefrate><accexamcnt>1451017</accexamcnt><accexamcompcnt>1427907</accexamcompcnt><carecnt>919</carecnt><clearcnt>12460</clearcnt><createdt>2020-07-17 10:40:48.691</createdt><deathcnt>293</deathcnt><decidecnt>13672</decidecnt><examcnt>23110</examcnt><resutlnegcnt>1414235</resutlnegcnt><seq>202</seq><statedt>20200717</statedt><statetime>00:00</statetime><updatedt>null</updatedt></item>, <item><accdefrate>0.9599814943</accdefrate><accexamcnt>1441348</accexamcnt><accexamcompcnt>1417944</accexamcompcnt><carecnt>925</carecnt><clearcnt>12396</clearcnt><createdt>2020-07-16 10:44:37.828</createdt><deathcnt>291</deathcnt><decidecnt>13612</decidecnt><examcnt>23404</examcnt><resutlnegcnt>1404332</resutlnegcnt><seq>201</seq><statedt>20200716</statedt><statetime>00:00</statetime><updatedt>null</updatedt></item>, <item><accdefrate>0.9624159901</accdefrate><accexamcnt>1431316</accexamcnt><accexamcompcnt>1408019</accexamcompcnt><carecnt>914</carecnt><clearcnt>12348</clearcnt><createdt>2020-07-15 10:38:15.025</createdt><deathcnt>289</deathcnt><decidecnt>13551</decidecnt><examcnt>23297</examcnt><resutlnegcnt>1394468</resutlnegcnt><seq>200</seq><statedt>20200715</statedt><statetime>00:00</statetime><updatedt>null</updatedt></item>, <item><accdefrate>0.9676816390</accdefrate><accexamcnt>1420616</accexamcnt><accexamcompcnt>1396327</accexamcompcnt><carecnt>941</carecnt><clearcnt>12282</clearcnt><createdt>2020-07-14 10:42:51.773</createdt><deathcnt>289</deathcnt><decidecnt>13512</decidecnt><examcnt>24289</examcnt><resutlnegcnt>1382815</resutlnegcnt><seq>199</seq><statedt>20200714</statedt><statetime>00:00</statetime><updatedt>null</updatedt></item>, <item><accdefrate>0.9721832542</accdefrate><accexamcnt>1408312</accexamcnt><accexamcompcnt>1386467</accexamcompcnt><carecnt>986</carecnt><clearcnt>12204</clearcnt><createdt>2020-07-13 10:20:51.913</createdt><deathcnt>289</deathcnt><decidecnt>13479</decidecnt><examcnt>21845</examcnt><resutlnegcnt>1372988</resutlnegcnt><seq>198</seq><statedt>20200713</statedt><statetime>00:00</statetime><updatedt>null</updatedt></item>, <item><accdefrate>0.9720252058</accdefrate><accexamcnt>1402144</accexamcnt><accexamcompcnt>1380314</accexamcompcnt><carecnt>950</carecnt><clearcnt>12178</clearcnt><createdt>2020-07-12 10:21:53.323</createdt><deathcnt>289</deathcnt><decidecnt>13417</decidecnt><examcnt>21830</examcnt><resutlnegcnt>1366897</resutlnegcnt><seq>197</seq><statedt>20200712</statedt><statetime>00:00</statetime><updatedt>null</updatedt></item>, <item><accdefrate>0.9732960405</accdefrate><accexamcnt>1396941</accexamcnt><accexamcompcnt>1373991</accexamcompcnt><carecnt>941</carecnt><clearcnt>12144</clearcnt><createdt>2020-07-11 10:24:19.527</createdt><deathcnt>288</deathcnt><decidecnt>13373</decidecnt><examcnt>22950</examcnt><resutlnegcnt>1360618</resutlnegcnt><seq>196</seq><statedt>20200711</statedt><statetime>00:00</statetime><updatedt>null</updatedt></item>, <item><accdefrate>0.9797533795</accdefrate><accexamcnt>1384890</accexamcnt><accexamcompcnt>1361363</accexamcompcnt><carecnt>985</carecnt><clearcnt>12065</clearcnt><createdt>2020-07-10 10:16:34.916</createdt><deathcnt>288</deathcnt><decidecnt>13338</decidecnt><examcnt>23527</examcnt><resutlnegcnt>1348025</resutlnegcnt><seq>195</seq><statedt>20200710</statedt><statetime>00:00</statetime><updatedt>null</updatedt></item>, <item><accdefrate>0.9862307555</accdefrate><accexamcnt>1371771</accexamcnt><accexamcompcnt>1347859</accexamcompcnt><carecnt>987</carecnt><clearcnt>12019</clearcnt><createdt>2020-07-09 10:50:30.028</createdt><deathcnt>287</deathcnt><decidecnt>13293</decidecnt><examcnt>23912</examcnt><resutlnegcnt>1334566</resutlnegcnt><seq>194</seq><statedt>20200709</statedt><statetime>00:00</statetime><updatedt>null</updatedt></item>, <item><accdefrate>0.9914488194</accdefrate><accexamcnt>1359734</accexamcnt><accexamcompcnt>1335722</accexamcompcnt><carecnt>989</carecnt><clearcnt>11970</clearcnt><createdt>2020-07-08 10:19:47.422</createdt><deathcnt>285</deathcnt><decidecnt>13244</decidecnt><examcnt>24012</examcnt><resutlnegcnt>1322479</resutlnegcnt><seq>193</seq><statedt>20200708</statedt><statetime>00:00</statetime><updatedt>null</updatedt></item>, <item><accdefrate>0.9966586491</accdefrate><accexamcnt>1346194</accexamcnt><accexamcompcnt>1322519</accexamcompcnt><carecnt>982</carecnt><clearcnt>11914</clearcnt><createdt>2020-07-07 10:15:15.306</createdt><deathcnt>285</deathcnt><decidecnt>13181</decidecnt><examcnt>23675</examcnt><resutlnegcnt>1309338</resutlnegcnt><seq>192</seq><statedt>20200707</statedt><statetime>00:00</statetime><updatedt>null</updatedt></item>, <item><accdefrate>1.0024387563</accdefrate><accexamcnt>1331796</accexamcnt><accexamcompcnt>1310504</accexamcompcnt><carecnt>1005</carecnt><clearcnt>11848</clearcnt><createdt>2020-07-06 10:42:19.893</createdt><deathcnt>284</deathcnt><decidecnt>13137</decidecnt><examcnt>21292</examcnt><resutlnegcnt>1297367</resutlnegcnt><seq>191</seq><statedt>20200706</statedt><statetime>00:00</statetime><updatedt>null</updatedt></item>, <item><accdefrate>1.0034452463</accdefrate><accexamcnt>1326055</accexamcnt><accexamcompcnt>1304406</accexamcompcnt><carecnt>976</carecnt><clearcnt>11832</clearcnt><createdt>2020-07-05 10:25:25.534</createdt><deathcnt>283</deathcnt><decidecnt>13091</decidecnt><examcnt>21649</examcnt><resutlnegcnt>1291317</resutlnegcnt><seq>190</seq><statedt>20200705</statedt><statetime>00:00</statetime><updatedt>null</updatedt></item>, <item><accdefrate>1.0043169904</accdefrate><accexamcnt>1319521</accexamcnt><accexamcompcnt>1297200</accexamcompcnt><carecnt>936</carecnt><clearcnt>11811</clearcnt><createdt>2020-07-04 10:13:42.477</createdt><deathcnt>283</deathcnt><decidecnt>13030</decidecnt><examcnt>22321</examcnt><resutlnegcnt>1284172</resutlnegcnt><seq>189</seq><statedt>20200704</statedt><statetime>00:00</statetime><updatedt>null</updatedt></item>, <item><accdefrate>1.0080073021</accdefrate><accexamcnt>1307761</accexamcnt><accexamcompcnt>1286201</accexamcompcnt><carecnt>926</carecnt><clearcnt>11759</clearcnt><createdt>2020-07-03 10:19:07.857</createdt><deathcnt>282</deathcnt><decidecnt>12967</decidecnt><examcnt>21560</examcnt><resutlnegcnt>1273234</resutlnegcnt><seq>188</seq><statedt>20200703</statedt><statetime>00:00</statetime><updatedt>null</updatedt></item>, <item><accdefrate>1.0111426287</accdefrate><accexamcnt>1295962</accexamcnt><accexamcompcnt>1276180</accexamcompcnt><carecnt>938</carecnt><clearcnt>11684</clearcnt><createdt>2020-07-02 10:27:02.501</createdt><deathcnt>282</deathcnt><decidecnt>12904</decidecnt><examcnt>19782</examcnt><resutlnegcnt>1263276</resutlnegcnt><seq>187</seq><statedt>20200702</statedt><statetime>00:00</statetime><updatedt>null</updatedt></item>, <item><accdefrate>1.0152444684</accdefrate><accexamcnt>1285231</accexamcnt><accexamcompcnt>1265705</accexamcompcnt><carecnt>955</carecnt><clearcnt>11613</clearcnt><createdt>2020-07-01 10:35:05.507</createdt><deathcnt>282</deathcnt><decidecnt>12850</decidecnt><examcnt>19526</examcnt><resutlnegcnt>1252855</resutlnegcnt><seq>186</seq><statedt>20200701</statedt><statetime>00:00</statetime><updatedt>null</updatedt></item>, <item><accdefrate>1.0215043465</accdefrate><accexamcnt>1273765</accexamcnt><accexamcompcnt>1252956</accexamcompcnt><carecnt>981</carecnt><clearcnt>11537</clearcnt><createdt>2020-06-30 11:19:14.228</createdt><deathcnt>282</deathcnt><decidecnt>12800</decidecnt><examcnt>20809</examcnt><resutlnegcnt>1240157</resutlnegcnt><seq>185</seq><statedt>20200630</statedt><statetime>00:00</statetime><updatedt>null</updatedt></item>, <item><accdefrate>1.0275845681</accdefrate><accexamcnt>1259954</accexamcnt><accexamcompcnt>1241455</accexamcompcnt><carecnt>1046</carecnt><clearcnt>11429</clearcnt><createdt>2020-06-29 10:29:35.516</createdt><deathcnt>282</deathcnt><decidecnt>12757</decidecnt><examcnt>18499</examcnt><resutlnegcnt>1228698</resutlnegcnt><seq>184</seq><statedt>20200629</statedt><statetime>00:00</statetime><updatedt>2020-06-29 11:00:25.815</updatedt></item>, <item><accdefrate>1.0314839902</accdefrate><accexamcnt>1251695</accexamcnt><accexamcompcnt>1232690</accexamcompcnt><carecnt>1069</carecnt><clearcnt>11364</clearcnt><createdt>2020-06-28 10:29:27.331</createdt><deathcnt>282</deathcnt><decidecnt>12715</decidecnt><examcnt>19005</examcnt><resutlnegcnt>1219975</resutlnegcnt><seq>183</seq><statedt>20200628</statedt><statetime>00:00</statetime><updatedt>null</updatedt></item>, <item><accdefrate>1.0338144673</accdefrate><accexamcnt>1243780</accexamcnt><accexamcompcnt>1223914</accexamcompcnt><carecnt>1054</carecnt><clearcnt>11317</clearcnt><createdt>2020-06-27 10:47:04.557</createdt><deathcnt>282</deathcnt><decidecnt>12653</decidecnt><examcnt>19866</examcnt><resutlnegcnt>1211261</resutlnegcnt><seq>182</seq><statedt>20200627</statedt><statetime>00:00</statetime><updatedt>null</updatedt></item>, <item><accdefrate>1.0384948499</accdefrate><accexamcnt>1232315</accexamcnt><accexamcompcnt>1213487</accexamcompcnt><carecnt>1148</carecnt><clearcnt>11172</clearcnt><createdt>2020-06-26 10:13:35.473</createdt><deathcnt>282</deathcnt><decidecnt>12602</decidecnt><examcnt>18828</examcnt><resutlnegcnt>1200885</resutlnegcnt><seq>181</seq><statedt>20200626</statedt><statetime>00:00</statetime><updatedt>null</updatedt></item>, <item><accdefrate>1.0455417792</accdefrate><accexamcnt>1220478</accexamcnt><accexamcompcnt>1201578</accexamcompcnt><carecnt>1307</carecnt><clearcnt>10974</clearcnt><createdt>2020-06-25 10:19:08.891</createdt><deathcnt>282</deathcnt><decidecnt>12563</decidecnt><examcnt>18900</examcnt><resutlnegcnt>1189015</resutlnegcnt><seq>180</seq><statedt>20200625</statedt><statetime>00:00</statetime><updatedt>null</updatedt></item>, <item><accdefrate>1.0548221402</accdefrate><accexamcnt>1208597</accexamcnt><accexamcompcnt>1188352</accexamcompcnt><carecnt>1324</carecnt><clearcnt>10930</clearcnt><createdt>2020-06-24 10:31:42.772</createdt><deathcnt>281</deathcnt><decidecnt>12535</decidecnt><examcnt>20245</examcnt><resutlnegcnt>1175817</resutlnegcnt><seq>179</seq><statedt>20200624</statedt><statetime>00:00</statetime><updatedt>null</updatedt></item>, <item><accdefrate>1.0636140726</accdefrate><accexamcnt>1196012</accexamcnt><accexamcompcnt>1173734</accexamcompcnt><carecnt>1295</carecnt><clearcnt>10908</clearcnt><createdt>2020-06-23 10:41:13.976</createdt><deathcnt>281</deathcnt><decidecnt>12484</decidecnt><examcnt>22278</examcnt><resutlnegcnt>1161250</resutlnegcnt><seq>178</seq><statedt>20200623</statedt><statetime>00:00</statetime><updatedt>null</updatedt></item>, <item><accdefrate>1.0697854838</accdefrate><accexamcnt>1182066</accexamcnt><accexamcompcnt>1162663</accexamcompcnt><carecnt>1277</carecnt><clearcnt>10881</clearcnt><createdt>2020-06-22 11:40:10.577</createdt><deathcnt>280</deathcnt><decidecnt>12438</decidecnt><examcnt>19403</examcnt><resutlnegcnt>1150225</resutlnegcnt><seq>177</seq><statedt>20200622</statedt><statetime>00:00</statetime><updatedt>null</updatedt></item>, <item><accdefrate>1.0741167355</accdefrate><accexamcnt>1176463</accexamcnt><accexamcompcnt>1156392</accexamcompcnt><carecnt>1273</carecnt><clearcnt>10868</clearcnt><createdt>2020-06-21 10:10:23.157</createdt><deathcnt>280</deathcnt><decidecnt>12421</decidecnt><examcnt>20071</examcnt><resutlnegcnt>1143971</resutlnegcnt><seq>176</seq><statedt>20200621</statedt><statetime>00:00</statetime><updatedt>null</updatedt></item>, <item><accdefrate>1.0764456500</accdefrate><accexamcnt>1170901</accexamcnt><accexamcompcnt>1149431</accexamcompcnt><carecnt>1237</carecnt><clearcnt>10856</clearcnt><createdt>2020-06-20 10:14:21.623</createdt><deathcnt>280</deathcnt><decidecnt>12373</decidecnt><examcnt>21470</examcnt><resutlnegcnt>1137058</resutlnegcnt><seq>175</seq><statedt>20200620</statedt><statetime>00:00</statetime><updatedt>null</updatedt></item>, <item><accdefrate>1.0824428058</accdefrate><accexamcnt>1158063</accexamcnt><accexamcompcnt>1136873</accexamcompcnt><carecnt>1191</carecnt><clearcnt>10835</clearcnt><createdt>2020-06-19 10:32:23.743</createdt><deathcnt>280</deathcnt><decidecnt>12306</decidecnt><examcnt>21190</examcnt><resutlnegcnt>1124567</resutlnegcnt><seq>174</seq><statedt>20200619</statedt><statetime>00:00</statetime><updatedt>null</updatedt></item>, <item><accdefrate>1.0904823674</accdefrate><accexamcnt>1145712</accexamcnt><accexamcompcnt>1123998</accexamcompcnt><carecnt>1177</carecnt><clearcnt>10800</clearcnt><createdt>2020-06-18 10:12:45.408</createdt><deathcnt>280</deathcnt><decidecnt>12257</decidecnt><examcnt>21714</examcnt><resutlnegcnt>1111741</resutlnegcnt><seq>173</seq><statedt>20200618</statedt><statetime>00:00</statetime><updatedt>null</updatedt></item>, <item><accdefrate>1.0975998214</accdefrate><accexamcnt>1132823</accexamcnt><accexamcompcnt>1111334</accexamcompcnt><carecnt>1145</carecnt><clearcnt>10774</clearcnt><createdt>2020-06-17 10:14:34.423</createdt><deathcnt>279</deathcnt><decidecnt>12198</decidecnt><examcnt>21489</examcnt><resutlnegcnt>1099136</resutlnegcnt><seq>172</seq><statedt>20200617</statedt><statetime>00:00</statetime><updatedt>null</updatedt></item>, <item><accdefrate>1.1078855382</accdefrate><accexamcnt>1119767</accexamcnt><accexamcompcnt>1097135</accexamcompcnt><carecnt>1117</carecnt><clearcnt>10760</clearcnt><createdt>2020-06-16 10:16:46.75</createdt><deathcnt>278</deathcnt><decidecnt>12155</decidecnt><examcnt>22632</examcnt><resutlnegcnt>1084980</resutlnegcnt><seq>171</seq><statedt>20200616</statedt><statetime>00:00</statetime><updatedt>null</updatedt></item>, <item><accdefrate>1.1172190545</accdefrate><accexamcnt>1105719</accexamcnt><accexamcompcnt>1084926</accexamcompcnt><carecnt>1114</carecnt><clearcnt>10730</clearcnt><createdt>2020-06-15 10:16:22.312</createdt><deathcnt>277</deathcnt><decidecnt>12121</decidecnt><examcnt>20793</examcnt><resutlnegcnt>1072805</resutlnegcnt><seq>170</seq><statedt>20200615</statedt><statetime>00:00</statetime><updatedt>null</updatedt></item>, <item><accdefrate>1.1199559580</accdefrate><accexamcnt>1100327</accexamcnt><accexamcompcnt>1078971</accexamcompcnt><carecnt>1090</carecnt><clearcnt>10718</clearcnt><createdt>2020-06-14 10:19:17.655</createdt><deathcnt>277</deathcnt><decidecnt>12085</decidecnt><examcnt>21356</examcnt><resutlnegcnt>1066887</resutlnegcnt><seq>169</seq><statedt>20200614</statedt><statetime>00:00</statetime><updatedt>null</updatedt></item>, <item><accdefrate>1.1247480984</accdefrate><accexamcnt>1094703</accexamcnt><accexamcompcnt>1071351</accexamcompcnt><carecnt>1083</carecnt><clearcnt>10691</clearcnt><createdt>2020-06-13 10:11:42.777</createdt><deathcnt>277</deathcnt><decidecnt>12051</decidecnt><examcnt>23352</examcnt><resutlnegcnt>1059301</resutlnegcnt><seq>168</seq><statedt>20200613</statedt><statetime>00:00</statetime><updatedt>null</updatedt></item>, <item><accdefrate>1.1352178592</accdefrate><accexamcnt>1081486</accexamcnt><accexamcompcnt>1057242</accexamcompcnt><carecnt>1057</carecnt><clearcnt>10669</clearcnt><createdt>2020-06-12 10:22:23.274</createdt><deathcnt>277</deathcnt><decidecnt>12003</decidecnt><examcnt>24244</examcnt><resutlnegcnt>1045240</resutlnegcnt><seq>167</seq><statedt>20200612</statedt><statetime>00:00</statetime><updatedt>null</updatedt></item>, <item><accdefrate>1.1471173706</accdefrate><accexamcnt>1066887</accexamcnt><accexamcompcnt>1041393</accexamcompcnt><carecnt>1017</carecnt><clearcnt>10654</clearcnt><createdt>2020-06-11 10:30:28.32</createdt><deathcnt>276</deathcnt><decidecnt>11947</decidecnt><examcnt>25494</examcnt><resutlnegcnt>1029447</resutlnegcnt><seq>166</seq><statedt>20200611</statedt><statetime>00:00</statetime><updatedt>null</updatedt></item>, <item><accdefrate>1.1602264883</accdefrate><accexamcnt>1051971</accexamcnt><accexamcompcnt>1025748</accexamcompcnt><carecnt>1015</carecnt><clearcnt>10611</clearcnt><createdt>2020-06-10 10:13:47.554</createdt><deathcnt>276</deathcnt><decidecnt>11902</decidecnt><examcnt>26223</examcnt><resutlnegcnt>1013847</resutlnegcnt><seq>165</seq><statedt>20200610</statedt><statetime>00:00</statetime><updatedt>null</updatedt></item>, <item><accdefrate>1.1750684407</accdefrate><accexamcnt>1035996</accexamcnt><accexamcompcnt>1008537</accexamcompcnt><carecnt>989</carecnt><clearcnt>10589</clearcnt><createdt>2020-06-09 10:08:46.492</createdt><deathcnt>274</deathcnt><decidecnt>11852</decidecnt><examcnt>27459</examcnt><resutlnegcnt>996686</resutlnegcnt><seq>164</seq><statedt>20200609</statedt><statetime>00:00</statetime><updatedt>null</updatedt></item>, <item><accdefrate>1.1886231069</accdefrate><accexamcnt>1018213</accexamcnt><accexamcompcnt>993839</accexamcompcnt><carecnt>978</carecnt><clearcnt>10563</clearcnt><createdt>2020-06-08 10:14:00.756</createdt><deathcnt>273</deathcnt><decidecnt>11814</decidecnt><examcnt>24374</examcnt><resutlnegcnt>982026</resutlnegcnt><seq>163</seq><statedt>20200608</statedt><statetime>00:00</statetime><updatedt>null</updatedt></item>, <item><accdefrate>1.1939717405</accdefrate><accexamcnt>1012769</accexamcnt><accexamcompcnt>986288</accexamcompcnt><carecnt>951</carecnt><clearcnt>10552</clearcnt><createdt>2020-06-07 10:20:08.998</createdt><deathcnt>273</deathcnt><decidecnt>11776</decidecnt><examcnt>26481</examcnt><resutlnegcnt>974512</resutlnegcnt><seq>162</seq><statedt>20200607</statedt><statetime>00:00</statetime><updatedt>null</updatedt></item>, <item><accdefrate>1.1990574522</accdefrate><accexamcnt>1005305</accexamcnt><accexamcompcnt>977351</accexamcompcnt><carecnt>915</carecnt><clearcnt>10531</clearcnt><createdt>2020-06-06 10:49:23.14</createdt><deathcnt>273</deathcnt><decidecnt>11719</decidecnt><examcnt>27954</examcnt><resutlnegcnt>965632</resutlnegcnt><seq>161</seq><statedt>20200606</statedt><statetime>00:00</statetime><updatedt>null</updatedt></item>, <item><accdefrate>1.2126452669</accdefrate><accexamcnt>990960</accexamcnt><accexamcompcnt>962194</accexamcompcnt><carecnt>889</carecnt><clearcnt>10506</clearcnt><createdt>2020-06-05 10:56:50.891</createdt><deathcnt>273</deathcnt><decidecnt>11668</decidecnt><examcnt>28766</examcnt><resutlnegcnt>950526</resutlnegcnt><seq>160</seq><statedt>20200605</statedt><statetime>00:00</statetime><updatedt>null</updatedt></item>, <item><accdefrate>1.2297244567</accdefrate><accexamcnt>973858</accexamcnt><accexamcompcnt>945659</accexamcompcnt><carecnt>857</carecnt><clearcnt>10499</clearcnt><createdt>2020-06-04 10:27:45.93</createdt><deathcnt>273</deathcnt><decidecnt>11629</decidecnt><examcnt>28199</examcnt><resutlnegcnt>934030</resutlnegcnt><seq>159</seq><statedt>20200604</statedt><statetime>00:00</statetime><updatedt>null</updatedt></item>, <item><accdefrate>1.2475954991</accdefrate><accexamcnt>956852</accexamcnt><accexamcompcnt>928987</accexamcompcnt><carecnt>850</carecnt><clearcnt>10467</clearcnt><createdt>2020-06-03 10:25:46.26</createdt><deathcnt>273</deathcnt><decidecnt>11590</decidecnt><examcnt>27865</examcnt><resutlnegcnt>917397</resutlnegcnt><seq>158</seq><statedt>20200603</statedt><statetime>00:00</statetime><updatedt>null</updatedt></item>, <item><accdefrate>1.2669483571</accdefrate><accexamcnt>939851</accexamcnt><accexamcompcnt>910929</accexamcompcnt><carecnt>823</carecnt><clearcnt>10446</clearcnt><createdt>2020-06-02 10:15:46.159</createdt><deathcnt>272</deathcnt><decidecnt>11541</decidecnt><examcnt>28922</examcnt><resutlnegcnt>899388</resutlnegcnt><seq>157</seq><statedt>20200602</statedt><statetime>00:00</statetime><updatedt>null</updatedt></item>, <item><accdefrate>1.2819098372</accdefrate><accexamcnt>921391</accexamcnt><accexamcompcnt>897333</accexamcompcnt><carecnt>810</carecnt><clearcnt>10422</clearcnt><createdt>2020-06-01 10:13:09.747</createdt><deathcnt>271</deathcnt><decidecnt>11503</decidecnt><examcnt>24058</examcnt><resutlnegcnt>885830</resutlnegcnt><seq>156</seq><statedt>20200601</statedt><statetime>00:00</statetime><updatedt>null</updatedt></item>, <item><accdefrate>1.2921282483</accdefrate><accexamcnt>910822</accexamcnt><accexamcompcnt>887528</accexamcompcnt><carecnt>793</carecnt><clearcnt>10405</clearcnt><createdt>2020-05-31 10:22:37.861</createdt><deathcnt>270</deathcnt><decidecnt>11468</decidecnt><examcnt>23294</examcnt><resutlnegcnt>876060</resutlnegcnt><seq>155</seq><statedt>20200531</statedt><statetime>00:00</statetime><updatedt>null</updatedt></item>, <item><accdefrate>1.3051518190</accdefrate><accexamcnt>902901</accexamcnt><accexamcompcnt>876603</accexamcompcnt><carecnt>774</carecnt><clearcnt>10398</clearcnt><createdt>2020-05-30 10:12:26.752</createdt><deathcnt>269</deathcnt><decidecnt>11441</decidecnt><examcnt>26298</examcnt><resutlnegcnt>865162</resutlnegcnt><seq>154</seq><statedt>20200530</statedt><statetime>00:00</statetime><updatedt>null</updatedt></item>, <item><accdefrate>1.3249465756</accdefrate><accexamcnt>885120</accexamcnt><accexamcompcnt>860563</accexamcompcnt><carecnt>770</carecnt><clearcnt>10363</clearcnt><createdt>2020-05-29 10:10:53.131</createdt><deathcnt>269</deathcnt><decidecnt>11402</decidecnt><examcnt>24557</examcnt><resutlnegcnt>849161</resutlnegcnt><seq>153</seq><statedt>20200529</statedt><statetime>00:00</statetime><updatedt>null</updatedt></item>, <item><accdefrate>1.3404293533</accdefrate><accexamcnt>868666</accexamcnt><accexamcompcnt>846296</accexamcompcnt><carecnt>735</carecnt><clearcnt>10340</clearcnt><createdt>2020-05-28 10:11:27.895</createdt><deathcnt>269</deathcnt><decidecnt>11344</decidecnt><examcnt>22370</examcnt><resutlnegcnt>834952</resutlnegcnt><seq>152</seq><statedt>20200528</statedt><statetime>00:00</statetime><updatedt>null</updatedt></item>, <item><accdefrate>1.3542674753</accdefrate><accexamcnt>852876</accexamcnt><accexamcompcnt>831815</accexamcompcnt><carecnt>701</carecnt><clearcnt>10295</clearcnt><createdt>2020-05-27 10:16:33.139</createdt><deathcnt>269</deathcnt><decidecnt>11265</decidecnt><examcnt>21061</examcnt><resutlnegcnt>820550</resutlnegcnt><seq>151</seq><statedt>20200527</statedt><statetime>00:00</statetime><updatedt>null</updatedt></item>, <item><accdefrate>1.3732045885</accdefrate><accexamcnt>839475</accexamcnt><accexamcompcnt>817431</accexamcompcnt><carecnt>681</carecnt><clearcnt>10275</clearcnt><createdt>2020-05-26 10:12:48.677</createdt><deathcnt>269</deathcnt><decidecnt>11225</decidecnt><examcnt>22044</examcnt><resutlnegcnt>806206</resutlnegcnt><seq>150</seq><statedt>20200526</statedt><statetime>00:00</statetime><updatedt>null</updatedt></item>, <item><accdefrate>1.3880012088</accdefrate><accexamcnt>826437</accexamcnt><accexamcompcnt>807348</accexamcompcnt><carecnt>713</carecnt><clearcnt>10226</clearcnt><createdt>2020-05-25 10:27:08.014</createdt><deathcnt>267</deathcnt><decidecnt>11206</decidecnt><examcnt>19089</examcnt><resutlnegcnt>796142</resutlnegcnt><seq>149</seq><statedt>20200525</statedt><statetime>00:00</statetime><updatedt>null</updatedt></item>, <item><accdefrate>1.3988269354</accdefrate><accexamcnt>820289</accexamcnt><accexamcompcnt>799956</accexamcompcnt><carecnt>711</carecnt><clearcnt>10213</clearcnt><createdt>2020-05-24 10:29:09.658</createdt><deathcnt>266</deathcnt><decidecnt>11190</decidecnt><examcnt>20333</examcnt><resutlnegcnt>788766</resutlnegcnt><seq>148</seq><statedt>20200524</statedt><statetime>00:00</statetime><updatedt>null</updatedt></item>, <item><accdefrate>1.4082091086</accdefrate><accexamcnt>814420</accexamcnt><accexamcompcnt>792851</accexamcompcnt><carecnt>705</carecnt><clearcnt>10194</clearcnt><createdt>2020-05-23 10:34:53.857</createdt><deathcnt>266</deathcnt><decidecnt>11165</decidecnt><examcnt>21569</examcnt><resutlnegcnt>781686</resutlnegcnt><seq>147</seq><statedt>20200523</statedt><statetime>00:00</statetime><updatedt>null</updatedt></item>, <item><accdefrate>1.4245677200</accdefrate><accexamcnt>802418</accexamcnt><accexamcompcnt>782132</accexamcompcnt><carecnt>716</carecnt><clearcnt>10162</clearcnt><createdt>2020-05-22 10:15:38.071</createdt><deathcnt>264</deathcnt><decidecnt>11142</decidecnt><examcnt>20286</examcnt><resutlnegcnt>770990</resutlnegcnt><seq>146</seq><statedt>20200522</statedt><statetime>00:00</statetime><updatedt>null</updatedt></item>, <item><accdefrate>1.4433003069</accdefrate><accexamcnt>788684</accexamcnt><accexamcompcnt>770595</accexamcompcnt><carecnt>723</carecnt><clearcnt>10135</clearcnt><createdt>2020-05-21 10:24:06.599</createdt><deathcnt>264</deathcnt><decidecnt>11122</decidecnt><examcnt>18089</examcnt><resutlnegcnt>759473</resutlnegcnt><seq>145</seq><statedt>20200521</statedt><statetime>00:00</statetime><updatedt>null</updatedt></item>, <item><accdefrate>1.4616843972</accdefrate><accexamcnt>776433</accexamcnt><accexamcompcnt>760082</accexamcompcnt><carecnt>781</carecnt><clearcnt>10066</clearcnt><createdt>2020-05-20 10:13:17.176</createdt><deathcnt>263</deathcnt><decidecnt>11110</decidecnt><examcnt>16351</examcnt><resutlnegcnt>748972</resutlnegcnt><seq>144</seq><statedt>20200520</statedt><statetime>00:00</statetime><updatedt>null</updatedt></item>, <item><accdefrate>1.4797321575</accdefrate><accexamcnt>765574</accexamcnt><accexamcompcnt>748649</accexamcompcnt><carecnt>877</carecnt><clearcnt>9938</clearcnt><createdt>2020-05-19 10:22:38.488</createdt><deathcnt>263</deathcnt><decidecnt>11078</decidecnt><examcnt>16925</examcnt><resutlnegcnt>737571</resutlnegcnt><seq>143</seq><statedt>20200519</statedt><statetime>00:00</statetime><updatedt>null</updatedt></item>, <item><accdefrate>1.5011165105</accdefrate><accexamcnt>753211</accexamcnt><accexamcompcnt>737118</accexamcompcnt><carecnt>898</carecnt><clearcnt>9904</clearcnt><createdt>2020-05-18 10:18:09.187</createdt><deathcnt>263</deathcnt><decidecnt>11065</decidecnt><examcnt>16093</examcnt><resutlnegcnt>726053</resutlnegcnt><seq>142</seq><statedt>20200518</statedt><statetime>00:00</statetime><updatedt>null</updatedt></item>, <item><accdefrate>1.5137131451</accdefrate><accexamcnt>747653</accexamcnt><accexamcompcnt>729993</accexamcompcnt><carecnt>900</carecnt><clearcnt>9888</clearcnt><createdt>2020-05-17 10:12:11.289</createdt><deathcnt>262</deathcnt><decidecnt>11050</decidecnt><examcnt>17660</examcnt><resutlnegcnt>718943</resutlnegcnt><seq>141</seq><statedt>20200517</statedt><statetime>00:00</statetime><updatedt>null</updatedt></item>, <item><accdefrate>1.5280312113</accdefrate><accexamcnt>740645</accexamcnt><accexamcompcnt>722302</accexamcompcnt><carecnt>924</carecnt><clearcnt>9851</clearcnt><createdt>2020-05-16 10:19:43.567</createdt><deathcnt>262</deathcnt><decidecnt>11037</decidecnt><examcnt>18343</examcnt><resutlnegcnt>711265</resutlnegcnt><seq>140</seq><statedt>20200516</statedt><statetime>00:00</statetime><updatedt>2020-05-16 10:40:31.389</updatedt></item>, <item><accdefrate>1.5586980386</accdefrate><accexamcnt>726747</accexamcnt><accexamcompcnt>706872</accexamcompcnt><carecnt>937</carecnt><clearcnt>9821</clearcnt><createdt>2020-05-15 10:33:33.767</createdt><deathcnt>260</deathcnt><decidecnt>11018</decidecnt><examcnt>19875</examcnt><resutlnegcnt>695854</resutlnegcnt><seq>139</seq><statedt>20200515</statedt><statetime>00:00</statetime><updatedt>null</updatedt></item>, <item><accdefrate>1.5911413772</accdefrate><accexamcnt>711484</accexamcnt><accexamcompcnt>690762</accexamcompcnt><carecnt>969</carecnt><clearcnt>9762</clearcnt><createdt>2020-05-14 10:18:24.652</createdt><deathcnt>260</deathcnt><decidecnt>10991</decidecnt><examcnt>20722</examcnt><resutlnegcnt>679771</resutlnegcnt><seq>138</seq><statedt>20200514</statedt><statetime>00:00</statetime><updatedt>null</updatedt></item>, <item><accdefrate>1.6207800503</accdefrate><accexamcnt>695920</accexamcnt><accexamcompcnt>676341</accexamcompcnt><carecnt>1008</carecnt><clearcnt>9695</clearcnt><createdt>2020-05-13 10:41:14.635</createdt><deathcnt>259</deathcnt><decidecnt>10962</decidecnt><examcnt>19579</examcnt><resutlnegcnt>665379</resutlnegcnt><seq>137</seq><statedt>20200513</statedt><statetime>00:00</statetime><updatedt>null</updatedt></item>, <item><accdefrate>1.6456000963</accdefrate><accexamcnt>680890</accexamcnt><accexamcompcnt>664560</accexamcompcnt><carecnt>1008</carecnt><clearcnt>9670</clearcnt><createdt>2020-05-12 10:12:13.807</createdt><deathcnt>258</deathcnt><decidecnt>10936</decidecnt><examcnt>16330</examcnt><resutlnegcnt>653624</resutlnegcnt><seq>136</seq><statedt>20200512</statedt><statetime>00:00</statetime><updatedt>null</updatedt></item>, <item><accdefrate>1.6589868759</accdefrate><accexamcnt>668492</accexamcnt><accexamcompcnt>657570</accexamcompcnt><carecnt>1021</carecnt><clearcnt>9632</clearcnt><createdt>2020-05-11 10:25:58.1</createdt><deathcnt>256</deathcnt><decidecnt>10909</decidecnt><examcnt>10922</examcnt><resutlnegcnt>646661</resutlnegcnt><seq>135</seq><statedt>20200511</statedt><statetime>00:00</statetime><updatedt>null</updatedt></item>, <item><accdefrate>1.6633066058</accdefrate><accexamcnt>663886</accexamcnt><accexamcompcnt>653758</accexamcompcnt><carecnt>1008</carecnt><clearcnt>9610</clearcnt><createdt>2020-05-10 10:14:56.134</createdt><deathcnt>256</deathcnt><decidecnt>10874</decidecnt><examcnt>10128</examcnt><resutlnegcnt>642884</resutlnegcnt><seq>134</seq><statedt>20200510</statedt><statetime>00:00</statetime><updatedt>null</updatedt></item>, <item><accdefrate>1.6654452377</accdefrate><accexamcnt>660030</accexamcnt><accexamcompcnt>650877</accexamcompcnt><carecnt>1016</carecnt><clearcnt>9568</clearcnt><createdt>2020-05-09 10:17:14.743</createdt><deathcnt>256</deathcnt><decidecnt>10840</decidecnt><examcnt>9153</examcnt><resutlnegcnt>640037</resutlnegcnt><seq>133</seq><statedt>20200509</statedt><statetime>00:00</statetime><updatedt>null</updatedt></item>, <item><accdefrate>1.6752425711</accdefrate><accexamcnt>654863</accexamcnt><accexamcompcnt>645996</accexamcompcnt><carecnt>1082</carecnt><clearcnt>9484</clearcnt><createdt>2020-05-08 10:18:50.37</createdt><deathcnt>256</deathcnt><decidecnt>10822</decidecnt><examcnt>8867</examcnt><resutlnegcnt>635174</resutlnegcnt><seq>132</seq><statedt>20200508</statedt><statetime>00:00</statetime><updatedt>null</updatedt></item>, <item><accdefrate>1.6865353322</accdefrate><accexamcnt>649388</accexamcnt><accexamcompcnt>640959</accexamcompcnt><carecnt>1135</carecnt><clearcnt>9419</clearcnt><createdt>2020-05-07 10:43:55.587</createdt><deathcnt>256</deathcnt><decidecnt>10810</decidecnt><examcnt>8429</examcnt><resutlnegcnt>630149</resutlnegcnt><seq>131</seq><statedt>20200507</statedt><statetime>00:00</statetime><updatedt>null</updatedt></item>, <item><accdefrate>1.7015018438</accdefrate><accexamcnt>643095</accexamcnt><accexamcompcnt>635086</accexamcompcnt><carecnt>1218</carecnt><clearcnt>9333</clearcnt><createdt>2020-05-06 10:16:11.219</createdt><deathcnt>255</deathcnt><decidecnt>10806</decidecnt><examcnt>8009</examcnt><resutlnegcnt>624280</resutlnegcnt><seq>130</seq><statedt>20200506</statedt><statetime>00:00</statetime><updatedt>null</updatedt></item>, <item><accdefrate>1.7111750628</accdefrate><accexamcnt>640237</accexamcnt><accexamcompcnt>631379</accexamcompcnt><carecnt>1267</carecnt><clearcnt>9283</clearcnt><createdt>2020-05-05 10:20:41.144</createdt><deathcnt>254</deathcnt><decidecnt>10804</decidecnt><examcnt>8858</examcnt><resutlnegcnt>620575</resutlnegcnt><seq>129</seq><statedt>20200505</statedt><statetime>00:00</statetime><updatedt>null</updatedt></item>, <item><accdefrate>1.7261024858</accdefrate><accexamcnt>633921</accexamcnt><accexamcompcnt>625745</accexamcompcnt><carecnt>1332</carecnt><clearcnt>9217</clearcnt><createdt>2020-05-04 10:11:32.113</createdt><deathcnt>252</deathcnt><decidecnt>10801</decidecnt><examcnt>8176</examcnt><resutlnegcnt>614944</resutlnegcnt><seq>128</seq><statedt>20200504</statedt><statetime>00:00</statetime><updatedt>null</updatedt></item>, <item><accdefrate>1.7341356234</accdefrate><accexamcnt>630973</accexamcnt><accexamcompcnt>622385</accexamcompcnt><carecnt>1360</carecnt><clearcnt>9183</clearcnt><createdt>2020-05-03 10:54:37.387</createdt><deathcnt>250</deathcnt><decidecnt>10793</decidecnt><examcnt>8588</examcnt><resutlnegcnt>611592</resutlnegcnt><seq>127</seq><statedt>20200503</statedt><statetime>00:00</statetime><updatedt>null</updatedt></item>, <item><accdefrate>1.7413329111</accdefrate><accexamcnt>627562</accexamcnt><accexamcompcnt>619066</accexamcompcnt><carecnt>1407</carecnt><clearcnt>9123</clearcnt><createdt>2020-05-02 10:22:19.467</createdt><deathcnt>250</deathcnt><decidecnt>10780</decidecnt><examcnt>8496</examcnt><resutlnegcnt>608286</resutlnegcnt><seq>126</seq><statedt>20200502</statedt><statetime>00:00</statetime><updatedt>null</updatedt></item>, <item><accdefrate>1.7536263965</accdefrate><accexamcnt>623069</accexamcnt><accexamcompcnt>614384</accexamcompcnt><carecnt>1454</carecnt><clearcnt>9072</clearcnt><createdt>2020-05-01 10:24:37.982</createdt><deathcnt>248</deathcnt><decidecnt>10774</decidecnt><examcnt>8685</examcnt><resutlnegcnt>603610</resutlnegcnt><seq>125</seq><statedt>20200501</statedt><statetime>00:00</statetime><updatedt>null</updatedt></item>, <item><accdefrate>1.7611538379</accdefrate><accexamcnt>619881</accexamcnt><accexamcompcnt>611247</accexamcompcnt><carecnt>1459</carecnt><clearcnt>9059</clearcnt><createdt>2020-04-30 10:12:41.865</createdt><deathcnt>247</deathcnt><decidecnt>10765</decidecnt><examcnt>8634</examcnt><resutlnegcnt>600482</resutlnegcnt><seq>124</seq><statedt>20200430</statedt><statetime>00:00</statetime><updatedt>null</updatedt></item>, <item><accdefrate>1.7760649622</accdefrate><accexamcnt>614197</accexamcnt><accexamcompcnt>605890</accexamcompcnt><carecnt>1593</carecnt><clearcnt>8922</clearcnt><createdt>2020-04-29 10:26:00.327</createdt><deathcnt>246</deathcnt><decidecnt>10761</decidecnt><examcnt>8307</examcnt><resutlnegcnt>595129</resutlnegcnt><seq>123</seq><statedt>20200429</statedt><statetime>00:00</statetime><updatedt>null</updatedt></item>, <item><accdefrate>1.7940601791</accdefrate><accexamcnt>608514</accexamcnt><accexamcompcnt>599311</accexamcompcnt><carecnt>1654</carecnt><clearcnt>8854</clearcnt><createdt>2020-04-28 10:22:15.984</createdt><deathcnt>244</deathcnt><decidecnt>10752</decidecnt><examcnt>9203</examcnt><resutlnegcnt>588559</resutlnegcnt><seq>122</seq><statedt>20200428</statedt><statetime>00:00</statetime><updatedt>null</updatedt></item>, <item><accdefrate>1.8115104636</accdefrate><accexamcnt>601660</accexamcnt><accexamcompcnt>592765</accexamcompcnt><carecnt>1731</carecnt><clearcnt>8764</clearcnt><createdt>2020-04-27 10:12:27.27</createdt><deathcnt>243</deathcnt><decidecnt>10738</decidecnt><examcnt>8895</examcnt><resutlnegcnt>582027</resutlnegcnt><seq>121</seq><statedt>20200427</statedt><statetime>00:00</statetime><updatedt></updatedt></item>, <item><accdefrate>1.8205082082</accdefrate><accexamcnt>598285</accexamcnt><accexamcompcnt>589286</accexamcompcnt><carecnt>1769</carecnt><clearcnt>8717</clearcnt><createdt>2020-04-26 10:12:24.24</createdt><deathcnt>242</deathcnt><decidecnt>10728</decidecnt><examcnt>8999</examcnt><resutlnegcnt>578558</resutlnegcnt><seq>120</seq><statedt>20200426</statedt><statetime>00:00</statetime><updatedt></updatedt></item>, <item><accdefrate>1.8293161655</accdefrate><accexamcnt>595161</accexamcnt><accexamcompcnt>585902</accexamcompcnt><carecnt>1843</carecnt><clearcnt>8635</clearcnt><createdt>2020-04-25 10:58:08.08</createdt><deathcnt>240</deathcnt><decidecnt>10718</decidecnt><examcnt>9259</examcnt><resutlnegcnt>575184</resutlnegcnt><seq>119</seq><statedt>20200425</statedt><statetime>00:00</statetime><updatedt></updatedt></item>, <item><accdefrate>1.8293161655</accdefrate><accexamcnt>595161</accexamcnt><accexamcompcnt>585902</accexamcompcnt><carecnt>1843</carecnt><clearcnt>8635</clearcnt><createdt>2020-04-25 10:57:05.05</createdt><deathcnt>240</deathcnt><decidecnt>10718</decidecnt><examcnt>9259</examcnt><resutlnegcnt>575184</resutlnegcnt><seq>118</seq><statedt>20200425</statedt><statetime>00:00</statetime><updatedt></updatedt></item>, <item><accdefrate>2.1770963544</accdefrate><accexamcnt>597244</accexamcnt><accexamcompcnt>587985</accexamcompcnt><carecnt>1843</carecnt><clearcnt>10718</clearcnt><createdt>2020-04-25 10:39:03.03</createdt><deathcnt>240</deathcnt><decidecnt>12801</decidecnt><examcnt>9259</examcnt><resutlnegcnt>575184</resutlnegcnt><seq>117</seq><statedt>20200425</statedt><statetime>00:00</statetime><updatedt></updatedt></item>, <item><accdefrate>1.8464615809</accdefrate><accexamcnt>589520</accexamcnt><accexamcompcnt>579920</accexamcompcnt><carecnt>1967</carecnt><clearcnt>8501</clearcnt><createdt>2020-04-24 10:11:08.08</createdt><deathcnt>240</deathcnt><decidecnt>10708</decidecnt><examcnt>9600</examcnt><resutlnegcnt>569212</resutlnegcnt><seq>116</seq><statedt>20200424</statedt><statetime>00:00</statetime><updatedt></updatedt></item>, <item><accdefrate>1.8650057856</accdefrate><accexamcnt>583971</accexamcnt><accexamcompcnt>573832</accexamcompcnt><carecnt>2051</carecnt><clearcnt>8411</clearcnt><createdt>2020-04-23 10:11:05.05</createdt><deathcnt>240</deathcnt><decidecnt>10702</decidecnt><examcnt>10139</examcnt><resutlnegcnt>563130</resutlnegcnt><seq>115</seq><statedt>20200423</statedt><statetime>00:00</statetime><updatedt></updatedt></item>, <item><accdefrate>1.8899402302</accdefrate><accexamcnt>577959</accexamcnt><accexamcompcnt>565838</accexamcompcnt><carecnt>2179</carecnt><clearcnt>8277</clearcnt><createdt>2020-04-22 10:20:28.28</createdt><deathcnt>238</deathcnt><decidecnt>10694</decidecnt><examcnt>12121</examcnt><resutlnegcnt>555144</resutlnegcnt><seq>114</seq><statedt>20200422</statedt><statetime>00:00</statetime><updatedt></updatedt></item>, <item><accdefrate>1.9135113641</accdefrate><accexamcnt>571014</accexamcnt><accexamcompcnt>558293</accexamcompcnt><carecnt>2233</carecnt><clearcnt>8213</clearcnt><createdt>2020-04-21 10:11:58.58</createdt><deathcnt>237</deathcnt><decidecnt>10683</decidecnt><examcnt>12721</examcnt><resutlnegcnt>547610</resutlnegcnt><seq>113</seq><statedt>20200421</statedt><statetime>00:00</statetime><updatedt></updatedt></item>, <item><accdefrate>1.9370152471</accdefrate><accexamcnt>563035</accexamcnt><accexamcompcnt>551054</accexamcompcnt><carecnt>2324</carecnt><clearcnt>8114</clearcnt><createdt>2020-04-20 10:26:59.59</createdt><deathcnt>236</deathcnt><decidecnt>10674</decidecnt><examcnt>11981</examcnt><resutlnegcnt>540380</resutlnegcnt><seq>112</seq><statedt>20200420</statedt><statetime>00:00</statetime><updatedt></updatedt></item>, <item><accdefrate>1.9494720827</accdefrate><accexamcnt>559109</accexamcnt><accexamcompcnt>546866</accexamcompcnt><carecnt>2385</carecnt><clearcnt>8042</clearcnt><createdt>2020-04-19 10:27:30.30</createdt><deathcnt>234</deathcnt><decidecnt>10661</decidecnt><examcnt>12243</examcnt><resutlnegcnt>536205</resutlnegcnt><seq>111</seq><statedt>20200419</statedt><statetime>00:00</statetime><updatedt></updatedt></item>, <item><accdefrate>1.9680980779</accdefrate><accexamcnt>554834</accexamcnt><accexamcompcnt>541284</accexamcompcnt><carecnt>2484</carecnt><clearcnt>7937</clearcnt><createdt>2020-04-18 10:44:12.12</createdt><deathcnt>232</deathcnt><decidecnt>10653</decidecnt><examcnt>13550</examcnt><resutlnegcnt>530631</resutlnegcnt><seq>110</seq><statedt>20200418</statedt><statetime>00:00</statetime><updatedt></updatedt></item>, <item><accdefrate>1.9980198280</accdefrate><accexamcnt>546463</accexamcnt><accexamcompcnt>532277</accexamcompcnt><carecnt>2576</carecnt><clearcnt>7829</clearcnt><createdt>2020-04-17 10:32:02.02</createdt><deathcnt>230</deathcnt><decidecnt>10635</decidecnt><examcnt>14186</examcnt><resutlnegcnt>521642</resutlnegcnt><seq>109</seq><statedt>20200417</statedt><statetime>00:00</statetime><updatedt></updatedt></item>, <item><accdefrate>2.0234239009</accdefrate><accexamcnt>538775</accexamcnt><accexamcompcnt>524507</accexamcompcnt><carecnt>2627</carecnt><clearcnt>7757</clearcnt><createdt>2020-04-16 10:55:17.17</createdt><deathcnt>229</deathcnt><decidecnt>10613</decidecnt><examcnt>14268</examcnt><resutlnegcnt>513894</resutlnegcnt><seq>108</seq><statedt>20200416</statedt><statetime>00:00</statetime><updatedt></updatedt></item>, <item><accdefrate>2.0385890215</accdefrate><accexamcnt>534552</accexamcnt><accexamcompcnt>519526</accexamcompcnt><carecnt>2750</carecnt><clearcnt>7616</clearcnt><createdt>2020-04-15 11:34:34.34</createdt><deathcnt>225</deathcnt><decidecnt>10591</decidecnt><examcnt>15026</examcnt><resutlnegcnt>508935</resutlnegcnt><seq>107</seq><statedt>20200415</statedt><statetime>00:00</statetime><updatedt></updatedt></item>, <item><accdefrate>2.0601146284</accdefrate><accexamcnt>527438</accexamcnt><accexamcompcnt>512787</accexamcompcnt><carecnt>2808</carecnt><clearcnt>7534</clearcnt><createdt>2020-04-14 10:23:15.15</createdt><deathcnt>222</deathcnt><decidecnt>10564</decidecnt><examcnt>14651</examcnt><resutlnegcnt>502223</resutlnegcnt><seq>106</seq><statedt>20200414</statedt><statetime>00:00</statetime><updatedt></updatedt></item>, <item><accdefrate>2.0850812898</accdefrate><accexamcnt>518743</accexamcnt><accexamcompcnt>505352</accexamcompcnt><carecnt>2873</carecnt><clearcnt>7447</clearcnt><createdt>2020-04-13 10:14:53.53</createdt><deathcnt>217</deathcnt><decidecnt>10537</decidecnt><examcnt>13391</examcnt><resutlnegcnt>494815</resutlnegcnt><seq>105</seq><statedt>20200413</statedt><statetime>00:00</statetime><updatedt></updatedt></item>, <item><accdefrate>2.0989032272</accdefrate><accexamcnt>514621</accexamcnt><accexamcompcnt>500833</accexamcompcnt><carecnt>2930</carecnt><clearcnt>7368</clearcnt><createdt>2020-04-12 10:20:49.49</createdt><deathcnt>214</deathcnt><decidecnt>10512</decidecnt><examcnt>13788</examcnt><resutlnegcnt>490321</resutlnegcnt><seq>104</seq><statedt>20200412</statedt><statetime>00:00</statetime><updatedt></updatedt></item>, <item><accdefrate>2.1111623681</accdefrate><accexamcnt>510479</accexamcnt><accexamcompcnt>496409</accexamcompcnt><carecnt>3026</carecnt><clearcnt>7243</clearcnt><createdt>2020-04-11 10:24:11.11</createdt><deathcnt>211</deathcnt><decidecnt>10480</decidecnt><examcnt>14070</examcnt><resutlnegcnt>485929</resutlnegcnt><seq>103</seq><statedt>20200411</statedt><statetime>00:00</statetime><updatedt></updatedt></item>, <item><accdefrate>2.1424778525</accdefrate><accexamcnt>503051</accexamcnt><accexamcompcnt>487753</accexamcompcnt><carecnt>3125</carecnt><clearcnt>7117</clearcnt><createdt>2020-04-10 10:15:54.54</createdt><deathcnt>208</deathcnt><decidecnt>10450</decidecnt><examcnt>15298</examcnt><resutlnegcnt>477303</resutlnegcnt><seq>102</seq><statedt>20200410</statedt><statetime>00:00</statetime><updatedt></updatedt></item>, <item><accdefrate>2.1750743945</accdefrate><accexamcnt>494711</accexamcnt><accexamcompcnt>479202</accexamcompcnt><carecnt>3246</carecnt><clearcnt>6973</clearcnt><createdt>2020-04-09 10:22:27.27</createdt><deathcnt>204</deathcnt><decidecnt>10423</decidecnt><examcnt>15509</examcnt><resutlnegcnt>468779</resutlnegcnt><seq>101</seq><statedt>20200409</statedt><statetime>00:00</statetime><updatedt></updatedt></item>, <item><accdefrate>2.2181161819</accdefrate><accexamcnt>486003</accexamcnt><accexamcompcnt>468145</accexamcompcnt><carecnt>3408</carecnt><clearcnt>6776</clearcnt><createdt>2020-04-08 10:15:42.42</createdt><deathcnt>200</deathcnt><decidecnt>10384</decidecnt><examcnt>17858</examcnt><resutlnegcnt>457761</resutlnegcnt><seq>100</seq><statedt>20200408</statedt><statetime>00:00</statetime><updatedt></updatedt></item>, <item><accdefrate>2.2623255243</accdefrate><accexamcnt>477304</accexamcnt><accexamcompcnt>456654</accexamcompcnt><carecnt>3445</carecnt><clearcnt>6694</clearcnt><createdt>2020-04-07 10:12:25.25</createdt><deathcnt>192</deathcnt><decidecnt>10331</decidecnt><examcnt>20650</examcnt><resutlnegcnt>446323</resutlnegcnt><seq>99</seq><statedt>20200407</statedt><statetime>00:00</statetime><updatedt></updatedt></item>, <item><accdefrate>2.2980543408</accdefrate><accexamcnt>466804</accexamcnt><accexamcompcnt>447509</accexamcompcnt><carecnt>3500</carecnt><clearcnt>6598</clearcnt><createdt>2020-04-06 10:27:44.44</createdt><deathcnt>186</deathcnt><decidecnt>10284</decidecnt><examcnt>19295</examcnt><resutlnegcnt>437225</resutlnegcnt><seq>98</seq><statedt>20200406</statedt><statetime>00:00</statetime><updatedt></updatedt></item>, <item><accdefrate>2.3178358110</accdefrate><accexamcnt>461233</accexamcnt><accexamcompcnt>441662</accexamcompcnt><carecnt>3591</carecnt><clearcnt>6463</clearcnt><createdt>2020-04-05 10:11:59.59</createdt><deathcnt>183</deathcnt><decidecnt>10237</decidecnt><examcnt>19571</examcnt><resutlnegcnt>431425</resutlnegcnt><seq>97</seq><statedt>20200405</statedt><statetime>00:00</statetime><updatedt></updatedt></item>, <item><accdefrate>2.3353139199</accdefrate><accexamcnt>455032</accexamcnt><accexamcompcnt>434888</accexamcompcnt><carecnt>3654</carecnt><clearcnt>6325</clearcnt><createdt>2020-04-04 10:32:51.51</createdt><deathcnt>177</deathcnt><decidecnt>10156</decidecnt><examcnt>20144</examcnt><resutlnegcnt>424732</resutlnegcnt><seq>96</seq><statedt>20200404</statedt><statetime>00:00</statetime><updatedt></updatedt></item>, <item><accdefrate>2.3710720723</accdefrate><accexamcnt>443273</accexamcnt><accexamcompcnt>424365</accexamcompcnt><carecnt>3867</carecnt><clearcnt>6021</clearcnt><createdt>2020-04-03 10:19:21.21</createdt><deathcnt>174</deathcnt><decidecnt>10062</decidecnt><examcnt>18908</examcnt><resutlnegcnt>414303</resutlnegcnt><seq>95</seq><statedt>20200403</statedt><statetime>00:00</statetime><updatedt></updatedt></item>, <item><accdefrate>2.4104886217</accdefrate><accexamcnt>431743</accexamcnt><accexamcompcnt>413858</accexamcompcnt><carecnt>3979</carecnt><clearcnt>5828</clearcnt><createdt>2020-04-02 10:13:00.00</createdt><deathcnt>169</deathcnt><decidecnt>9976</decidecnt><examcnt>17885</examcnt><resutlnegcnt>403882</resutlnegcnt><seq>94</seq><statedt>20200402</statedt><statetime>00:00</statetime><updatedt></updatedt></item>, <item><accdefrate>2.4104886217</accdefrate><accexamcnt>431743</accexamcnt><accexamcompcnt>413858</accexamcompcnt><carecnt>3979</carecnt><clearcnt>5828</clearcnt><createdt>2020-04-02 10:09:03.03</createdt><deathcnt>169</deathcnt><decidecnt>9976</decidecnt><examcnt>17885</examcnt><resutlnegcnt>403882</resutlnegcnt><seq>93</seq><statedt>20200402</statedt><statetime>00:00</statetime><updatedt></updatedt></item>, <item><accdefrate>2.4414636435</accdefrate><accexamcnt>421547</accexamcnt><accexamcompcnt>404962</accexamcompcnt><carecnt>4155</carecnt><clearcnt>5567</clearcnt><createdt>2020-04-01 10:13:22.22</createdt><deathcnt>165</deathcnt><decidecnt>9887</decidecnt><examcnt>16585</examcnt><resutlnegcnt>395075</resutlnegcnt><seq>92</seq><statedt>20200401</statedt><statetime>00:00</statetime><updatedt></updatedt></item>, <item><accdefrate>2.4858257635</accdefrate><accexamcnt>410564</accexamcnt><accexamcompcnt>393672</accexamcompcnt><carecnt>4216</carecnt><clearcnt>5408</clearcnt><createdt>2020-03-31 11:00:44.44</createdt><deathcnt>162</deathcnt><decidecnt>9786</decidecnt><examcnt>16892</examcnt><resutlnegcnt>383886</resutlnegcnt><seq>91</seq><statedt>20200331</statedt><statetime>00:00</statetime><updatedt>2020-03-31 11:43:15.15</updatedt></item>, <item><accdefrate>2.5312906936</accdefrate><accexamcnt>395194</accexamcnt><accexamcompcnt>381663</accexamcompcnt><carecnt>4275</carecnt><clearcnt>5228</clearcnt><createdt>2020-03-30 10:32:34.34</createdt><deathcnt>158</deathcnt><decidecnt>9661</decidecnt><examcnt>13531</examcnt><resutlnegcnt>372002</resutlnegcnt><seq>90</seq><statedt>20200330</statedt><statetime>00:00</statetime><updatedt></updatedt></item>, <item><accdefrate>2.5277423881</accdefrate><accexamcnt>394141</accexamcnt><accexamcompcnt>379113</accexamcompcnt><carecnt>4398</carecnt><clearcnt>5033</clearcnt><createdt>2020-03-29 10:10:20.20</createdt><deathcnt>152</deathcnt><decidecnt>9583</decidecnt><examcnt>15028</examcnt><resutlnegcnt>369530</resutlnegcnt><seq>89</seq><statedt>20200329</statedt><statetime>00:00</statetime><updatedt></updatedt></item>, <item><accdefrate>2.5522335409</accdefrate><accexamcnt>387925</accexamcnt><accexamcompcnt>371361</accexamcompcnt><carecnt>4523</carecnt><clearcnt>4811</clearcnt><createdt>2020-03-28 10:30:06.06</createdt><deathcnt>144</deathcnt><decidecnt>9478</decidecnt><examcnt>16564</examcnt><resutlnegcnt>361883</resutlnegcnt><seq>88</seq><statedt>20200328</statedt><statetime>00:00</statetime><updatedt></updatedt></item>, <item><accdefrate>2.5797391511</accdefrate><accexamcnt>376961</accexamcnt><accexamcompcnt>361742</accexamcompcnt><carecnt>4665</carecnt><clearcnt>4528</clearcnt><createdt>2020-03-27 10:17:01.01</createdt><deathcnt>139</deathcnt><decidecnt>9332</decidecnt><examcnt>15219</examcnt><resutlnegcnt>352410</resutlnegcnt><seq>87</seq><statedt>20200327</statedt><statetime>00:00</statetime><updatedt></updatedt></item>, <item><accdefrate>2.6359702544</accdefrate><accexamcnt>364942</accexamcnt><accexamcompcnt>350573</accexamcompcnt><carecnt>4966</carecnt><clearcnt>4144</clearcnt><createdt>2020-03-26 10:40:50.50</createdt><deathcnt>131</deathcnt><decidecnt>9241</decidecnt><examcnt>14369</examcnt><resutlnegcnt>341332</resutlnegcnt><seq>86</seq><statedt>20200326</statedt><statetime>00:00</statetime><updatedt></updatedt></item>, <item><accdefrate>2.6590574416</accdefrate><accexamcnt>357896</accexamcnt><accexamcompcnt>343618</accexamcompcnt><carecnt>5281</carecnt><clearcnt>3730</clearcnt><createdt>2020-03-25 10:12:04.04</createdt><deathcnt>126</deathcnt><decidecnt>9137</decidecnt><examcnt>14278</examcnt><resutlnegcnt>334481</resutlnegcnt><seq>85</seq><statedt>20200325</statedt><statetime>00:00</statetime><updatedt></updatedt></item>, <item><accdefrate>2.7126570651</accdefrate><accexamcnt>348582</accexamcnt><accexamcompcnt>333142</accexamcompcnt><carecnt>5410</carecnt><clearcnt>3507</clearcnt><createdt>2020-03-24 10:20:57.57</createdt><deathcnt>120</deathcnt><decidecnt>9037</decidecnt><examcnt>15440</examcnt><resutlnegcnt>324105</resutlnegcnt><seq>84</seq><statedt>20200324</statedt><statetime>00:00</statetime><updatedt>2020-04-07 19:37:58.58</updatedt></item>, <item><accdefrate>2.7126570651</accdefrate><accexamcnt>348582</accexamcnt><accexamcompcnt>333142</accexamcompcnt><carecnt>5410</carecnt><clearcnt>3507</clearcnt><createdt>2020-03-24 10:09:30.30</createdt><deathcnt>120</deathcnt><decidecnt>9037</decidecnt><examcnt>15440</examcnt><resutlnegcnt>324105</resutlnegcnt><seq>83</seq><statedt>20200324</statedt><statetime>00:00</statetime><updatedt></updatedt></item>, <item><accdefrate>2.7622623363</accdefrate><accexamcnt>338036</accexamcnt><accexamcompcnt>324408</accexamcompcnt><carecnt>5684</carecnt><clearcnt>3166</clearcnt><createdt>2020-03-23 10:27:32.32</createdt><deathcnt>111</deathcnt><decidecnt>8961</decidecnt><examcnt>13628</examcnt><resutlnegcnt>315447</resutlnegcnt><seq>82</seq><statedt>20200323</statedt><statetime>00:00</statetime><updatedt></updatedt></item>, <item><accdefrate>2.8045013239</accdefrate><accexamcnt>331780</accexamcnt><accexamcompcnt>317240</accexamcompcnt><carecnt>5884</carecnt><clearcnt>2909</clearcnt><createdt>2020-03-22 10:07:28.28</createdt><deathcnt>104</deathcnt><decidecnt>8897</decidecnt><examcnt>14540</examcnt><resutlnegcnt>308343</resutlnegcnt><seq>81</seq><statedt>20200322</statedt><statetime>00:00</statetime><updatedt></updatedt></item>, <item><accdefrate>2.8219560302</accdefrate><accexamcnt>327509</accexamcnt><accexamcompcnt>311805</accexamcompcnt><carecnt>6085</carecnt><clearcnt>2612</clearcnt><createdt>2020-03-21 10:02:58.58</createdt><deathcnt>102</deathcnt><decidecnt>8799</decidecnt><examcnt>15704</examcnt><resutlnegcnt>303006</resutlnegcnt><seq>80</seq><statedt>20200321</statedt><statetime>00:00</statetime><updatedt></updatedt></item>, <item><accdefrate>2.8730918280</accdefrate><accexamcnt>316664</accexamcnt><accexamcompcnt>301139</accexamcompcnt><carecnt>6325</carecnt><clearcnt>2233</clearcnt><createdt>2020-03-20 10:15:59.59</createdt><deathcnt>94</deathcnt><decidecnt>8652</decidecnt><examcnt>15525</examcnt><resutlnegcnt>292487</resutlnegcnt><seq>79</seq><statedt>20200320</statedt><statetime>00:00</statetime><updatedt></updatedt></item>, <item><accdefrate>2.9420857378</accdefrate><accexamcnt>307024</accexamcnt><accexamcompcnt>291120</accexamcompcnt><carecnt>6527</carecnt><clearcnt>1947</clearcnt><createdt>2020-03-19 10:07:57.57</createdt><deathcnt>91</deathcnt><decidecnt>8565</decidecnt><examcnt>15904</examcnt><resutlnegcnt>282555</resutlnegcnt><seq>78</seq><statedt>20200319</statedt><statetime>00:00</statetime><updatedt></updatedt></item>, <item><accdefrate>3.0121625056</accdefrate><accexamcnt>295647</accexamcnt><accexamcompcnt>279301</accexamcompcnt><carecnt>6789</carecnt><clearcnt>1540</clearcnt><createdt>2020-03-18 10:26:15.15</createdt><deathcnt>84</deathcnt><decidecnt>8413</decidecnt><examcnt>16346</examcnt><resutlnegcnt>270888</resutlnegcnt><seq>77</seq><statedt>20200318</statedt><statetime>00:00</statetime><updatedt></updatedt></item>, <item><accdefrate>3.0880579010</accdefrate><accexamcnt>286716</accexamcnt><accexamcompcnt>269425</accexamcompcnt><carecnt>6838</carecnt><clearcnt>1401</clearcnt><createdt>2020-03-17 10:29:38.38</createdt><deathcnt>81</deathcnt><decidecnt>8320</decidecnt><examcnt>17291</examcnt><resutlnegcnt>261105</resutlnegcnt><seq>76</seq><statedt>20200317</statedt><statetime>00:00</statetime><updatedt></updatedt></item>, <item><accdefrate>3.1733922083</accdefrate><accexamcnt>274504</accexamcnt><accexamcompcnt>259533</accexamcompcnt><carecnt>7024</carecnt><clearcnt>1137</clearcnt><createdt>2020-03-16 10:12:33.33</createdt><deathcnt>75</deathcnt><decidecnt>8236</decidecnt><examcnt>14971</examcnt><resutlnegcnt>251297</resutlnegcnt><seq>75</seq><statedt>20200316</statedt><statetime>00:00</statetime><updatedt></updatedt></item>, <item><accdefrate>3.2396602365</accdefrate><accexamcnt>268212</accexamcnt><accexamcompcnt>251940</accexamcompcnt><carecnt>7253</carecnt><clearcnt>834</clearcnt><createdt>2020-03-15 10:01:22.22</createdt><deathcnt>75</deathcnt><decidecnt>8162</decidecnt><examcnt>16272</examcnt><resutlnegcnt>243778</resutlnegcnt><seq>74</seq><statedt>20200315</statedt><statetime>00:00</statetime><updatedt></updatedt></item>, <item><accdefrate>3.3180003364</accdefrate><accexamcnt>261335</accexamcnt><accexamcompcnt>243701</accexamcompcnt><carecnt>7300</carecnt><clearcnt>714</clearcnt><createdt>2020-03-14 10:29:11.11</createdt><deathcnt>72</deathcnt><decidecnt>8086</decidecnt><examcnt>17634</examcnt><resutlnegcnt>235615</resutlnegcnt><seq>73</seq><statedt>20200314</statedt><statetime>00:00</statetime><updatedt>2020-03-14 10:34:07.07</updatedt></item>, <item><accdefrate>3.4584993086</accdefrate><accexamcnt>248647</accexamcnt><accexamcompcnt>230707</accexamcompcnt><carecnt>7402</carecnt><clearcnt>510</clearcnt><createdt>2020-03-13 10:07:22.22</createdt><deathcnt>67</deathcnt><decidecnt>7979</decidecnt><examcnt>17940</examcnt><resutlnegcnt>222728</resutlnegcnt><seq>72</seq><statedt>20200313</statedt><statetime>00:00</statetime><updatedt></updatedt></item>, <item><accdefrate>3.6217442732</accdefrate><accexamcnt>234998</accexamcnt><accexamcompcnt>217271</accexamcompcnt><carecnt>7470</carecnt><clearcnt>333</clearcnt><createdt>2020-03-12 10:37:03.03</createdt><deathcnt>66</deathcnt><decidecnt>7869</decidecnt><examcnt>17727</examcnt><resutlnegcnt>209402</resutlnegcnt><seq>71</seq><statedt>20200312</statedt><statetime>00:00</statetime><updatedt></updatedt></item>, <item><accdefrate>3.8041745358</accdefrate><accexamcnt>222395</accexamcnt><accexamcompcnt>203855</accexamcompcnt><carecnt>7407</carecnt><clearcnt>288</clearcnt><createdt>2020-03-11 10:17:19.19</createdt><deathcnt>60</deathcnt><decidecnt>7755</decidecnt><examcnt>18540</examcnt><resutlnegcnt>196100</resutlnegcnt><seq>70</seq><statedt>20200311</statedt><statetime>00:00</statetime><updatedt></updatedt></item>, <item><accdefrate>3.9193080566</accdefrate><accexamcnt>210144</accexamcnt><accexamcompcnt>191692</accexamcompcnt><carecnt>7212</carecnt><clearcnt>247</clearcnt><createdt>2020-03-10 10:20:27.27</createdt><deathcnt>54</deathcnt><decidecnt>7513</decidecnt><examcnt>18452</examcnt><resutlnegcnt>184179</resutlnegcnt><seq>69</seq><statedt>20200310</statedt><statetime>00:00</statetime><updatedt></updatedt></item>, <item><accdefrate>4.1203393614</accdefrate><accexamcnt>196618</accexamcnt><accexamcompcnt>179160</accexamcompcnt><carecnt>7165</carecnt><clearcnt>166</clearcnt><createdt>2020-03-09 10:47:15.15</createdt><deathcnt>51</deathcnt><decidecnt>7382</decidecnt><examcnt>17458</examcnt><resutlnegcnt>171778</resutlnegcnt><seq>68</seq><statedt>20200309</statedt><statetime>00:00</statetime><updatedt>2020-03-09 13:29:59.59</updatedt></item>, <item><accdefrate>4.2177578602</accdefrate><accexamcnt>188518</accexamcnt><accexamcompcnt>169142</accexamcompcnt><carecnt>6954</carecnt><clearcnt>130</clearcnt><createdt>2020-03-08 11:16:27.27</createdt><deathcnt>50</deathcnt><decidecnt>7134</decidecnt><examcnt>19376</examcnt><resutlnegcnt>162008</resutlnegcnt><seq>67</seq><statedt>20200308</statedt><statetime>00:00</statetime><updatedt>2020-03-09 13:35:51.51</updatedt></item>, <item><accdefrate>4.2675428362</accdefrate><accexamcnt>178189</accexamcnt><accexamcompcnt>158569</accexamcompcnt><carecnt>6605</carecnt><clearcnt>118</clearcnt><createdt>2020-03-07 11:00:45.45</createdt><deathcnt>44</deathcnt><decidecnt>6767</decidecnt><examcnt>19620</examcnt><resutlnegcnt>151802</resutlnegcnt><seq>66</seq><statedt>20200307</statedt><statetime>00:00</statetime><updatedt>2020-03-09 13:36:26.26</updatedt></item>, <item><accdefrate>4.3972345844</accdefrate><accexamcnt>164740</accexamcnt><accexamcompcnt>142908</accexamcompcnt><carecnt>6134</carecnt><clearcnt>108</clearcnt><createdt>2020-03-06 12:55:44.44</createdt><deathcnt>42</deathcnt><decidecnt>6284</decidecnt><examcnt>21832</examcnt><resutlnegcnt>136624</resutlnegcnt><seq>65</seq><statedt>20200306</statedt><statetime>00:00</statetime><updatedt>2020-03-09 14:05:01.01</updatedt></item>, <item><accdefrate>4.6227481540</accdefrate><accexamcnt>146541</accexamcnt><accexamcompcnt>124731</accexamcompcnt><carecnt>5643</carecnt><clearcnt>88</clearcnt><createdt>2020-03-05 10:15:12.12</createdt><deathcnt>35</deathcnt><decidecnt>5766</decidecnt><examcnt>21810</examcnt><resutlnegcnt>118965</resutlnegcnt><seq>64</seq><statedt>20200305</statedt><statetime>00:00</statetime><updatedt>2020-03-09 14:06:01.01</updatedt></item>, <item><accdefrate>4.9199855946</accdefrate><accexamcnt>136707</accexamcnt><accexamcompcnt>108293</accexamcompcnt><carecnt>5255</carecnt><clearcnt>41</clearcnt><createdt>2020-03-04 10:21:44.44</createdt><deathcnt>32</deathcnt><decidecnt>5328</decidecnt><examcnt>28414</examcnt><resutlnegcnt>102965</resutlnegcnt><seq>63</seq><statedt>20200304</statedt><statetime>00:00</statetime><updatedt>2020-03-09 14:06:59.59</updatedt></item>, <item><accdefrate>5.3291397182</accdefrate><accexamcnt>125851</accexamcnt><accexamcompcnt>90296</accexamcompcnt><carecnt>4750</carecnt><clearcnt>34</clearcnt><createdt>2020-03-03 10:46:53.53</createdt><deathcnt>28</deathcnt><decidecnt>4812</decidecnt><examcnt>35555</examcnt><resutlnegcnt>85484</resutlnegcnt><seq>62</seq><statedt>20200303</statedt><statetime>00:00</statetime><updatedt>2020-03-09 14:08:12.12</updatedt></item>, <item><accdefrate>5.5573147561</accdefrate><accexamcnt>109591</accexamcnt><accexamcompcnt>75792</accexamcompcnt><carecnt>4159</carecnt><clearcnt>31</clearcnt><createdt>2020-03-02 10:52:38.38</createdt><deathcnt>22</deathcnt><decidecnt>4212</decidecnt><examcnt>33799</examcnt><resutlnegcnt>71580</resutlnegcnt><seq>61</seq><statedt>20200302</statedt><statetime>00:00</statetime><updatedt>2020-03-09 14:08:51.51</updatedt></item>, <item><accdefrate></accdefrate><clearcnt>30</clearcnt><createdt>2020-03-01 17:41:45.45</createdt><deathcnt>18</deathcnt><decidecnt>3736</decidecnt><examcnt>33360</examcnt><seq>60</seq><statedt>20200301</statedt><statetime>16:00</statetime><updatedt></updatedt></item>, <item><accdefrate></accdefrate><clearcnt>30</clearcnt><createdt>2020-03-01 10:06:32.32</createdt><deathcnt>17</deathcnt><decidecnt>3526</decidecnt><examcnt>32422</examcnt><seq>59</seq><statedt>20200301</statedt><statetime>09:00</statetime><updatedt></updatedt></item>, <item><accdefrate></accdefrate><clearcnt>28</clearcnt><createdt>2020-02-29 17:16:20.20</createdt><deathcnt>17</deathcnt><decidecnt>3150</decidecnt><examcnt>35182</examcnt><seq>58</seq><statedt>20200229</statedt><statetime>16:00</statetime><updatedt>2020-02-29 18:02:17.17</updatedt></item>, <item><accdefrate></accdefrate><clearcnt>27</clearcnt><createdt>2020-02-29 10:14:50.50</createdt><deathcnt>16</deathcnt><decidecnt>2931</decidecnt><examcnt>29154</examcnt><seq>57</seq><statedt>20200229</statedt><statetime>09:00</statetime><updatedt></updatedt></item>, <item><accdefrate></accdefrate><clearcnt>27</clearcnt><createdt>2020-02-28 17:01:59.59</createdt><deathcnt>13</deathcnt><decidecnt>2337</decidecnt><examcnt>30237</examcnt><seq>56</seq><statedt>20200228</statedt><statetime>16:00</statetime><updatedt></updatedt></item>, <item><accdefrate></accdefrate><clearcnt>26</clearcnt><createdt>2020-02-28 10:32:34.34</createdt><deathcnt>13</deathcnt><decidecnt>2022</decidecnt><examcnt>24751</examcnt><seq>55</seq><statedt>20200228</statedt><statetime>09:00</statetime><updatedt>2020-02-28 13:34:23.23</updatedt></item>, <item><accdefrate></accdefrate><clearcnt>26</clearcnt><createdt>2020-02-27 17:32:06.06</createdt><deathcnt>13</deathcnt><decidecnt>1766</decidecnt><examcnt>25568</examcnt><seq>54</seq><statedt>20200227</statedt><statetime>16:00</statetime><updatedt></updatedt></item>, <item><accdefrate></accdefrate><clearcnt>24</clearcnt><createdt>2020-02-27 10:19:35.35</createdt><deathcnt>12</deathcnt><decidecnt>1595</decidecnt><examcnt>21097</examcnt><seq>53</seq><statedt>20200227</statedt><statetime>09:00</statetime><updatedt></updatedt></item>, <item><accdefrate></accdefrate><clearcnt>24</clearcnt><createdt>2020-02-26 17:00:43.43</createdt><deathcnt>12</deathcnt><decidecnt>1261</decidecnt><examcnt>20716</examcnt><seq>52</seq><statedt>20200226</statedt><statetime>16:00</statetime><updatedt></updatedt></item>, <item><accdefrate></accdefrate><clearcnt>22</clearcnt><createdt>2020-02-26 10:02:05.05</createdt><deathcnt>11</deathcnt><decidecnt>1146</decidecnt><examcnt>16734</examcnt><seq>51</seq><statedt>20200226</statedt><statetime>09:00</statetime><updatedt></updatedt></item>, <item><accdefrate></accdefrate><clearcnt>22</clearcnt><createdt>2020-02-25 17:02:03.03</createdt><deathcnt>10</deathcnt><decidecnt>977</decidecnt><examcnt>13880</examcnt><seq>50</seq><statedt>20200225</statedt><statetime>16:00</statetime><updatedt></updatedt></item>, <item><accdefrate></accdefrate><clearcnt>22</clearcnt><createdt>2020-02-25 10:00:40.40</createdt><deathcnt>8</deathcnt><decidecnt>893</decidecnt><examcnt>13273</examcnt><seq>49</seq><statedt>20200225</statedt><statetime>09:00</statetime><updatedt></updatedt></item>, <item><accdefrate></accdefrate><clearcnt>22</clearcnt><createdt>2020-02-24 17:03:50.50</createdt><deathcnt>7</deathcnt><decidecnt>833</decidecnt><examcnt>11631</examcnt><seq>48</seq><statedt>20200224</statedt><statetime>16:00</statetime><updatedt></updatedt></item>, <item><accdefrate></accdefrate><clearcnt>18</clearcnt><createdt>2020-02-24 10:17:36.36</createdt><deathcnt>7</deathcnt><decidecnt>763</decidecnt><examcnt>8725</examcnt><seq>47</seq><statedt>20200224</statedt><statetime>09:00</statetime><updatedt></updatedt></item>, <item><accdefrate></accdefrate><clearcnt>18</clearcnt><createdt>2020-02-23 17:05:12.12</createdt><deathcnt>5</deathcnt><decidecnt>602</decidecnt><examcnt>8057</examcnt><seq>46</seq><statedt>20200223</statedt><statetime>16:00</statetime><updatedt></updatedt></item>, <item><accdefrate></accdefrate><clearcnt>18</clearcnt><createdt>2020-02-23 10:22:25.25</createdt><deathcnt>4</deathcnt><decidecnt>556</decidecnt><examcnt>6039</examcnt><seq>45</seq><statedt>20200223</statedt><statetime>09:00</statetime><updatedt></updatedt></item>, <item><accdefrate></accdefrate><clearcnt>18</clearcnt><createdt>2020-02-22 17:00:28.28</createdt><deathcnt>2</deathcnt><decidecnt>433</decidecnt><examcnt>6037</examcnt><seq>44</seq><statedt>20200222</statedt><statetime>16:00</statetime><updatedt></updatedt></item>, <item><accdefrate></accdefrate><clearcnt>17</clearcnt><createdt>2020-02-22 9:59:46.46</createdt><deathcnt>2</deathcnt><decidecnt>346</decidecnt><examcnt>5481</examcnt><seq>43</seq><statedt>20200222</statedt><statetime>09:00</statetime><updatedt></updatedt></item>, <item><accdefrate></accdefrate><clearcnt>17</clearcnt><createdt>2020-02-21 17:13:21.21</createdt><deathcnt>1</deathcnt><decidecnt>204</decidecnt><examcnt>3180</examcnt><seq>42</seq><statedt>20200221</statedt><statetime>16:00</statetime><updatedt></updatedt></item>, <item><accdefrate></accdefrate><clearcnt>17</clearcnt><createdt>2020-02-21 17:12:33.33</createdt><deathcnt>1</deathcnt><decidecnt>204</decidecnt><examcnt>3180</examcnt><seq>41</seq><statedt>20200221</statedt><statetime>16:00</statetime><updatedt></updatedt></item>, <item><accdefrate></accdefrate><clearcnt>16</clearcnt><createdt>2020-02-21 9:58:51.51</createdt><deathcnt>1</deathcnt><decidecnt>156</decidecnt><examcnt>2707</examcnt><seq>40</seq><statedt>20200221</statedt><statetime>09:00</statetime><updatedt></updatedt></item>, <item><accdefrate></accdefrate><clearcnt>16</clearcnt><createdt>2020-02-20 17:12:33.33</createdt><deathcnt>1</deathcnt><decidecnt>104</decidecnt><examcnt>1860</examcnt><seq>39</seq><statedt>20200220</statedt><statetime>16:00</statetime><updatedt></updatedt></item>, <item><accdefrate></accdefrate><clearcnt>16</clearcnt><createdt>2020-02-20 10:01:31.31</createdt><deathcnt>0</deathcnt><decidecnt>82</decidecnt><examcnt>1633</examcnt><seq>38</seq><statedt>20200220</statedt><statetime>09:00</statetime><updatedt></updatedt></item>, <item><accdefrate></accdefrate><clearcnt>16</clearcnt><createdt>2020-02-19 17:00:13.13</createdt><deathcnt>0</deathcnt><decidecnt>51</decidecnt><examcnt>1149</examcnt><seq>37</seq><statedt>20200219</statedt><statetime>16:00</statetime><updatedt></updatedt></item>, <item><accdefrate></accdefrate><clearcnt>12</clearcnt><createdt>2020-02-19 9:53:08.08</createdt><deathcnt>0</deathcnt><decidecnt>46</decidecnt><examcnt>1030</examcnt><seq>36</seq><statedt>20200219</statedt><statetime>09:00</statetime><updatedt></updatedt></item>, <item><accdefrate></accdefrate><clearcnt>12</clearcnt><createdt>2020-02-18 16:42:00.00</createdt><deathcnt>0</deathcnt><decidecnt>31</decidecnt><examcnt>818</examcnt><seq>35</seq><statedt>20200218</statedt><statetime>16:00</statetime><updatedt></updatedt></item>, <item><accdefrate></accdefrate><clearcnt>10</clearcnt><createdt>2020-02-18 10:05:31.31</createdt><deathcnt>0</deathcnt><decidecnt>31</decidecnt><examcnt>957</examcnt><seq>34</seq><statedt>20200218</statedt><statetime>09:00</statetime><updatedt></updatedt></item>, <item><accdefrate></accdefrate><clearcnt>10</clearcnt><createdt>2020-02-18 10:04:38.38</createdt><deathcnt>0</deathcnt><decidecnt>31</decidecnt><examcnt>957</examcnt><seq>33</seq><statedt>20200218</statedt><statetime>09:00</statetime><updatedt></updatedt></item>, <item><accdefrate></accdefrate><clearcnt>10</clearcnt><createdt>2020-02-17 16:50:47.47</createdt><deathcnt>0</deathcnt><decidecnt>30</decidecnt><examcnt>708</examcnt><seq>32</seq><statedt>20200217</statedt><statetime>16:00</statetime><updatedt></updatedt></item>, <item><accdefrate></accdefrate><clearcnt>9</clearcnt><createdt>2020-02-17 9:53:13.13</createdt><deathcnt>0</deathcnt><decidecnt>30</decidecnt><examcnt>408</examcnt><seq>31</seq><statedt>20200217</statedt><statetime>09:00</statetime><updatedt></updatedt></item>, <item><accdefrate></accdefrate><clearcnt>9</clearcnt><createdt>2020-02-16 16:57:02.02</createdt><deathcnt>0</deathcnt><decidecnt>29</decidecnt><examcnt>485</examcnt><seq>30</seq><statedt>20200216</statedt><statetime>16:00</statetime><updatedt></updatedt></item>, <item><accdefrate></accdefrate><clearcnt>9</clearcnt><createdt>2020-02-16 10:04:04.04</createdt><deathcnt>0</deathcnt><decidecnt>29</decidecnt><examcnt>577</examcnt><seq>29</seq><statedt>20200216</statedt><statetime>09:00</statetime><updatedt></updatedt></item>, <item><accdefrate></accdefrate><clearcnt>9</clearcnt><createdt>2020-02-15 17:00:21.21</createdt><deathcnt>0</deathcnt><decidecnt>28</decidecnt><examcnt>558</examcnt><seq>28</seq><statedt>20200215</statedt><statetime>16:00</statetime><updatedt></updatedt></item>, <item><accdefrate></accdefrate><clearcnt>7</clearcnt><createdt>2020-02-15 10:00:11.11</createdt><deathcnt>0</deathcnt><decidecnt>28</decidecnt><examcnt>638</examcnt><seq>27</seq><statedt>20200215</statedt><statetime>09:00</statetime><updatedt></updatedt></item>, <item><accdefrate></accdefrate><clearcnt>7</clearcnt><createdt>2020-02-14 17:16:19.19</createdt><deathcnt>0</deathcnt><decidecnt>28</decidecnt><examcnt>535</examcnt><seq>26</seq><statedt>20200214</statedt><statetime>16:00</statetime><updatedt></updatedt></item>, <item><accdefrate></accdefrate><clearcnt>7</clearcnt><createdt>2020-02-14 9:50:49.49</createdt><deathcnt>0</deathcnt><decidecnt>28</decidecnt><examcnt>692</examcnt><seq>25</seq><statedt>20200214</statedt><statetime>09:00</statetime><updatedt></updatedt></item>, <item><accdefrate></accdefrate><clearcnt>7</clearcnt><createdt>2020-02-13 17:09:07.07</createdt><deathcnt>0</deathcnt><decidecnt>28</decidecnt><examcnt>562</examcnt><seq>24</seq><statedt>20200213</statedt><statetime>16:00</statetime><updatedt></updatedt></item>, <item><accdefrate></accdefrate><clearcnt>7</clearcnt><createdt>2020-02-13 9:50:45.45</createdt><deathcnt>0</deathcnt><decidecnt>28</decidecnt><examcnt>670</examcnt><seq>23</seq><statedt>20200213</statedt><statetime>09:00</statetime><updatedt></updatedt></item>, <item><accdefrate></accdefrate><clearcnt>7</clearcnt><createdt>2020-02-12 16:56:47.47</createdt><deathcnt>0</deathcnt><decidecnt>28</decidecnt><examcnt>785</examcnt><seq>22</seq><statedt>20200212</statedt><statetime>16:00</statetime><updatedt></updatedt></item>, <item><accdefrate></accdefrate><clearcnt>4</clearcnt><createdt>2020-02-12 10:05:49.49</createdt><deathcnt>0</deathcnt><decidecnt>28</decidecnt><examcnt>992</examcnt><seq>21</seq><statedt>20200212</statedt><statetime>09:00</statetime><updatedt></updatedt></item>, <item><accdefrate></accdefrate><clearcnt>4</clearcnt><createdt>2020-02-11 17:09:25.25</createdt><deathcnt>0</deathcnt><decidecnt>28</decidecnt><examcnt>762</examcnt><seq>20</seq><statedt>20200211</statedt><statetime>16:00</statetime><updatedt></updatedt></item>, <item><accdefrate></accdefrate><clearcnt>4</clearcnt><createdt>2020-02-11 9:50:10.10</createdt><deathcnt>0</deathcnt><decidecnt>28</decidecnt><examcnt>865</examcnt><seq>19</seq><statedt>20200211</statedt><statetime>09:00</statetime><updatedt></updatedt></item>, <item><accdefrate></accdefrate><clearcnt>3</clearcnt><createdt>2020-02-10 17:03:49.49</createdt><deathcnt>0</deathcnt><decidecnt>27</decidecnt><examcnt>531</examcnt><seq>18</seq><statedt>20200210</statedt><statetime>16:00</statetime><updatedt>2020-02-10 19:04:27.27</updatedt></item>, <item><accdefrate></accdefrate><clearcnt>3</clearcnt><createdt>2020-02-10 9:56:41.41</createdt><deathcnt>0</deathcnt><decidecnt>27</decidecnt><examcnt>809</examcnt><seq>17</seq><statedt>20200210</statedt><statetime>09:00</statetime><updatedt></updatedt></item>, <item><accdefrate></accdefrate><clearcnt>3</clearcnt><createdt>2020-02-09 16:59:21.21</createdt><deathcnt>0</deathcnt><decidecnt>27</decidecnt><examcnt>888</examcnt><seq>16</seq><statedt>20200209</statedt><statetime>16:00</statetime><updatedt></updatedt></item>, <item><accdefrate></accdefrate><clearcnt>3</clearcnt><createdt>2020-02-09 9:58:22.22</createdt><deathcnt>0</deathcnt><decidecnt>25</decidecnt><examcnt>960</examcnt><seq>15</seq><statedt>20200209</statedt><statetime>09:00</statetime><updatedt>2020-02-09 11:08:56.56</updatedt></item>, <item><accdefrate></accdefrate><clearcnt>2</clearcnt><createdt>2020-02-08 17:01:34.34</createdt><deathcnt>0</deathcnt><decidecnt>24</decidecnt><examcnt>939</examcnt><seq>14</seq><statedt>20200208</statedt><statetime>16:00</statetime><updatedt></updatedt></item>, <item><accdefrate></accdefrate><clearcnt>2</clearcnt><createdt>2020-02-08 17:01:12.12</createdt><deathcnt>0</deathcnt><decidecnt>24</decidecnt><examcnt>939</examcnt><seq>13</seq><statedt>20200208</statedt><statetime>16:00</statetime><updatedt></updatedt></item>, <item><accdefrate></accdefrate><clearcnt>2</clearcnt><createdt>2020-02-08 16:48:05.05</createdt><deathcnt>0</deathcnt><decidecnt>24</decidecnt><examcnt>939</examcnt><seq>12</seq><statedt>20200208</statedt><statetime>16:00</statetime><updatedt></updatedt></item>, <item><accdefrate></accdefrate><clearcnt>2</clearcnt><createdt>2020-02-08 16:00:22.22</createdt><deathcnt>0</deathcnt><decidecnt>24</decidecnt><examcnt>939</examcnt><seq>11</seq><statedt>20200208</statedt><statetime>16:00</statetime><updatedt></updatedt></item>, <item><accdefrate></accdefrate><clearcnt>2</clearcnt><createdt>2020-02-08 10:09:34.34</createdt><deathcnt>0</deathcnt><decidecnt>24</decidecnt><examcnt>620</examcnt><seq>10</seq><statedt>20200208</statedt><statetime>09:00</statetime><updatedt></updatedt></item>, <item><accdefrate></accdefrate><clearcnt>2</clearcnt><createdt>2020-02-07 17:20:45.45</createdt><deathcnt>0</deathcnt><decidecnt>24</decidecnt><examcnt>327</examcnt><seq>9</seq><statedt>20200207</statedt><statetime>16:00</statetime><updatedt></updatedt></item>, <item><accdefrate></accdefrate><clearcnt>2</clearcnt><createdt>2020-02-07 9:53:27.27</createdt><deathcnt>0</deathcnt><decidecnt>24</decidecnt><examcnt>264</examcnt><seq>8</seq><statedt>20200207</statedt><statetime>09:00</statetime><updatedt>2020-02-07 11:44:30.30</updatedt></item>, <item><accdefrate></accdefrate><clearcnt>1</clearcnt><createdt>2020-02-06 9:09:49.49</createdt><deathcnt>0</deathcnt><decidecnt>23</decidecnt><examcnt>169</examcnt><seq>7</seq><statedt>20200206</statedt><statetime>09:00</statetime><updatedt>2020-02-06 10:04:35.35</updatedt></item>, <item><accdefrate></accdefrate><clearcnt>1</clearcnt><createdt>2020-02-05 20:05:40.40</createdt><deathcnt>0</deathcnt><decidecnt>19</decidecnt><examcnt>40</examcnt><seq>6</seq><statedt>20200205</statedt><statetime>19:00</statetime><updatedt>2020-02-06 10:05:36.36</updatedt></item>, <item><accdefrate></accdefrate><clearcnt>0</clearcnt><createdt>2020-02-04 23:56:31.31</createdt><deathcnt>0</deathcnt><decidecnt>18</decidecnt><examcnt>129</examcnt><seq>5</seq><statedt>20200205</statedt><statetime>09:00</statetime><updatedt>2020-02-05 9:43:16.16</updatedt></item>, <item><accdefrate></accdefrate><clearcnt>0</clearcnt><createdt>2020-02-03 21:26:59.59</createdt><deathcnt>0</deathcnt><decidecnt>0</decidecnt><examcnt>0</examcnt><seq>4</seq><statedt>20200204</statedt><statetime>00:00</statetime><updatedt></updatedt></item>, <item><accdefrate></accdefrate><clearcnt>0</clearcnt><createdt>2020-02-03 14:41:17.17</createdt><deathcnt>0</deathcnt><decidecnt>15</decidecnt><examcnt>0</examcnt><seq>3</seq><statedt>20200203</statedt><statetime>09:00</statetime><updatedt>2020-02-04 14:19:46.46</updatedt></item>, <item><accdefrate></accdefrate><clearcnt>2</clearcnt><createdt>2020-02-03 12:22:49.49</createdt><deathcnt>2</deathcnt><decidecnt>2</decidecnt><examcnt>2</examcnt><seq>2</seq><statedt>20200202</statedt><statetime>09:00</statetime><updatedt></updatedt></item>, <item><accdefrate></accdefrate><clearcnt>1</clearcnt><createdt>2020-01-31 17:47:33.33</createdt><deathcnt>0</deathcnt><decidecnt>0</decidecnt><examcnt>1</examcnt><seq>1</seq><statedt>20200101</statedt><statetime>18:00</statetime><updatedt>2020-02-03 12:21:56.56</updatedt></item>]\n"
     ]
    }
   ],
   "source": [
    "print(data)"
   ]
  },
  {
   "cell_type": "code",
   "execution_count": 34,
   "metadata": {},
   "outputs": [],
   "source": [
    "import pprint"
   ]
  },
  {
   "cell_type": "code",
   "execution_count": 36,
   "metadata": {},
   "outputs": [
    {
     "name": "stdout",
     "output_type": "stream",
     "text": [
      "[<item><accdefrate>1.0235574904</accdefrate><accexamcnt>2515325</accexamcnt><accexamcompcnt>2495512</accexamcompcnt><carecnt>1443</carecnt><clearcnt>23647</clearcnt><createdt>2020-10-22 09:41:20.743</createdt><deathcnt>453</deathcnt><decidecnt>25543</decidecnt><examcnt>19813</examcnt><resutlnegcnt>2469969</resutlnegcnt><seq>299</seq><statedt>20201022</statedt><statetime>00:00</statetime><updatedt>null</updatedt></item>,\n",
      " <item><accdefrate>1.0235112910</accdefrate><accexamcnt>2503491</accexamcnt><accexamcompcnt>2483998</accexamcompcnt><carecnt>1390</carecnt><clearcnt>23584</clearcnt><createdt>2020-10-21 09:34:27.414</createdt><deathcnt>450</deathcnt><decidecnt>25424</decidecnt><examcnt>19493</examcnt><resutlnegcnt>2458574</resutlnegcnt><seq>298</seq><statedt>20201021</statedt><statetime>00:00</statetime><updatedt>null</updatedt></item>,\n",
      " <item><accdefrate>1.0248259256</accdefrate><accexamcnt>2491311</accexamcnt><accexamcompcnt>2471932</accexamcompcnt><carecnt>1420</carecnt><clearcnt>23466</clearcnt><createdt>2020-10-20 09:32:53.426</createdt><deathcnt>447</deathcnt><decidecnt>25333</decidecnt><examcnt>19379</examcnt><resutlnegcnt>2446599</resutlnegcnt><seq>297</seq><statedt>20201020</statedt><statetime>00:00</statetime><updatedt>null</updatedt></item>,\n",
      " <item><accdefrate>1.0264113613</accdefrate><accexamcnt>2479226</accexamcnt><accexamcompcnt>2462463</accexamcompcnt><carecnt>1463</carecnt><clearcnt>23368</clearcnt><createdt>2020-10-19 09:42:35.552</createdt><deathcnt>444</deathcnt><decidecnt>25275</decidecnt><examcnt>16763</examcnt><resutlnegcnt>2437188</resutlnegcnt><seq>296</seq><statedt>20201019</statedt><statetime>00:00</statetime><updatedt>null</updatedt></item>,\n",
      " <item><accdefrate>1.0257055261</accdefrate><accexamcnt>2474529</accexamcnt><accexamcompcnt>2456748</accexamcompcnt><carecnt>1443</carecnt><clearcnt>23312</clearcnt><createdt>2020-10-18 09:33:55.901</createdt><deathcnt>444</deathcnt><decidecnt>25199</decidecnt><examcnt>17781</examcnt><resutlnegcnt>2431549</resutlnegcnt><seq>295</seq><statedt>20201018</statedt><statetime>00:00</statetime><updatedt>null</updatedt></item>,\n",
      " <item><accdefrate>1.0243108604</accdefrate><accexamcnt>2468527</accexamcnt><accexamcompcnt>2451209</accexamcompcnt><carecnt>1407</carecnt><clearcnt>23258</clearcnt><createdt>2020-10-17 09:49:12.315</createdt><deathcnt>443</deathcnt><decidecnt>25108</decidecnt><examcnt>17318</examcnt><resutlnegcnt>2426101</resutlnegcnt><seq>294</seq><statedt>20201017</statedt><statetime>00:00</statetime><updatedt>null</updatedt></item>,\n",
      " <item><accdefrate>1.0251544693</accdefrate><accexamcnt>2459426</accexamcnt><accexamcompcnt>2442071</accexamcompcnt><carecnt>1414</carecnt><clearcnt>23180</clearcnt><createdt>2020-10-16 09:34:40.212</createdt><deathcnt>441</deathcnt><decidecnt>25035</decidecnt><examcnt>17355</examcnt><resutlnegcnt>2417036</resutlnegcnt><seq>293</seq><statedt>20201016</statedt><statetime>00:00</statetime><updatedt>null</updatedt></item>,\n",
      " <item><accdefrate>1.0272656226</accdefrate><accexamcnt>2450739</accexamcnt><accexamcompcnt>2432477</accexamcompcnt><carecnt>1467</carecnt><clearcnt>23082</clearcnt><createdt>2020-10-15 09:39:50.753</createdt><deathcnt>439</deathcnt><decidecnt>24988</decidecnt><examcnt>18262</examcnt><resutlnegcnt>2407489</resutlnegcnt><seq>292</seq><statedt>20201015</statedt><statetime>00:00</statetime><updatedt>null</updatedt></item>,\n",
      " <item><accdefrate>1.0271731010</accdefrate><accexamcnt>2441454</accexamcnt><accexamcompcnt>2423058</accexamcompcnt><carecnt>1421</carecnt><clearcnt>23030</clearcnt><createdt>2020-10-14 09:35:05.055</createdt><deathcnt>438</deathcnt><decidecnt>24889</decidecnt><examcnt>18396</examcnt><resutlnegcnt>2398169</resutlnegcnt><seq>291</seq><statedt>20201014</statedt><statetime>00:00</statetime><updatedt>null</updatedt></item>,\n",
      " <item><accdefrate>1.0298312704</accdefrate><accexamcnt>2428771</accexamcnt><accexamcompcnt>2408647</accexamcompcnt><carecnt>1508</carecnt><clearcnt>22863</clearcnt><createdt>2020-10-13 09:40:11.124</createdt><deathcnt>434</deathcnt><decidecnt>24805</decidecnt><examcnt>20124</examcnt><resutlnegcnt>2383842</resutlnegcnt><seq>290</seq><statedt>20201013</statedt><statetime>00:00</statetime><updatedt>null</updatedt></item>,\n",
      " <item><accdefrate>1.0308301807</accdefrate><accexamcnt>2415610</accexamcnt><accexamcompcnt>2396418</accexamcompcnt><carecnt>1541</carecnt><clearcnt>22729</clearcnt><createdt>2020-10-12 09:41:37.542</createdt><deathcnt>433</deathcnt><decidecnt>24703</decidecnt><examcnt>19192</examcnt><resutlnegcnt>2371715</resutlnegcnt><seq>289</seq><statedt>20201012</statedt><statetime>00:00</statetime><updatedt>null</updatedt></item>,\n",
      " <item><accdefrate>1.0308301807</accdefrate><accexamcnt>2415610</accexamcnt><accexamcompcnt>2396418</accexamcompcnt><carecnt>1542</carecnt><clearcnt>22728</clearcnt><createdt>2020-10-12 09:41:37.542</createdt><deathcnt>433</deathcnt><decidecnt>24703</decidecnt><examcnt>19192</examcnt><resutlnegcnt>2371715</resutlnegcnt><seq>289</seq><statedt>20201012</statedt><statetime>00:00</statetime><updatedt>2020-10-12 15:39:41.918</updatedt></item>,\n",
      " <item><accdefrate>1.0290316914</accdefrate><accexamcnt>2410483</accexamcnt><accexamcompcnt>2391180</accexamcompcnt><carecnt>1481</carecnt><clearcnt>22693</clearcnt><createdt>2020-10-11 09:32:37.429</createdt><deathcnt>432</deathcnt><decidecnt>24606</decidecnt><examcnt>19303</examcnt><resutlnegcnt>2366574</resutlnegcnt><seq>288</seq><statedt>20201011</statedt><statetime>00:00</statetime><updatedt>null</updatedt></item>,\n",
      " <item><accdefrate>1.0289633826</accdefrate><accexamcnt>2404684</accexamcnt><accexamcompcnt>2385702</accexamcompcnt><carecnt>1494</carecnt><clearcnt>22624</clearcnt><createdt>2020-10-10 09:39:43.14</createdt><deathcnt>430</deathcnt><decidecnt>24548</decidecnt><examcnt>18982</examcnt><resutlnegcnt>2361154</resutlnegcnt><seq>287</seq><statedt>20201010</statedt><statetime>00:00</statetime><updatedt>null</updatedt></item>,\n",
      " <item><accdefrate>1.0286047604</accdefrate><accexamcnt>2400233</accexamcnt><accexamcompcnt>2379534</accexamcompcnt><carecnt>1479</carecnt><clearcnt>22569</clearcnt><createdt>2020-10-09 09:37:05.199</createdt><deathcnt>428</deathcnt><decidecnt>24476</decidecnt><examcnt>20699</examcnt><resutlnegcnt>2355058</resutlnegcnt><seq>286</seq><statedt>20201009</statedt><statetime>00:00</statetime><updatedt>null</updatedt></item>,\n",
      " <item><accdefrate>1.0313928237</accdefrate><accexamcnt>2388844</accexamcnt><accexamcompcnt>2367866</accexamcompcnt><carecnt>1532</carecnt><clearcnt>22463</clearcnt><createdt>2020-10-08 10:01:47.648</createdt><deathcnt>427</deathcnt><decidecnt>24422</decidecnt><examcnt>20978</examcnt><resutlnegcnt>2343444</resutlnegcnt><seq>285</seq><statedt>20201008</statedt><statetime>00:00</statetime><updatedt>null</updatedt></item>,\n",
      " <item><accdefrate>1.0336872621</accdefrate><accexamcnt>2378073</accexamcnt><accexamcompcnt>2355935</accexamcompcnt><carecnt>1594</carecnt><clearcnt>22334</clearcnt><createdt>2020-10-07 09:42:43.617</createdt><deathcnt>425</deathcnt><decidecnt>24353</decidecnt><examcnt>22138</examcnt><resutlnegcnt>2331582</resutlnegcnt><seq>284</seq><statedt>20201007</statedt><statetime>00:00</statetime><updatedt>null</updatedt></item>,\n",
      " <item><accdefrate>1.0346626280</accdefrate><accexamcnt>2365433</accexamcnt><accexamcompcnt>2342696</accexamcompcnt><carecnt>1734</carecnt><clearcnt>22083</clearcnt><createdt>2020-10-06 09:39:50.695</createdt><deathcnt>422</deathcnt><decidecnt>24239</decidecnt><examcnt>22737</examcnt><resutlnegcnt>2318457</resutlnegcnt><seq>283</seq><statedt>20201006</statedt><statetime>00:00</statetime><updatedt>null</updatedt></item>,\n",
      " <item><accdefrate>1.0371122578</accdefrate><accexamcnt>2352378</accexamcnt><accexamcompcnt>2329931</accexamcompcnt><carecnt>1856</carecnt><clearcnt>21886</clearcnt><createdt>2020-10-05 09:32:34.385</createdt><deathcnt>422</deathcnt><decidecnt>24164</decidecnt><examcnt>22447</examcnt><resutlnegcnt>2305767</resutlnegcnt><seq>282</seq><statedt>20201005</statedt><statetime>00:00</statetime><updatedt>null</updatedt></item>,\n",
      " <item><accdefrate>1.0365157650</accdefrate><accexamcnt>2346345</accexamcnt><accexamcompcnt>2324229</accexamcompcnt><carecnt>1825</carecnt><clearcnt>21845</clearcnt><createdt>2020-10-04 09:35:29.507</createdt><deathcnt>421</deathcnt><decidecnt>24091</decidecnt><examcnt>22116</examcnt><resutlnegcnt>2300138</resutlnegcnt><seq>281</seq><statedt>20201004</statedt><statetime>00:00</statetime><updatedt>null</updatedt></item>,\n",
      " <item><accdefrate>1.0362844026</accdefrate><accexamcnt>2339859</accexamcnt><accexamcompcnt>2318572</accexamcompcnt><carecnt>1820</carecnt><clearcnt>21787</clearcnt><createdt>2020-10-03 09:49:45.749</createdt><deathcnt>420</deathcnt><decidecnt>24027</decidecnt><examcnt>21287</examcnt><resutlnegcnt>2294545</resutlnegcnt><seq>280</seq><statedt>20201003</statedt><statetime>00:00</statetime><updatedt>null</updatedt></item>,\n",
      " <item><accdefrate>1.0351882761</accdefrate><accexamcnt>2333777</accexamcnt><accexamcompcnt>2313782</accexamcompcnt><carecnt>1803</carecnt><clearcnt>21733</clearcnt><createdt>2020-10-02 09:51:40.639</createdt><deathcnt>416</deathcnt><decidecnt>23952</decidecnt><examcnt>19995</examcnt><resutlnegcnt>2289830</resutlnegcnt><seq>279</seq><statedt>20201002</statedt><statetime>00:00</statetime><updatedt>null</updatedt></item>,\n",
      " <item><accdefrate>1.0348699492</accdefrate><accexamcnt>2328435</accexamcnt><accexamcompcnt>2308406</accexamcompcnt><carecnt>1808</carecnt><clearcnt>21666</clearcnt><createdt>2020-10-01 09:38:23.382</createdt><deathcnt>415</deathcnt><decidecnt>23889</decidecnt><examcnt>20029</examcnt><resutlnegcnt>2284517</resutlnegcnt><seq>278</seq><statedt>20201001</statedt><statetime>00:00</statetime><updatedt>null</updatedt></item>,\n",
      " <item><accdefrate>1.0342238087</accdefrate><accexamcnt>2322999</accexamcnt><accexamcompcnt>2302403</accexamcompcnt><carecnt>1809</carecnt><clearcnt>21590</clearcnt><createdt>2020-09-30 09:32:00.223</createdt><deathcnt>413</deathcnt><decidecnt>23812</decidecnt><examcnt>20596</examcnt><resutlnegcnt>2278591</resutlnegcnt><seq>277</seq><statedt>20200930</statedt><statetime>00:00</statetime><updatedt>null</updatedt></item>,\n",
      " <item><accdefrate>1.0342238087</accdefrate><accexamcnt>2322999</accexamcnt><accexamcompcnt>2302403</accexamcompcnt><carecnt>1808</carecnt><clearcnt>21591</clearcnt><createdt>2020-09-30 09:32:00.223</createdt><deathcnt>413</deathcnt><decidecnt>23812</decidecnt><examcnt>20596</examcnt><resutlnegcnt>2278591</resutlnegcnt><seq>277</seq><statedt>20200930</statedt><statetime>00:00</statetime><updatedt>2020-09-30 18:56:19.249</updatedt></item>,\n",
      " <item><accdefrate>1.0335422601</accdefrate><accexamcnt>2313044</accexamcnt><accexamcompcnt>2292988</accexamcompcnt><carecnt>1822</carecnt><clearcnt>21470</clearcnt><createdt>2020-09-29 09:40:16.798</createdt><deathcnt>407</deathcnt><decidecnt>23699</decidecnt><examcnt>20056</examcnt><resutlnegcnt>2269289</resutlnegcnt><seq>276</seq><statedt>20200929</statedt><statetime>00:00</statetime><updatedt>null</updatedt></item>,\n",
      " <item><accdefrate>1.0365284161</accdefrate><accexamcnt>2301303</accexamcnt><accexamcompcnt>2282716</accexamcompcnt><carecnt>1963</carecnt><clearcnt>21292</clearcnt><createdt>2020-09-28 10:25:15.422</createdt><deathcnt>406</deathcnt><decidecnt>23661</decidecnt><examcnt>18587</examcnt><resutlnegcnt>2259055</resutlnegcnt><seq>275</seq><statedt>20200928</statedt><statetime>00:00</statetime><updatedt>null</updatedt></item>,\n",
      " <item><accdefrate>1.0366436472</accdefrate><accexamcnt>2296517</accexamcnt><accexamcompcnt>2277639</accexamcompcnt><carecnt>1962</carecnt><clearcnt>21248</clearcnt><createdt>2020-09-27 10:12:36.066</createdt><deathcnt>401</deathcnt><decidecnt>23611</decidecnt><examcnt>18878</examcnt><resutlnegcnt>2254028</resutlnegcnt><seq>274</seq><statedt>20200927</statedt><statetime>00:00</statetime><updatedt>null</updatedt></item>,\n",
      " <item><accdefrate>1.0351094730</accdefrate><accexamcnt>2290345</accexamcnt><accexamcompcnt>2271837</accexamcompcnt><carecnt>1951</carecnt><clearcnt>21166</clearcnt><createdt>2020-09-26 10:01:53.253</createdt><deathcnt>399</deathcnt><decidecnt>23516</decidecnt><examcnt>18508</examcnt><resutlnegcnt>2248321</resutlnegcnt><seq>273</seq><statedt>20200926</statedt><statetime>00:00</statetime><updatedt>null</updatedt></item>,\n",
      " <item><accdefrate>1.0375100466</accdefrate><accexamcnt>2280276</accexamcnt><accexamcompcnt>2260701</accexamcompcnt><carecnt>2082</carecnt><clearcnt>20978</clearcnt><createdt>2020-09-25 09:56:13.802</createdt><deathcnt>395</deathcnt><decidecnt>23455</decidecnt><examcnt>19575</examcnt><resutlnegcnt>2237246</resutlnegcnt><seq>272</seq><statedt>20200925</statedt><statetime>00:00</statetime><updatedt>null</updatedt></item>,\n",
      " <item><accdefrate>1.0382004939</accdefrate><accexamcnt>2268999</accexamcnt><accexamcompcnt>2248217</accexamcompcnt><carecnt>2116</carecnt><clearcnt>20832</clearcnt><createdt>2020-09-24 10:06:21.95</createdt><deathcnt>393</deathcnt><decidecnt>23341</decidecnt><examcnt>20782</examcnt><resutlnegcnt>2224876</resutlnegcnt><seq>271</seq><statedt>20200924</statedt><statetime>00:00</statetime><updatedt>null</updatedt></item>,\n",
      " <item><accdefrate>1.0381099387</accdefrate><accexamcnt>2256899</accexamcnt><accexamcompcnt>2236372</accexamcompcnt><carecnt>2178</carecnt><clearcnt>20650</clearcnt><createdt>2020-09-23 10:10:59.643</createdt><deathcnt>388</deathcnt><decidecnt>23216</decidecnt><examcnt>20527</examcnt><resutlnegcnt>2213156</resutlnegcnt><seq>270</seq><statedt>20200923</statedt><statetime>00:00</statetime><updatedt>null</updatedt></item>,\n",
      " <item><accdefrate>1.0399254688</accdefrate><accexamcnt>2245112</accexamcnt><accexamcompcnt>2221890</accexamcompcnt><carecnt>2277</carecnt><clearcnt>20441</clearcnt><createdt>2020-09-22 10:08:48.145</createdt><deathcnt>388</deathcnt><decidecnt>23106</decidecnt><examcnt>23222</examcnt><resutlnegcnt>2198784</resutlnegcnt><seq>269</seq><statedt>20200922</statedt><statetime>00:00</statetime><updatedt>null</updatedt></item>,\n",
      " <item><accdefrate>1.0432072023</accdefrate><accexamcnt>2231589</accexamcnt><accexamcompcnt>2209053</accexamcompcnt><carecnt>2412</carecnt><clearcnt>20248</clearcnt><createdt>2020-09-21 10:01:42.98</createdt><deathcnt>385</deathcnt><decidecnt>23045</decidecnt><examcnt>22536</examcnt><resutlnegcnt>2186008</resutlnegcnt><seq>268</seq><statedt>20200921</statedt><statetime>00:00</statetime><updatedt>null</updatedt></item>,\n",
      " <item><accdefrate>1.0431673785</accdefrate><accexamcnt>2226701</accexamcnt><accexamcompcnt>2202427</accexamcompcnt><carecnt>2434</carecnt><clearcnt>20158</clearcnt><createdt>2020-09-20 09:52:54.024</createdt><deathcnt>383</deathcnt><decidecnt>22975</decidecnt><examcnt>24274</examcnt><resutlnegcnt>2179452</resutlnegcnt><seq>267</seq><statedt>20200920</statedt><statetime>00:00</statetime><updatedt>null</updatedt></item>,\n",
      " <item><accdefrate>1.0432193476</accdefrate><accexamcnt>2219162</accexamcnt><accexamcompcnt>2194457</accexamcompcnt><carecnt>2545</carecnt><clearcnt>19970</clearcnt><createdt>2020-09-19 10:09:15.94</createdt><deathcnt>378</deathcnt><decidecnt>22893</decidecnt><examcnt>24705</examcnt><resutlnegcnt>2171564</resutlnegcnt><seq>266</seq><statedt>20200919</statedt><statetime>00:00</statetime><updatedt>null</updatedt></item>,\n",
      " <item><accdefrate>1.0446307638</accdefrate><accexamcnt>2206365</accexamcnt><accexamcompcnt>2180962</accexamcompcnt><carecnt>2635</carecnt><clearcnt>19771</clearcnt><createdt>2020-09-18 09:58:09.847</createdt><deathcnt>377</deathcnt><decidecnt>22783</decidecnt><examcnt>25403</examcnt><resutlnegcnt>2158179</resutlnegcnt><seq>265</seq><statedt>20200918</statedt><statetime>00:00</statetime><updatedt>null</updatedt></item>,\n",
      " <item><accdefrate>1.0458441347</accdefrate><accexamcnt>2191892</accexamcnt><accexamcompcnt>2166384</accexamcompcnt><carecnt>2742</carecnt><clearcnt>19543</clearcnt><createdt>2020-09-17 10:09:16.903</createdt><deathcnt>372</deathcnt><decidecnt>22657</decidecnt><examcnt>25508</examcnt><resutlnegcnt>2143727</resutlnegcnt><seq>264</seq><statedt>20200917</statedt><statetime>00:00</statetime><updatedt>null</updatedt></item>,\n",
      " <item><accdefrate>1.0452440559</accdefrate><accexamcnt>2178832</accexamcnt><accexamcompcnt>2152990</accexamcompcnt><carecnt>2827</carecnt><clearcnt>19310</clearcnt><createdt>2020-09-16 09:37:10.616</createdt><deathcnt>367</deathcnt><decidecnt>22504</decidecnt><examcnt>25842</examcnt><resutlnegcnt>2130486</resutlnegcnt><seq>263</seq><statedt>20200916</statedt><statetime>00:00</statetime><updatedt>null</updatedt></item>,\n",
      " <item><accdefrate>1.0476458731</accdefrate><accexamcnt>2164578</accexamcnt><accexamcompcnt>2137268</accexamcompcnt><carecnt>3146</carecnt><clearcnt>18878</clearcnt><createdt>2020-09-15 09:48:41.78</createdt><deathcnt>367</deathcnt><decidecnt>22391</decidecnt><examcnt>27310</examcnt><resutlnegcnt>2114877</resutlnegcnt><seq>262</seq><statedt>20200915</statedt><statetime>00:00</statetime><updatedt>null</updatedt></item>,\n",
      " <item><accdefrate>1.0494338190</accdefrate><accexamcnt>2151002</accexamcnt><accexamcompcnt>2123526</accexamcompcnt><carecnt>3433</carecnt><clearcnt>18489</clearcnt><createdt>2020-09-14 09:54:39.941</createdt><deathcnt>363</deathcnt><decidecnt>22285</decidecnt><examcnt>27476</examcnt><resutlnegcnt>2101241</resutlnegcnt><seq>261</seq><statedt>20200914</statedt><statetime>00:00</statetime><updatedt>null</updatedt></item>,\n",
      " <item><accdefrate>1.0482306145</accdefrate><accexamcnt>2143270</accexamcnt><accexamcompcnt>2115565</accexamcompcnt><carecnt>3592</carecnt><clearcnt>18226</clearcnt><createdt>2020-09-13 11:05:38.708</createdt><deathcnt>358</deathcnt><decidecnt>22176</decidecnt><examcnt>27705</examcnt><resutlnegcnt>2093389</resutlnegcnt><seq>260</seq><statedt>20200913</statedt><statetime>00:00</statetime><updatedt>null</updatedt></item>,\n",
      " <item><accdefrate>1.0464355477</accdefrate><accexamcnt>2135457</accexamcnt><accexamcompcnt>2107631</accexamcompcnt><carecnt>3671</carecnt><clearcnt>18029</clearcnt><createdt>2020-09-12 10:03:19.762</createdt><deathcnt>355</deathcnt><decidecnt>22055</decidecnt><examcnt>27826</examcnt><resutlnegcnt>2085576</resutlnegcnt><seq>259</seq><statedt>20200912</statedt><statetime>00:00</statetime><updatedt>null</updatedt></item>,\n",
      " <item><accdefrate>1.0488623726</accdefrate><accexamcnt>2119211</accexamcnt><accexamcompcnt>2089788</accexamcompcnt><carecnt>3953</carecnt><clearcnt>17616</clearcnt><createdt>2020-09-11 09:34:22.301</createdt><deathcnt>350</deathcnt><decidecnt>21919</decidecnt><examcnt>29423</examcnt><resutlnegcnt>2067869</resutlnegcnt><seq>258</seq><statedt>20200911</statedt><statetime>00:00</statetime><updatedt>null</updatedt></item>,\n",
      " <item><accdefrate>1.0521283303</accdefrate><accexamcnt>2099591</accexamcnt><accexamcompcnt>2066573</accexamcompcnt><carecnt>4037</carecnt><clearcnt>17360</clearcnt><createdt>2020-09-10 09:43:44.767</createdt><deathcnt>346</deathcnt><decidecnt>21743</decidecnt><examcnt>33018</examcnt><resutlnegcnt>2044830</resutlnegcnt><seq>257</seq><statedt>20200910</statedt><statetime>00:00</statetime><updatedt>null</updatedt></item>,\n",
      " <item><accdefrate>1.0552861830</accdefrate><accexamcnt>2082234</accexamcnt><accexamcompcnt>2045701</accexamcompcnt><carecnt>4221</carecnt><clearcnt>17023</clearcnt><createdt>2020-09-09 10:04:44.84</createdt><deathcnt>344</deathcnt><decidecnt>21588</decidecnt><examcnt>36533</examcnt><resutlnegcnt>2024113</resutlnegcnt><seq>256</seq><statedt>20200909</statedt><statetime>00:00</statetime><updatedt>null</updatedt></item>,\n",
      " <item><accdefrate>1.0595696462</accdefrate><accexamcnt>2066078</accexamcnt><accexamcompcnt>2022708</accexamcompcnt><carecnt>4455</carecnt><clearcnt>16636</clearcnt><createdt>2020-09-08 09:34:17.322</createdt><deathcnt>341</deathcnt><decidecnt>21432</decidecnt><examcnt>43370</examcnt><resutlnegcnt>2001276</resutlnegcnt><seq>255</seq><statedt>20200908</statedt><statetime>00:00</statetime><updatedt>null</updatedt></item>,\n",
      " <item><accdefrate>1.0625749680</accdefrate><accexamcnt>2051297</accexamcnt><accexamcompcnt>2004188</accexamcompcnt><carecnt>4663</carecnt><clearcnt>16297</clearcnt><createdt>2020-09-07 09:34:31.98</createdt><deathcnt>336</deathcnt><decidecnt>21296</decidecnt><examcnt>47109</examcnt><resutlnegcnt>1982892</resutlnegcnt><seq>254</seq><statedt>20200907</statedt><statetime>00:00</statetime><updatedt>null</updatedt></item>,\n",
      " <item><accdefrate>1.0608050637</accdefrate><accexamcnt>2045935</accexamcnt><accexamcompcnt>1996314</accexamcompcnt><carecnt>4697</carecnt><clearcnt>16146</clearcnt><createdt>2020-09-06 09:48:30.763</createdt><deathcnt>334</deathcnt><decidecnt>21177</decidecnt><examcnt>49621</examcnt><resutlnegcnt>1975137</resutlnegcnt><seq>253</seq><statedt>20200906</statedt><statetime>00:00</statetime><updatedt>null</updatedt></item>,\n",
      " <item><accdefrate>1.0584553504</accdefrate><accexamcnt>2037045</accexamcnt><accexamcompcnt>1984968</accexamcompcnt><carecnt>4668</carecnt><clearcnt>16009</clearcnt><createdt>2020-09-05 09:34:11.934</createdt><deathcnt>333</deathcnt><decidecnt>21010</decidecnt><examcnt>52077</examcnt><resutlnegcnt>1963958</resutlnegcnt><seq>252</seq><statedt>20200905</statedt><statetime>00:00</statetime><updatedt>null</updatedt></item>,\n",
      " <item><accdefrate>1.0597770817</accdefrate><accexamcnt>2018906</accexamcnt><accexamcompcnt>1966640</accexamcompcnt><carecnt>4728</carecnt><clearcnt>15783</clearcnt><createdt>2020-09-04 09:46:40.727</createdt><deathcnt>331</deathcnt><decidecnt>20842</decidecnt><examcnt>52266</examcnt><resutlnegcnt>1945798</resutlnegcnt><seq>251</seq><statedt>20200904</statedt><statetime>00:00</statetime><updatedt>null</updatedt></item>,\n",
      " <item><accdefrate>1.0613728954</accdefrate><accexamcnt>2000552</accexamcnt><accexamcompcnt>1945028</accexamcompcnt><carecnt>4786</carecnt><clearcnt>15529</clearcnt><createdt>2020-09-03 09:37:35.778</createdt><deathcnt>329</deathcnt><decidecnt>20644</decidecnt><examcnt>55524</examcnt><resutlnegcnt>1924384</resutlnegcnt><seq>250</seq><statedt>20200903</statedt><statetime>00:00</statetime><updatedt>null</updatedt></item>,\n",
      " <item><accdefrate>1.0630881387</accdefrate><accexamcnt>1980295</accexamcnt><accexamcompcnt>1923547</accexamcompcnt><carecnt>4767</carecnt><clearcnt>15356</clearcnt><createdt>2020-09-02 10:20:17.634</createdt><deathcnt>326</deathcnt><decidecnt>20449</decidecnt><examcnt>56748</examcnt><resutlnegcnt>1903098</resutlnegcnt><seq>249</seq><statedt>20200902</statedt><statetime>00:00</statetime><updatedt>null</updatedt></item>,\n",
      " <item><accdefrate>1.0609056124</accdefrate><accexamcnt>1959080</accexamcnt><accexamcompcnt>1902337</accexamcompcnt><carecnt>4660</carecnt><clearcnt>15198</clearcnt><createdt>2020-09-01 09:32:28.222</createdt><deathcnt>324</deathcnt><decidecnt>20182</decidecnt><examcnt>56743</examcnt><resutlnegcnt>1882155</resutlnegcnt><seq>248</seq><statedt>20200901</statedt><statetime>00:00</statetime><updatedt>null</updatedt></item>,\n",
      " <item><accdefrate>1.0611161854</accdefrate><accexamcnt>1937689</accexamcnt><accexamcompcnt>1879813</accexamcompcnt><carecnt>4650</carecnt><clearcnt>14973</clearcnt><createdt>2020-08-31 09:32:30.212</createdt><deathcnt>324</deathcnt><decidecnt>19947</decidecnt><examcnt>57876</examcnt><resutlnegcnt>1859866</resutlnegcnt><seq>247</seq><statedt>20200831</statedt><statetime>00:00</statetime><updatedt>null</updatedt></item>,\n",
      " <item><accdefrate>1.0555963109</accdefrate><accexamcnt>1924170</accexamcnt><accexamcompcnt>1866149</accexamcompcnt><carecnt>4473</carecnt><clearcnt>14903</clearcnt><createdt>2020-08-30 09:37:35.21</createdt><deathcnt>323</deathcnt><decidecnt>19699</decidecnt><examcnt>58021</examcnt><resutlnegcnt>1846450</resutlnegcnt><seq>246</seq><statedt>20200830</statedt><statetime>00:00</statetime><updatedt>null</updatedt></item>,\n",
      " <item><accdefrate>1.0456625754</accdefrate><accexamcnt>1909329</accexamcnt><accexamcompcnt>1855283</accexamcompcnt><carecnt>4314</carecnt><clearcnt>14765</clearcnt><createdt>2020-08-29 09:56:02.115</createdt><deathcnt>321</deathcnt><decidecnt>19400</decidecnt><examcnt>54046</examcnt><resutlnegcnt>1835883</resutlnegcnt><seq>245</seq><statedt>20200829</statedt><statetime>00:00</statetime><updatedt>null</updatedt></item>,\n",
      " <item><accdefrate>1.0384832711</accdefrate><accexamcnt>1887717</accexamcnt><accexamcompcnt>1837006</accexamcompcnt><carecnt>4210</carecnt><clearcnt>14551</clearcnt><createdt>2020-08-28 09:39:46.063</createdt><deathcnt>316</deathcnt><decidecnt>19077</decidecnt><examcnt>50711</examcnt><resutlnegcnt>1817929</resutlnegcnt><seq>244</seq><statedt>20200828</statedt><statetime>00:00</statetime><updatedt>null</updatedt></item>,\n",
      " <item><accdefrate>1.0291944377</accdefrate><accexamcnt>1869579</accexamcnt><accexamcompcnt>1817538</accexamcompcnt><carecnt>3932</carecnt><clearcnt>14461</clearcnt><createdt>2020-08-27 10:15:47.305</createdt><deathcnt>313</deathcnt><decidecnt>18706</decidecnt><examcnt>52041</examcnt><resutlnegcnt>1798832</resutlnegcnt><seq>243</seq><statedt>20200827</statedt><statetime>00:00</statetime><updatedt>null</updatedt></item>,\n",
      " <item><accdefrate>1.0165797393</accdefrate><accexamcnt>1849506</accexamcnt><accexamcompcnt>1796711</accexamcompcnt><carecnt>3585</carecnt><clearcnt>14368</clearcnt><createdt>2020-08-26 10:20:54.096</createdt><deathcnt>312</deathcnt><decidecnt>18265</decidecnt><examcnt>52795</examcnt><resutlnegcnt>1778446</resutlnegcnt><seq>242</seq><statedt>20200826</statedt><statetime>00:00</statetime><updatedt>null</updatedt></item>,\n",
      " <item><accdefrate>1.0107154423</accdefrate><accexamcnt>1825837</accexamcnt><accexamcompcnt>1775475</accexamcompcnt><carecnt>3349</carecnt><clearcnt>14286</clearcnt><createdt>2020-08-25 10:23:00.215</createdt><deathcnt>310</deathcnt><decidecnt>17945</decidecnt><examcnt>50362</examcnt><resutlnegcnt>1757530</resutlnegcnt><seq>241</seq><statedt>20200825</statedt><statetime>00:00</statetime><updatedt>null</updatedt></item>,\n",
      " <item><accdefrate>1.0057349380</accdefrate><accexamcnt>1804422</accexamcnt><accexamcompcnt>1756427</accexamcompcnt><carecnt>3137</carecnt><clearcnt>14219</clearcnt><createdt>2020-08-24 10:17:43.752</createdt><deathcnt>309</deathcnt><decidecnt>17665</decidecnt><examcnt>47995</examcnt><resutlnegcnt>1738762</resutlnegcnt><seq>240</seq><statedt>20200824</statedt><statetime>00:00</statetime><updatedt>null</updatedt></item>,\n",
      " <item><accdefrate>0.9978653630</accdefrate><accexamcnt>1791186</accexamcnt><accexamcompcnt>1743622</accexamcompcnt><carecnt>2890</carecnt><clearcnt>14200</clearcnt><createdt>2020-08-23 10:21:59.464</createdt><deathcnt>309</deathcnt><decidecnt>17399</decidecnt><examcnt>47564</examcnt><resutlnegcnt>1726223</resutlnegcnt><seq>239</seq><statedt>20200823</statedt><statetime>00:00</statetime><updatedt>null</updatedt></item>,\n",
      " <item><accdefrate>0.9808621687</accdefrate><accexamcnt>1775800</accexamcnt><accexamcompcnt>1733373</accexamcompcnt><carecnt>2524</carecnt><clearcnt>14169</clearcnt><createdt>2020-08-22 10:15:55.539</createdt><deathcnt>309</deathcnt><decidecnt>17002</decidecnt><examcnt>42427</examcnt><resutlnegcnt>1716371</resutlnegcnt><seq>238</seq><statedt>20200822</statedt><statetime>00:00</statetime><updatedt>null</updatedt></item>,\n",
      " <item><accdefrate>0.9714010668</accdefrate><accexamcnt>1754123</accexamcnt><accexamcompcnt>1716078</accexamcompcnt><carecnt>2241</carecnt><clearcnt>14120</clearcnt><createdt>2020-08-21 10:21:09.752</createdt><deathcnt>309</deathcnt><decidecnt>16670</decidecnt><examcnt>38045</examcnt><resutlnegcnt>1699408</resutlnegcnt><seq>237</seq><statedt>20200821</statedt><statetime>00:00</statetime><updatedt>null</updatedt></item>,\n",
      " <item><accdefrate>0.9620472195</accdefrate><accexamcnt>1734083</accexamcnt><accexamcompcnt>1699085</accexamcompcnt><carecnt>1976</carecnt><clearcnt>14063</clearcnt><createdt>2020-08-20 10:13:52.572</createdt><deathcnt>307</deathcnt><decidecnt>16346</decidecnt><examcnt>34998</examcnt><resutlnegcnt>1682739</resutlnegcnt><seq>236</seq><statedt>20200820</statedt><statetime>00:00</statetime><updatedt>null</updatedt></item>,\n",
      " <item><accdefrate>0.9535391635</accdefrate><accexamcnt>1715064</accexamcnt><accexamcompcnt>1684042</accexamcompcnt><carecnt>1746</carecnt><clearcnt>14006</clearcnt><createdt>2020-08-19 10:12:19.406</createdt><deathcnt>306</deathcnt><decidecnt>16058</decidecnt><examcnt>31022</examcnt><resutlnegcnt>1667984</resutlnegcnt><seq>235</seq><statedt>20200819</statedt><statetime>00:00</statetime><updatedt>null</updatedt></item>,\n",
      " <item><accdefrate>0.9427433406</accdefrate><accexamcnt>1697042</accexamcnt><accexamcompcnt>1671823</accexamcompcnt><carecnt>1521</carecnt><clearcnt>13934</clearcnt><createdt>2020-08-18 10:13:01.496</createdt><deathcnt>306</deathcnt><decidecnt>15761</decidecnt><examcnt>25219</examcnt><resutlnegcnt>1656062</resutlnegcnt><seq>234</seq><statedt>20200818</statedt><statetime>00:00</statetime><updatedt>null</updatedt></item>,\n",
      " <item><accdefrate>0.9315487305</accdefrate><accexamcnt>1688470</accexamcnt><accexamcompcnt>1665506</accexamcompcnt><carecnt>1293</carecnt><clearcnt>13917</clearcnt><createdt>2020-08-18 09:12:22.918</createdt><deathcnt>305</deathcnt><decidecnt>15515</decidecnt><examcnt>22964</examcnt><resutlnegcnt>1649991</resutlnegcnt><seq>233</seq><statedt>20200817</statedt><statetime>00:00</statetime><updatedt>null</updatedt></item>,\n",
      " <item><accdefrate>0.9228922834</accdefrate><accexamcnt>1681787</accexamcnt><accexamcompcnt>1659782</accexamcompcnt><carecnt>1103</carecnt><clearcnt>13910</clearcnt><createdt>2020-08-16 10:33:30.845</createdt><deathcnt>305</deathcnt><decidecnt>15318</decidecnt><examcnt>22005</examcnt><resutlnegcnt>1644464</resutlnegcnt><seq>232</seq><statedt>20200816</statedt><statetime>00:00</statetime><updatedt>null</updatedt></item>,\n",
      " <item><accdefrate>0.9094273492</accdefrate><accexamcnt>1675296</accexamcnt><accexamcompcnt>1653678</accexamcompcnt><carecnt>833</carecnt><clearcnt>13901</clearcnt><createdt>2020-08-15 09:04:10.134</createdt><deathcnt>305</deathcnt><decidecnt>15039</decidecnt><examcnt>21618</examcnt><resutlnegcnt>1638639</resutlnegcnt><seq>231</seq><statedt>20200815</statedt><statetime>00:00</statetime><updatedt>null</updatedt></item>,\n",
      " <item><accdefrate>0.9041601213</accdefrate><accexamcnt>1665084</accexamcnt><accexamcompcnt>1644952</accexamcompcnt><carecnt>705</carecnt><clearcnt>13863</clearcnt><createdt>2020-08-14 10:25:20.167</createdt><deathcnt>305</deathcnt><decidecnt>14873</decidecnt><examcnt>20132</examcnt><resutlnegcnt>1630079</resutlnegcnt><seq>230</seq><statedt>20200814</statedt><statetime>00:00</statetime><updatedt>null</updatedt></item>,\n",
      " <item><accdefrate>0.9022051188</accdefrate><accexamcnt>1654898</accexamcnt><accexamcompcnt>1637100</accexamcompcnt><carecnt>648</carecnt><clearcnt>13817</clearcnt><createdt>2020-08-13 10:26:12.732</createdt><deathcnt>305</deathcnt><decidecnt>14770</decidecnt><examcnt>17798</examcnt><resutlnegcnt>1622330</resutlnegcnt><seq>229</seq><statedt>20200813</statedt><statetime>00:00</statetime><updatedt>null</updatedt></item>,\n",
      " <item><accdefrate>0.9030999639</accdefrate><accexamcnt>1646652</accexamcnt><accexamcompcnt>1629277</accexamcompcnt><carecnt>623</carecnt><clearcnt>13786</clearcnt><createdt>2020-08-12 10:41:22.169</createdt><deathcnt>305</deathcnt><decidecnt>14714</decidecnt><examcnt>17375</examcnt><resutlnegcnt>1614563</resutlnegcnt><seq>228</seq><statedt>20200812</statedt><statetime>00:00</statetime><updatedt>null</updatedt></item>,\n",
      " <item><accdefrate>0.9047400106</accdefrate><accexamcnt>1637844</accexamcnt><accexamcompcnt>1620355</accexamcompcnt><carecnt>626</carecnt><clearcnt>13729</clearcnt><createdt>2020-08-11 10:28:36.961</createdt><deathcnt>305</deathcnt><decidecnt>14660</decidecnt><examcnt>17489</examcnt><resutlnegcnt>1605695</resutlnegcnt><seq>227</seq><statedt>20200811</statedt><statetime>00:00</statetime><updatedt>null</updatedt></item>,\n",
      " <item><accdefrate>0.9073724476</accdefrate><accexamcnt>1628303</accexamcnt><accexamcompcnt>1611907</accexamcompcnt><carecnt>663</carecnt><clearcnt>13658</clearcnt><createdt>2020-08-10 10:37:49.213</createdt><deathcnt>305</deathcnt><decidecnt>14626</decidecnt><examcnt>16396</examcnt><resutlnegcnt>1597281</resutlnegcnt><seq>226</seq><statedt>20200810</statedt><statetime>00:00</statetime><updatedt>null</updatedt></item>,\n",
      " <item><accdefrate>0.9079222090</accdefrate><accexamcnt>1624650</accexamcnt><accexamcompcnt>1607847</accexamcompcnt><carecnt>651</carecnt><clearcnt>13642</clearcnt><createdt>2020-08-09 10:42:31.546</createdt><deathcnt>305</deathcnt><decidecnt>14598</decidecnt><examcnt>16803</examcnt><resutlnegcnt>1593249</resutlnegcnt><seq>225</seq><statedt>20200809</statedt><statetime>00:00</statetime><updatedt>null</updatedt></item>,\n",
      " <item><accdefrate>0.9076239288</accdefrate><accexamcnt>1620514</accexamcnt><accexamcompcnt>1604409</accexamcompcnt><carecnt>629</carecnt><clearcnt>13629</clearcnt><createdt>2020-08-08 10:18:57.161</createdt><deathcnt>304</deathcnt><decidecnt>14562</decidecnt><examcnt>16105</examcnt><resutlnegcnt>1589847</resutlnegcnt><seq>224</seq><statedt>20200808</statedt><statetime>00:00</statetime><updatedt>null</updatedt></item>,\n",
      " <item><accdefrate>0.9093790242</accdefrate><accexamcnt>1613652</accexamcnt><accexamcompcnt>1596584</accexamcompcnt><carecnt>673</carecnt><clearcnt>13543</clearcnt><createdt>2020-08-07 10:11:42.66</createdt><deathcnt>303</deathcnt><decidecnt>14519</decidecnt><examcnt>17068</examcnt><resutlnegcnt>1582065</resutlnegcnt><seq>223</seq><statedt>20200807</statedt><statetime>00:00</statetime><updatedt>null</updatedt></item>,\n",
      " <item><accdefrate>0.9127731583</accdefrate><accexamcnt>1606487</accexamcnt><accexamcompcnt>1588456</accexamcompcnt><carecnt>696</carecnt><clearcnt>13501</clearcnt><createdt>2020-08-06 10:22:46.898</createdt><deathcnt>302</deathcnt><decidecnt>14499</decidecnt><examcnt>18031</examcnt><resutlnegcnt>1573957</resutlnegcnt><seq>222</seq><statedt>20200806</statedt><statetime>00:00</statetime><updatedt>null</updatedt></item>,\n",
      " <item><accdefrate>0.9151122018</accdefrate><accexamcnt>1598187</accexamcnt><accexamcompcnt>1579697</accexamcompcnt><carecnt>748</carecnt><clearcnt>13406</clearcnt><createdt>2020-08-05 10:20:58.194</createdt><deathcnt>302</deathcnt><decidecnt>14456</decidecnt><examcnt>18490</examcnt><resutlnegcnt>1565241</resutlnegcnt><seq>221</seq><statedt>20200805</statedt><statetime>00:00</statetime><updatedt>null</updatedt></item>,\n",
      " <item><accdefrate>0.9180449328</accdefrate><accexamcnt>1589780</accexamcnt><accexamcompcnt>1571056</accexamcompcnt><carecnt>770</carecnt><clearcnt>13352</clearcnt><createdt>2020-08-04 10:49:58.56</createdt><deathcnt>301</deathcnt><decidecnt>14423</decidecnt><examcnt>18724</examcnt><resutlnegcnt>1556633</resutlnegcnt><seq>220</seq><statedt>20200804</statedt><statetime>00:00</statetime><updatedt>null</updatedt></item>,\n",
      " <item><accdefrate>0.9209808775</accdefrate><accexamcnt>1579757</accexamcnt><accexamcompcnt>1562356</accexamcompcnt><carecnt>808</carecnt><clearcnt>13280</clearcnt><createdt>2020-08-03 10:22:38.424</createdt><deathcnt>301</deathcnt><decidecnt>14389</decidecnt><examcnt>17401</examcnt><resutlnegcnt>1547967</resutlnegcnt><seq>219</seq><statedt>20200803</statedt><statetime>00:00</statetime><updatedt>null</updatedt></item>,\n",
      " <item><accdefrate>0.9217967786</accdefrate><accexamcnt>1576246</accexamcnt><accexamcompcnt>1558478</accexamcompcnt><carecnt>806</carecnt><clearcnt>13259</clearcnt><createdt>2020-08-02 12:17:01.037</createdt><deathcnt>301</deathcnt><decidecnt>14366</decidecnt><examcnt>17768</examcnt><resutlnegcnt>1544112</resutlnegcnt><seq>218</seq><statedt>20200802</statedt><statetime>00:00</statetime><updatedt>null</updatedt></item>,\n",
      " <item><accdefrate>0.9227885516</accdefrate><accexamcnt>1571830</accexamcnt><accexamcompcnt>1553552</accexamcompcnt><carecnt>802</carecnt><clearcnt>13233</clearcnt><createdt>2020-08-01 10:20:04.002</createdt><deathcnt>301</deathcnt><decidecnt>14336</decidecnt><examcnt>18278</examcnt><resutlnegcnt>1539216</resutlnegcnt><seq>217</seq><statedt>20200801</statedt><statetime>00:00</statetime><updatedt>null</updatedt></item>,\n",
      " <item><accdefrate>0.9256107866</accdefrate><accexamcnt>1563796</accexamcnt><accexamcompcnt>1545466</accexamcompcnt><carecnt>821</carecnt><clearcnt>13183</clearcnt><createdt>2020-07-31 10:36:44.935</createdt><deathcnt>301</deathcnt><decidecnt>14305</decidecnt><examcnt>18330</examcnt><resutlnegcnt>1531161</resutlnegcnt><seq>216</seq><statedt>20200731</statedt><statetime>00:00</statetime><updatedt>null</updatedt></item>,\n",
      " <item><accdefrate>0.9282479734</accdefrate><accexamcnt>1556215</accexamcnt><accexamcompcnt>1537197</accexamcompcnt><carecnt>837</carecnt><clearcnt>13132</clearcnt><createdt>2020-07-30 11:11:23.001</createdt><deathcnt>300</deathcnt><decidecnt>14269</decidecnt><examcnt>19018</examcnt><resutlnegcnt>1522928</resutlnegcnt><seq>215</seq><statedt>20200730</statedt><statetime>00:00</statetime><updatedt>2020-07-30 11:14:10.775</updatedt></item>,\n",
      " <item><accdefrate>0.9326686653</accdefrate><accexamcnt>1547307</accexamcnt><accexamcompcnt>1527981</accexamcompcnt><carecnt>882</carecnt><clearcnt>13069</clearcnt><createdt>2020-07-29 10:44:55.248</createdt><deathcnt>300</deathcnt><decidecnt>14251</decidecnt><examcnt>19326</examcnt><resutlnegcnt>1513730</resutlnegcnt><seq>214</seq><statedt>20200729</statedt><statetime>00:00</statetime><updatedt>null</updatedt></item>,\n",
      " <item><accdefrate>0.9360953297</accdefrate><accexamcnt>1537704</accexamcnt><accexamcompcnt>1517260</accexamcompcnt><carecnt>896</carecnt><clearcnt>13007</clearcnt><createdt>2020-07-28 10:31:12.133</createdt><deathcnt>300</deathcnt><decidecnt>14203</decidecnt><examcnt>20444</examcnt><resutlnegcnt>1503057</resutlnegcnt><seq>213</seq><statedt>20200728</statedt><statetime>00:00</statetime><updatedt>null</updatedt></item>,\n",
      " <item><accdefrate>0.9398595945</accdefrate><accexamcnt>1526974</accexamcnt><accexamcompcnt>1508204</accexamcompcnt><carecnt>971</carecnt><clearcnt>12905</clearcnt><createdt>2020-07-27 10:35:55.409</createdt><deathcnt>299</deathcnt><decidecnt>14175</decidecnt><examcnt>18770</examcnt><resutlnegcnt>1494029</resutlnegcnt><seq>212</seq><statedt>20200727</statedt><statetime>00:00</statetime><updatedt>null</updatedt></item>,\n",
      " <item><accdefrate>0.9410046604</accdefrate><accexamcnt>1522926</accexamcnt><accexamcompcnt>1503712</accexamcompcnt><carecnt>962</carecnt><clearcnt>12890</clearcnt><createdt>2020-07-26 10:28:23.583</createdt><deathcnt>298</deathcnt><decidecnt>14150</decidecnt><examcnt>19214</examcnt><resutlnegcnt>1489562</resutlnegcnt><seq>211</seq><statedt>20200726</statedt><statetime>00:00</statetime><updatedt>null</updatedt></item>,\n",
      " <item><accdefrate>0.9401228724</accdefrate><accexamcnt>1518634</accexamcnt><accexamcompcnt>1498953</accexamcompcnt><carecnt>928</carecnt><clearcnt>12866</clearcnt><createdt>2020-07-25 10:19:50.222</createdt><deathcnt>298</deathcnt><decidecnt>14092</decidecnt><examcnt>19681</examcnt><resutlnegcnt>1484861</resutlnegcnt><seq>210</seq><statedt>20200725</statedt><statetime>00:00</statetime><updatedt>null</updatedt></item>,\n",
      " <item><accdefrate>0.9383340224</accdefrate><accexamcnt>1510327</accexamcnt><accexamcompcnt>1489768</accexamcompcnt><carecnt>864</carecnt><clearcnt>12817</clearcnt><createdt>2020-07-24 11:05:47.968</createdt><deathcnt>298</deathcnt><decidecnt>13979</decidecnt><examcnt>20559</examcnt><resutlnegcnt>1475789</resutlnegcnt><seq>209</seq><statedt>20200724</statedt><statetime>00:00</statetime><updatedt>null</updatedt></item>,\n",
      " <item><accdefrate>0.9421157792</accdefrate><accexamcnt>1500854</accexamcnt><accexamcompcnt>1479436</accexamcompcnt><carecnt>883</carecnt><clearcnt>12758</clearcnt><createdt>2020-07-23 10:38:02.297</createdt><deathcnt>297</deathcnt><decidecnt>13938</decidecnt><examcnt>21418</examcnt><resutlnegcnt>1465498</resutlnegcnt><seq>208</seq><statedt>20200723</statedt><statetime>00:00</statetime><updatedt>null</updatedt></item>,\n",
      " <item><accdefrate>0.9439441754</accdefrate><accexamcnt>1492071</accexamcnt><accexamcompcnt>1470320</accexamcompcnt><carecnt>884</carecnt><clearcnt>12698</clearcnt><createdt>2020-07-22 10:27:17.21</createdt><deathcnt>297</deathcnt><decidecnt>13879</decidecnt><examcnt>21751</examcnt><resutlnegcnt>1456441</resutlnegcnt><seq>207</seq><statedt>20200722</statedt><statetime>00:00</statetime><updatedt>null</updatedt></item>,\n",
      " <item><accdefrate>0.9472577108</accdefrate><accexamcnt>1482390</accexamcnt><accexamcompcnt>1458526</accexamcompcnt><carecnt>877</carecnt><clearcnt>12643</clearcnt><createdt>2020-07-21 11:07:32.302</createdt><deathcnt>296</deathcnt><decidecnt>13816</decidecnt><examcnt>23864</examcnt><resutlnegcnt>1444710</resutlnegcnt><seq>206</seq><statedt>20200721</statedt><statetime>00:00</statetime><updatedt>null</updatedt></item>,\n",
      " <item><accdefrate>0.9504510691</accdefrate><accexamcnt>1470193</accexamcnt><accexamcompcnt>1448891</accexamcompcnt><carecnt>903</carecnt><clearcnt>12572</clearcnt><createdt>2020-07-20 10:55:19.896</createdt><deathcnt>296</deathcnt><decidecnt>13771</decidecnt><examcnt>21302</examcnt><resutlnegcnt>1435120</resutlnegcnt><seq>205</seq><statedt>20200720</statedt><statetime>00:00</statetime><updatedt>null</updatedt></item>,\n",
      " <item><accdefrate>0.9523011114</accdefrate><accexamcnt>1465299</accexamcnt><accexamcompcnt>1443346</accexamcompcnt><carecnt>894</carecnt><clearcnt>12556</clearcnt><createdt>2020-07-19 10:19:04.08</createdt><deathcnt>295</deathcnt><decidecnt>13745</decidecnt><examcnt>21953</examcnt><resutlnegcnt>1429601</resutlnegcnt><seq>204</seq><statedt>20200719</statedt><statetime>00:00</statetime><updatedt>null</updatedt></item>,\n",
      " <item><accdefrate>0.9539540284</accdefrate><accexamcnt>1460204</accexamcnt><accexamcompcnt>1437281</accexamcompcnt><carecnt>898</carecnt><clearcnt>12519</clearcnt><createdt>2020-07-18 10:13:20.679</createdt><deathcnt>294</deathcnt><decidecnt>13711</decidecnt><examcnt>22923</examcnt><resutlnegcnt>1423570</resutlnegcnt><seq>203</seq><statedt>20200718</statedt><statetime>00:00</statetime><updatedt>null</updatedt></item>,\n",
      " <item><accdefrate>0.9574853264</accdefrate><accexamcnt>1451017</accexamcnt><accexamcompcnt>1427907</accexamcompcnt><carecnt>919</carecnt><clearcnt>12460</clearcnt><createdt>2020-07-17 10:40:48.691</createdt><deathcnt>293</deathcnt><decidecnt>13672</decidecnt><examcnt>23110</examcnt><resutlnegcnt>1414235</resutlnegcnt><seq>202</seq><statedt>20200717</statedt><statetime>00:00</statetime><updatedt>null</updatedt></item>,\n",
      " <item><accdefrate>0.9599814943</accdefrate><accexamcnt>1441348</accexamcnt><accexamcompcnt>1417944</accexamcompcnt><carecnt>925</carecnt><clearcnt>12396</clearcnt><createdt>2020-07-16 10:44:37.828</createdt><deathcnt>291</deathcnt><decidecnt>13612</decidecnt><examcnt>23404</examcnt><resutlnegcnt>1404332</resutlnegcnt><seq>201</seq><statedt>20200716</statedt><statetime>00:00</statetime><updatedt>null</updatedt></item>,\n",
      " <item><accdefrate>0.9624159901</accdefrate><accexamcnt>1431316</accexamcnt><accexamcompcnt>1408019</accexamcompcnt><carecnt>914</carecnt><clearcnt>12348</clearcnt><createdt>2020-07-15 10:38:15.025</createdt><deathcnt>289</deathcnt><decidecnt>13551</decidecnt><examcnt>23297</examcnt><resutlnegcnt>1394468</resutlnegcnt><seq>200</seq><statedt>20200715</statedt><statetime>00:00</statetime><updatedt>null</updatedt></item>,\n",
      " <item><accdefrate>0.9676816390</accdefrate><accexamcnt>1420616</accexamcnt><accexamcompcnt>1396327</accexamcompcnt><carecnt>941</carecnt><clearcnt>12282</clearcnt><createdt>2020-07-14 10:42:51.773</createdt><deathcnt>289</deathcnt><decidecnt>13512</decidecnt><examcnt>24289</examcnt><resutlnegcnt>1382815</resutlnegcnt><seq>199</seq><statedt>20200714</statedt><statetime>00:00</statetime><updatedt>null</updatedt></item>,\n",
      " <item><accdefrate>0.9721832542</accdefrate><accexamcnt>1408312</accexamcnt><accexamcompcnt>1386467</accexamcompcnt><carecnt>986</carecnt><clearcnt>12204</clearcnt><createdt>2020-07-13 10:20:51.913</createdt><deathcnt>289</deathcnt><decidecnt>13479</decidecnt><examcnt>21845</examcnt><resutlnegcnt>1372988</resutlnegcnt><seq>198</seq><statedt>20200713</statedt><statetime>00:00</statetime><updatedt>null</updatedt></item>,\n",
      " <item><accdefrate>0.9720252058</accdefrate><accexamcnt>1402144</accexamcnt><accexamcompcnt>1380314</accexamcompcnt><carecnt>950</carecnt><clearcnt>12178</clearcnt><createdt>2020-07-12 10:21:53.323</createdt><deathcnt>289</deathcnt><decidecnt>13417</decidecnt><examcnt>21830</examcnt><resutlnegcnt>1366897</resutlnegcnt><seq>197</seq><statedt>20200712</statedt><statetime>00:00</statetime><updatedt>null</updatedt></item>,\n",
      " <item><accdefrate>0.9732960405</accdefrate><accexamcnt>1396941</accexamcnt><accexamcompcnt>1373991</accexamcompcnt><carecnt>941</carecnt><clearcnt>12144</clearcnt><createdt>2020-07-11 10:24:19.527</createdt><deathcnt>288</deathcnt><decidecnt>13373</decidecnt><examcnt>22950</examcnt><resutlnegcnt>1360618</resutlnegcnt><seq>196</seq><statedt>20200711</statedt><statetime>00:00</statetime><updatedt>null</updatedt></item>,\n",
      " <item><accdefrate>0.9797533795</accdefrate><accexamcnt>1384890</accexamcnt><accexamcompcnt>1361363</accexamcompcnt><carecnt>985</carecnt><clearcnt>12065</clearcnt><createdt>2020-07-10 10:16:34.916</createdt><deathcnt>288</deathcnt><decidecnt>13338</decidecnt><examcnt>23527</examcnt><resutlnegcnt>1348025</resutlnegcnt><seq>195</seq><statedt>20200710</statedt><statetime>00:00</statetime><updatedt>null</updatedt></item>,\n",
      " <item><accdefrate>0.9862307555</accdefrate><accexamcnt>1371771</accexamcnt><accexamcompcnt>1347859</accexamcompcnt><carecnt>987</carecnt><clearcnt>12019</clearcnt><createdt>2020-07-09 10:50:30.028</createdt><deathcnt>287</deathcnt><decidecnt>13293</decidecnt><examcnt>23912</examcnt><resutlnegcnt>1334566</resutlnegcnt><seq>194</seq><statedt>20200709</statedt><statetime>00:00</statetime><updatedt>null</updatedt></item>,\n",
      " <item><accdefrate>0.9914488194</accdefrate><accexamcnt>1359734</accexamcnt><accexamcompcnt>1335722</accexamcompcnt><carecnt>989</carecnt><clearcnt>11970</clearcnt><createdt>2020-07-08 10:19:47.422</createdt><deathcnt>285</deathcnt><decidecnt>13244</decidecnt><examcnt>24012</examcnt><resutlnegcnt>1322479</resutlnegcnt><seq>193</seq><statedt>20200708</statedt><statetime>00:00</statetime><updatedt>null</updatedt></item>,\n",
      " <item><accdefrate>0.9966586491</accdefrate><accexamcnt>1346194</accexamcnt><accexamcompcnt>1322519</accexamcompcnt><carecnt>982</carecnt><clearcnt>11914</clearcnt><createdt>2020-07-07 10:15:15.306</createdt><deathcnt>285</deathcnt><decidecnt>13181</decidecnt><examcnt>23675</examcnt><resutlnegcnt>1309338</resutlnegcnt><seq>192</seq><statedt>20200707</statedt><statetime>00:00</statetime><updatedt>null</updatedt></item>,\n",
      " <item><accdefrate>1.0024387563</accdefrate><accexamcnt>1331796</accexamcnt><accexamcompcnt>1310504</accexamcompcnt><carecnt>1005</carecnt><clearcnt>11848</clearcnt><createdt>2020-07-06 10:42:19.893</createdt><deathcnt>284</deathcnt><decidecnt>13137</decidecnt><examcnt>21292</examcnt><resutlnegcnt>1297367</resutlnegcnt><seq>191</seq><statedt>20200706</statedt><statetime>00:00</statetime><updatedt>null</updatedt></item>,\n",
      " <item><accdefrate>1.0034452463</accdefrate><accexamcnt>1326055</accexamcnt><accexamcompcnt>1304406</accexamcompcnt><carecnt>976</carecnt><clearcnt>11832</clearcnt><createdt>2020-07-05 10:25:25.534</createdt><deathcnt>283</deathcnt><decidecnt>13091</decidecnt><examcnt>21649</examcnt><resutlnegcnt>1291317</resutlnegcnt><seq>190</seq><statedt>20200705</statedt><statetime>00:00</statetime><updatedt>null</updatedt></item>,\n",
      " <item><accdefrate>1.0043169904</accdefrate><accexamcnt>1319521</accexamcnt><accexamcompcnt>1297200</accexamcompcnt><carecnt>936</carecnt><clearcnt>11811</clearcnt><createdt>2020-07-04 10:13:42.477</createdt><deathcnt>283</deathcnt><decidecnt>13030</decidecnt><examcnt>22321</examcnt><resutlnegcnt>1284172</resutlnegcnt><seq>189</seq><statedt>20200704</statedt><statetime>00:00</statetime><updatedt>null</updatedt></item>,\n",
      " <item><accdefrate>1.0080073021</accdefrate><accexamcnt>1307761</accexamcnt><accexamcompcnt>1286201</accexamcompcnt><carecnt>926</carecnt><clearcnt>11759</clearcnt><createdt>2020-07-03 10:19:07.857</createdt><deathcnt>282</deathcnt><decidecnt>12967</decidecnt><examcnt>21560</examcnt><resutlnegcnt>1273234</resutlnegcnt><seq>188</seq><statedt>20200703</statedt><statetime>00:00</statetime><updatedt>null</updatedt></item>,\n",
      " <item><accdefrate>1.0111426287</accdefrate><accexamcnt>1295962</accexamcnt><accexamcompcnt>1276180</accexamcompcnt><carecnt>938</carecnt><clearcnt>11684</clearcnt><createdt>2020-07-02 10:27:02.501</createdt><deathcnt>282</deathcnt><decidecnt>12904</decidecnt><examcnt>19782</examcnt><resutlnegcnt>1263276</resutlnegcnt><seq>187</seq><statedt>20200702</statedt><statetime>00:00</statetime><updatedt>null</updatedt></item>,\n",
      " <item><accdefrate>1.0152444684</accdefrate><accexamcnt>1285231</accexamcnt><accexamcompcnt>1265705</accexamcompcnt><carecnt>955</carecnt><clearcnt>11613</clearcnt><createdt>2020-07-01 10:35:05.507</createdt><deathcnt>282</deathcnt><decidecnt>12850</decidecnt><examcnt>19526</examcnt><resutlnegcnt>1252855</resutlnegcnt><seq>186</seq><statedt>20200701</statedt><statetime>00:00</statetime><updatedt>null</updatedt></item>,\n",
      " <item><accdefrate>1.0215043465</accdefrate><accexamcnt>1273765</accexamcnt><accexamcompcnt>1252956</accexamcompcnt><carecnt>981</carecnt><clearcnt>11537</clearcnt><createdt>2020-06-30 11:19:14.228</createdt><deathcnt>282</deathcnt><decidecnt>12800</decidecnt><examcnt>20809</examcnt><resutlnegcnt>1240157</resutlnegcnt><seq>185</seq><statedt>20200630</statedt><statetime>00:00</statetime><updatedt>null</updatedt></item>,\n",
      " <item><accdefrate>1.0275845681</accdefrate><accexamcnt>1259954</accexamcnt><accexamcompcnt>1241455</accexamcompcnt><carecnt>1046</carecnt><clearcnt>11429</clearcnt><createdt>2020-06-29 10:29:35.516</createdt><deathcnt>282</deathcnt><decidecnt>12757</decidecnt><examcnt>18499</examcnt><resutlnegcnt>1228698</resutlnegcnt><seq>184</seq><statedt>20200629</statedt><statetime>00:00</statetime><updatedt>2020-06-29 11:00:25.815</updatedt></item>,\n",
      " <item><accdefrate>1.0314839902</accdefrate><accexamcnt>1251695</accexamcnt><accexamcompcnt>1232690</accexamcompcnt><carecnt>1069</carecnt><clearcnt>11364</clearcnt><createdt>2020-06-28 10:29:27.331</createdt><deathcnt>282</deathcnt><decidecnt>12715</decidecnt><examcnt>19005</examcnt><resutlnegcnt>1219975</resutlnegcnt><seq>183</seq><statedt>20200628</statedt><statetime>00:00</statetime><updatedt>null</updatedt></item>,\n",
      " <item><accdefrate>1.0338144673</accdefrate><accexamcnt>1243780</accexamcnt><accexamcompcnt>1223914</accexamcompcnt><carecnt>1054</carecnt><clearcnt>11317</clearcnt><createdt>2020-06-27 10:47:04.557</createdt><deathcnt>282</deathcnt><decidecnt>12653</decidecnt><examcnt>19866</examcnt><resutlnegcnt>1211261</resutlnegcnt><seq>182</seq><statedt>20200627</statedt><statetime>00:00</statetime><updatedt>null</updatedt></item>,\n",
      " <item><accdefrate>1.0384948499</accdefrate><accexamcnt>1232315</accexamcnt><accexamcompcnt>1213487</accexamcompcnt><carecnt>1148</carecnt><clearcnt>11172</clearcnt><createdt>2020-06-26 10:13:35.473</createdt><deathcnt>282</deathcnt><decidecnt>12602</decidecnt><examcnt>18828</examcnt><resutlnegcnt>1200885</resutlnegcnt><seq>181</seq><statedt>20200626</statedt><statetime>00:00</statetime><updatedt>null</updatedt></item>,\n",
      " <item><accdefrate>1.0455417792</accdefrate><accexamcnt>1220478</accexamcnt><accexamcompcnt>1201578</accexamcompcnt><carecnt>1307</carecnt><clearcnt>10974</clearcnt><createdt>2020-06-25 10:19:08.891</createdt><deathcnt>282</deathcnt><decidecnt>12563</decidecnt><examcnt>18900</examcnt><resutlnegcnt>1189015</resutlnegcnt><seq>180</seq><statedt>20200625</statedt><statetime>00:00</statetime><updatedt>null</updatedt></item>,\n",
      " <item><accdefrate>1.0548221402</accdefrate><accexamcnt>1208597</accexamcnt><accexamcompcnt>1188352</accexamcompcnt><carecnt>1324</carecnt><clearcnt>10930</clearcnt><createdt>2020-06-24 10:31:42.772</createdt><deathcnt>281</deathcnt><decidecnt>12535</decidecnt><examcnt>20245</examcnt><resutlnegcnt>1175817</resutlnegcnt><seq>179</seq><statedt>20200624</statedt><statetime>00:00</statetime><updatedt>null</updatedt></item>,\n",
      " <item><accdefrate>1.0636140726</accdefrate><accexamcnt>1196012</accexamcnt><accexamcompcnt>1173734</accexamcompcnt><carecnt>1295</carecnt><clearcnt>10908</clearcnt><createdt>2020-06-23 10:41:13.976</createdt><deathcnt>281</deathcnt><decidecnt>12484</decidecnt><examcnt>22278</examcnt><resutlnegcnt>1161250</resutlnegcnt><seq>178</seq><statedt>20200623</statedt><statetime>00:00</statetime><updatedt>null</updatedt></item>,\n",
      " <item><accdefrate>1.0697854838</accdefrate><accexamcnt>1182066</accexamcnt><accexamcompcnt>1162663</accexamcompcnt><carecnt>1277</carecnt><clearcnt>10881</clearcnt><createdt>2020-06-22 11:40:10.577</createdt><deathcnt>280</deathcnt><decidecnt>12438</decidecnt><examcnt>19403</examcnt><resutlnegcnt>1150225</resutlnegcnt><seq>177</seq><statedt>20200622</statedt><statetime>00:00</statetime><updatedt>null</updatedt></item>,\n",
      " <item><accdefrate>1.0741167355</accdefrate><accexamcnt>1176463</accexamcnt><accexamcompcnt>1156392</accexamcompcnt><carecnt>1273</carecnt><clearcnt>10868</clearcnt><createdt>2020-06-21 10:10:23.157</createdt><deathcnt>280</deathcnt><decidecnt>12421</decidecnt><examcnt>20071</examcnt><resutlnegcnt>1143971</resutlnegcnt><seq>176</seq><statedt>20200621</statedt><statetime>00:00</statetime><updatedt>null</updatedt></item>,\n",
      " <item><accdefrate>1.0764456500</accdefrate><accexamcnt>1170901</accexamcnt><accexamcompcnt>1149431</accexamcompcnt><carecnt>1237</carecnt><clearcnt>10856</clearcnt><createdt>2020-06-20 10:14:21.623</createdt><deathcnt>280</deathcnt><decidecnt>12373</decidecnt><examcnt>21470</examcnt><resutlnegcnt>1137058</resutlnegcnt><seq>175</seq><statedt>20200620</statedt><statetime>00:00</statetime><updatedt>null</updatedt></item>,\n",
      " <item><accdefrate>1.0824428058</accdefrate><accexamcnt>1158063</accexamcnt><accexamcompcnt>1136873</accexamcompcnt><carecnt>1191</carecnt><clearcnt>10835</clearcnt><createdt>2020-06-19 10:32:23.743</createdt><deathcnt>280</deathcnt><decidecnt>12306</decidecnt><examcnt>21190</examcnt><resutlnegcnt>1124567</resutlnegcnt><seq>174</seq><statedt>20200619</statedt><statetime>00:00</statetime><updatedt>null</updatedt></item>,\n",
      " <item><accdefrate>1.0904823674</accdefrate><accexamcnt>1145712</accexamcnt><accexamcompcnt>1123998</accexamcompcnt><carecnt>1177</carecnt><clearcnt>10800</clearcnt><createdt>2020-06-18 10:12:45.408</createdt><deathcnt>280</deathcnt><decidecnt>12257</decidecnt><examcnt>21714</examcnt><resutlnegcnt>1111741</resutlnegcnt><seq>173</seq><statedt>20200618</statedt><statetime>00:00</statetime><updatedt>null</updatedt></item>,\n",
      " <item><accdefrate>1.0975998214</accdefrate><accexamcnt>1132823</accexamcnt><accexamcompcnt>1111334</accexamcompcnt><carecnt>1145</carecnt><clearcnt>10774</clearcnt><createdt>2020-06-17 10:14:34.423</createdt><deathcnt>279</deathcnt><decidecnt>12198</decidecnt><examcnt>21489</examcnt><resutlnegcnt>1099136</resutlnegcnt><seq>172</seq><statedt>20200617</statedt><statetime>00:00</statetime><updatedt>null</updatedt></item>,\n",
      " <item><accdefrate>1.1078855382</accdefrate><accexamcnt>1119767</accexamcnt><accexamcompcnt>1097135</accexamcompcnt><carecnt>1117</carecnt><clearcnt>10760</clearcnt><createdt>2020-06-16 10:16:46.75</createdt><deathcnt>278</deathcnt><decidecnt>12155</decidecnt><examcnt>22632</examcnt><resutlnegcnt>1084980</resutlnegcnt><seq>171</seq><statedt>20200616</statedt><statetime>00:00</statetime><updatedt>null</updatedt></item>,\n",
      " <item><accdefrate>1.1172190545</accdefrate><accexamcnt>1105719</accexamcnt><accexamcompcnt>1084926</accexamcompcnt><carecnt>1114</carecnt><clearcnt>10730</clearcnt><createdt>2020-06-15 10:16:22.312</createdt><deathcnt>277</deathcnt><decidecnt>12121</decidecnt><examcnt>20793</examcnt><resutlnegcnt>1072805</resutlnegcnt><seq>170</seq><statedt>20200615</statedt><statetime>00:00</statetime><updatedt>null</updatedt></item>,\n",
      " <item><accdefrate>1.1199559580</accdefrate><accexamcnt>1100327</accexamcnt><accexamcompcnt>1078971</accexamcompcnt><carecnt>1090</carecnt><clearcnt>10718</clearcnt><createdt>2020-06-14 10:19:17.655</createdt><deathcnt>277</deathcnt><decidecnt>12085</decidecnt><examcnt>21356</examcnt><resutlnegcnt>1066887</resutlnegcnt><seq>169</seq><statedt>20200614</statedt><statetime>00:00</statetime><updatedt>null</updatedt></item>,\n",
      " <item><accdefrate>1.1247480984</accdefrate><accexamcnt>1094703</accexamcnt><accexamcompcnt>1071351</accexamcompcnt><carecnt>1083</carecnt><clearcnt>10691</clearcnt><createdt>2020-06-13 10:11:42.777</createdt><deathcnt>277</deathcnt><decidecnt>12051</decidecnt><examcnt>23352</examcnt><resutlnegcnt>1059301</resutlnegcnt><seq>168</seq><statedt>20200613</statedt><statetime>00:00</statetime><updatedt>null</updatedt></item>,\n",
      " <item><accdefrate>1.1352178592</accdefrate><accexamcnt>1081486</accexamcnt><accexamcompcnt>1057242</accexamcompcnt><carecnt>1057</carecnt><clearcnt>10669</clearcnt><createdt>2020-06-12 10:22:23.274</createdt><deathcnt>277</deathcnt><decidecnt>12003</decidecnt><examcnt>24244</examcnt><resutlnegcnt>1045240</resutlnegcnt><seq>167</seq><statedt>20200612</statedt><statetime>00:00</statetime><updatedt>null</updatedt></item>,\n",
      " <item><accdefrate>1.1471173706</accdefrate><accexamcnt>1066887</accexamcnt><accexamcompcnt>1041393</accexamcompcnt><carecnt>1017</carecnt><clearcnt>10654</clearcnt><createdt>2020-06-11 10:30:28.32</createdt><deathcnt>276</deathcnt><decidecnt>11947</decidecnt><examcnt>25494</examcnt><resutlnegcnt>1029447</resutlnegcnt><seq>166</seq><statedt>20200611</statedt><statetime>00:00</statetime><updatedt>null</updatedt></item>,\n",
      " <item><accdefrate>1.1602264883</accdefrate><accexamcnt>1051971</accexamcnt><accexamcompcnt>1025748</accexamcompcnt><carecnt>1015</carecnt><clearcnt>10611</clearcnt><createdt>2020-06-10 10:13:47.554</createdt><deathcnt>276</deathcnt><decidecnt>11902</decidecnt><examcnt>26223</examcnt><resutlnegcnt>1013847</resutlnegcnt><seq>165</seq><statedt>20200610</statedt><statetime>00:00</statetime><updatedt>null</updatedt></item>,\n",
      " <item><accdefrate>1.1750684407</accdefrate><accexamcnt>1035996</accexamcnt><accexamcompcnt>1008537</accexamcompcnt><carecnt>989</carecnt><clearcnt>10589</clearcnt><createdt>2020-06-09 10:08:46.492</createdt><deathcnt>274</deathcnt><decidecnt>11852</decidecnt><examcnt>27459</examcnt><resutlnegcnt>996686</resutlnegcnt><seq>164</seq><statedt>20200609</statedt><statetime>00:00</statetime><updatedt>null</updatedt></item>,\n",
      " <item><accdefrate>1.1886231069</accdefrate><accexamcnt>1018213</accexamcnt><accexamcompcnt>993839</accexamcompcnt><carecnt>978</carecnt><clearcnt>10563</clearcnt><createdt>2020-06-08 10:14:00.756</createdt><deathcnt>273</deathcnt><decidecnt>11814</decidecnt><examcnt>24374</examcnt><resutlnegcnt>982026</resutlnegcnt><seq>163</seq><statedt>20200608</statedt><statetime>00:00</statetime><updatedt>null</updatedt></item>,\n",
      " <item><accdefrate>1.1939717405</accdefrate><accexamcnt>1012769</accexamcnt><accexamcompcnt>986288</accexamcompcnt><carecnt>951</carecnt><clearcnt>10552</clearcnt><createdt>2020-06-07 10:20:08.998</createdt><deathcnt>273</deathcnt><decidecnt>11776</decidecnt><examcnt>26481</examcnt><resutlnegcnt>974512</resutlnegcnt><seq>162</seq><statedt>20200607</statedt><statetime>00:00</statetime><updatedt>null</updatedt></item>,\n",
      " <item><accdefrate>1.1990574522</accdefrate><accexamcnt>1005305</accexamcnt><accexamcompcnt>977351</accexamcompcnt><carecnt>915</carecnt><clearcnt>10531</clearcnt><createdt>2020-06-06 10:49:23.14</createdt><deathcnt>273</deathcnt><decidecnt>11719</decidecnt><examcnt>27954</examcnt><resutlnegcnt>965632</resutlnegcnt><seq>161</seq><statedt>20200606</statedt><statetime>00:00</statetime><updatedt>null</updatedt></item>,\n",
      " <item><accdefrate>1.2126452669</accdefrate><accexamcnt>990960</accexamcnt><accexamcompcnt>962194</accexamcompcnt><carecnt>889</carecnt><clearcnt>10506</clearcnt><createdt>2020-06-05 10:56:50.891</createdt><deathcnt>273</deathcnt><decidecnt>11668</decidecnt><examcnt>28766</examcnt><resutlnegcnt>950526</resutlnegcnt><seq>160</seq><statedt>20200605</statedt><statetime>00:00</statetime><updatedt>null</updatedt></item>,\n",
      " <item><accdefrate>1.2297244567</accdefrate><accexamcnt>973858</accexamcnt><accexamcompcnt>945659</accexamcompcnt><carecnt>857</carecnt><clearcnt>10499</clearcnt><createdt>2020-06-04 10:27:45.93</createdt><deathcnt>273</deathcnt><decidecnt>11629</decidecnt><examcnt>28199</examcnt><resutlnegcnt>934030</resutlnegcnt><seq>159</seq><statedt>20200604</statedt><statetime>00:00</statetime><updatedt>null</updatedt></item>,\n",
      " <item><accdefrate>1.2475954991</accdefrate><accexamcnt>956852</accexamcnt><accexamcompcnt>928987</accexamcompcnt><carecnt>850</carecnt><clearcnt>10467</clearcnt><createdt>2020-06-03 10:25:46.26</createdt><deathcnt>273</deathcnt><decidecnt>11590</decidecnt><examcnt>27865</examcnt><resutlnegcnt>917397</resutlnegcnt><seq>158</seq><statedt>20200603</statedt><statetime>00:00</statetime><updatedt>null</updatedt></item>,\n",
      " <item><accdefrate>1.2669483571</accdefrate><accexamcnt>939851</accexamcnt><accexamcompcnt>910929</accexamcompcnt><carecnt>823</carecnt><clearcnt>10446</clearcnt><createdt>2020-06-02 10:15:46.159</createdt><deathcnt>272</deathcnt><decidecnt>11541</decidecnt><examcnt>28922</examcnt><resutlnegcnt>899388</resutlnegcnt><seq>157</seq><statedt>20200602</statedt><statetime>00:00</statetime><updatedt>null</updatedt></item>,\n",
      " <item><accdefrate>1.2819098372</accdefrate><accexamcnt>921391</accexamcnt><accexamcompcnt>897333</accexamcompcnt><carecnt>810</carecnt><clearcnt>10422</clearcnt><createdt>2020-06-01 10:13:09.747</createdt><deathcnt>271</deathcnt><decidecnt>11503</decidecnt><examcnt>24058</examcnt><resutlnegcnt>885830</resutlnegcnt><seq>156</seq><statedt>20200601</statedt><statetime>00:00</statetime><updatedt>null</updatedt></item>,\n",
      " <item><accdefrate>1.2921282483</accdefrate><accexamcnt>910822</accexamcnt><accexamcompcnt>887528</accexamcompcnt><carecnt>793</carecnt><clearcnt>10405</clearcnt><createdt>2020-05-31 10:22:37.861</createdt><deathcnt>270</deathcnt><decidecnt>11468</decidecnt><examcnt>23294</examcnt><resutlnegcnt>876060</resutlnegcnt><seq>155</seq><statedt>20200531</statedt><statetime>00:00</statetime><updatedt>null</updatedt></item>,\n",
      " <item><accdefrate>1.3051518190</accdefrate><accexamcnt>902901</accexamcnt><accexamcompcnt>876603</accexamcompcnt><carecnt>774</carecnt><clearcnt>10398</clearcnt><createdt>2020-05-30 10:12:26.752</createdt><deathcnt>269</deathcnt><decidecnt>11441</decidecnt><examcnt>26298</examcnt><resutlnegcnt>865162</resutlnegcnt><seq>154</seq><statedt>20200530</statedt><statetime>00:00</statetime><updatedt>null</updatedt></item>,\n",
      " <item><accdefrate>1.3249465756</accdefrate><accexamcnt>885120</accexamcnt><accexamcompcnt>860563</accexamcompcnt><carecnt>770</carecnt><clearcnt>10363</clearcnt><createdt>2020-05-29 10:10:53.131</createdt><deathcnt>269</deathcnt><decidecnt>11402</decidecnt><examcnt>24557</examcnt><resutlnegcnt>849161</resutlnegcnt><seq>153</seq><statedt>20200529</statedt><statetime>00:00</statetime><updatedt>null</updatedt></item>,\n",
      " <item><accdefrate>1.3404293533</accdefrate><accexamcnt>868666</accexamcnt><accexamcompcnt>846296</accexamcompcnt><carecnt>735</carecnt><clearcnt>10340</clearcnt><createdt>2020-05-28 10:11:27.895</createdt><deathcnt>269</deathcnt><decidecnt>11344</decidecnt><examcnt>22370</examcnt><resutlnegcnt>834952</resutlnegcnt><seq>152</seq><statedt>20200528</statedt><statetime>00:00</statetime><updatedt>null</updatedt></item>,\n",
      " <item><accdefrate>1.3542674753</accdefrate><accexamcnt>852876</accexamcnt><accexamcompcnt>831815</accexamcompcnt><carecnt>701</carecnt><clearcnt>10295</clearcnt><createdt>2020-05-27 10:16:33.139</createdt><deathcnt>269</deathcnt><decidecnt>11265</decidecnt><examcnt>21061</examcnt><resutlnegcnt>820550</resutlnegcnt><seq>151</seq><statedt>20200527</statedt><statetime>00:00</statetime><updatedt>null</updatedt></item>,\n",
      " <item><accdefrate>1.3732045885</accdefrate><accexamcnt>839475</accexamcnt><accexamcompcnt>817431</accexamcompcnt><carecnt>681</carecnt><clearcnt>10275</clearcnt><createdt>2020-05-26 10:12:48.677</createdt><deathcnt>269</deathcnt><decidecnt>11225</decidecnt><examcnt>22044</examcnt><resutlnegcnt>806206</resutlnegcnt><seq>150</seq><statedt>20200526</statedt><statetime>00:00</statetime><updatedt>null</updatedt></item>,\n",
      " <item><accdefrate>1.3880012088</accdefrate><accexamcnt>826437</accexamcnt><accexamcompcnt>807348</accexamcompcnt><carecnt>713</carecnt><clearcnt>10226</clearcnt><createdt>2020-05-25 10:27:08.014</createdt><deathcnt>267</deathcnt><decidecnt>11206</decidecnt><examcnt>19089</examcnt><resutlnegcnt>796142</resutlnegcnt><seq>149</seq><statedt>20200525</statedt><statetime>00:00</statetime><updatedt>null</updatedt></item>,\n",
      " <item><accdefrate>1.3988269354</accdefrate><accexamcnt>820289</accexamcnt><accexamcompcnt>799956</accexamcompcnt><carecnt>711</carecnt><clearcnt>10213</clearcnt><createdt>2020-05-24 10:29:09.658</createdt><deathcnt>266</deathcnt><decidecnt>11190</decidecnt><examcnt>20333</examcnt><resutlnegcnt>788766</resutlnegcnt><seq>148</seq><statedt>20200524</statedt><statetime>00:00</statetime><updatedt>null</updatedt></item>,\n",
      " <item><accdefrate>1.4082091086</accdefrate><accexamcnt>814420</accexamcnt><accexamcompcnt>792851</accexamcompcnt><carecnt>705</carecnt><clearcnt>10194</clearcnt><createdt>2020-05-23 10:34:53.857</createdt><deathcnt>266</deathcnt><decidecnt>11165</decidecnt><examcnt>21569</examcnt><resutlnegcnt>781686</resutlnegcnt><seq>147</seq><statedt>20200523</statedt><statetime>00:00</statetime><updatedt>null</updatedt></item>,\n",
      " <item><accdefrate>1.4245677200</accdefrate><accexamcnt>802418</accexamcnt><accexamcompcnt>782132</accexamcompcnt><carecnt>716</carecnt><clearcnt>10162</clearcnt><createdt>2020-05-22 10:15:38.071</createdt><deathcnt>264</deathcnt><decidecnt>11142</decidecnt><examcnt>20286</examcnt><resutlnegcnt>770990</resutlnegcnt><seq>146</seq><statedt>20200522</statedt><statetime>00:00</statetime><updatedt>null</updatedt></item>,\n",
      " <item><accdefrate>1.4433003069</accdefrate><accexamcnt>788684</accexamcnt><accexamcompcnt>770595</accexamcompcnt><carecnt>723</carecnt><clearcnt>10135</clearcnt><createdt>2020-05-21 10:24:06.599</createdt><deathcnt>264</deathcnt><decidecnt>11122</decidecnt><examcnt>18089</examcnt><resutlnegcnt>759473</resutlnegcnt><seq>145</seq><statedt>20200521</statedt><statetime>00:00</statetime><updatedt>null</updatedt></item>,\n",
      " <item><accdefrate>1.4616843972</accdefrate><accexamcnt>776433</accexamcnt><accexamcompcnt>760082</accexamcompcnt><carecnt>781</carecnt><clearcnt>10066</clearcnt><createdt>2020-05-20 10:13:17.176</createdt><deathcnt>263</deathcnt><decidecnt>11110</decidecnt><examcnt>16351</examcnt><resutlnegcnt>748972</resutlnegcnt><seq>144</seq><statedt>20200520</statedt><statetime>00:00</statetime><updatedt>null</updatedt></item>,\n",
      " <item><accdefrate>1.4797321575</accdefrate><accexamcnt>765574</accexamcnt><accexamcompcnt>748649</accexamcompcnt><carecnt>877</carecnt><clearcnt>9938</clearcnt><createdt>2020-05-19 10:22:38.488</createdt><deathcnt>263</deathcnt><decidecnt>11078</decidecnt><examcnt>16925</examcnt><resutlnegcnt>737571</resutlnegcnt><seq>143</seq><statedt>20200519</statedt><statetime>00:00</statetime><updatedt>null</updatedt></item>,\n",
      " <item><accdefrate>1.5011165105</accdefrate><accexamcnt>753211</accexamcnt><accexamcompcnt>737118</accexamcompcnt><carecnt>898</carecnt><clearcnt>9904</clearcnt><createdt>2020-05-18 10:18:09.187</createdt><deathcnt>263</deathcnt><decidecnt>11065</decidecnt><examcnt>16093</examcnt><resutlnegcnt>726053</resutlnegcnt><seq>142</seq><statedt>20200518</statedt><statetime>00:00</statetime><updatedt>null</updatedt></item>,\n",
      " <item><accdefrate>1.5137131451</accdefrate><accexamcnt>747653</accexamcnt><accexamcompcnt>729993</accexamcompcnt><carecnt>900</carecnt><clearcnt>9888</clearcnt><createdt>2020-05-17 10:12:11.289</createdt><deathcnt>262</deathcnt><decidecnt>11050</decidecnt><examcnt>17660</examcnt><resutlnegcnt>718943</resutlnegcnt><seq>141</seq><statedt>20200517</statedt><statetime>00:00</statetime><updatedt>null</updatedt></item>,\n",
      " <item><accdefrate>1.5280312113</accdefrate><accexamcnt>740645</accexamcnt><accexamcompcnt>722302</accexamcompcnt><carecnt>924</carecnt><clearcnt>9851</clearcnt><createdt>2020-05-16 10:19:43.567</createdt><deathcnt>262</deathcnt><decidecnt>11037</decidecnt><examcnt>18343</examcnt><resutlnegcnt>711265</resutlnegcnt><seq>140</seq><statedt>20200516</statedt><statetime>00:00</statetime><updatedt>2020-05-16 10:40:31.389</updatedt></item>,\n",
      " <item><accdefrate>1.5586980386</accdefrate><accexamcnt>726747</accexamcnt><accexamcompcnt>706872</accexamcompcnt><carecnt>937</carecnt><clearcnt>9821</clearcnt><createdt>2020-05-15 10:33:33.767</createdt><deathcnt>260</deathcnt><decidecnt>11018</decidecnt><examcnt>19875</examcnt><resutlnegcnt>695854</resutlnegcnt><seq>139</seq><statedt>20200515</statedt><statetime>00:00</statetime><updatedt>null</updatedt></item>,\n",
      " <item><accdefrate>1.5911413772</accdefrate><accexamcnt>711484</accexamcnt><accexamcompcnt>690762</accexamcompcnt><carecnt>969</carecnt><clearcnt>9762</clearcnt><createdt>2020-05-14 10:18:24.652</createdt><deathcnt>260</deathcnt><decidecnt>10991</decidecnt><examcnt>20722</examcnt><resutlnegcnt>679771</resutlnegcnt><seq>138</seq><statedt>20200514</statedt><statetime>00:00</statetime><updatedt>null</updatedt></item>,\n",
      " <item><accdefrate>1.6207800503</accdefrate><accexamcnt>695920</accexamcnt><accexamcompcnt>676341</accexamcompcnt><carecnt>1008</carecnt><clearcnt>9695</clearcnt><createdt>2020-05-13 10:41:14.635</createdt><deathcnt>259</deathcnt><decidecnt>10962</decidecnt><examcnt>19579</examcnt><resutlnegcnt>665379</resutlnegcnt><seq>137</seq><statedt>20200513</statedt><statetime>00:00</statetime><updatedt>null</updatedt></item>,\n",
      " <item><accdefrate>1.6456000963</accdefrate><accexamcnt>680890</accexamcnt><accexamcompcnt>664560</accexamcompcnt><carecnt>1008</carecnt><clearcnt>9670</clearcnt><createdt>2020-05-12 10:12:13.807</createdt><deathcnt>258</deathcnt><decidecnt>10936</decidecnt><examcnt>16330</examcnt><resutlnegcnt>653624</resutlnegcnt><seq>136</seq><statedt>20200512</statedt><statetime>00:00</statetime><updatedt>null</updatedt></item>,\n",
      " <item><accdefrate>1.6589868759</accdefrate><accexamcnt>668492</accexamcnt><accexamcompcnt>657570</accexamcompcnt><carecnt>1021</carecnt><clearcnt>9632</clearcnt><createdt>2020-05-11 10:25:58.1</createdt><deathcnt>256</deathcnt><decidecnt>10909</decidecnt><examcnt>10922</examcnt><resutlnegcnt>646661</resutlnegcnt><seq>135</seq><statedt>20200511</statedt><statetime>00:00</statetime><updatedt>null</updatedt></item>,\n",
      " <item><accdefrate>1.6633066058</accdefrate><accexamcnt>663886</accexamcnt><accexamcompcnt>653758</accexamcompcnt><carecnt>1008</carecnt><clearcnt>9610</clearcnt><createdt>2020-05-10 10:14:56.134</createdt><deathcnt>256</deathcnt><decidecnt>10874</decidecnt><examcnt>10128</examcnt><resutlnegcnt>642884</resutlnegcnt><seq>134</seq><statedt>20200510</statedt><statetime>00:00</statetime><updatedt>null</updatedt></item>,\n",
      " <item><accdefrate>1.6654452377</accdefrate><accexamcnt>660030</accexamcnt><accexamcompcnt>650877</accexamcompcnt><carecnt>1016</carecnt><clearcnt>9568</clearcnt><createdt>2020-05-09 10:17:14.743</createdt><deathcnt>256</deathcnt><decidecnt>10840</decidecnt><examcnt>9153</examcnt><resutlnegcnt>640037</resutlnegcnt><seq>133</seq><statedt>20200509</statedt><statetime>00:00</statetime><updatedt>null</updatedt></item>,\n",
      " <item><accdefrate>1.6752425711</accdefrate><accexamcnt>654863</accexamcnt><accexamcompcnt>645996</accexamcompcnt><carecnt>1082</carecnt><clearcnt>9484</clearcnt><createdt>2020-05-08 10:18:50.37</createdt><deathcnt>256</deathcnt><decidecnt>10822</decidecnt><examcnt>8867</examcnt><resutlnegcnt>635174</resutlnegcnt><seq>132</seq><statedt>20200508</statedt><statetime>00:00</statetime><updatedt>null</updatedt></item>,\n",
      " <item><accdefrate>1.6865353322</accdefrate><accexamcnt>649388</accexamcnt><accexamcompcnt>640959</accexamcompcnt><carecnt>1135</carecnt><clearcnt>9419</clearcnt><createdt>2020-05-07 10:43:55.587</createdt><deathcnt>256</deathcnt><decidecnt>10810</decidecnt><examcnt>8429</examcnt><resutlnegcnt>630149</resutlnegcnt><seq>131</seq><statedt>20200507</statedt><statetime>00:00</statetime><updatedt>null</updatedt></item>,\n",
      " <item><accdefrate>1.7015018438</accdefrate><accexamcnt>643095</accexamcnt><accexamcompcnt>635086</accexamcompcnt><carecnt>1218</carecnt><clearcnt>9333</clearcnt><createdt>2020-05-06 10:16:11.219</createdt><deathcnt>255</deathcnt><decidecnt>10806</decidecnt><examcnt>8009</examcnt><resutlnegcnt>624280</resutlnegcnt><seq>130</seq><statedt>20200506</statedt><statetime>00:00</statetime><updatedt>null</updatedt></item>,\n",
      " <item><accdefrate>1.7111750628</accdefrate><accexamcnt>640237</accexamcnt><accexamcompcnt>631379</accexamcompcnt><carecnt>1267</carecnt><clearcnt>9283</clearcnt><createdt>2020-05-05 10:20:41.144</createdt><deathcnt>254</deathcnt><decidecnt>10804</decidecnt><examcnt>8858</examcnt><resutlnegcnt>620575</resutlnegcnt><seq>129</seq><statedt>20200505</statedt><statetime>00:00</statetime><updatedt>null</updatedt></item>,\n",
      " <item><accdefrate>1.7261024858</accdefrate><accexamcnt>633921</accexamcnt><accexamcompcnt>625745</accexamcompcnt><carecnt>1332</carecnt><clearcnt>9217</clearcnt><createdt>2020-05-04 10:11:32.113</createdt><deathcnt>252</deathcnt><decidecnt>10801</decidecnt><examcnt>8176</examcnt><resutlnegcnt>614944</resutlnegcnt><seq>128</seq><statedt>20200504</statedt><statetime>00:00</statetime><updatedt>null</updatedt></item>,\n",
      " <item><accdefrate>1.7341356234</accdefrate><accexamcnt>630973</accexamcnt><accexamcompcnt>622385</accexamcompcnt><carecnt>1360</carecnt><clearcnt>9183</clearcnt><createdt>2020-05-03 10:54:37.387</createdt><deathcnt>250</deathcnt><decidecnt>10793</decidecnt><examcnt>8588</examcnt><resutlnegcnt>611592</resutlnegcnt><seq>127</seq><statedt>20200503</statedt><statetime>00:00</statetime><updatedt>null</updatedt></item>,\n",
      " <item><accdefrate>1.7413329111</accdefrate><accexamcnt>627562</accexamcnt><accexamcompcnt>619066</accexamcompcnt><carecnt>1407</carecnt><clearcnt>9123</clearcnt><createdt>2020-05-02 10:22:19.467</createdt><deathcnt>250</deathcnt><decidecnt>10780</decidecnt><examcnt>8496</examcnt><resutlnegcnt>608286</resutlnegcnt><seq>126</seq><statedt>20200502</statedt><statetime>00:00</statetime><updatedt>null</updatedt></item>,\n",
      " <item><accdefrate>1.7536263965</accdefrate><accexamcnt>623069</accexamcnt><accexamcompcnt>614384</accexamcompcnt><carecnt>1454</carecnt><clearcnt>9072</clearcnt><createdt>2020-05-01 10:24:37.982</createdt><deathcnt>248</deathcnt><decidecnt>10774</decidecnt><examcnt>8685</examcnt><resutlnegcnt>603610</resutlnegcnt><seq>125</seq><statedt>20200501</statedt><statetime>00:00</statetime><updatedt>null</updatedt></item>,\n",
      " <item><accdefrate>1.7611538379</accdefrate><accexamcnt>619881</accexamcnt><accexamcompcnt>611247</accexamcompcnt><carecnt>1459</carecnt><clearcnt>9059</clearcnt><createdt>2020-04-30 10:12:41.865</createdt><deathcnt>247</deathcnt><decidecnt>10765</decidecnt><examcnt>8634</examcnt><resutlnegcnt>600482</resutlnegcnt><seq>124</seq><statedt>20200430</statedt><statetime>00:00</statetime><updatedt>null</updatedt></item>,\n",
      " <item><accdefrate>1.7760649622</accdefrate><accexamcnt>614197</accexamcnt><accexamcompcnt>605890</accexamcompcnt><carecnt>1593</carecnt><clearcnt>8922</clearcnt><createdt>2020-04-29 10:26:00.327</createdt><deathcnt>246</deathcnt><decidecnt>10761</decidecnt><examcnt>8307</examcnt><resutlnegcnt>595129</resutlnegcnt><seq>123</seq><statedt>20200429</statedt><statetime>00:00</statetime><updatedt>null</updatedt></item>,\n",
      " <item><accdefrate>1.7940601791</accdefrate><accexamcnt>608514</accexamcnt><accexamcompcnt>599311</accexamcompcnt><carecnt>1654</carecnt><clearcnt>8854</clearcnt><createdt>2020-04-28 10:22:15.984</createdt><deathcnt>244</deathcnt><decidecnt>10752</decidecnt><examcnt>9203</examcnt><resutlnegcnt>588559</resutlnegcnt><seq>122</seq><statedt>20200428</statedt><statetime>00:00</statetime><updatedt>null</updatedt></item>,\n",
      " <item><accdefrate>1.8115104636</accdefrate><accexamcnt>601660</accexamcnt><accexamcompcnt>592765</accexamcompcnt><carecnt>1731</carecnt><clearcnt>8764</clearcnt><createdt>2020-04-27 10:12:27.27</createdt><deathcnt>243</deathcnt><decidecnt>10738</decidecnt><examcnt>8895</examcnt><resutlnegcnt>582027</resutlnegcnt><seq>121</seq><statedt>20200427</statedt><statetime>00:00</statetime><updatedt></updatedt></item>,\n",
      " <item><accdefrate>1.8205082082</accdefrate><accexamcnt>598285</accexamcnt><accexamcompcnt>589286</accexamcompcnt><carecnt>1769</carecnt><clearcnt>8717</clearcnt><createdt>2020-04-26 10:12:24.24</createdt><deathcnt>242</deathcnt><decidecnt>10728</decidecnt><examcnt>8999</examcnt><resutlnegcnt>578558</resutlnegcnt><seq>120</seq><statedt>20200426</statedt><statetime>00:00</statetime><updatedt></updatedt></item>,\n",
      " <item><accdefrate>1.8293161655</accdefrate><accexamcnt>595161</accexamcnt><accexamcompcnt>585902</accexamcompcnt><carecnt>1843</carecnt><clearcnt>8635</clearcnt><createdt>2020-04-25 10:58:08.08</createdt><deathcnt>240</deathcnt><decidecnt>10718</decidecnt><examcnt>9259</examcnt><resutlnegcnt>575184</resutlnegcnt><seq>119</seq><statedt>20200425</statedt><statetime>00:00</statetime><updatedt></updatedt></item>,\n",
      " <item><accdefrate>1.8293161655</accdefrate><accexamcnt>595161</accexamcnt><accexamcompcnt>585902</accexamcompcnt><carecnt>1843</carecnt><clearcnt>8635</clearcnt><createdt>2020-04-25 10:57:05.05</createdt><deathcnt>240</deathcnt><decidecnt>10718</decidecnt><examcnt>9259</examcnt><resutlnegcnt>575184</resutlnegcnt><seq>118</seq><statedt>20200425</statedt><statetime>00:00</statetime><updatedt></updatedt></item>,\n",
      " <item><accdefrate>2.1770963544</accdefrate><accexamcnt>597244</accexamcnt><accexamcompcnt>587985</accexamcompcnt><carecnt>1843</carecnt><clearcnt>10718</clearcnt><createdt>2020-04-25 10:39:03.03</createdt><deathcnt>240</deathcnt><decidecnt>12801</decidecnt><examcnt>9259</examcnt><resutlnegcnt>575184</resutlnegcnt><seq>117</seq><statedt>20200425</statedt><statetime>00:00</statetime><updatedt></updatedt></item>,\n",
      " <item><accdefrate>1.8464615809</accdefrate><accexamcnt>589520</accexamcnt><accexamcompcnt>579920</accexamcompcnt><carecnt>1967</carecnt><clearcnt>8501</clearcnt><createdt>2020-04-24 10:11:08.08</createdt><deathcnt>240</deathcnt><decidecnt>10708</decidecnt><examcnt>9600</examcnt><resutlnegcnt>569212</resutlnegcnt><seq>116</seq><statedt>20200424</statedt><statetime>00:00</statetime><updatedt></updatedt></item>,\n",
      " <item><accdefrate>1.8650057856</accdefrate><accexamcnt>583971</accexamcnt><accexamcompcnt>573832</accexamcompcnt><carecnt>2051</carecnt><clearcnt>8411</clearcnt><createdt>2020-04-23 10:11:05.05</createdt><deathcnt>240</deathcnt><decidecnt>10702</decidecnt><examcnt>10139</examcnt><resutlnegcnt>563130</resutlnegcnt><seq>115</seq><statedt>20200423</statedt><statetime>00:00</statetime><updatedt></updatedt></item>,\n",
      " <item><accdefrate>1.8899402302</accdefrate><accexamcnt>577959</accexamcnt><accexamcompcnt>565838</accexamcompcnt><carecnt>2179</carecnt><clearcnt>8277</clearcnt><createdt>2020-04-22 10:20:28.28</createdt><deathcnt>238</deathcnt><decidecnt>10694</decidecnt><examcnt>12121</examcnt><resutlnegcnt>555144</resutlnegcnt><seq>114</seq><statedt>20200422</statedt><statetime>00:00</statetime><updatedt></updatedt></item>,\n",
      " <item><accdefrate>1.9135113641</accdefrate><accexamcnt>571014</accexamcnt><accexamcompcnt>558293</accexamcompcnt><carecnt>2233</carecnt><clearcnt>8213</clearcnt><createdt>2020-04-21 10:11:58.58</createdt><deathcnt>237</deathcnt><decidecnt>10683</decidecnt><examcnt>12721</examcnt><resutlnegcnt>547610</resutlnegcnt><seq>113</seq><statedt>20200421</statedt><statetime>00:00</statetime><updatedt></updatedt></item>,\n",
      " <item><accdefrate>1.9370152471</accdefrate><accexamcnt>563035</accexamcnt><accexamcompcnt>551054</accexamcompcnt><carecnt>2324</carecnt><clearcnt>8114</clearcnt><createdt>2020-04-20 10:26:59.59</createdt><deathcnt>236</deathcnt><decidecnt>10674</decidecnt><examcnt>11981</examcnt><resutlnegcnt>540380</resutlnegcnt><seq>112</seq><statedt>20200420</statedt><statetime>00:00</statetime><updatedt></updatedt></item>,\n",
      " <item><accdefrate>1.9494720827</accdefrate><accexamcnt>559109</accexamcnt><accexamcompcnt>546866</accexamcompcnt><carecnt>2385</carecnt><clearcnt>8042</clearcnt><createdt>2020-04-19 10:27:30.30</createdt><deathcnt>234</deathcnt><decidecnt>10661</decidecnt><examcnt>12243</examcnt><resutlnegcnt>536205</resutlnegcnt><seq>111</seq><statedt>20200419</statedt><statetime>00:00</statetime><updatedt></updatedt></item>,\n",
      " <item><accdefrate>1.9680980779</accdefrate><accexamcnt>554834</accexamcnt><accexamcompcnt>541284</accexamcompcnt><carecnt>2484</carecnt><clearcnt>7937</clearcnt><createdt>2020-04-18 10:44:12.12</createdt><deathcnt>232</deathcnt><decidecnt>10653</decidecnt><examcnt>13550</examcnt><resutlnegcnt>530631</resutlnegcnt><seq>110</seq><statedt>20200418</statedt><statetime>00:00</statetime><updatedt></updatedt></item>,\n",
      " <item><accdefrate>1.9980198280</accdefrate><accexamcnt>546463</accexamcnt><accexamcompcnt>532277</accexamcompcnt><carecnt>2576</carecnt><clearcnt>7829</clearcnt><createdt>2020-04-17 10:32:02.02</createdt><deathcnt>230</deathcnt><decidecnt>10635</decidecnt><examcnt>14186</examcnt><resutlnegcnt>521642</resutlnegcnt><seq>109</seq><statedt>20200417</statedt><statetime>00:00</statetime><updatedt></updatedt></item>,\n",
      " <item><accdefrate>2.0234239009</accdefrate><accexamcnt>538775</accexamcnt><accexamcompcnt>524507</accexamcompcnt><carecnt>2627</carecnt><clearcnt>7757</clearcnt><createdt>2020-04-16 10:55:17.17</createdt><deathcnt>229</deathcnt><decidecnt>10613</decidecnt><examcnt>14268</examcnt><resutlnegcnt>513894</resutlnegcnt><seq>108</seq><statedt>20200416</statedt><statetime>00:00</statetime><updatedt></updatedt></item>,\n",
      " <item><accdefrate>2.0385890215</accdefrate><accexamcnt>534552</accexamcnt><accexamcompcnt>519526</accexamcompcnt><carecnt>2750</carecnt><clearcnt>7616</clearcnt><createdt>2020-04-15 11:34:34.34</createdt><deathcnt>225</deathcnt><decidecnt>10591</decidecnt><examcnt>15026</examcnt><resutlnegcnt>508935</resutlnegcnt><seq>107</seq><statedt>20200415</statedt><statetime>00:00</statetime><updatedt></updatedt></item>,\n",
      " <item><accdefrate>2.0601146284</accdefrate><accexamcnt>527438</accexamcnt><accexamcompcnt>512787</accexamcompcnt><carecnt>2808</carecnt><clearcnt>7534</clearcnt><createdt>2020-04-14 10:23:15.15</createdt><deathcnt>222</deathcnt><decidecnt>10564</decidecnt><examcnt>14651</examcnt><resutlnegcnt>502223</resutlnegcnt><seq>106</seq><statedt>20200414</statedt><statetime>00:00</statetime><updatedt></updatedt></item>,\n",
      " <item><accdefrate>2.0850812898</accdefrate><accexamcnt>518743</accexamcnt><accexamcompcnt>505352</accexamcompcnt><carecnt>2873</carecnt><clearcnt>7447</clearcnt><createdt>2020-04-13 10:14:53.53</createdt><deathcnt>217</deathcnt><decidecnt>10537</decidecnt><examcnt>13391</examcnt><resutlnegcnt>494815</resutlnegcnt><seq>105</seq><statedt>20200413</statedt><statetime>00:00</statetime><updatedt></updatedt></item>,\n",
      " <item><accdefrate>2.0989032272</accdefrate><accexamcnt>514621</accexamcnt><accexamcompcnt>500833</accexamcompcnt><carecnt>2930</carecnt><clearcnt>7368</clearcnt><createdt>2020-04-12 10:20:49.49</createdt><deathcnt>214</deathcnt><decidecnt>10512</decidecnt><examcnt>13788</examcnt><resutlnegcnt>490321</resutlnegcnt><seq>104</seq><statedt>20200412</statedt><statetime>00:00</statetime><updatedt></updatedt></item>,\n",
      " <item><accdefrate>2.1111623681</accdefrate><accexamcnt>510479</accexamcnt><accexamcompcnt>496409</accexamcompcnt><carecnt>3026</carecnt><clearcnt>7243</clearcnt><createdt>2020-04-11 10:24:11.11</createdt><deathcnt>211</deathcnt><decidecnt>10480</decidecnt><examcnt>14070</examcnt><resutlnegcnt>485929</resutlnegcnt><seq>103</seq><statedt>20200411</statedt><statetime>00:00</statetime><updatedt></updatedt></item>,\n",
      " <item><accdefrate>2.1424778525</accdefrate><accexamcnt>503051</accexamcnt><accexamcompcnt>487753</accexamcompcnt><carecnt>3125</carecnt><clearcnt>7117</clearcnt><createdt>2020-04-10 10:15:54.54</createdt><deathcnt>208</deathcnt><decidecnt>10450</decidecnt><examcnt>15298</examcnt><resutlnegcnt>477303</resutlnegcnt><seq>102</seq><statedt>20200410</statedt><statetime>00:00</statetime><updatedt></updatedt></item>,\n",
      " <item><accdefrate>2.1750743945</accdefrate><accexamcnt>494711</accexamcnt><accexamcompcnt>479202</accexamcompcnt><carecnt>3246</carecnt><clearcnt>6973</clearcnt><createdt>2020-04-09 10:22:27.27</createdt><deathcnt>204</deathcnt><decidecnt>10423</decidecnt><examcnt>15509</examcnt><resutlnegcnt>468779</resutlnegcnt><seq>101</seq><statedt>20200409</statedt><statetime>00:00</statetime><updatedt></updatedt></item>,\n",
      " <item><accdefrate>2.2181161819</accdefrate><accexamcnt>486003</accexamcnt><accexamcompcnt>468145</accexamcompcnt><carecnt>3408</carecnt><clearcnt>6776</clearcnt><createdt>2020-04-08 10:15:42.42</createdt><deathcnt>200</deathcnt><decidecnt>10384</decidecnt><examcnt>17858</examcnt><resutlnegcnt>457761</resutlnegcnt><seq>100</seq><statedt>20200408</statedt><statetime>00:00</statetime><updatedt></updatedt></item>,\n",
      " <item><accdefrate>2.2623255243</accdefrate><accexamcnt>477304</accexamcnt><accexamcompcnt>456654</accexamcompcnt><carecnt>3445</carecnt><clearcnt>6694</clearcnt><createdt>2020-04-07 10:12:25.25</createdt><deathcnt>192</deathcnt><decidecnt>10331</decidecnt><examcnt>20650</examcnt><resutlnegcnt>446323</resutlnegcnt><seq>99</seq><statedt>20200407</statedt><statetime>00:00</statetime><updatedt></updatedt></item>,\n",
      " <item><accdefrate>2.2980543408</accdefrate><accexamcnt>466804</accexamcnt><accexamcompcnt>447509</accexamcompcnt><carecnt>3500</carecnt><clearcnt>6598</clearcnt><createdt>2020-04-06 10:27:44.44</createdt><deathcnt>186</deathcnt><decidecnt>10284</decidecnt><examcnt>19295</examcnt><resutlnegcnt>437225</resutlnegcnt><seq>98</seq><statedt>20200406</statedt><statetime>00:00</statetime><updatedt></updatedt></item>,\n",
      " <item><accdefrate>2.3178358110</accdefrate><accexamcnt>461233</accexamcnt><accexamcompcnt>441662</accexamcompcnt><carecnt>3591</carecnt><clearcnt>6463</clearcnt><createdt>2020-04-05 10:11:59.59</createdt><deathcnt>183</deathcnt><decidecnt>10237</decidecnt><examcnt>19571</examcnt><resutlnegcnt>431425</resutlnegcnt><seq>97</seq><statedt>20200405</statedt><statetime>00:00</statetime><updatedt></updatedt></item>,\n",
      " <item><accdefrate>2.3353139199</accdefrate><accexamcnt>455032</accexamcnt><accexamcompcnt>434888</accexamcompcnt><carecnt>3654</carecnt><clearcnt>6325</clearcnt><createdt>2020-04-04 10:32:51.51</createdt><deathcnt>177</deathcnt><decidecnt>10156</decidecnt><examcnt>20144</examcnt><resutlnegcnt>424732</resutlnegcnt><seq>96</seq><statedt>20200404</statedt><statetime>00:00</statetime><updatedt></updatedt></item>,\n",
      " <item><accdefrate>2.3710720723</accdefrate><accexamcnt>443273</accexamcnt><accexamcompcnt>424365</accexamcompcnt><carecnt>3867</carecnt><clearcnt>6021</clearcnt><createdt>2020-04-03 10:19:21.21</createdt><deathcnt>174</deathcnt><decidecnt>10062</decidecnt><examcnt>18908</examcnt><resutlnegcnt>414303</resutlnegcnt><seq>95</seq><statedt>20200403</statedt><statetime>00:00</statetime><updatedt></updatedt></item>,\n",
      " <item><accdefrate>2.4104886217</accdefrate><accexamcnt>431743</accexamcnt><accexamcompcnt>413858</accexamcompcnt><carecnt>3979</carecnt><clearcnt>5828</clearcnt><createdt>2020-04-02 10:13:00.00</createdt><deathcnt>169</deathcnt><decidecnt>9976</decidecnt><examcnt>17885</examcnt><resutlnegcnt>403882</resutlnegcnt><seq>94</seq><statedt>20200402</statedt><statetime>00:00</statetime><updatedt></updatedt></item>,\n",
      " <item><accdefrate>2.4104886217</accdefrate><accexamcnt>431743</accexamcnt><accexamcompcnt>413858</accexamcompcnt><carecnt>3979</carecnt><clearcnt>5828</clearcnt><createdt>2020-04-02 10:09:03.03</createdt><deathcnt>169</deathcnt><decidecnt>9976</decidecnt><examcnt>17885</examcnt><resutlnegcnt>403882</resutlnegcnt><seq>93</seq><statedt>20200402</statedt><statetime>00:00</statetime><updatedt></updatedt></item>,\n",
      " <item><accdefrate>2.4414636435</accdefrate><accexamcnt>421547</accexamcnt><accexamcompcnt>404962</accexamcompcnt><carecnt>4155</carecnt><clearcnt>5567</clearcnt><createdt>2020-04-01 10:13:22.22</createdt><deathcnt>165</deathcnt><decidecnt>9887</decidecnt><examcnt>16585</examcnt><resutlnegcnt>395075</resutlnegcnt><seq>92</seq><statedt>20200401</statedt><statetime>00:00</statetime><updatedt></updatedt></item>,\n",
      " <item><accdefrate>2.4858257635</accdefrate><accexamcnt>410564</accexamcnt><accexamcompcnt>393672</accexamcompcnt><carecnt>4216</carecnt><clearcnt>5408</clearcnt><createdt>2020-03-31 11:00:44.44</createdt><deathcnt>162</deathcnt><decidecnt>9786</decidecnt><examcnt>16892</examcnt><resutlnegcnt>383886</resutlnegcnt><seq>91</seq><statedt>20200331</statedt><statetime>00:00</statetime><updatedt>2020-03-31 11:43:15.15</updatedt></item>,\n",
      " <item><accdefrate>2.5312906936</accdefrate><accexamcnt>395194</accexamcnt><accexamcompcnt>381663</accexamcompcnt><carecnt>4275</carecnt><clearcnt>5228</clearcnt><createdt>2020-03-30 10:32:34.34</createdt><deathcnt>158</deathcnt><decidecnt>9661</decidecnt><examcnt>13531</examcnt><resutlnegcnt>372002</resutlnegcnt><seq>90</seq><statedt>20200330</statedt><statetime>00:00</statetime><updatedt></updatedt></item>,\n",
      " <item><accdefrate>2.5277423881</accdefrate><accexamcnt>394141</accexamcnt><accexamcompcnt>379113</accexamcompcnt><carecnt>4398</carecnt><clearcnt>5033</clearcnt><createdt>2020-03-29 10:10:20.20</createdt><deathcnt>152</deathcnt><decidecnt>9583</decidecnt><examcnt>15028</examcnt><resutlnegcnt>369530</resutlnegcnt><seq>89</seq><statedt>20200329</statedt><statetime>00:00</statetime><updatedt></updatedt></item>,\n",
      " <item><accdefrate>2.5522335409</accdefrate><accexamcnt>387925</accexamcnt><accexamcompcnt>371361</accexamcompcnt><carecnt>4523</carecnt><clearcnt>4811</clearcnt><createdt>2020-03-28 10:30:06.06</createdt><deathcnt>144</deathcnt><decidecnt>9478</decidecnt><examcnt>16564</examcnt><resutlnegcnt>361883</resutlnegcnt><seq>88</seq><statedt>20200328</statedt><statetime>00:00</statetime><updatedt></updatedt></item>,\n",
      " <item><accdefrate>2.5797391511</accdefrate><accexamcnt>376961</accexamcnt><accexamcompcnt>361742</accexamcompcnt><carecnt>4665</carecnt><clearcnt>4528</clearcnt><createdt>2020-03-27 10:17:01.01</createdt><deathcnt>139</deathcnt><decidecnt>9332</decidecnt><examcnt>15219</examcnt><resutlnegcnt>352410</resutlnegcnt><seq>87</seq><statedt>20200327</statedt><statetime>00:00</statetime><updatedt></updatedt></item>,\n",
      " <item><accdefrate>2.6359702544</accdefrate><accexamcnt>364942</accexamcnt><accexamcompcnt>350573</accexamcompcnt><carecnt>4966</carecnt><clearcnt>4144</clearcnt><createdt>2020-03-26 10:40:50.50</createdt><deathcnt>131</deathcnt><decidecnt>9241</decidecnt><examcnt>14369</examcnt><resutlnegcnt>341332</resutlnegcnt><seq>86</seq><statedt>20200326</statedt><statetime>00:00</statetime><updatedt></updatedt></item>,\n",
      " <item><accdefrate>2.6590574416</accdefrate><accexamcnt>357896</accexamcnt><accexamcompcnt>343618</accexamcompcnt><carecnt>5281</carecnt><clearcnt>3730</clearcnt><createdt>2020-03-25 10:12:04.04</createdt><deathcnt>126</deathcnt><decidecnt>9137</decidecnt><examcnt>14278</examcnt><resutlnegcnt>334481</resutlnegcnt><seq>85</seq><statedt>20200325</statedt><statetime>00:00</statetime><updatedt></updatedt></item>,\n",
      " <item><accdefrate>2.7126570651</accdefrate><accexamcnt>348582</accexamcnt><accexamcompcnt>333142</accexamcompcnt><carecnt>5410</carecnt><clearcnt>3507</clearcnt><createdt>2020-03-24 10:20:57.57</createdt><deathcnt>120</deathcnt><decidecnt>9037</decidecnt><examcnt>15440</examcnt><resutlnegcnt>324105</resutlnegcnt><seq>84</seq><statedt>20200324</statedt><statetime>00:00</statetime><updatedt>2020-04-07 19:37:58.58</updatedt></item>,\n",
      " <item><accdefrate>2.7126570651</accdefrate><accexamcnt>348582</accexamcnt><accexamcompcnt>333142</accexamcompcnt><carecnt>5410</carecnt><clearcnt>3507</clearcnt><createdt>2020-03-24 10:09:30.30</createdt><deathcnt>120</deathcnt><decidecnt>9037</decidecnt><examcnt>15440</examcnt><resutlnegcnt>324105</resutlnegcnt><seq>83</seq><statedt>20200324</statedt><statetime>00:00</statetime><updatedt></updatedt></item>,\n",
      " <item><accdefrate>2.7622623363</accdefrate><accexamcnt>338036</accexamcnt><accexamcompcnt>324408</accexamcompcnt><carecnt>5684</carecnt><clearcnt>3166</clearcnt><createdt>2020-03-23 10:27:32.32</createdt><deathcnt>111</deathcnt><decidecnt>8961</decidecnt><examcnt>13628</examcnt><resutlnegcnt>315447</resutlnegcnt><seq>82</seq><statedt>20200323</statedt><statetime>00:00</statetime><updatedt></updatedt></item>,\n",
      " <item><accdefrate>2.8045013239</accdefrate><accexamcnt>331780</accexamcnt><accexamcompcnt>317240</accexamcompcnt><carecnt>5884</carecnt><clearcnt>2909</clearcnt><createdt>2020-03-22 10:07:28.28</createdt><deathcnt>104</deathcnt><decidecnt>8897</decidecnt><examcnt>14540</examcnt><resutlnegcnt>308343</resutlnegcnt><seq>81</seq><statedt>20200322</statedt><statetime>00:00</statetime><updatedt></updatedt></item>,\n",
      " <item><accdefrate>2.8219560302</accdefrate><accexamcnt>327509</accexamcnt><accexamcompcnt>311805</accexamcompcnt><carecnt>6085</carecnt><clearcnt>2612</clearcnt><createdt>2020-03-21 10:02:58.58</createdt><deathcnt>102</deathcnt><decidecnt>8799</decidecnt><examcnt>15704</examcnt><resutlnegcnt>303006</resutlnegcnt><seq>80</seq><statedt>20200321</statedt><statetime>00:00</statetime><updatedt></updatedt></item>,\n",
      " <item><accdefrate>2.8730918280</accdefrate><accexamcnt>316664</accexamcnt><accexamcompcnt>301139</accexamcompcnt><carecnt>6325</carecnt><clearcnt>2233</clearcnt><createdt>2020-03-20 10:15:59.59</createdt><deathcnt>94</deathcnt><decidecnt>8652</decidecnt><examcnt>15525</examcnt><resutlnegcnt>292487</resutlnegcnt><seq>79</seq><statedt>20200320</statedt><statetime>00:00</statetime><updatedt></updatedt></item>,\n",
      " <item><accdefrate>2.9420857378</accdefrate><accexamcnt>307024</accexamcnt><accexamcompcnt>291120</accexamcompcnt><carecnt>6527</carecnt><clearcnt>1947</clearcnt><createdt>2020-03-19 10:07:57.57</createdt><deathcnt>91</deathcnt><decidecnt>8565</decidecnt><examcnt>15904</examcnt><resutlnegcnt>282555</resutlnegcnt><seq>78</seq><statedt>20200319</statedt><statetime>00:00</statetime><updatedt></updatedt></item>,\n",
      " <item><accdefrate>3.0121625056</accdefrate><accexamcnt>295647</accexamcnt><accexamcompcnt>279301</accexamcompcnt><carecnt>6789</carecnt><clearcnt>1540</clearcnt><createdt>2020-03-18 10:26:15.15</createdt><deathcnt>84</deathcnt><decidecnt>8413</decidecnt><examcnt>16346</examcnt><resutlnegcnt>270888</resutlnegcnt><seq>77</seq><statedt>20200318</statedt><statetime>00:00</statetime><updatedt></updatedt></item>,\n",
      " <item><accdefrate>3.0880579010</accdefrate><accexamcnt>286716</accexamcnt><accexamcompcnt>269425</accexamcompcnt><carecnt>6838</carecnt><clearcnt>1401</clearcnt><createdt>2020-03-17 10:29:38.38</createdt><deathcnt>81</deathcnt><decidecnt>8320</decidecnt><examcnt>17291</examcnt><resutlnegcnt>261105</resutlnegcnt><seq>76</seq><statedt>20200317</statedt><statetime>00:00</statetime><updatedt></updatedt></item>,\n",
      " <item><accdefrate>3.1733922083</accdefrate><accexamcnt>274504</accexamcnt><accexamcompcnt>259533</accexamcompcnt><carecnt>7024</carecnt><clearcnt>1137</clearcnt><createdt>2020-03-16 10:12:33.33</createdt><deathcnt>75</deathcnt><decidecnt>8236</decidecnt><examcnt>14971</examcnt><resutlnegcnt>251297</resutlnegcnt><seq>75</seq><statedt>20200316</statedt><statetime>00:00</statetime><updatedt></updatedt></item>,\n",
      " <item><accdefrate>3.2396602365</accdefrate><accexamcnt>268212</accexamcnt><accexamcompcnt>251940</accexamcompcnt><carecnt>7253</carecnt><clearcnt>834</clearcnt><createdt>2020-03-15 10:01:22.22</createdt><deathcnt>75</deathcnt><decidecnt>8162</decidecnt><examcnt>16272</examcnt><resutlnegcnt>243778</resutlnegcnt><seq>74</seq><statedt>20200315</statedt><statetime>00:00</statetime><updatedt></updatedt></item>,\n",
      " <item><accdefrate>3.3180003364</accdefrate><accexamcnt>261335</accexamcnt><accexamcompcnt>243701</accexamcompcnt><carecnt>7300</carecnt><clearcnt>714</clearcnt><createdt>2020-03-14 10:29:11.11</createdt><deathcnt>72</deathcnt><decidecnt>8086</decidecnt><examcnt>17634</examcnt><resutlnegcnt>235615</resutlnegcnt><seq>73</seq><statedt>20200314</statedt><statetime>00:00</statetime><updatedt>2020-03-14 10:34:07.07</updatedt></item>,\n",
      " <item><accdefrate>3.4584993086</accdefrate><accexamcnt>248647</accexamcnt><accexamcompcnt>230707</accexamcompcnt><carecnt>7402</carecnt><clearcnt>510</clearcnt><createdt>2020-03-13 10:07:22.22</createdt><deathcnt>67</deathcnt><decidecnt>7979</decidecnt><examcnt>17940</examcnt><resutlnegcnt>222728</resutlnegcnt><seq>72</seq><statedt>20200313</statedt><statetime>00:00</statetime><updatedt></updatedt></item>,\n",
      " <item><accdefrate>3.6217442732</accdefrate><accexamcnt>234998</accexamcnt><accexamcompcnt>217271</accexamcompcnt><carecnt>7470</carecnt><clearcnt>333</clearcnt><createdt>2020-03-12 10:37:03.03</createdt><deathcnt>66</deathcnt><decidecnt>7869</decidecnt><examcnt>17727</examcnt><resutlnegcnt>209402</resutlnegcnt><seq>71</seq><statedt>20200312</statedt><statetime>00:00</statetime><updatedt></updatedt></item>,\n",
      " <item><accdefrate>3.8041745358</accdefrate><accexamcnt>222395</accexamcnt><accexamcompcnt>203855</accexamcompcnt><carecnt>7407</carecnt><clearcnt>288</clearcnt><createdt>2020-03-11 10:17:19.19</createdt><deathcnt>60</deathcnt><decidecnt>7755</decidecnt><examcnt>18540</examcnt><resutlnegcnt>196100</resutlnegcnt><seq>70</seq><statedt>20200311</statedt><statetime>00:00</statetime><updatedt></updatedt></item>,\n",
      " <item><accdefrate>3.9193080566</accdefrate><accexamcnt>210144</accexamcnt><accexamcompcnt>191692</accexamcompcnt><carecnt>7212</carecnt><clearcnt>247</clearcnt><createdt>2020-03-10 10:20:27.27</createdt><deathcnt>54</deathcnt><decidecnt>7513</decidecnt><examcnt>18452</examcnt><resutlnegcnt>184179</resutlnegcnt><seq>69</seq><statedt>20200310</statedt><statetime>00:00</statetime><updatedt></updatedt></item>,\n",
      " <item><accdefrate>4.1203393614</accdefrate><accexamcnt>196618</accexamcnt><accexamcompcnt>179160</accexamcompcnt><carecnt>7165</carecnt><clearcnt>166</clearcnt><createdt>2020-03-09 10:47:15.15</createdt><deathcnt>51</deathcnt><decidecnt>7382</decidecnt><examcnt>17458</examcnt><resutlnegcnt>171778</resutlnegcnt><seq>68</seq><statedt>20200309</statedt><statetime>00:00</statetime><updatedt>2020-03-09 13:29:59.59</updatedt></item>,\n",
      " <item><accdefrate>4.2177578602</accdefrate><accexamcnt>188518</accexamcnt><accexamcompcnt>169142</accexamcompcnt><carecnt>6954</carecnt><clearcnt>130</clearcnt><createdt>2020-03-08 11:16:27.27</createdt><deathcnt>50</deathcnt><decidecnt>7134</decidecnt><examcnt>19376</examcnt><resutlnegcnt>162008</resutlnegcnt><seq>67</seq><statedt>20200308</statedt><statetime>00:00</statetime><updatedt>2020-03-09 13:35:51.51</updatedt></item>,\n",
      " <item><accdefrate>4.2675428362</accdefrate><accexamcnt>178189</accexamcnt><accexamcompcnt>158569</accexamcompcnt><carecnt>6605</carecnt><clearcnt>118</clearcnt><createdt>2020-03-07 11:00:45.45</createdt><deathcnt>44</deathcnt><decidecnt>6767</decidecnt><examcnt>19620</examcnt><resutlnegcnt>151802</resutlnegcnt><seq>66</seq><statedt>20200307</statedt><statetime>00:00</statetime><updatedt>2020-03-09 13:36:26.26</updatedt></item>,\n",
      " <item><accdefrate>4.3972345844</accdefrate><accexamcnt>164740</accexamcnt><accexamcompcnt>142908</accexamcompcnt><carecnt>6134</carecnt><clearcnt>108</clearcnt><createdt>2020-03-06 12:55:44.44</createdt><deathcnt>42</deathcnt><decidecnt>6284</decidecnt><examcnt>21832</examcnt><resutlnegcnt>136624</resutlnegcnt><seq>65</seq><statedt>20200306</statedt><statetime>00:00</statetime><updatedt>2020-03-09 14:05:01.01</updatedt></item>,\n",
      " <item><accdefrate>4.6227481540</accdefrate><accexamcnt>146541</accexamcnt><accexamcompcnt>124731</accexamcompcnt><carecnt>5643</carecnt><clearcnt>88</clearcnt><createdt>2020-03-05 10:15:12.12</createdt><deathcnt>35</deathcnt><decidecnt>5766</decidecnt><examcnt>21810</examcnt><resutlnegcnt>118965</resutlnegcnt><seq>64</seq><statedt>20200305</statedt><statetime>00:00</statetime><updatedt>2020-03-09 14:06:01.01</updatedt></item>,\n",
      " <item><accdefrate>4.9199855946</accdefrate><accexamcnt>136707</accexamcnt><accexamcompcnt>108293</accexamcompcnt><carecnt>5255</carecnt><clearcnt>41</clearcnt><createdt>2020-03-04 10:21:44.44</createdt><deathcnt>32</deathcnt><decidecnt>5328</decidecnt><examcnt>28414</examcnt><resutlnegcnt>102965</resutlnegcnt><seq>63</seq><statedt>20200304</statedt><statetime>00:00</statetime><updatedt>2020-03-09 14:06:59.59</updatedt></item>,\n",
      " <item><accdefrate>5.3291397182</accdefrate><accexamcnt>125851</accexamcnt><accexamcompcnt>90296</accexamcompcnt><carecnt>4750</carecnt><clearcnt>34</clearcnt><createdt>2020-03-03 10:46:53.53</createdt><deathcnt>28</deathcnt><decidecnt>4812</decidecnt><examcnt>35555</examcnt><resutlnegcnt>85484</resutlnegcnt><seq>62</seq><statedt>20200303</statedt><statetime>00:00</statetime><updatedt>2020-03-09 14:08:12.12</updatedt></item>,\n",
      " <item><accdefrate>5.5573147561</accdefrate><accexamcnt>109591</accexamcnt><accexamcompcnt>75792</accexamcompcnt><carecnt>4159</carecnt><clearcnt>31</clearcnt><createdt>2020-03-02 10:52:38.38</createdt><deathcnt>22</deathcnt><decidecnt>4212</decidecnt><examcnt>33799</examcnt><resutlnegcnt>71580</resutlnegcnt><seq>61</seq><statedt>20200302</statedt><statetime>00:00</statetime><updatedt>2020-03-09 14:08:51.51</updatedt></item>,\n",
      " <item><accdefrate></accdefrate><clearcnt>30</clearcnt><createdt>2020-03-01 17:41:45.45</createdt><deathcnt>18</deathcnt><decidecnt>3736</decidecnt><examcnt>33360</examcnt><seq>60</seq><statedt>20200301</statedt><statetime>16:00</statetime><updatedt></updatedt></item>,\n",
      " <item><accdefrate></accdefrate><clearcnt>30</clearcnt><createdt>2020-03-01 10:06:32.32</createdt><deathcnt>17</deathcnt><decidecnt>3526</decidecnt><examcnt>32422</examcnt><seq>59</seq><statedt>20200301</statedt><statetime>09:00</statetime><updatedt></updatedt></item>,\n",
      " <item><accdefrate></accdefrate><clearcnt>28</clearcnt><createdt>2020-02-29 17:16:20.20</createdt><deathcnt>17</deathcnt><decidecnt>3150</decidecnt><examcnt>35182</examcnt><seq>58</seq><statedt>20200229</statedt><statetime>16:00</statetime><updatedt>2020-02-29 18:02:17.17</updatedt></item>,\n",
      " <item><accdefrate></accdefrate><clearcnt>27</clearcnt><createdt>2020-02-29 10:14:50.50</createdt><deathcnt>16</deathcnt><decidecnt>2931</decidecnt><examcnt>29154</examcnt><seq>57</seq><statedt>20200229</statedt><statetime>09:00</statetime><updatedt></updatedt></item>,\n",
      " <item><accdefrate></accdefrate><clearcnt>27</clearcnt><createdt>2020-02-28 17:01:59.59</createdt><deathcnt>13</deathcnt><decidecnt>2337</decidecnt><examcnt>30237</examcnt><seq>56</seq><statedt>20200228</statedt><statetime>16:00</statetime><updatedt></updatedt></item>,\n",
      " <item><accdefrate></accdefrate><clearcnt>26</clearcnt><createdt>2020-02-28 10:32:34.34</createdt><deathcnt>13</deathcnt><decidecnt>2022</decidecnt><examcnt>24751</examcnt><seq>55</seq><statedt>20200228</statedt><statetime>09:00</statetime><updatedt>2020-02-28 13:34:23.23</updatedt></item>,\n",
      " <item><accdefrate></accdefrate><clearcnt>26</clearcnt><createdt>2020-02-27 17:32:06.06</createdt><deathcnt>13</deathcnt><decidecnt>1766</decidecnt><examcnt>25568</examcnt><seq>54</seq><statedt>20200227</statedt><statetime>16:00</statetime><updatedt></updatedt></item>,\n",
      " <item><accdefrate></accdefrate><clearcnt>24</clearcnt><createdt>2020-02-27 10:19:35.35</createdt><deathcnt>12</deathcnt><decidecnt>1595</decidecnt><examcnt>21097</examcnt><seq>53</seq><statedt>20200227</statedt><statetime>09:00</statetime><updatedt></updatedt></item>,\n",
      " <item><accdefrate></accdefrate><clearcnt>24</clearcnt><createdt>2020-02-26 17:00:43.43</createdt><deathcnt>12</deathcnt><decidecnt>1261</decidecnt><examcnt>20716</examcnt><seq>52</seq><statedt>20200226</statedt><statetime>16:00</statetime><updatedt></updatedt></item>,\n",
      " <item><accdefrate></accdefrate><clearcnt>22</clearcnt><createdt>2020-02-26 10:02:05.05</createdt><deathcnt>11</deathcnt><decidecnt>1146</decidecnt><examcnt>16734</examcnt><seq>51</seq><statedt>20200226</statedt><statetime>09:00</statetime><updatedt></updatedt></item>,\n",
      " <item><accdefrate></accdefrate><clearcnt>22</clearcnt><createdt>2020-02-25 17:02:03.03</createdt><deathcnt>10</deathcnt><decidecnt>977</decidecnt><examcnt>13880</examcnt><seq>50</seq><statedt>20200225</statedt><statetime>16:00</statetime><updatedt></updatedt></item>,\n",
      " <item><accdefrate></accdefrate><clearcnt>22</clearcnt><createdt>2020-02-25 10:00:40.40</createdt><deathcnt>8</deathcnt><decidecnt>893</decidecnt><examcnt>13273</examcnt><seq>49</seq><statedt>20200225</statedt><statetime>09:00</statetime><updatedt></updatedt></item>,\n",
      " <item><accdefrate></accdefrate><clearcnt>22</clearcnt><createdt>2020-02-24 17:03:50.50</createdt><deathcnt>7</deathcnt><decidecnt>833</decidecnt><examcnt>11631</examcnt><seq>48</seq><statedt>20200224</statedt><statetime>16:00</statetime><updatedt></updatedt></item>,\n",
      " <item><accdefrate></accdefrate><clearcnt>18</clearcnt><createdt>2020-02-24 10:17:36.36</createdt><deathcnt>7</deathcnt><decidecnt>763</decidecnt><examcnt>8725</examcnt><seq>47</seq><statedt>20200224</statedt><statetime>09:00</statetime><updatedt></updatedt></item>,\n",
      " <item><accdefrate></accdefrate><clearcnt>18</clearcnt><createdt>2020-02-23 17:05:12.12</createdt><deathcnt>5</deathcnt><decidecnt>602</decidecnt><examcnt>8057</examcnt><seq>46</seq><statedt>20200223</statedt><statetime>16:00</statetime><updatedt></updatedt></item>,\n",
      " <item><accdefrate></accdefrate><clearcnt>18</clearcnt><createdt>2020-02-23 10:22:25.25</createdt><deathcnt>4</deathcnt><decidecnt>556</decidecnt><examcnt>6039</examcnt><seq>45</seq><statedt>20200223</statedt><statetime>09:00</statetime><updatedt></updatedt></item>,\n",
      " <item><accdefrate></accdefrate><clearcnt>18</clearcnt><createdt>2020-02-22 17:00:28.28</createdt><deathcnt>2</deathcnt><decidecnt>433</decidecnt><examcnt>6037</examcnt><seq>44</seq><statedt>20200222</statedt><statetime>16:00</statetime><updatedt></updatedt></item>,\n",
      " <item><accdefrate></accdefrate><clearcnt>17</clearcnt><createdt>2020-02-22 9:59:46.46</createdt><deathcnt>2</deathcnt><decidecnt>346</decidecnt><examcnt>5481</examcnt><seq>43</seq><statedt>20200222</statedt><statetime>09:00</statetime><updatedt></updatedt></item>,\n",
      " <item><accdefrate></accdefrate><clearcnt>17</clearcnt><createdt>2020-02-21 17:13:21.21</createdt><deathcnt>1</deathcnt><decidecnt>204</decidecnt><examcnt>3180</examcnt><seq>42</seq><statedt>20200221</statedt><statetime>16:00</statetime><updatedt></updatedt></item>,\n",
      " <item><accdefrate></accdefrate><clearcnt>17</clearcnt><createdt>2020-02-21 17:12:33.33</createdt><deathcnt>1</deathcnt><decidecnt>204</decidecnt><examcnt>3180</examcnt><seq>41</seq><statedt>20200221</statedt><statetime>16:00</statetime><updatedt></updatedt></item>,\n",
      " <item><accdefrate></accdefrate><clearcnt>16</clearcnt><createdt>2020-02-21 9:58:51.51</createdt><deathcnt>1</deathcnt><decidecnt>156</decidecnt><examcnt>2707</examcnt><seq>40</seq><statedt>20200221</statedt><statetime>09:00</statetime><updatedt></updatedt></item>,\n",
      " <item><accdefrate></accdefrate><clearcnt>16</clearcnt><createdt>2020-02-20 17:12:33.33</createdt><deathcnt>1</deathcnt><decidecnt>104</decidecnt><examcnt>1860</examcnt><seq>39</seq><statedt>20200220</statedt><statetime>16:00</statetime><updatedt></updatedt></item>,\n",
      " <item><accdefrate></accdefrate><clearcnt>16</clearcnt><createdt>2020-02-20 10:01:31.31</createdt><deathcnt>0</deathcnt><decidecnt>82</decidecnt><examcnt>1633</examcnt><seq>38</seq><statedt>20200220</statedt><statetime>09:00</statetime><updatedt></updatedt></item>,\n",
      " <item><accdefrate></accdefrate><clearcnt>16</clearcnt><createdt>2020-02-19 17:00:13.13</createdt><deathcnt>0</deathcnt><decidecnt>51</decidecnt><examcnt>1149</examcnt><seq>37</seq><statedt>20200219</statedt><statetime>16:00</statetime><updatedt></updatedt></item>,\n",
      " <item><accdefrate></accdefrate><clearcnt>12</clearcnt><createdt>2020-02-19 9:53:08.08</createdt><deathcnt>0</deathcnt><decidecnt>46</decidecnt><examcnt>1030</examcnt><seq>36</seq><statedt>20200219</statedt><statetime>09:00</statetime><updatedt></updatedt></item>,\n",
      " <item><accdefrate></accdefrate><clearcnt>12</clearcnt><createdt>2020-02-18 16:42:00.00</createdt><deathcnt>0</deathcnt><decidecnt>31</decidecnt><examcnt>818</examcnt><seq>35</seq><statedt>20200218</statedt><statetime>16:00</statetime><updatedt></updatedt></item>,\n",
      " <item><accdefrate></accdefrate><clearcnt>10</clearcnt><createdt>2020-02-18 10:05:31.31</createdt><deathcnt>0</deathcnt><decidecnt>31</decidecnt><examcnt>957</examcnt><seq>34</seq><statedt>20200218</statedt><statetime>09:00</statetime><updatedt></updatedt></item>,\n",
      " <item><accdefrate></accdefrate><clearcnt>10</clearcnt><createdt>2020-02-18 10:04:38.38</createdt><deathcnt>0</deathcnt><decidecnt>31</decidecnt><examcnt>957</examcnt><seq>33</seq><statedt>20200218</statedt><statetime>09:00</statetime><updatedt></updatedt></item>,\n",
      " <item><accdefrate></accdefrate><clearcnt>10</clearcnt><createdt>2020-02-17 16:50:47.47</createdt><deathcnt>0</deathcnt><decidecnt>30</decidecnt><examcnt>708</examcnt><seq>32</seq><statedt>20200217</statedt><statetime>16:00</statetime><updatedt></updatedt></item>,\n",
      " <item><accdefrate></accdefrate><clearcnt>9</clearcnt><createdt>2020-02-17 9:53:13.13</createdt><deathcnt>0</deathcnt><decidecnt>30</decidecnt><examcnt>408</examcnt><seq>31</seq><statedt>20200217</statedt><statetime>09:00</statetime><updatedt></updatedt></item>,\n",
      " <item><accdefrate></accdefrate><clearcnt>9</clearcnt><createdt>2020-02-16 16:57:02.02</createdt><deathcnt>0</deathcnt><decidecnt>29</decidecnt><examcnt>485</examcnt><seq>30</seq><statedt>20200216</statedt><statetime>16:00</statetime><updatedt></updatedt></item>,\n",
      " <item><accdefrate></accdefrate><clearcnt>9</clearcnt><createdt>2020-02-16 10:04:04.04</createdt><deathcnt>0</deathcnt><decidecnt>29</decidecnt><examcnt>577</examcnt><seq>29</seq><statedt>20200216</statedt><statetime>09:00</statetime><updatedt></updatedt></item>,\n",
      " <item><accdefrate></accdefrate><clearcnt>9</clearcnt><createdt>2020-02-15 17:00:21.21</createdt><deathcnt>0</deathcnt><decidecnt>28</decidecnt><examcnt>558</examcnt><seq>28</seq><statedt>20200215</statedt><statetime>16:00</statetime><updatedt></updatedt></item>,\n",
      " <item><accdefrate></accdefrate><clearcnt>7</clearcnt><createdt>2020-02-15 10:00:11.11</createdt><deathcnt>0</deathcnt><decidecnt>28</decidecnt><examcnt>638</examcnt><seq>27</seq><statedt>20200215</statedt><statetime>09:00</statetime><updatedt></updatedt></item>,\n",
      " <item><accdefrate></accdefrate><clearcnt>7</clearcnt><createdt>2020-02-14 17:16:19.19</createdt><deathcnt>0</deathcnt><decidecnt>28</decidecnt><examcnt>535</examcnt><seq>26</seq><statedt>20200214</statedt><statetime>16:00</statetime><updatedt></updatedt></item>,\n",
      " <item><accdefrate></accdefrate><clearcnt>7</clearcnt><createdt>2020-02-14 9:50:49.49</createdt><deathcnt>0</deathcnt><decidecnt>28</decidecnt><examcnt>692</examcnt><seq>25</seq><statedt>20200214</statedt><statetime>09:00</statetime><updatedt></updatedt></item>,\n",
      " <item><accdefrate></accdefrate><clearcnt>7</clearcnt><createdt>2020-02-13 17:09:07.07</createdt><deathcnt>0</deathcnt><decidecnt>28</decidecnt><examcnt>562</examcnt><seq>24</seq><statedt>20200213</statedt><statetime>16:00</statetime><updatedt></updatedt></item>,\n",
      " <item><accdefrate></accdefrate><clearcnt>7</clearcnt><createdt>2020-02-13 9:50:45.45</createdt><deathcnt>0</deathcnt><decidecnt>28</decidecnt><examcnt>670</examcnt><seq>23</seq><statedt>20200213</statedt><statetime>09:00</statetime><updatedt></updatedt></item>,\n",
      " <item><accdefrate></accdefrate><clearcnt>7</clearcnt><createdt>2020-02-12 16:56:47.47</createdt><deathcnt>0</deathcnt><decidecnt>28</decidecnt><examcnt>785</examcnt><seq>22</seq><statedt>20200212</statedt><statetime>16:00</statetime><updatedt></updatedt></item>,\n",
      " <item><accdefrate></accdefrate><clearcnt>4</clearcnt><createdt>2020-02-12 10:05:49.49</createdt><deathcnt>0</deathcnt><decidecnt>28</decidecnt><examcnt>992</examcnt><seq>21</seq><statedt>20200212</statedt><statetime>09:00</statetime><updatedt></updatedt></item>,\n",
      " <item><accdefrate></accdefrate><clearcnt>4</clearcnt><createdt>2020-02-11 17:09:25.25</createdt><deathcnt>0</deathcnt><decidecnt>28</decidecnt><examcnt>762</examcnt><seq>20</seq><statedt>20200211</statedt><statetime>16:00</statetime><updatedt></updatedt></item>,\n",
      " <item><accdefrate></accdefrate><clearcnt>4</clearcnt><createdt>2020-02-11 9:50:10.10</createdt><deathcnt>0</deathcnt><decidecnt>28</decidecnt><examcnt>865</examcnt><seq>19</seq><statedt>20200211</statedt><statetime>09:00</statetime><updatedt></updatedt></item>,\n",
      " <item><accdefrate></accdefrate><clearcnt>3</clearcnt><createdt>2020-02-10 17:03:49.49</createdt><deathcnt>0</deathcnt><decidecnt>27</decidecnt><examcnt>531</examcnt><seq>18</seq><statedt>20200210</statedt><statetime>16:00</statetime><updatedt>2020-02-10 19:04:27.27</updatedt></item>,\n",
      " <item><accdefrate></accdefrate><clearcnt>3</clearcnt><createdt>2020-02-10 9:56:41.41</createdt><deathcnt>0</deathcnt><decidecnt>27</decidecnt><examcnt>809</examcnt><seq>17</seq><statedt>20200210</statedt><statetime>09:00</statetime><updatedt></updatedt></item>,\n",
      " <item><accdefrate></accdefrate><clearcnt>3</clearcnt><createdt>2020-02-09 16:59:21.21</createdt><deathcnt>0</deathcnt><decidecnt>27</decidecnt><examcnt>888</examcnt><seq>16</seq><statedt>20200209</statedt><statetime>16:00</statetime><updatedt></updatedt></item>,\n",
      " <item><accdefrate></accdefrate><clearcnt>3</clearcnt><createdt>2020-02-09 9:58:22.22</createdt><deathcnt>0</deathcnt><decidecnt>25</decidecnt><examcnt>960</examcnt><seq>15</seq><statedt>20200209</statedt><statetime>09:00</statetime><updatedt>2020-02-09 11:08:56.56</updatedt></item>,\n",
      " <item><accdefrate></accdefrate><clearcnt>2</clearcnt><createdt>2020-02-08 17:01:34.34</createdt><deathcnt>0</deathcnt><decidecnt>24</decidecnt><examcnt>939</examcnt><seq>14</seq><statedt>20200208</statedt><statetime>16:00</statetime><updatedt></updatedt></item>,\n",
      " <item><accdefrate></accdefrate><clearcnt>2</clearcnt><createdt>2020-02-08 17:01:12.12</createdt><deathcnt>0</deathcnt><decidecnt>24</decidecnt><examcnt>939</examcnt><seq>13</seq><statedt>20200208</statedt><statetime>16:00</statetime><updatedt></updatedt></item>,\n",
      " <item><accdefrate></accdefrate><clearcnt>2</clearcnt><createdt>2020-02-08 16:48:05.05</createdt><deathcnt>0</deathcnt><decidecnt>24</decidecnt><examcnt>939</examcnt><seq>12</seq><statedt>20200208</statedt><statetime>16:00</statetime><updatedt></updatedt></item>,\n",
      " <item><accdefrate></accdefrate><clearcnt>2</clearcnt><createdt>2020-02-08 16:00:22.22</createdt><deathcnt>0</deathcnt><decidecnt>24</decidecnt><examcnt>939</examcnt><seq>11</seq><statedt>20200208</statedt><statetime>16:00</statetime><updatedt></updatedt></item>,\n",
      " <item><accdefrate></accdefrate><clearcnt>2</clearcnt><createdt>2020-02-08 10:09:34.34</createdt><deathcnt>0</deathcnt><decidecnt>24</decidecnt><examcnt>620</examcnt><seq>10</seq><statedt>20200208</statedt><statetime>09:00</statetime><updatedt></updatedt></item>,\n",
      " <item><accdefrate></accdefrate><clearcnt>2</clearcnt><createdt>2020-02-07 17:20:45.45</createdt><deathcnt>0</deathcnt><decidecnt>24</decidecnt><examcnt>327</examcnt><seq>9</seq><statedt>20200207</statedt><statetime>16:00</statetime><updatedt></updatedt></item>,\n",
      " <item><accdefrate></accdefrate><clearcnt>2</clearcnt><createdt>2020-02-07 9:53:27.27</createdt><deathcnt>0</deathcnt><decidecnt>24</decidecnt><examcnt>264</examcnt><seq>8</seq><statedt>20200207</statedt><statetime>09:00</statetime><updatedt>2020-02-07 11:44:30.30</updatedt></item>,\n",
      " <item><accdefrate></accdefrate><clearcnt>1</clearcnt><createdt>2020-02-06 9:09:49.49</createdt><deathcnt>0</deathcnt><decidecnt>23</decidecnt><examcnt>169</examcnt><seq>7</seq><statedt>20200206</statedt><statetime>09:00</statetime><updatedt>2020-02-06 10:04:35.35</updatedt></item>,\n",
      " <item><accdefrate></accdefrate><clearcnt>1</clearcnt><createdt>2020-02-05 20:05:40.40</createdt><deathcnt>0</deathcnt><decidecnt>19</decidecnt><examcnt>40</examcnt><seq>6</seq><statedt>20200205</statedt><statetime>19:00</statetime><updatedt>2020-02-06 10:05:36.36</updatedt></item>,\n",
      " <item><accdefrate></accdefrate><clearcnt>0</clearcnt><createdt>2020-02-04 23:56:31.31</createdt><deathcnt>0</deathcnt><decidecnt>18</decidecnt><examcnt>129</examcnt><seq>5</seq><statedt>20200205</statedt><statetime>09:00</statetime><updatedt>2020-02-05 9:43:16.16</updatedt></item>,\n",
      " <item><accdefrate></accdefrate><clearcnt>0</clearcnt><createdt>2020-02-03 21:26:59.59</createdt><deathcnt>0</deathcnt><decidecnt>0</decidecnt><examcnt>0</examcnt><seq>4</seq><statedt>20200204</statedt><statetime>00:00</statetime><updatedt></updatedt></item>,\n",
      " <item><accdefrate></accdefrate><clearcnt>0</clearcnt><createdt>2020-02-03 14:41:17.17</createdt><deathcnt>0</deathcnt><decidecnt>15</decidecnt><examcnt>0</examcnt><seq>3</seq><statedt>20200203</statedt><statetime>09:00</statetime><updatedt>2020-02-04 14:19:46.46</updatedt></item>,\n",
      " <item><accdefrate></accdefrate><clearcnt>2</clearcnt><createdt>2020-02-03 12:22:49.49</createdt><deathcnt>2</deathcnt><decidecnt>2</decidecnt><examcnt>2</examcnt><seq>2</seq><statedt>20200202</statedt><statetime>09:00</statetime><updatedt></updatedt></item>,\n",
      " <item><accdefrate></accdefrate><clearcnt>1</clearcnt><createdt>2020-01-31 17:47:33.33</createdt><deathcnt>0</deathcnt><decidecnt>0</decidecnt><examcnt>1</examcnt><seq>1</seq><statedt>20200101</statedt><statetime>18:00</statetime><updatedt>2020-02-03 12:21:56.56</updatedt></item>]\n"
     ]
    }
   ],
   "source": [
    "pprint.pprint(data)"
   ]
  },
  {
   "cell_type": "code",
   "execution_count": null,
   "metadata": {},
   "outputs": [],
   "source": [
    "print(req)"
   ]
  },
  {
   "cell_type": "code",
   "execution_count": 90,
   "metadata": {},
   "outputs": [],
   "source": [
    "death_cnt = soup.find_all('deathcnt')"
   ]
  },
  {
   "cell_type": "code",
   "execution_count": 91,
   "metadata": {},
   "outputs": [
    {
     "data": {
      "text/plain": [
       "[<deathcnt>453</deathcnt>, <deathcnt>450</deathcnt>, <deathcnt>447</deathcnt>, <deathcnt>444</deathcnt>, <deathcnt>444</deathcnt>, <deathcnt>443</deathcnt>, <deathcnt>441</deathcnt>, <deathcnt>439</deathcnt>, <deathcnt>438</deathcnt>, <deathcnt>434</deathcnt>, <deathcnt>433</deathcnt>, <deathcnt>433</deathcnt>, <deathcnt>432</deathcnt>, <deathcnt>430</deathcnt>, <deathcnt>428</deathcnt>, <deathcnt>427</deathcnt>, <deathcnt>425</deathcnt>, <deathcnt>422</deathcnt>, <deathcnt>422</deathcnt>, <deathcnt>421</deathcnt>, <deathcnt>420</deathcnt>, <deathcnt>416</deathcnt>, <deathcnt>415</deathcnt>, <deathcnt>413</deathcnt>, <deathcnt>413</deathcnt>, <deathcnt>407</deathcnt>, <deathcnt>406</deathcnt>, <deathcnt>401</deathcnt>, <deathcnt>399</deathcnt>, <deathcnt>395</deathcnt>, <deathcnt>393</deathcnt>, <deathcnt>388</deathcnt>, <deathcnt>388</deathcnt>, <deathcnt>385</deathcnt>, <deathcnt>383</deathcnt>, <deathcnt>378</deathcnt>, <deathcnt>377</deathcnt>, <deathcnt>372</deathcnt>, <deathcnt>367</deathcnt>, <deathcnt>367</deathcnt>, <deathcnt>363</deathcnt>, <deathcnt>358</deathcnt>, <deathcnt>355</deathcnt>, <deathcnt>350</deathcnt>, <deathcnt>346</deathcnt>, <deathcnt>344</deathcnt>, <deathcnt>341</deathcnt>, <deathcnt>336</deathcnt>, <deathcnt>334</deathcnt>, <deathcnt>333</deathcnt>, <deathcnt>331</deathcnt>, <deathcnt>329</deathcnt>, <deathcnt>326</deathcnt>, <deathcnt>324</deathcnt>, <deathcnt>324</deathcnt>, <deathcnt>323</deathcnt>, <deathcnt>321</deathcnt>, <deathcnt>316</deathcnt>, <deathcnt>313</deathcnt>, <deathcnt>312</deathcnt>, <deathcnt>310</deathcnt>, <deathcnt>309</deathcnt>, <deathcnt>309</deathcnt>, <deathcnt>309</deathcnt>, <deathcnt>309</deathcnt>, <deathcnt>307</deathcnt>, <deathcnt>306</deathcnt>, <deathcnt>306</deathcnt>, <deathcnt>305</deathcnt>, <deathcnt>305</deathcnt>, <deathcnt>305</deathcnt>, <deathcnt>305</deathcnt>, <deathcnt>305</deathcnt>, <deathcnt>305</deathcnt>, <deathcnt>305</deathcnt>, <deathcnt>305</deathcnt>, <deathcnt>305</deathcnt>, <deathcnt>304</deathcnt>, <deathcnt>303</deathcnt>, <deathcnt>302</deathcnt>, <deathcnt>302</deathcnt>, <deathcnt>301</deathcnt>, <deathcnt>301</deathcnt>, <deathcnt>301</deathcnt>, <deathcnt>301</deathcnt>, <deathcnt>301</deathcnt>, <deathcnt>300</deathcnt>, <deathcnt>300</deathcnt>, <deathcnt>300</deathcnt>, <deathcnt>299</deathcnt>, <deathcnt>298</deathcnt>, <deathcnt>298</deathcnt>, <deathcnt>298</deathcnt>, <deathcnt>297</deathcnt>, <deathcnt>297</deathcnt>, <deathcnt>296</deathcnt>, <deathcnt>296</deathcnt>, <deathcnt>295</deathcnt>, <deathcnt>294</deathcnt>, <deathcnt>293</deathcnt>, <deathcnt>291</deathcnt>, <deathcnt>289</deathcnt>, <deathcnt>289</deathcnt>, <deathcnt>289</deathcnt>, <deathcnt>289</deathcnt>, <deathcnt>288</deathcnt>, <deathcnt>288</deathcnt>, <deathcnt>287</deathcnt>, <deathcnt>285</deathcnt>, <deathcnt>285</deathcnt>, <deathcnt>284</deathcnt>, <deathcnt>283</deathcnt>, <deathcnt>283</deathcnt>, <deathcnt>282</deathcnt>, <deathcnt>282</deathcnt>, <deathcnt>282</deathcnt>, <deathcnt>282</deathcnt>, <deathcnt>282</deathcnt>, <deathcnt>282</deathcnt>, <deathcnt>282</deathcnt>, <deathcnt>282</deathcnt>, <deathcnt>282</deathcnt>, <deathcnt>281</deathcnt>, <deathcnt>281</deathcnt>, <deathcnt>280</deathcnt>, <deathcnt>280</deathcnt>, <deathcnt>280</deathcnt>, <deathcnt>280</deathcnt>, <deathcnt>280</deathcnt>, <deathcnt>279</deathcnt>, <deathcnt>278</deathcnt>, <deathcnt>277</deathcnt>, <deathcnt>277</deathcnt>, <deathcnt>277</deathcnt>, <deathcnt>277</deathcnt>, <deathcnt>276</deathcnt>, <deathcnt>276</deathcnt>, <deathcnt>274</deathcnt>, <deathcnt>273</deathcnt>, <deathcnt>273</deathcnt>, <deathcnt>273</deathcnt>, <deathcnt>273</deathcnt>, <deathcnt>273</deathcnt>, <deathcnt>273</deathcnt>, <deathcnt>272</deathcnt>, <deathcnt>271</deathcnt>, <deathcnt>270</deathcnt>, <deathcnt>269</deathcnt>, <deathcnt>269</deathcnt>, <deathcnt>269</deathcnt>, <deathcnt>269</deathcnt>, <deathcnt>269</deathcnt>, <deathcnt>267</deathcnt>, <deathcnt>266</deathcnt>, <deathcnt>266</deathcnt>, <deathcnt>264</deathcnt>, <deathcnt>264</deathcnt>, <deathcnt>263</deathcnt>, <deathcnt>263</deathcnt>, <deathcnt>263</deathcnt>, <deathcnt>262</deathcnt>, <deathcnt>262</deathcnt>, <deathcnt>260</deathcnt>, <deathcnt>260</deathcnt>, <deathcnt>259</deathcnt>, <deathcnt>258</deathcnt>, <deathcnt>256</deathcnt>, <deathcnt>256</deathcnt>, <deathcnt>256</deathcnt>, <deathcnt>256</deathcnt>, <deathcnt>256</deathcnt>, <deathcnt>255</deathcnt>, <deathcnt>254</deathcnt>, <deathcnt>252</deathcnt>, <deathcnt>250</deathcnt>, <deathcnt>250</deathcnt>, <deathcnt>248</deathcnt>, <deathcnt>247</deathcnt>, <deathcnt>246</deathcnt>, <deathcnt>244</deathcnt>, <deathcnt>243</deathcnt>, <deathcnt>242</deathcnt>, <deathcnt>240</deathcnt>, <deathcnt>240</deathcnt>, <deathcnt>240</deathcnt>, <deathcnt>240</deathcnt>, <deathcnt>240</deathcnt>, <deathcnt>238</deathcnt>, <deathcnt>237</deathcnt>, <deathcnt>236</deathcnt>, <deathcnt>234</deathcnt>, <deathcnt>232</deathcnt>, <deathcnt>230</deathcnt>, <deathcnt>229</deathcnt>, <deathcnt>225</deathcnt>, <deathcnt>222</deathcnt>, <deathcnt>217</deathcnt>, <deathcnt>214</deathcnt>, <deathcnt>211</deathcnt>, <deathcnt>208</deathcnt>, <deathcnt>204</deathcnt>, <deathcnt>200</deathcnt>, <deathcnt>192</deathcnt>, <deathcnt>186</deathcnt>, <deathcnt>183</deathcnt>, <deathcnt>177</deathcnt>, <deathcnt>174</deathcnt>, <deathcnt>169</deathcnt>, <deathcnt>169</deathcnt>, <deathcnt>165</deathcnt>, <deathcnt>162</deathcnt>, <deathcnt>158</deathcnt>, <deathcnt>152</deathcnt>, <deathcnt>144</deathcnt>, <deathcnt>139</deathcnt>, <deathcnt>131</deathcnt>, <deathcnt>126</deathcnt>, <deathcnt>120</deathcnt>, <deathcnt>120</deathcnt>, <deathcnt>111</deathcnt>, <deathcnt>104</deathcnt>, <deathcnt>102</deathcnt>, <deathcnt>94</deathcnt>, <deathcnt>91</deathcnt>, <deathcnt>84</deathcnt>, <deathcnt>81</deathcnt>, <deathcnt>75</deathcnt>, <deathcnt>75</deathcnt>, <deathcnt>72</deathcnt>, <deathcnt>67</deathcnt>, <deathcnt>66</deathcnt>, <deathcnt>60</deathcnt>, <deathcnt>54</deathcnt>, <deathcnt>51</deathcnt>, <deathcnt>50</deathcnt>, <deathcnt>44</deathcnt>, <deathcnt>42</deathcnt>, <deathcnt>35</deathcnt>, <deathcnt>32</deathcnt>, <deathcnt>28</deathcnt>, <deathcnt>22</deathcnt>, <deathcnt>18</deathcnt>, <deathcnt>17</deathcnt>, <deathcnt>17</deathcnt>, <deathcnt>16</deathcnt>, <deathcnt>13</deathcnt>, <deathcnt>13</deathcnt>, <deathcnt>13</deathcnt>, <deathcnt>12</deathcnt>, <deathcnt>12</deathcnt>, <deathcnt>11</deathcnt>, <deathcnt>10</deathcnt>, <deathcnt>8</deathcnt>, <deathcnt>7</deathcnt>, <deathcnt>7</deathcnt>, <deathcnt>5</deathcnt>, <deathcnt>4</deathcnt>, <deathcnt>2</deathcnt>, <deathcnt>2</deathcnt>, <deathcnt>1</deathcnt>, <deathcnt>1</deathcnt>, <deathcnt>1</deathcnt>, <deathcnt>1</deathcnt>, <deathcnt>0</deathcnt>, <deathcnt>0</deathcnt>, <deathcnt>0</deathcnt>, <deathcnt>0</deathcnt>, <deathcnt>0</deathcnt>, <deathcnt>0</deathcnt>, <deathcnt>0</deathcnt>, <deathcnt>0</deathcnt>, <deathcnt>0</deathcnt>, <deathcnt>0</deathcnt>, <deathcnt>0</deathcnt>, <deathcnt>0</deathcnt>, <deathcnt>0</deathcnt>, <deathcnt>0</deathcnt>, <deathcnt>0</deathcnt>, <deathcnt>0</deathcnt>, <deathcnt>0</deathcnt>, <deathcnt>0</deathcnt>, <deathcnt>0</deathcnt>, <deathcnt>0</deathcnt>, <deathcnt>0</deathcnt>, <deathcnt>0</deathcnt>, <deathcnt>0</deathcnt>, <deathcnt>0</deathcnt>, <deathcnt>0</deathcnt>, <deathcnt>0</deathcnt>, <deathcnt>0</deathcnt>, <deathcnt>0</deathcnt>, <deathcnt>0</deathcnt>, <deathcnt>0</deathcnt>, <deathcnt>0</deathcnt>, <deathcnt>0</deathcnt>, <deathcnt>0</deathcnt>, <deathcnt>0</deathcnt>, <deathcnt>0</deathcnt>, <deathcnt>0</deathcnt>, <deathcnt>2</deathcnt>, <deathcnt>0</deathcnt>]"
      ]
     },
     "execution_count": 91,
     "metadata": {},
     "output_type": "execute_result"
    }
   ],
   "source": [
    "death_cnt"
   ]
  },
  {
   "cell_type": "code",
   "execution_count": 43,
   "metadata": {},
   "outputs": [
    {
     "name": "stdout",
     "output_type": "stream",
     "text": [
      "<class 'bs4.element.ResultSet'>\n"
     ]
    }
   ],
   "source": [
    "print(type(death_cnt))"
   ]
  },
  {
   "cell_type": "code",
   "execution_count": 82,
   "metadata": {},
   "outputs": [],
   "source": [
    "deathCnt = list(death_cnt)"
   ]
  },
  {
   "cell_type": "code",
   "execution_count": 83,
   "metadata": {},
   "outputs": [
    {
     "data": {
      "text/plain": [
       "[<deathcnt>453</deathcnt>, <deathcnt>450</deathcnt>, <deathcnt>447</deathcnt>, <deathcnt>444</deathcnt>, <deathcnt>444</deathcnt>, <deathcnt>443</deathcnt>, <deathcnt>441</deathcnt>, <deathcnt>439</deathcnt>, <deathcnt>438</deathcnt>, <deathcnt>434</deathcnt>, <deathcnt>433</deathcnt>, <deathcnt>433</deathcnt>, <deathcnt>432</deathcnt>, <deathcnt>430</deathcnt>, <deathcnt>428</deathcnt>, <deathcnt>427</deathcnt>, <deathcnt>425</deathcnt>, <deathcnt>422</deathcnt>, <deathcnt>422</deathcnt>, <deathcnt>421</deathcnt>, <deathcnt>420</deathcnt>, <deathcnt>416</deathcnt>, <deathcnt>415</deathcnt>, <deathcnt>413</deathcnt>, <deathcnt>413</deathcnt>, <deathcnt>407</deathcnt>, <deathcnt>406</deathcnt>, <deathcnt>401</deathcnt>, <deathcnt>399</deathcnt>, <deathcnt>395</deathcnt>, <deathcnt>393</deathcnt>, <deathcnt>388</deathcnt>, <deathcnt>388</deathcnt>, <deathcnt>385</deathcnt>, <deathcnt>383</deathcnt>, <deathcnt>378</deathcnt>, <deathcnt>377</deathcnt>, <deathcnt>372</deathcnt>, <deathcnt>367</deathcnt>, <deathcnt>367</deathcnt>, <deathcnt>363</deathcnt>, <deathcnt>358</deathcnt>, <deathcnt>355</deathcnt>, <deathcnt>350</deathcnt>, <deathcnt>346</deathcnt>, <deathcnt>344</deathcnt>, <deathcnt>341</deathcnt>, <deathcnt>336</deathcnt>, <deathcnt>334</deathcnt>, <deathcnt>333</deathcnt>, <deathcnt>331</deathcnt>, <deathcnt>329</deathcnt>, <deathcnt>326</deathcnt>, <deathcnt>324</deathcnt>, <deathcnt>324</deathcnt>, <deathcnt>323</deathcnt>, <deathcnt>321</deathcnt>, <deathcnt>316</deathcnt>, <deathcnt>313</deathcnt>, <deathcnt>312</deathcnt>, <deathcnt>310</deathcnt>, <deathcnt>309</deathcnt>, <deathcnt>309</deathcnt>, <deathcnt>309</deathcnt>, <deathcnt>309</deathcnt>, <deathcnt>307</deathcnt>, <deathcnt>306</deathcnt>, <deathcnt>306</deathcnt>, <deathcnt>305</deathcnt>, <deathcnt>305</deathcnt>, <deathcnt>305</deathcnt>, <deathcnt>305</deathcnt>, <deathcnt>305</deathcnt>, <deathcnt>305</deathcnt>, <deathcnt>305</deathcnt>, <deathcnt>305</deathcnt>, <deathcnt>305</deathcnt>, <deathcnt>304</deathcnt>, <deathcnt>303</deathcnt>, <deathcnt>302</deathcnt>, <deathcnt>302</deathcnt>, <deathcnt>301</deathcnt>, <deathcnt>301</deathcnt>, <deathcnt>301</deathcnt>, <deathcnt>301</deathcnt>, <deathcnt>301</deathcnt>, <deathcnt>300</deathcnt>, <deathcnt>300</deathcnt>, <deathcnt>300</deathcnt>, <deathcnt>299</deathcnt>, <deathcnt>298</deathcnt>, <deathcnt>298</deathcnt>, <deathcnt>298</deathcnt>, <deathcnt>297</deathcnt>, <deathcnt>297</deathcnt>, <deathcnt>296</deathcnt>, <deathcnt>296</deathcnt>, <deathcnt>295</deathcnt>, <deathcnt>294</deathcnt>, <deathcnt>293</deathcnt>, <deathcnt>291</deathcnt>, <deathcnt>289</deathcnt>, <deathcnt>289</deathcnt>, <deathcnt>289</deathcnt>, <deathcnt>289</deathcnt>, <deathcnt>288</deathcnt>, <deathcnt>288</deathcnt>, <deathcnt>287</deathcnt>, <deathcnt>285</deathcnt>, <deathcnt>285</deathcnt>, <deathcnt>284</deathcnt>, <deathcnt>283</deathcnt>, <deathcnt>283</deathcnt>, <deathcnt>282</deathcnt>, <deathcnt>282</deathcnt>, <deathcnt>282</deathcnt>, <deathcnt>282</deathcnt>, <deathcnt>282</deathcnt>, <deathcnt>282</deathcnt>, <deathcnt>282</deathcnt>, <deathcnt>282</deathcnt>, <deathcnt>282</deathcnt>, <deathcnt>281</deathcnt>, <deathcnt>281</deathcnt>, <deathcnt>280</deathcnt>, <deathcnt>280</deathcnt>, <deathcnt>280</deathcnt>, <deathcnt>280</deathcnt>, <deathcnt>280</deathcnt>, <deathcnt>279</deathcnt>, <deathcnt>278</deathcnt>, <deathcnt>277</deathcnt>, <deathcnt>277</deathcnt>, <deathcnt>277</deathcnt>, <deathcnt>277</deathcnt>, <deathcnt>276</deathcnt>, <deathcnt>276</deathcnt>, <deathcnt>274</deathcnt>, <deathcnt>273</deathcnt>, <deathcnt>273</deathcnt>, <deathcnt>273</deathcnt>, <deathcnt>273</deathcnt>, <deathcnt>273</deathcnt>, <deathcnt>273</deathcnt>, <deathcnt>272</deathcnt>, <deathcnt>271</deathcnt>, <deathcnt>270</deathcnt>, <deathcnt>269</deathcnt>, <deathcnt>269</deathcnt>, <deathcnt>269</deathcnt>, <deathcnt>269</deathcnt>, <deathcnt>269</deathcnt>, <deathcnt>267</deathcnt>, <deathcnt>266</deathcnt>, <deathcnt>266</deathcnt>, <deathcnt>264</deathcnt>, <deathcnt>264</deathcnt>, <deathcnt>263</deathcnt>, <deathcnt>263</deathcnt>, <deathcnt>263</deathcnt>, <deathcnt>262</deathcnt>, <deathcnt>262</deathcnt>, <deathcnt>260</deathcnt>, <deathcnt>260</deathcnt>, <deathcnt>259</deathcnt>, <deathcnt>258</deathcnt>, <deathcnt>256</deathcnt>, <deathcnt>256</deathcnt>, <deathcnt>256</deathcnt>, <deathcnt>256</deathcnt>, <deathcnt>256</deathcnt>, <deathcnt>255</deathcnt>, <deathcnt>254</deathcnt>, <deathcnt>252</deathcnt>, <deathcnt>250</deathcnt>, <deathcnt>250</deathcnt>, <deathcnt>248</deathcnt>, <deathcnt>247</deathcnt>, <deathcnt>246</deathcnt>, <deathcnt>244</deathcnt>, <deathcnt>243</deathcnt>, <deathcnt>242</deathcnt>, <deathcnt>240</deathcnt>, <deathcnt>240</deathcnt>, <deathcnt>240</deathcnt>, <deathcnt>240</deathcnt>, <deathcnt>240</deathcnt>, <deathcnt>238</deathcnt>, <deathcnt>237</deathcnt>, <deathcnt>236</deathcnt>, <deathcnt>234</deathcnt>, <deathcnt>232</deathcnt>, <deathcnt>230</deathcnt>, <deathcnt>229</deathcnt>, <deathcnt>225</deathcnt>, <deathcnt>222</deathcnt>, <deathcnt>217</deathcnt>, <deathcnt>214</deathcnt>, <deathcnt>211</deathcnt>, <deathcnt>208</deathcnt>, <deathcnt>204</deathcnt>, <deathcnt>200</deathcnt>, <deathcnt>192</deathcnt>, <deathcnt>186</deathcnt>, <deathcnt>183</deathcnt>, <deathcnt>177</deathcnt>, <deathcnt>174</deathcnt>, <deathcnt>169</deathcnt>, <deathcnt>169</deathcnt>, <deathcnt>165</deathcnt>, <deathcnt>162</deathcnt>, <deathcnt>158</deathcnt>, <deathcnt>152</deathcnt>, <deathcnt>144</deathcnt>, <deathcnt>139</deathcnt>, <deathcnt>131</deathcnt>, <deathcnt>126</deathcnt>, <deathcnt>120</deathcnt>, <deathcnt>120</deathcnt>, <deathcnt>111</deathcnt>, <deathcnt>104</deathcnt>, <deathcnt>102</deathcnt>, <deathcnt>94</deathcnt>, <deathcnt>91</deathcnt>, <deathcnt>84</deathcnt>, <deathcnt>81</deathcnt>, <deathcnt>75</deathcnt>, <deathcnt>75</deathcnt>, <deathcnt>72</deathcnt>, <deathcnt>67</deathcnt>, <deathcnt>66</deathcnt>, <deathcnt>60</deathcnt>, <deathcnt>54</deathcnt>, <deathcnt>51</deathcnt>, <deathcnt>50</deathcnt>, <deathcnt>44</deathcnt>, <deathcnt>42</deathcnt>, <deathcnt>35</deathcnt>, <deathcnt>32</deathcnt>, <deathcnt>28</deathcnt>, <deathcnt>22</deathcnt>, <deathcnt>18</deathcnt>, <deathcnt>17</deathcnt>, <deathcnt>17</deathcnt>, <deathcnt>16</deathcnt>, <deathcnt>13</deathcnt>, <deathcnt>13</deathcnt>, <deathcnt>13</deathcnt>, <deathcnt>12</deathcnt>, <deathcnt>12</deathcnt>, <deathcnt>11</deathcnt>, <deathcnt>10</deathcnt>, <deathcnt>8</deathcnt>, <deathcnt>7</deathcnt>, <deathcnt>7</deathcnt>, <deathcnt>5</deathcnt>, <deathcnt>4</deathcnt>, <deathcnt>2</deathcnt>, <deathcnt>2</deathcnt>, <deathcnt>1</deathcnt>, <deathcnt>1</deathcnt>, <deathcnt>1</deathcnt>, <deathcnt>1</deathcnt>, <deathcnt>0</deathcnt>, <deathcnt>0</deathcnt>, <deathcnt>0</deathcnt>, <deathcnt>0</deathcnt>, <deathcnt>0</deathcnt>, <deathcnt>0</deathcnt>, <deathcnt>0</deathcnt>, <deathcnt>0</deathcnt>, <deathcnt>0</deathcnt>, <deathcnt>0</deathcnt>, <deathcnt>0</deathcnt>, <deathcnt>0</deathcnt>, <deathcnt>0</deathcnt>, <deathcnt>0</deathcnt>, <deathcnt>0</deathcnt>, <deathcnt>0</deathcnt>, <deathcnt>0</deathcnt>, <deathcnt>0</deathcnt>, <deathcnt>0</deathcnt>, <deathcnt>0</deathcnt>, <deathcnt>0</deathcnt>, <deathcnt>0</deathcnt>, <deathcnt>0</deathcnt>, <deathcnt>0</deathcnt>, <deathcnt>0</deathcnt>, <deathcnt>0</deathcnt>, <deathcnt>0</deathcnt>, <deathcnt>0</deathcnt>, <deathcnt>0</deathcnt>, <deathcnt>0</deathcnt>, <deathcnt>0</deathcnt>, <deathcnt>0</deathcnt>, <deathcnt>0</deathcnt>, <deathcnt>0</deathcnt>, <deathcnt>0</deathcnt>, <deathcnt>0</deathcnt>, <deathcnt>2</deathcnt>, <deathcnt>04534504474444444434414394384344334334324304284274254224224214204164154134134074064013993953933883883853833783773723673673633583553503463443413363343333313293263243243233213163133123103093093093093073063063053053053053053053053053053043033023023013013013013013003003002992982982982972972962962952942932912892892892892882882872852852842832832822822822822822822822822822812812802802802802802792782772772772772762762742732732732732732732722712702692692692692692672662662642642632632632622622602602592582562562562562562552542522502502482472462442432422402402402402402382372362342322302292252222172142112082042001921861831771741691691651621581521441391311261201201111041029491848175757267666054515044423532282218171716131313121211108775422111100000000000000000000000000000000000020453450447444444443441439438434433433432430428427425422422421420416415413413407406401399395393388388385383378377372367367363358355350346344341336334333331329326324324323321316313312310309309309309307306306305305305305305305305305305304303302302301301301301301300300300299298298298297297296296295294293291289289289289288288287285285284283283282282282282282282282282282281281280280280280280279278277277277277276276274273273273273273273272271270269269269269269267266266264264263263263262262260260259258256256256256256255254252250250248247246244243242240240240240240238237236234232230229225222217214211208204200192186183177174169169165162158152144139131126120120111104102949184817575726766605451504442353228221817171613131312121110877542211110000000000000000000000000000000000002</deathcnt>]"
      ]
     },
     "execution_count": 83,
     "metadata": {},
     "output_type": "execute_result"
    }
   ],
   "source": [
    "deathCnt"
   ]
  },
  {
   "cell_type": "code",
   "execution_count": 92,
   "metadata": {},
   "outputs": [
    {
     "data": {
      "text/plain": [
       "301"
      ]
     },
     "execution_count": 92,
     "metadata": {},
     "output_type": "execute_result"
    }
   ],
   "source": [
    "len(death_cnt)"
   ]
  },
  {
   "cell_type": "code",
   "execution_count": 47,
   "metadata": {},
   "outputs": [
    {
     "data": {
      "text/plain": [
       "301"
      ]
     },
     "execution_count": 47,
     "metadata": {},
     "output_type": "execute_result"
    }
   ],
   "source": [
    "len(deathCnt)"
   ]
  },
  {
   "cell_type": "code",
   "execution_count": 94,
   "metadata": {},
   "outputs": [],
   "source": [
    "deathCnt = []\n",
    "decideCnt = []"
   ]
  },
  {
   "cell_type": "code",
   "execution_count": 93,
   "metadata": {},
   "outputs": [
    {
     "name": "stdout",
     "output_type": "stream",
     "text": [
      "453 25543\n",
      "450 25424\n",
      "447 25333\n",
      "444 25275\n",
      "444 25199\n",
      "443 25108\n",
      "441 25035\n",
      "439 24988\n",
      "438 24889\n",
      "434 24805\n",
      "433 24703\n",
      "433 24703\n",
      "432 24606\n",
      "430 24548\n",
      "428 24476\n",
      "427 24422\n",
      "425 24353\n",
      "422 24239\n",
      "422 24164\n",
      "421 24091\n",
      "420 24027\n",
      "416 23952\n",
      "415 23889\n",
      "413 23812\n",
      "413 23812\n",
      "407 23699\n",
      "406 23661\n",
      "401 23611\n",
      "399 23516\n",
      "395 23455\n",
      "393 23341\n",
      "388 23216\n",
      "388 23106\n",
      "385 23045\n",
      "383 22975\n",
      "378 22893\n",
      "377 22783\n",
      "372 22657\n",
      "367 22504\n",
      "367 22391\n",
      "363 22285\n",
      "358 22176\n",
      "355 22055\n",
      "350 21919\n",
      "346 21743\n",
      "344 21588\n",
      "341 21432\n",
      "336 21296\n",
      "334 21177\n",
      "333 21010\n",
      "331 20842\n",
      "329 20644\n",
      "326 20449\n",
      "324 20182\n",
      "324 19947\n",
      "323 19699\n",
      "321 19400\n",
      "316 19077\n",
      "313 18706\n",
      "312 18265\n",
      "310 17945\n",
      "309 17665\n",
      "309 17399\n",
      "309 17002\n",
      "309 16670\n",
      "307 16346\n",
      "306 16058\n",
      "306 15761\n",
      "305 15515\n",
      "305 15318\n",
      "305 15039\n",
      "305 14873\n",
      "305 14770\n",
      "305 14714\n",
      "305 14660\n",
      "305 14626\n",
      "305 14598\n",
      "304 14562\n",
      "303 14519\n",
      "302 14499\n",
      "302 14456\n",
      "301 14423\n",
      "301 14389\n",
      "301 14366\n",
      "301 14336\n",
      "301 14305\n",
      "300 14269\n",
      "300 14251\n",
      "300 14203\n",
      "299 14175\n",
      "298 14150\n",
      "298 14092\n",
      "298 13979\n",
      "297 13938\n",
      "297 13879\n",
      "296 13816\n",
      "296 13771\n",
      "295 13745\n",
      "294 13711\n",
      "293 13672\n",
      "291 13612\n",
      "289 13551\n",
      "289 13512\n",
      "289 13479\n",
      "289 13417\n",
      "288 13373\n",
      "288 13338\n",
      "287 13293\n",
      "285 13244\n",
      "285 13181\n",
      "284 13137\n",
      "283 13091\n",
      "283 13030\n",
      "282 12967\n",
      "282 12904\n",
      "282 12850\n",
      "282 12800\n",
      "282 12757\n",
      "282 12715\n",
      "282 12653\n",
      "282 12602\n",
      "282 12563\n",
      "281 12535\n",
      "281 12484\n",
      "280 12438\n",
      "280 12421\n",
      "280 12373\n",
      "280 12306\n",
      "280 12257\n",
      "279 12198\n",
      "278 12155\n",
      "277 12121\n",
      "277 12085\n",
      "277 12051\n",
      "277 12003\n",
      "276 11947\n",
      "276 11902\n",
      "274 11852\n",
      "273 11814\n",
      "273 11776\n",
      "273 11719\n",
      "273 11668\n",
      "273 11629\n",
      "273 11590\n",
      "272 11541\n",
      "271 11503\n",
      "270 11468\n",
      "269 11441\n",
      "269 11402\n",
      "269 11344\n",
      "269 11265\n",
      "269 11225\n",
      "267 11206\n",
      "266 11190\n",
      "266 11165\n",
      "264 11142\n",
      "264 11122\n",
      "263 11110\n",
      "263 11078\n",
      "263 11065\n",
      "262 11050\n",
      "262 11037\n",
      "260 11018\n",
      "260 10991\n",
      "259 10962\n",
      "258 10936\n",
      "256 10909\n",
      "256 10874\n",
      "256 10840\n",
      "256 10822\n",
      "256 10810\n",
      "255 10806\n",
      "254 10804\n",
      "252 10801\n",
      "250 10793\n",
      "250 10780\n",
      "248 10774\n",
      "247 10765\n",
      "246 10761\n",
      "244 10752\n",
      "243 10738\n",
      "242 10728\n",
      "240 10718\n",
      "240 10718\n",
      "240 12801\n",
      "240 10708\n",
      "240 10702\n",
      "238 10694\n",
      "237 10683\n",
      "236 10674\n",
      "234 10661\n",
      "232 10653\n",
      "230 10635\n",
      "229 10613\n",
      "225 10591\n",
      "222 10564\n",
      "217 10537\n",
      "214 10512\n",
      "211 10480\n",
      "208 10450\n",
      "204 10423\n",
      "200 10384\n",
      "192 10331\n",
      "186 10284\n",
      "183 10237\n",
      "177 10156\n",
      "174 10062\n",
      "169 9976\n",
      "169 9976\n",
      "165 9887\n",
      "162 9786\n",
      "158 9661\n",
      "152 9583\n",
      "144 9478\n",
      "139 9332\n",
      "131 9241\n",
      "126 9137\n",
      "120 9037\n",
      "120 9037\n",
      "111 8961\n",
      "104 8897\n",
      "102 8799\n",
      "94 8652\n",
      "91 8565\n",
      "84 8413\n",
      "81 8320\n",
      "75 8236\n",
      "75 8162\n",
      "72 8086\n",
      "67 7979\n",
      "66 7869\n",
      "60 7755\n",
      "54 7513\n",
      "51 7382\n",
      "50 7134\n",
      "44 6767\n",
      "42 6284\n",
      "35 5766\n",
      "32 5328\n",
      "28 4812\n",
      "22 4212\n",
      "18 3736\n",
      "17 3526\n",
      "17 3150\n",
      "16 2931\n",
      "13 2337\n",
      "13 2022\n",
      "13 1766\n",
      "12 1595\n",
      "12 1261\n",
      "11 1146\n",
      "10 977\n",
      "8 893\n",
      "7 833\n",
      "7 763\n",
      "5 602\n",
      "4 556\n",
      "2 433\n",
      "2 346\n",
      "1 204\n",
      "1 204\n",
      "1 156\n",
      "1 104\n",
      "0 82\n",
      "0 51\n",
      "0 46\n",
      "0 31\n",
      "0 31\n",
      "0 31\n",
      "0 30\n",
      "0 30\n",
      "0 29\n",
      "0 29\n",
      "0 28\n",
      "0 28\n",
      "0 28\n",
      "0 28\n",
      "0 28\n",
      "0 28\n",
      "0 28\n",
      "0 28\n",
      "0 28\n",
      "0 28\n",
      "0 27\n",
      "0 27\n",
      "0 27\n",
      "0 25\n",
      "0 24\n",
      "0 24\n",
      "0 24\n",
      "0 24\n",
      "0 24\n",
      "0 24\n",
      "0 24\n",
      "0 23\n",
      "0 19\n",
      "0 18\n",
      "0 0\n",
      "0 15\n",
      "2 2\n",
      "0 0\n"
     ]
    }
   ],
   "source": [
    "for item in data:\n",
    "    death_cnt = item.find('deathcnt').get_text()\n",
    "    decide_cnt = item.find('decidecnt').get_text()\n",
    "#     print(int(death_cnt))\n",
    "#     deathCnt.append(int(death_cnt))\n",
    "    print(death_cnt, decide_cnt)"
   ]
  },
  {
   "cell_type": "code",
   "execution_count": 95,
   "metadata": {},
   "outputs": [],
   "source": [
    "for item in data:\n",
    "    death_cnt = item.find('deathcnt').get_text()\n",
    "    decide_cnt = item.find('decidecnt').get_text()\n",
    "    deathCnt.append(int(death_cnt))\n",
    "    decideCnt.append(int(decide_cnt))\n",
    "#     print(int(death_cnt))\n",
    "#     print(death_cnt, decide_cnt)"
   ]
  },
  {
   "cell_type": "code",
   "execution_count": null,
   "metadata": {},
   "outputs": [],
   "source": []
  },
  {
   "cell_type": "code",
   "execution_count": 85,
   "metadata": {},
   "outputs": [],
   "source": [
    "deathCnt = deathCnt[:-1]"
   ]
  },
  {
   "cell_type": "code",
   "execution_count": 96,
   "metadata": {},
   "outputs": [
    {
     "data": {
      "text/plain": [
       "[453, 450, 447, 444, 444, 443, 441, 439, 438, 434, 433, 433, 432, 430, 428, 427, 425, 422, 422, 421, 420, 416, 415, 413, 413, 407, 406, 401, 399, 395, 393, 388, 388, 385, 383, 378, 377, 372, 367, 367, 363, 358, 355, 350, 346, 344, 341, 336, 334, 333, 331, 329, 326, 324, 324, 323, 321, 316, 313, 312, 310, 309, 309, 309, 309, 307, 306, 306, 305, 305, 305, 305, 305, 305, 305, 305, 305, 304, 303, 302, 302, 301, 301, 301, 301, 301, 300, 300, 300, 299, 298, 298, 298, 297, 297, 296, 296, 295, 294, 293, 291, 289, 289, 289, 289, 288, 288, 287, 285, 285, 284, 283, 283, 282, 282, 282, 282, 282, 282, 282, 282, 282, 281, 281, 280, 280, 280, 280, 280, 279, 278, 277, 277, 277, 277, 276, 276, 274, 273, 273, 273, 273, 273, 273, 272, 271, 270, 269, 269, 269, 269, 269, 267, 266, 266, 264, 264, 263, 263, 263, 262, 262, 260, 260, 259, 258, 256, 256, 256, 256, 256, 255, 254, 252, 250, 250, 248, 247, 246, 244, 243, 242, 240, 240, 240, 240, 240, 238, 237, 236, 234, 232, 230, 229, 225, 222, 217, 214, 211, 208, 204, 200, 192, 186, 183, 177, 174, 169, 169, 165, 162, 158, 152, 144, 139, 131, 126, 120, 120, 111, 104, 102, 94, 91, 84, 81, 75, 75, 72, 67, 66, 60, 54, 51, 50, 44, 42, 35, 32, 28, 22, 18, 17, 17, 16, 13, 13, 13, 12, 12, 11, 10, 8, 7, 7, 5, 4, 2, 2, 1, 1, 1, 1, 0, 0, 0, 0, 0, 0, 0, 0, 0, 0, 0, 0, 0, 0, 0, 0, 0, 0, 0, 0, 0, 0, 0, 0, 0, 0, 0, 0, 0, 0, 0, 0, 0, 0, 0, 0, 2, 0]"
      ]
     },
     "execution_count": 96,
     "metadata": {},
     "output_type": "execute_result"
    }
   ],
   "source": [
    "deathCnt"
   ]
  },
  {
   "cell_type": "code",
   "execution_count": 106,
   "metadata": {},
   "outputs": [
    {
     "data": {
      "text/plain": [
       "[25543, 25424, 25333, 25275, 25199, 25108, 25035, 24988, 24889, 24805, 24703, 24703, 24606, 24548, 24476, 24422, 24353, 24239, 24164, 24091, 24027, 23952, 23889, 23812, 23812, 23699, 23661, 23611, 23516, 23455, 23341, 23216, 23106, 23045, 22975, 22893, 22783, 22657, 22504, 22391, 22285, 22176, 22055, 21919, 21743, 21588, 21432, 21296, 21177, 21010, 20842, 20644, 20449, 20182, 19947, 19699, 19400, 19077, 18706, 18265, 17945, 17665, 17399, 17002, 16670, 16346, 16058, 15761, 15515, 15318, 15039, 14873, 14770, 14714, 14660, 14626, 14598, 14562, 14519, 14499, 14456, 14423, 14389, 14366, 14336, 14305, 14269, 14251, 14203, 14175, 14150, 14092, 13979, 13938, 13879, 13816, 13771, 13745, 13711, 13672, 13612, 13551, 13512, 13479, 13417, 13373, 13338, 13293, 13244, 13181, 13137, 13091, 13030, 12967, 12904, 12850, 12800, 12757, 12715, 12653, 12602, 12563, 12535, 12484, 12438, 12421, 12373, 12306, 12257, 12198, 12155, 12121, 12085, 12051, 12003, 11947, 11902, 11852, 11814, 11776, 11719, 11668, 11629, 11590, 11541, 11503, 11468, 11441, 11402, 11344, 11265, 11225, 11206, 11190, 11165, 11142, 11122, 11110, 11078, 11065, 11050, 11037, 11018, 10991, 10962, 10936, 10909, 10874, 10840, 10822, 10810, 10806, 10804, 10801, 10793, 10780, 10774, 10765, 10761, 10752, 10738, 10728, 10718, 10718, 12801, 10708, 10702, 10694, 10683, 10674, 10661, 10653, 10635, 10613, 10591, 10564, 10537, 10512, 10480, 10450, 10423, 10384, 10331, 10284, 10237, 10156, 10062, 9976, 9976, 9887, 9786, 9661, 9583, 9478, 9332, 9241, 9137, 9037, 9037, 8961, 8897, 8799, 8652, 8565, 8413, 8320, 8236, 8162, 8086, 7979, 7869, 7755, 7513, 7382, 7134, 6767, 6284, 5766, 5328, 4812, 4212, 3736, 3526, 3150, 2931, 2337, 2022, 1766, 1595, 1261, 1146, 977, 893, 833, 763, 602, 556, 433, 346, 204, 204, 156, 104, 82, 51, 46, 31, 31, 31, 30, 30, 29, 29, 28, 28, 28, 28, 28, 28, 28, 28, 28, 28, 27, 27, 27, 25, 24, 24, 24, 24, 24, 24, 24, 23, 19, 18, 0, 15, 2, 0]"
      ]
     },
     "execution_count": 106,
     "metadata": {},
     "output_type": "execute_result"
    }
   ],
   "source": [
    "decideCnt"
   ]
  },
  {
   "cell_type": "code",
   "execution_count": 108,
   "metadata": {},
   "outputs": [
    {
     "data": {
      "text/plain": [
       "[0, 2, 15, 0, 18, 19, 23, 24, 24, 24, 24, 24, 24, 24, 25, 27, 27, 27, 28, 28, 28, 28, 28, 28, 28, 28, 28, 28, 29, 29, 30, 30, 31, 31, 31, 46, 51, 82, 104, 156, 204, 204, 346, 433, 556, 602, 763, 833, 893, 977, 1146, 1261, 1595, 1766, 2022, 2337, 2931, 3150, 3526, 3736, 4212, 4812, 5328, 5766, 6284, 6767, 7134, 7382, 7513, 7755, 7869, 7979, 8086, 8162, 8236, 8320, 8413, 8565, 8652, 8799, 8897, 8961, 9037, 9037, 9137, 9241, 9332, 9478, 9583, 9661, 9786, 9887, 9976, 9976, 10062, 10156, 10237, 10284, 10331, 10384, 10423, 10450, 10480, 10512, 10537, 10564, 10591, 10613, 10635, 10653, 10661, 10674, 10683, 10694, 10702, 10708, 12801, 10718, 10718, 10728, 10738, 10752, 10761, 10765, 10774, 10780, 10793, 10801, 10804, 10806, 10810, 10822, 10840, 10874, 10909, 10936, 10962, 10991, 11018, 11037, 11050, 11065, 11078, 11110, 11122, 11142, 11165, 11190, 11206, 11225, 11265, 11344, 11402, 11441, 11468, 11503, 11541, 11590, 11629, 11668, 11719, 11776, 11814, 11852, 11902, 11947, 12003, 12051, 12085, 12121, 12155, 12198, 12257, 12306, 12373, 12421, 12438, 12484, 12535, 12563, 12602, 12653, 12715, 12757, 12800, 12850, 12904, 12967, 13030, 13091, 13137, 13181, 13244, 13293, 13338, 13373, 13417, 13479, 13512, 13551, 13612, 13672, 13711, 13745, 13771, 13816, 13879, 13938, 13979, 14092, 14150, 14175, 14203, 14251, 14269, 14305, 14336, 14366, 14389, 14423, 14456, 14499, 14519, 14562, 14598, 14626, 14660, 14714, 14770, 14873, 15039, 15318, 15515, 15761, 16058, 16346, 16670, 17002, 17399, 17665, 17945, 18265, 18706, 19077, 19400, 19699, 19947, 20182, 20449, 20644, 20842, 21010, 21177, 21296, 21432, 21588, 21743, 21919, 22055, 22176, 22285, 22391, 22504, 22657, 22783, 22893, 22975, 23045, 23106, 23216, 23341, 23455, 23516, 23611, 23661, 23699, 23812, 23812, 23889, 23952, 24027, 24091, 24164, 24239, 24353, 24422, 24476, 24548, 24606, 24703, 24703, 24805, 24889, 24988, 25035, 25108, 25199, 25275, 25333, 25424, 25543]"
      ]
     },
     "execution_count": 108,
     "metadata": {},
     "output_type": "execute_result"
    }
   ],
   "source": [
    "confirm = decideCnt\n",
    "confirm.reverse()\n",
    "confirm"
   ]
  },
  {
   "cell_type": "code",
   "execution_count": 110,
   "metadata": {},
   "outputs": [
    {
     "data": {
      "text/plain": [
       "[2, 13, -15, 18, 1, 4, 1, 0, 0, 0, 0, 0, 0, 1, 2, 0, 0, 1, 0, 0, 0, 0, 0, 0, 0, 0, 0, 1, 0, 1, 0, 1, 0, 0, 15, 5, 31, 22, 52, 48, 0, 142, 87, 123, 46, 161, 70, 60, 84, 169, 115, 334, 171, 256, 315, 594, 219, 376, 210, 476, 600, 516, 438, 518, 483, 367, 248, 131, 242, 114, 110, 107, 76, 74, 84, 93, 152, 87, 147, 98, 64, 76, 0, 100, 104, 91, 146, 105, 78, 125, 101, 89, 0, 86, 94, 81, 47, 47, 53, 39, 27, 30, 32, 25, 27, 27, 22, 22, 18, 8, 13, 9, 11, 8, 6, 2093, -2083, 0, 10, 10, 14, 9, 4, 9, 6, 13, 8, 3, 2, 4, 12, 18, 34, 35, 27, 26, 29, 27, 19, 13, 15, 13, 32, 12, 20, 23, 25, 16, 19, 40, 79, 58, 39, 27, 35, 38, 49, 39, 39, 51, 57, 38, 38, 50, 45, 56, 48, 34, 36, 34, 43, 59, 49, 67, 48, 17, 46, 51, 28, 39, 51, 62, 42, 43, 50, 54, 63, 63, 61, 46, 44, 63, 49, 45, 35, 44, 62, 33, 39, 61, 60, 39, 34, 26, 45, 63, 59, 41, 113, 58, 25, 28, 48, 18, 36, 31, 30, 23, 34, 33, 43, 20, 43, 36, 28, 34, 54, 56, 103, 166, 279, 197, 246, 297, 288, 324, 332, 397, 266, 280, 320, 441, 371, 323, 299, 248, 235, 267, 195, 198, 168, 167, 119, 136, 156, 155, 176, 136, 121, 109, 106, 113, 153, 126, 110, 82, 70, 61, 110, 125, 114, 61, 95, 50, 38, 113, 0, 77, 63, 75, 64, 73, 75, 114, 69, 54, 72, 58, 97, 0, 102, 84, 99, 47, 73, 91, 76, 58, 91, 119]"
      ]
     },
     "execution_count": 110,
     "metadata": {},
     "output_type": "execute_result"
    }
   ],
   "source": [
    "confirmed = []\n",
    "for i in range(len(confirm)-1):\n",
    "    confirmed.append(confirm[i+1]-confirm[i])\n",
    "    \n",
    "confirmed"
   ]
  },
  {
   "cell_type": "code",
   "execution_count": 111,
   "metadata": {},
   "outputs": [
    {
     "data": {
      "text/plain": [
       "25543"
      ]
     },
     "execution_count": 111,
     "metadata": {},
     "output_type": "execute_result"
    }
   ],
   "source": [
    "sum(confirmed)"
   ]
  },
  {
   "cell_type": "code",
   "execution_count": 99,
   "metadata": {},
   "outputs": [],
   "source": [
    "hello = deathCnt"
   ]
  },
  {
   "cell_type": "code",
   "execution_count": 100,
   "metadata": {},
   "outputs": [
    {
     "data": {
      "text/plain": [
       "[453, 450, 447, 444, 444, 443, 441, 439, 438, 434, 433, 433, 432, 430, 428, 427, 425, 422, 422, 421, 420, 416, 415, 413, 413, 407, 406, 401, 399, 395, 393, 388, 388, 385, 383, 378, 377, 372, 367, 367, 363, 358, 355, 350, 346, 344, 341, 336, 334, 333, 331, 329, 326, 324, 324, 323, 321, 316, 313, 312, 310, 309, 309, 309, 309, 307, 306, 306, 305, 305, 305, 305, 305, 305, 305, 305, 305, 304, 303, 302, 302, 301, 301, 301, 301, 301, 300, 300, 300, 299, 298, 298, 298, 297, 297, 296, 296, 295, 294, 293, 291, 289, 289, 289, 289, 288, 288, 287, 285, 285, 284, 283, 283, 282, 282, 282, 282, 282, 282, 282, 282, 282, 281, 281, 280, 280, 280, 280, 280, 279, 278, 277, 277, 277, 277, 276, 276, 274, 273, 273, 273, 273, 273, 273, 272, 271, 270, 269, 269, 269, 269, 269, 267, 266, 266, 264, 264, 263, 263, 263, 262, 262, 260, 260, 259, 258, 256, 256, 256, 256, 256, 255, 254, 252, 250, 250, 248, 247, 246, 244, 243, 242, 240, 240, 240, 240, 240, 238, 237, 236, 234, 232, 230, 229, 225, 222, 217, 214, 211, 208, 204, 200, 192, 186, 183, 177, 174, 169, 169, 165, 162, 158, 152, 144, 139, 131, 126, 120, 120, 111, 104, 102, 94, 91, 84, 81, 75, 75, 72, 67, 66, 60, 54, 51, 50, 44, 42, 35, 32, 28, 22, 18, 17, 17, 16, 13, 13, 13, 12, 12, 11, 10, 8, 7, 7, 5, 4, 2, 2, 1, 1, 1, 1, 0, 0, 0, 0, 0, 0, 0, 0, 0, 0, 0, 0, 0, 0, 0, 0, 0, 0, 0, 0, 0, 0, 0, 0, 0, 0, 0, 0, 0, 0, 0, 0, 0, 0, 0, 0, 2, 0]"
      ]
     },
     "execution_count": 100,
     "metadata": {},
     "output_type": "execute_result"
    }
   ],
   "source": [
    "hello"
   ]
  },
  {
   "cell_type": "code",
   "execution_count": 101,
   "metadata": {},
   "outputs": [
    {
     "data": {
      "text/plain": [
       "[0, 2, 0, 0, 0, 0, 0, 0, 0, 0, 0, 0, 0, 0, 0, 0, 0, 0, 0, 0, 0, 0, 0, 0, 0, 0, 0, 0, 0, 0, 0, 0, 0, 0, 0, 0, 0, 0, 1, 1, 1, 1, 2, 2, 4, 5, 7, 7, 8, 10, 11, 12, 12, 13, 13, 13, 16, 17, 17, 18, 22, 28, 32, 35, 42, 44, 50, 51, 54, 60, 66, 67, 72, 75, 75, 81, 84, 91, 94, 102, 104, 111, 120, 120, 126, 131, 139, 144, 152, 158, 162, 165, 169, 169, 174, 177, 183, 186, 192, 200, 204, 208, 211, 214, 217, 222, 225, 229, 230, 232, 234, 236, 237, 238, 240, 240, 240, 240, 240, 242, 243, 244, 246, 247, 248, 250, 250, 252, 254, 255, 256, 256, 256, 256, 256, 258, 259, 260, 260, 262, 262, 263, 263, 263, 264, 264, 266, 266, 267, 269, 269, 269, 269, 269, 270, 271, 272, 273, 273, 273, 273, 273, 273, 274, 276, 276, 277, 277, 277, 277, 278, 279, 280, 280, 280, 280, 280, 281, 281, 282, 282, 282, 282, 282, 282, 282, 282, 282, 283, 283, 284, 285, 285, 287, 288, 288, 289, 289, 289, 289, 291, 293, 294, 295, 296, 296, 297, 297, 298, 298, 298, 299, 300, 300, 300, 301, 301, 301, 301, 301, 302, 302, 303, 304, 305, 305, 305, 305, 305, 305, 305, 305, 305, 306, 306, 307, 309, 309, 309, 309, 310, 312, 313, 316, 321, 323, 324, 324, 326, 329, 331, 333, 334, 336, 341, 344, 346, 350, 355, 358, 363, 367, 367, 372, 377, 378, 383, 385, 388, 388, 393, 395, 399, 401, 406, 407, 413, 413, 415, 416, 420, 421, 422, 422, 425, 427, 428, 430, 432, 433, 433, 434, 438, 439, 441, 443, 444, 444, 447, 450, 453]"
      ]
     },
     "execution_count": 101,
     "metadata": {},
     "output_type": "execute_result"
    }
   ],
   "source": [
    "hello.reverse()\n",
    "hello"
   ]
  },
  {
   "cell_type": "code",
   "execution_count": 102,
   "metadata": {},
   "outputs": [
    {
     "data": {
      "text/plain": [
       "301"
      ]
     },
     "execution_count": 102,
     "metadata": {},
     "output_type": "execute_result"
    }
   ],
   "source": [
    "len(hello)"
   ]
  },
  {
   "cell_type": "code",
   "execution_count": 103,
   "metadata": {},
   "outputs": [],
   "source": [
    "new = []\n",
    "for i in range(len(hello)-1):\n",
    "    new.append(hello[i+1]-hello[i])"
   ]
  },
  {
   "cell_type": "code",
   "execution_count": 104,
   "metadata": {},
   "outputs": [
    {
     "data": {
      "text/plain": [
       "[2, -2, 0, 0, 0, 0, 0, 0, 0, 0, 0, 0, 0, 0, 0, 0, 0, 0, 0, 0, 0, 0, 0, 0, 0, 0, 0, 0, 0, 0, 0, 0, 0, 0, 0, 0, 0, 1, 0, 0, 0, 1, 0, 2, 1, 2, 0, 1, 2, 1, 1, 0, 1, 0, 0, 3, 1, 0, 1, 4, 6, 4, 3, 7, 2, 6, 1, 3, 6, 6, 1, 5, 3, 0, 6, 3, 7, 3, 8, 2, 7, 9, 0, 6, 5, 8, 5, 8, 6, 4, 3, 4, 0, 5, 3, 6, 3, 6, 8, 4, 4, 3, 3, 3, 5, 3, 4, 1, 2, 2, 2, 1, 1, 2, 0, 0, 0, 0, 2, 1, 1, 2, 1, 1, 2, 0, 2, 2, 1, 1, 0, 0, 0, 0, 2, 1, 1, 0, 2, 0, 1, 0, 0, 1, 0, 2, 0, 1, 2, 0, 0, 0, 0, 1, 1, 1, 1, 0, 0, 0, 0, 0, 1, 2, 0, 1, 0, 0, 0, 1, 1, 1, 0, 0, 0, 0, 1, 0, 1, 0, 0, 0, 0, 0, 0, 0, 0, 1, 0, 1, 1, 0, 2, 1, 0, 1, 0, 0, 0, 2, 2, 1, 1, 1, 0, 1, 0, 1, 0, 0, 1, 1, 0, 0, 1, 0, 0, 0, 0, 1, 0, 1, 1, 1, 0, 0, 0, 0, 0, 0, 0, 0, 1, 0, 1, 2, 0, 0, 0, 1, 2, 1, 3, 5, 2, 1, 0, 2, 3, 2, 2, 1, 2, 5, 3, 2, 4, 5, 3, 5, 4, 0, 5, 5, 1, 5, 2, 3, 0, 5, 2, 4, 2, 5, 1, 6, 0, 2, 1, 4, 1, 1, 0, 3, 2, 1, 2, 2, 1, 0, 1, 4, 1, 2, 2, 1, 0, 3, 3, 3]"
      ]
     },
     "execution_count": 104,
     "metadata": {},
     "output_type": "execute_result"
    }
   ],
   "source": [
    "new"
   ]
  },
  {
   "cell_type": "code",
   "execution_count": 105,
   "metadata": {},
   "outputs": [
    {
     "data": {
      "text/plain": [
       "453"
      ]
     },
     "execution_count": 105,
     "metadata": {},
     "output_type": "execute_result"
    }
   ],
   "source": [
    "sum(new)"
   ]
  },
  {
   "cell_type": "code",
   "execution_count": null,
   "metadata": {},
   "outputs": [],
   "source": []
  },
  {
   "cell_type": "code",
   "execution_count": 112,
   "metadata": {},
   "outputs": [
    {
     "data": {
      "text/plain": [
       "[0, 2, 0, 0, 0, 0, 0, 0, 0, 0, 0, 0, 0, 0, 0, 0, 0, 0, 0, 0, 0, 0, 0, 0, 0, 0, 0, 0, 0, 0, 0, 0, 0, 0, 0, 0, 0, 0, 1, 1, 1, 1, 2, 2, 4, 5, 7, 7, 8, 10, 11, 12, 12, 13, 13, 13, 16, 17, 17, 18, 22, 28, 32, 35, 42, 44, 50, 51, 54, 60, 66, 67, 72, 75, 75, 81, 84, 91, 94, 102, 104, 111, 120, 120, 126, 131, 139, 144, 152, 158, 162, 165, 169, 169, 174, 177, 183, 186, 192, 200, 204, 208, 211, 214, 217, 222, 225, 229, 230, 232, 234, 236, 237, 238, 240, 240, 240, 240, 240, 242, 243, 244, 246, 247, 248, 250, 250, 252, 254, 255, 256, 256, 256, 256, 256, 258, 259, 260, 260, 262, 262, 263, 263, 263, 264, 264, 266, 266, 267, 269, 269, 269, 269, 269, 270, 271, 272, 273, 273, 273, 273, 273, 273, 274, 276, 276, 277, 277, 277, 277, 278, 279, 280, 280, 280, 280, 280, 281, 281, 282, 282, 282, 282, 282, 282, 282, 282, 282, 283, 283, 284, 285, 285, 287, 288, 288, 289, 289, 289, 289, 291, 293, 294, 295, 296, 296, 297, 297, 298, 298, 298, 299, 300, 300, 300, 301, 301, 301, 301, 301, 302, 302, 303, 304, 305, 305, 305, 305, 305, 305, 305, 305, 305, 306, 306, 307, 309, 309, 309, 309, 310, 312, 313, 316, 321, 323, 324, 324, 326, 329, 331, 333, 334, 336, 341, 344, 346, 350, 355, 358, 363, 367, 367, 372, 377, 378, 383, 385, 388, 388, 393, 395, 399, 401, 406, 407, 413, 413, 415, 416, 420, 421, 422, 422, 425, 427, 428, 430, 432, 433, 433, 434, 438, 439, 441, 443, 444, 444, 447, 450, 453]"
      ]
     },
     "execution_count": 112,
     "metadata": {},
     "output_type": "execute_result"
    }
   ],
   "source": [
    "# 누적 사망자 수()\n",
    "deathCnt"
   ]
  },
  {
   "cell_type": "code",
   "execution_count": 113,
   "metadata": {},
   "outputs": [
    {
     "data": {
      "text/plain": [
       "[0, 2, 15, 0, 18, 19, 23, 24, 24, 24, 24, 24, 24, 24, 25, 27, 27, 27, 28, 28, 28, 28, 28, 28, 28, 28, 28, 28, 29, 29, 30, 30, 31, 31, 31, 46, 51, 82, 104, 156, 204, 204, 346, 433, 556, 602, 763, 833, 893, 977, 1146, 1261, 1595, 1766, 2022, 2337, 2931, 3150, 3526, 3736, 4212, 4812, 5328, 5766, 6284, 6767, 7134, 7382, 7513, 7755, 7869, 7979, 8086, 8162, 8236, 8320, 8413, 8565, 8652, 8799, 8897, 8961, 9037, 9037, 9137, 9241, 9332, 9478, 9583, 9661, 9786, 9887, 9976, 9976, 10062, 10156, 10237, 10284, 10331, 10384, 10423, 10450, 10480, 10512, 10537, 10564, 10591, 10613, 10635, 10653, 10661, 10674, 10683, 10694, 10702, 10708, 12801, 10718, 10718, 10728, 10738, 10752, 10761, 10765, 10774, 10780, 10793, 10801, 10804, 10806, 10810, 10822, 10840, 10874, 10909, 10936, 10962, 10991, 11018, 11037, 11050, 11065, 11078, 11110, 11122, 11142, 11165, 11190, 11206, 11225, 11265, 11344, 11402, 11441, 11468, 11503, 11541, 11590, 11629, 11668, 11719, 11776, 11814, 11852, 11902, 11947, 12003, 12051, 12085, 12121, 12155, 12198, 12257, 12306, 12373, 12421, 12438, 12484, 12535, 12563, 12602, 12653, 12715, 12757, 12800, 12850, 12904, 12967, 13030, 13091, 13137, 13181, 13244, 13293, 13338, 13373, 13417, 13479, 13512, 13551, 13612, 13672, 13711, 13745, 13771, 13816, 13879, 13938, 13979, 14092, 14150, 14175, 14203, 14251, 14269, 14305, 14336, 14366, 14389, 14423, 14456, 14499, 14519, 14562, 14598, 14626, 14660, 14714, 14770, 14873, 15039, 15318, 15515, 15761, 16058, 16346, 16670, 17002, 17399, 17665, 17945, 18265, 18706, 19077, 19400, 19699, 19947, 20182, 20449, 20644, 20842, 21010, 21177, 21296, 21432, 21588, 21743, 21919, 22055, 22176, 22285, 22391, 22504, 22657, 22783, 22893, 22975, 23045, 23106, 23216, 23341, 23455, 23516, 23611, 23661, 23699, 23812, 23812, 23889, 23952, 24027, 24091, 24164, 24239, 24353, 24422, 24476, 24548, 24606, 24703, 24703, 24805, 24889, 24988, 25035, 25108, 25199, 25275, 25333, 25424, 25543]"
      ]
     },
     "execution_count": 113,
     "metadata": {},
     "output_type": "execute_result"
    }
   ],
   "source": [
    "# 누적 확진자 수\n",
    "decideCnt"
   ]
  },
  {
   "cell_type": "code",
   "execution_count": null,
   "metadata": {},
   "outputs": [],
   "source": []
  },
  {
   "cell_type": "code",
   "execution_count": null,
   "metadata": {},
   "outputs": [],
   "source": []
  }
 ],
 "metadata": {
  "kernelspec": {
   "display_name": "Python 3",
   "language": "python",
   "name": "python3"
  },
  "language_info": {
   "codemirror_mode": {
    "name": "ipython",
    "version": 3
   },
   "file_extension": ".py",
   "mimetype": "text/x-python",
   "name": "python",
   "nbconvert_exporter": "python",
   "pygments_lexer": "ipython3",
   "version": "3.6.4"
  }
 },
 "nbformat": 4,
 "nbformat_minor": 2
}
